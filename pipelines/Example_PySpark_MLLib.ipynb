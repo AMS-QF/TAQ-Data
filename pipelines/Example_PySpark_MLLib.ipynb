{
 "cells": [
  {
   "cell_type": "markdown",
   "metadata": {},
   "source": [
    "### Example PySpark Notebook"
   ]
  },
  {
   "cell_type": "code",
   "execution_count": 1,
   "metadata": {},
   "outputs": [
    {
     "name": "stderr",
     "output_type": "stream",
     "text": [
      "Setting default log level to \"WARN\".\n",
      "To adjust logging level use sc.setLogLevel(newLevel). For SparkR, use setLogLevel(newLevel).\n",
      "23/11/08 19:24:14 WARN NativeCodeLoader: Unable to load native-hadoop library for your platform... using builtin-java classes where applicable\n",
      "                                                                                \r"
     ]
    }
   ],
   "source": [
    "from pyspark.ml.classification import LogisticRegression\n",
    "from pyspark.sql import Row\n",
    "from pyspark.ml.linalg import Vectors\n",
    " \n",
    "from pyspark.sql.session import SparkSession\n",
    "spark = SparkSession.builder.getOrCreate()\n",
    "\n",
    "\n",
    "sc=spark.sparkContext\n",
    "\n",
    "bdf = sc.parallelize([\n",
    "    Row(label=1.0, weight=1.0, features=Vectors.dense(0.0, 5.0)),\n",
    "    Row(label=0.0, weight=2.0, features=Vectors.dense(1.0, 2.0)),\n",
    "    Row(label=1.0, weight=3.0, features=Vectors.dense(2.0, 1.0)),\n",
    "    Row(label=0.0, weight=4.0, features=Vectors.dense(3.0, 3.0))]).toDF()\n",
    "\n",
    "blor = LogisticRegression(weightCol=\"weight\")\n",
    "\n",
    "# Fit the model\n",
    "lrModel = blor.fit(bdf)\n"
   ]
  },
  {
   "cell_type": "code",
   "execution_count": 2,
   "metadata": {},
   "outputs": [
    {
     "name": "stdout",
     "output_type": "stream",
     "text": [
      "Coefficients: [-1.2334085664744605,-0.7348970347245962]\n",
      "Intercept: 3.5651650398595676\n"
     ]
    }
   ],
   "source": [
    "print(\"Coefficients: \" + str(lrModel.coefficients))\n",
    "print(\"Intercept: \" + str(lrModel.intercept))"
   ]
  }
 ],
 "metadata": {
  "kernelspec": {
   "display_name": "taq",
   "language": "python",
   "name": "python3"
  },
  "language_info": {
   "codemirror_mode": {
    "name": "ipython",
    "version": 3
   },
   "file_extension": ".py",
   "mimetype": "text/x-python",
   "name": "python",
   "nbconvert_exporter": "python",
   "pygments_lexer": "ipython3",
   "version": "3.11.6"
  }
 },
 "nbformat": 4,
 "nbformat_minor": 2
}
