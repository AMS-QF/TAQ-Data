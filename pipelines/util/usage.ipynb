{
 "cells": [
  {
   "cell_type": "code",
   "execution_count": 3,
   "metadata": {},
   "outputs": [],
   "source": [
    "from get_data import get_trades\n",
    "from pathlib import Path\n",
    "import importlib.util\n",
    "\n",
    "# Define the absolute path to the module\n",
    "module_path = Path('get_data.py')\n",
    "\n",
    "# Ensure the module file exists\n",
    "assert module_path.is_file(), f\"File does not exist: {module_path}\"\n",
    "\n",
    "# Use importlib to load the module\n",
    "spec = importlib.util.spec_from_file_location(\"get_data\", module_path)\n",
    "get_data = importlib.util.module_from_spec(spec)\n",
    "spec.loader.exec_module(get_data)"
   ]
  },
  {
   "cell_type": "code",
   "execution_count": 4,
   "metadata": {},
   "outputs": [
    {
     "name": "stdout",
     "output_type": "stream",
     "text": [
      "Output for symbol DIA:\n"
     ]
    }
   ],
   "source": [
    "from get_data import get_trades\n",
    "\n",
    "symbols = [\"DIA\"]\n",
    "start_date = \"2020-01-05\"\n",
    "end_date = \"2020-01-10\"\n",
    "row_limit = \"50\"\n",
    "\n",
    "get_trades(symbols, start_date, end_date, row_limit)"
   ]
  },
  {
   "cell_type": "code",
   "execution_count": null,
   "metadata": {},
   "outputs": [],
   "source": [
    "from get_data import get_quotes\n",
    "\n",
    "symbols = [\"DIA\", \"AAPL\"]\n",
    "start_date = \"2020-01-05\"\n",
    "end_date = \"2020-01-10\"\n",
    "row_limit = \"50\"\n",
    "\n",
    "get_quotes(symbols, start_date, end_date, row_limit)"
   ]
  }
 ],
 "metadata": {
  "kernelspec": {
   "display_name": "base",
   "language": "python",
   "name": "python3"
  },
  "language_info": {
   "codemirror_mode": {
    "name": "ipython",
    "version": 3
   },
   "file_extension": ".py",
   "mimetype": "text/x-python",
   "name": "python",
   "nbconvert_exporter": "python",
   "pygments_lexer": "ipython3",
   "version": "3.11.3"
  },
  "orig_nbformat": 4
 },
 "nbformat": 4,
 "nbformat_minor": 2
}
