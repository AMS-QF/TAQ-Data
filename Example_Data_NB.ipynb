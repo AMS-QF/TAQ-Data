{
 "cells": [
  {
   "cell_type": "markdown",
   "metadata": {},
   "source": [
    "# Example Data Notebook for TAQ Database\n"
   ]
  },
  {
   "cell_type": "code",
   "execution_count": 1,
   "metadata": {},
   "outputs": [],
   "source": [
    "import pandas as pd\n",
    "import numpy as np\n",
    "from datetime import datetime,timedelta\n",
    "import collections\n",
    "from itertools import chain\n",
    "import matplotlib.pyplot as plt\n",
    "import configobj\n",
    "\n",
    "\n",
    "from scripts.query_helpers import client_connection\n",
    "from scripts.preprocess import clean_trades,clean_quotes,chunk_clean\n"
   ]
  },
  {
   "attachments": {},
   "cell_type": "markdown",
   "metadata": {},
   "source": [
    "### Personal Details\n",
    "\n",
    "Access information will be stored within an env file"
   ]
  },
  {
   "cell_type": "code",
   "execution_count": 2,
   "metadata": {},
   "outputs": [],
   "source": [
    "config = configobj.ConfigObj(\".env\")\n",
    "host = config[\"host\"]\n",
    "server_user = config[\"server_user\"]\n",
    "server_password = config[\"server_password\"]\n",
    "db_user = config[\"db_user\"]\n",
    "db_pass = config[\"db_pass\"]\n"
   ]
  },
  {
   "attachments": {},
   "cell_type": "markdown",
   "metadata": {},
   "source": [
    "### Setup the client connection to the DB"
   ]
  },
  {
   "cell_type": "code",
   "execution_count": 3,
   "metadata": {},
   "outputs": [],
   "source": [
    "conn = client_connection(\n",
    "   host,server_user,server_password,db_user,db_pass\n",
    ")"
   ]
  },
  {
   "cell_type": "markdown",
   "metadata": {},
   "source": [
    "### Example Trade Query\n",
    "\n",
    "Includes support for multiple exchanges  (Required by the Order Protection Rule)"
   ]
  },
  {
   "cell_type": "code",
   "execution_count": 4,
   "metadata": {},
   "outputs": [],
   "source": [
    "exchange=\"'N'\"\n",
    "symbol='AAPL'\n",
    "start= \"2020-01-01\"\n",
    "end=\"2020-01-10\"\n"
   ]
  },
  {
   "cell_type": "code",
   "execution_count": 5,
   "metadata": {},
   "outputs": [
    {
     "name": "stderr",
     "output_type": "stream",
     "text": [
      "INFO:paramiko.transport:Connected (version 2.0, client OpenSSH_8.2p1)\n",
      "INFO:paramiko.transport:Authentication (password) successful!\n"
     ]
    },
    {
     "name": "stdout",
     "output_type": "stream",
     "text": [
      "Trade Query for 'N' AAPL 2020-01-01 2020-01-10\n"
     ]
    },
    {
     "name": "stderr",
     "output_type": "stream",
     "text": [
      "/home/jbohne/.conda/envs/query_user/lib/python3.10/site-packages/clickhouse_sqlalchemy/drivers/base.py:268: SAWarning: Did not recognize type 'DateTime64(9, 'America/New_York')' of column 'Time'\n",
      "  warn(\"Did not recognize type '%s' of column '%s'\" %\n",
      "INFO:paramiko.transport.sftp:[chan 1] Opened sftp connection (server version 3)\n"
     ]
    }
   ],
   "source": [
    "result,path=conn.client_get_trades(exchange,symbol,start,end)"
   ]
  },
  {
   "cell_type": "code",
   "execution_count": 6,
   "metadata": {},
   "outputs": [
    {
     "data": {
      "text/html": [
       "<div>\n",
       "<style scoped>\n",
       "    .dataframe tbody tr th:only-of-type {\n",
       "        vertical-align: middle;\n",
       "    }\n",
       "\n",
       "    .dataframe tbody tr th {\n",
       "        vertical-align: top;\n",
       "    }\n",
       "\n",
       "    .dataframe thead th {\n",
       "        text-align: right;\n",
       "    }\n",
       "</style>\n",
       "<table border=\"1\" class=\"dataframe\">\n",
       "  <thead>\n",
       "    <tr style=\"text-align: right;\">\n",
       "      <th></th>\n",
       "      <th>SIP_Timestamp</th>\n",
       "      <th>Exchange</th>\n",
       "      <th>Symbol</th>\n",
       "      <th>Trade_Volume</th>\n",
       "      <th>Trade_Price</th>\n",
       "      <th>Sale_Condition</th>\n",
       "      <th>Source_of_Trade</th>\n",
       "      <th>Trade_Correction_Indicator</th>\n",
       "      <th>Sequence_Number</th>\n",
       "      <th>Trade_Id</th>\n",
       "      <th>Trade_Reporting_Facility</th>\n",
       "      <th>Trade_Through_Exempt_Indicator</th>\n",
       "      <th>date</th>\n",
       "    </tr>\n",
       "  </thead>\n",
       "  <tbody>\n",
       "    <tr>\n",
       "      <th>2020-01-02 09:30:00.623737</th>\n",
       "      <td>2020-01-02 09:30:00.624116</td>\n",
       "      <td>N</td>\n",
       "      <td>AAPL</td>\n",
       "      <td>50</td>\n",
       "      <td>296.23</td>\n",
       "      <td>@  I</td>\n",
       "      <td>N</td>\n",
       "      <td>0</td>\n",
       "      <td>20937</td>\n",
       "      <td>4</td>\n",
       "      <td></td>\n",
       "      <td>0</td>\n",
       "      <td>2020-01-02</td>\n",
       "    </tr>\n",
       "    <tr>\n",
       "      <th>2020-01-02 09:30:00.836030</th>\n",
       "      <td>2020-01-02 09:30:00.836409</td>\n",
       "      <td>N</td>\n",
       "      <td>AAPL</td>\n",
       "      <td>22</td>\n",
       "      <td>296.25</td>\n",
       "      <td>@  I</td>\n",
       "      <td>N</td>\n",
       "      <td>0</td>\n",
       "      <td>21461</td>\n",
       "      <td>5</td>\n",
       "      <td></td>\n",
       "      <td>0</td>\n",
       "      <td>2020-01-02</td>\n",
       "    </tr>\n",
       "    <tr>\n",
       "      <th>2020-01-02 09:30:01.073451</th>\n",
       "      <td>2020-01-02 09:30:01.073828</td>\n",
       "      <td>N</td>\n",
       "      <td>AAPL</td>\n",
       "      <td>31</td>\n",
       "      <td>296.26</td>\n",
       "      <td>@  I</td>\n",
       "      <td>N</td>\n",
       "      <td>0</td>\n",
       "      <td>22138</td>\n",
       "      <td>6</td>\n",
       "      <td></td>\n",
       "      <td>0</td>\n",
       "      <td>2020-01-02</td>\n",
       "    </tr>\n",
       "    <tr>\n",
       "      <th>2020-01-02 09:30:01.261133</th>\n",
       "      <td>2020-01-02 09:30:01.261512</td>\n",
       "      <td>N</td>\n",
       "      <td>AAPL</td>\n",
       "      <td>3</td>\n",
       "      <td>296.27</td>\n",
       "      <td>@  I</td>\n",
       "      <td>N</td>\n",
       "      <td>0</td>\n",
       "      <td>22340</td>\n",
       "      <td>7</td>\n",
       "      <td></td>\n",
       "      <td>0</td>\n",
       "      <td>2020-01-02</td>\n",
       "    </tr>\n",
       "    <tr>\n",
       "      <th>2020-01-02 09:30:01.293901</th>\n",
       "      <td>2020-01-02 09:30:01.294279</td>\n",
       "      <td>N</td>\n",
       "      <td>AAPL</td>\n",
       "      <td>31</td>\n",
       "      <td>296.25</td>\n",
       "      <td>@  I</td>\n",
       "      <td>N</td>\n",
       "      <td>0</td>\n",
       "      <td>22448</td>\n",
       "      <td>8</td>\n",
       "      <td></td>\n",
       "      <td>0</td>\n",
       "      <td>2020-01-02</td>\n",
       "    </tr>\n",
       "    <tr>\n",
       "      <th>...</th>\n",
       "      <td>...</td>\n",
       "      <td>...</td>\n",
       "      <td>...</td>\n",
       "      <td>...</td>\n",
       "      <td>...</td>\n",
       "      <td>...</td>\n",
       "      <td>...</td>\n",
       "      <td>...</td>\n",
       "      <td>...</td>\n",
       "      <td>...</td>\n",
       "      <td>...</td>\n",
       "      <td>...</td>\n",
       "      <td>...</td>\n",
       "    </tr>\n",
       "    <tr>\n",
       "      <th>2020-01-09 15:59:54.908801</th>\n",
       "      <td>2020-01-09 15:59:54.909178</td>\n",
       "      <td>N</td>\n",
       "      <td>AAPL</td>\n",
       "      <td>100</td>\n",
       "      <td>309.58</td>\n",
       "      <td>@</td>\n",
       "      <td>N</td>\n",
       "      <td>0</td>\n",
       "      <td>3596804</td>\n",
       "      <td>9103</td>\n",
       "      <td></td>\n",
       "      <td>0</td>\n",
       "      <td>2020-01-09</td>\n",
       "    </tr>\n",
       "    <tr>\n",
       "      <th>2020-01-09 15:59:56.008760</th>\n",
       "      <td>2020-01-09 15:59:56.009140</td>\n",
       "      <td>N</td>\n",
       "      <td>AAPL</td>\n",
       "      <td>100</td>\n",
       "      <td>309.60</td>\n",
       "      <td>@</td>\n",
       "      <td>N</td>\n",
       "      <td>0</td>\n",
       "      <td>3599045</td>\n",
       "      <td>9104</td>\n",
       "      <td></td>\n",
       "      <td>0</td>\n",
       "      <td>2020-01-09</td>\n",
       "    </tr>\n",
       "    <tr>\n",
       "      <th>2020-01-09 15:59:56.126238</th>\n",
       "      <td>2020-01-09 15:59:56.126615</td>\n",
       "      <td>N</td>\n",
       "      <td>AAPL</td>\n",
       "      <td>9</td>\n",
       "      <td>309.58</td>\n",
       "      <td>@  I</td>\n",
       "      <td>N</td>\n",
       "      <td>0</td>\n",
       "      <td>3599260</td>\n",
       "      <td>9105</td>\n",
       "      <td></td>\n",
       "      <td>0</td>\n",
       "      <td>2020-01-09</td>\n",
       "    </tr>\n",
       "    <tr>\n",
       "      <th>2020-01-09 15:59:57.006042</th>\n",
       "      <td>2020-01-09 15:59:57.006420</td>\n",
       "      <td>N</td>\n",
       "      <td>AAPL</td>\n",
       "      <td>100</td>\n",
       "      <td>309.58</td>\n",
       "      <td>@</td>\n",
       "      <td>N</td>\n",
       "      <td>0</td>\n",
       "      <td>3600354</td>\n",
       "      <td>9106</td>\n",
       "      <td></td>\n",
       "      <td>0</td>\n",
       "      <td>2020-01-09</td>\n",
       "    </tr>\n",
       "    <tr>\n",
       "      <th>2020-01-09 15:59:57.022545</th>\n",
       "      <td>2020-01-09 15:59:57.022922</td>\n",
       "      <td>N</td>\n",
       "      <td>AAPL</td>\n",
       "      <td>20</td>\n",
       "      <td>309.60</td>\n",
       "      <td>@F I</td>\n",
       "      <td>N</td>\n",
       "      <td>0</td>\n",
       "      <td>3600418</td>\n",
       "      <td>9107</td>\n",
       "      <td></td>\n",
       "      <td>1</td>\n",
       "      <td>2020-01-09</td>\n",
       "    </tr>\n",
       "  </tbody>\n",
       "</table>\n",
       "<p>39573 rows × 13 columns</p>\n",
       "</div>"
      ],
      "text/plain": [
       "                                         SIP_Timestamp Exchange Symbol  \\\n",
       "2020-01-02 09:30:00.623737  2020-01-02 09:30:00.624116        N   AAPL   \n",
       "2020-01-02 09:30:00.836030  2020-01-02 09:30:00.836409        N   AAPL   \n",
       "2020-01-02 09:30:01.073451  2020-01-02 09:30:01.073828        N   AAPL   \n",
       "2020-01-02 09:30:01.261133  2020-01-02 09:30:01.261512        N   AAPL   \n",
       "2020-01-02 09:30:01.293901  2020-01-02 09:30:01.294279        N   AAPL   \n",
       "...                                                ...      ...    ...   \n",
       "2020-01-09 15:59:54.908801  2020-01-09 15:59:54.909178        N   AAPL   \n",
       "2020-01-09 15:59:56.008760  2020-01-09 15:59:56.009140        N   AAPL   \n",
       "2020-01-09 15:59:56.126238  2020-01-09 15:59:56.126615        N   AAPL   \n",
       "2020-01-09 15:59:57.006042  2020-01-09 15:59:57.006420        N   AAPL   \n",
       "2020-01-09 15:59:57.022545  2020-01-09 15:59:57.022922        N   AAPL   \n",
       "\n",
       "                            Trade_Volume  Trade_Price Sale_Condition  \\\n",
       "2020-01-02 09:30:00.623737            50       296.23           @  I   \n",
       "2020-01-02 09:30:00.836030            22       296.25           @  I   \n",
       "2020-01-02 09:30:01.073451            31       296.26           @  I   \n",
       "2020-01-02 09:30:01.261133             3       296.27           @  I   \n",
       "2020-01-02 09:30:01.293901            31       296.25           @  I   \n",
       "...                                  ...          ...            ...   \n",
       "2020-01-09 15:59:54.908801           100       309.58           @      \n",
       "2020-01-09 15:59:56.008760           100       309.60           @      \n",
       "2020-01-09 15:59:56.126238             9       309.58           @  I   \n",
       "2020-01-09 15:59:57.006042           100       309.58           @      \n",
       "2020-01-09 15:59:57.022545            20       309.60           @F I   \n",
       "\n",
       "                           Source_of_Trade  Trade_Correction_Indicator  \\\n",
       "2020-01-02 09:30:00.623737               N                           0   \n",
       "2020-01-02 09:30:00.836030               N                           0   \n",
       "2020-01-02 09:30:01.073451               N                           0   \n",
       "2020-01-02 09:30:01.261133               N                           0   \n",
       "2020-01-02 09:30:01.293901               N                           0   \n",
       "...                                    ...                         ...   \n",
       "2020-01-09 15:59:54.908801               N                           0   \n",
       "2020-01-09 15:59:56.008760               N                           0   \n",
       "2020-01-09 15:59:56.126238               N                           0   \n",
       "2020-01-09 15:59:57.006042               N                           0   \n",
       "2020-01-09 15:59:57.022545               N                           0   \n",
       "\n",
       "                            Sequence_Number  Trade_Id  \\\n",
       "2020-01-02 09:30:00.623737            20937         4   \n",
       "2020-01-02 09:30:00.836030            21461         5   \n",
       "2020-01-02 09:30:01.073451            22138         6   \n",
       "2020-01-02 09:30:01.261133            22340         7   \n",
       "2020-01-02 09:30:01.293901            22448         8   \n",
       "...                                     ...       ...   \n",
       "2020-01-09 15:59:54.908801          3596804      9103   \n",
       "2020-01-09 15:59:56.008760          3599045      9104   \n",
       "2020-01-09 15:59:56.126238          3599260      9105   \n",
       "2020-01-09 15:59:57.006042          3600354      9106   \n",
       "2020-01-09 15:59:57.022545          3600418      9107   \n",
       "\n",
       "                           Trade_Reporting_Facility  \\\n",
       "2020-01-02 09:30:00.623737                            \n",
       "2020-01-02 09:30:00.836030                            \n",
       "2020-01-02 09:30:01.073451                            \n",
       "2020-01-02 09:30:01.261133                            \n",
       "2020-01-02 09:30:01.293901                            \n",
       "...                                             ...   \n",
       "2020-01-09 15:59:54.908801                            \n",
       "2020-01-09 15:59:56.008760                            \n",
       "2020-01-09 15:59:56.126238                            \n",
       "2020-01-09 15:59:57.006042                            \n",
       "2020-01-09 15:59:57.022545                            \n",
       "\n",
       "                            Trade_Through_Exempt_Indicator         date  \n",
       "2020-01-02 09:30:00.623737                               0  2020-01-02   \n",
       "2020-01-02 09:30:00.836030                               0  2020-01-02   \n",
       "2020-01-02 09:30:01.073451                               0  2020-01-02   \n",
       "2020-01-02 09:30:01.261133                               0  2020-01-02   \n",
       "2020-01-02 09:30:01.293901                               0  2020-01-02   \n",
       "...                                                    ...          ...  \n",
       "2020-01-09 15:59:54.908801                               0  2020-01-09   \n",
       "2020-01-09 15:59:56.008760                               0  2020-01-09   \n",
       "2020-01-09 15:59:56.126238                               0  2020-01-09   \n",
       "2020-01-09 15:59:57.006042                               0  2020-01-09   \n",
       "2020-01-09 15:59:57.022545                               1  2020-01-09   \n",
       "\n",
       "[39573 rows x 13 columns]"
      ]
     },
     "execution_count": 6,
     "metadata": {},
     "output_type": "execute_result"
    }
   ],
   "source": [
    "trades=pd.read_csv(path)\n",
    "trades=clean_trades(trades)\n",
    "trades"
   ]
  },
  {
   "cell_type": "code",
   "execution_count": 7,
   "metadata": {},
   "outputs": [
    {
     "data": {
      "text/plain": [
       "[<matplotlib.lines.Line2D at 0x7fb7c58832b0>]"
      ]
     },
     "execution_count": 7,
     "metadata": {},
     "output_type": "execute_result"
    },
    {
     "data": {
      "image/png": "[encoded data removed]",
      "text/plain": [
       "<Figure size 640x480 with 1 Axes>"
      ]
     },
     "metadata": {},
     "output_type": "display_data"
    }
   ],
   "source": [
    "plt.plot(trades['Trade_Price'].values)"
   ]
  },
  {
   "cell_type": "code",
   "execution_count": 8,
   "metadata": {},
   "outputs": [
    {
     "data": {
      "text/plain": [
       "[<matplotlib.lines.Line2D at 0x7fb7c5459e40>]"
      ]
     },
     "execution_count": 8,
     "metadata": {},
     "output_type": "execute_result"
    },
    {
     "data": {
      "image/png": "[encoded data removed]",
      "text/plain": [
       "<Figure size 640x480 with 1 Axes>"
      ]
     },
     "metadata": {},
     "output_type": "display_data"
    }
   ],
   "source": [
    "plt.plot(trades['Trade_Volume'].values)"
   ]
  },
  {
   "cell_type": "markdown",
   "metadata": {},
   "source": [
    "### Example Quote Query\n",
    "\n",
    "Includes support for multiple exchanges (Required by the Order Protection Rule)"
   ]
  },
  {
   "cell_type": "code",
   "execution_count": 9,
   "metadata": {},
   "outputs": [],
   "source": [
    "exchange=\"'N'\"\n",
    "symbol='AAPL'\n",
    "start= \"2020-01-01\"\n",
    "end=\"2020-01-03\""
   ]
  },
  {
   "cell_type": "code",
   "execution_count": 10,
   "metadata": {},
   "outputs": [],
   "source": [
    "conn = client_connection(\n",
    "   host,server_user,server_password,db_user,db_pass\n",
    ")"
   ]
  },
  {
   "cell_type": "markdown",
   "metadata": {},
   "source": [
    "### Loop through multiple days without server timeout"
   ]
  },
  {
   "cell_type": "code",
   "execution_count": 12,
   "metadata": {},
   "outputs": [
    {
     "name": "stderr",
     "output_type": "stream",
     "text": [
      "INFO:paramiko.transport:Connected (version 2.0, client OpenSSH_8.2p1)\n",
      "INFO:paramiko.transport:Authentication (password) successful!\n"
     ]
    },
    {
     "name": "stdout",
     "output_type": "stream",
     "text": [
      "Quote Query for 'N' AAPL 2020-01-01 2020-01-02\n"
     ]
    },
    {
     "name": "stderr",
     "output_type": "stream",
     "text": [
      "/home/jbohne/.conda/envs/query_user/lib/python3.10/site-packages/pandas/core/arrays/datetimelike.py:1189: PerformanceWarning: Adding/subtracting object-dtype array to TimedeltaArray not vectorized.\n",
      "  warnings.warn(\n"
     ]
    },
    {
     "name": "stdout",
     "output_type": "stream",
     "text": [
      "['N']\n"
     ]
    },
    {
     "name": "stderr",
     "output_type": "stream",
     "text": [
      "INFO:paramiko.transport.sftp:[chan 1] Opened sftp connection (server version 3)\n"
     ]
    },
    {
     "name": "stdout",
     "output_type": "stream",
     "text": [
      "Saved Quotes for AAPL on 2020-01-01 00:00:00\n",
      "Quote Query for 'N' AAPL 2020-01-02 2020-01-03\n",
      "['N']\n"
     ]
    },
    {
     "name": "stderr",
     "output_type": "stream",
     "text": [
      "INFO:paramiko.transport.sftp:[chan 1] sftp session closed.\n"
     ]
    },
    {
     "name": "stdout",
     "output_type": "stream",
     "text": [
      "Saved Quotes for AAPL on 2020-01-02 00:00:00\n"
     ]
    }
   ],
   "source": [
    "conn.get_quotes_range(exchange,symbol,start,end)"
   ]
  },
  {
   "cell_type": "markdown",
   "metadata": {},
   "source": [
    "### Chunk Clean Large Dataframes"
   ]
  },
  {
   "cell_type": "code",
   "execution_count": 13,
   "metadata": {},
   "outputs": [
    {
     "name": "stdout",
     "output_type": "stream",
     "text": [
      "100000 rows cleaned\n"
     ]
    }
   ],
   "source": [
    "chunk_clean('data/AAPL_quotes_2020-01-02')"
   ]
  },
  {
   "cell_type": "code",
   "execution_count": null,
   "metadata": {},
   "outputs": [],
   "source": []
  }
 ],
 "metadata": {
  "kernelspec": {
   "display_name": "taq",
   "language": "python",
   "name": "python3"
  },
  "language_info": {
   "codemirror_mode": {
    "name": "ipython",
    "version": 3
   },
   "file_extension": ".py",
   "mimetype": "text/x-python",
   "name": "python",
   "nbconvert_exporter": "python",
   "pygments_lexer": "ipython3",
   "version": "3.10.8"
  },
  "vscode": {
   "interpreter": {
    "hash": "2a42dec8a745575960046cf46d3f48b133721b6a2e0e9de81b6b6f589ff034c7"
   }
  }
 },
 "nbformat": 4,
 "nbformat_minor": 4
}
