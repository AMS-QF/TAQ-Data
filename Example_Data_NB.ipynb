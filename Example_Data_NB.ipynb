{
 "cells": [
  {
   "cell_type": "markdown",
   "metadata": {},
   "source": [
    "# Example Data Notebook for TAQ Database\n"
   ]
  },
  {
   "cell_type": "code",
   "execution_count": 1,
   "metadata": {},
   "outputs": [],
   "source": [
    "import pandas as pd\n",
    "import numpy as np\n",
    "from datetime import datetime,timedelta\n",
    "import collections\n",
    "from itertools import chain\n",
    "import matplotlib.pyplot as plt\n",
    "import configobj\n",
    "\n",
    "\n",
    "from scripts.query_helpers import client_connection\n",
    "from scripts.preprocess import clean_trades,clean_quotes,chunk_clean\n"
   ]
  },
  {
   "attachments": {},
   "cell_type": "markdown",
   "metadata": {},
   "source": [
    "### Personal Details\n",
    "\n",
    "Access information will be stored within an env file"
   ]
  },
  {
   "cell_type": "code",
   "execution_count": 2,
   "metadata": {},
   "outputs": [],
   "source": [
    "config = configobj.ConfigObj(\".env\")\n",
    "host = config[\"host\"]\n",
    "server_user = config[\"server_user\"]\n",
    "server_password = config[\"server_password\"]\n",
    "db_user = config[\"db_user\"]\n",
    "db_pass = config[\"db_pass\"]\n"
   ]
  },
  {
   "attachments": {},
   "cell_type": "markdown",
   "metadata": {},
   "source": [
    "### Setup the client connection to the DB"
   ]
  },
  {
   "cell_type": "code",
   "execution_count": 3,
   "metadata": {},
   "outputs": [],
   "source": [
    "conn = client_connection(\n",
    "   host,server_user,server_password,db_user,db_pass\n",
    ")"
   ]
  },
  {
   "cell_type": "markdown",
   "metadata": {},
   "source": [
    "### Example Trade Query\n",
    "\n",
    "Includes support for multiple exchanges  (Required by the Order Protection Rule)"
   ]
  },
  {
   "cell_type": "code",
   "execution_count": 4,
   "metadata": {},
   "outputs": [],
   "source": [
    "exchange=\"'N'\"\n",
    "symbol='AAPL'\n",
    "start= \"2020-01-01\"\n",
    "end=\"2020-01-10\"\n"
   ]
  },
  {
   "cell_type": "code",
   "execution_count": 5,
   "metadata": {},
   "outputs": [
    {
     "name": "stderr",
     "output_type": "stream",
     "text": [
      "INFO:paramiko.transport:Connected (version 2.0, client OpenSSH_8.2p1)\n",
      "INFO:paramiko.transport:Authentication (password) successful!\n"
     ]
    },
    {
     "name": "stdout",
     "output_type": "stream",
     "text": [
      "Trade Query for 'N' AAPL 2020-01-01 2020-01-10\n"
     ]
    },
    {
     "name": "stderr",
     "output_type": "stream",
     "text": [
      "/home/jbohne/.conda/envs/query_user/lib/python3.10/site-packages/clickhouse_sqlalchemy/drivers/base.py:268: SAWarning: Did not recognize type 'DateTime64(9, 'America/New_York')' of column 'Time'\n",
      "  warn(\"Did not recognize type '%s' of column '%s'\" %\n"
     ]
    }
   ],
   "source": [
    "result,path=conn.client_get_trades(exchange,symbol,start,end)"
   ]
  },
  {
   "cell_type": "code",
   "execution_count": null,
   "metadata": {},
   "outputs": [
    {
     "data": {
      "text/html": [
       "<div>\n",
       "<style scoped>\n",
       "    .dataframe tbody tr th:only-of-type {\n",
       "        vertical-align: middle;\n",
       "    }\n",
       "\n",
       "    .dataframe tbody tr th {\n",
       "        vertical-align: top;\n",
       "    }\n",
       "\n",
       "    .dataframe thead th {\n",
       "        text-align: right;\n",
       "    }\n",
       "</style>\n",
       "<table border=\"1\" class=\"dataframe\">\n",
       "  <thead>\n",
       "    <tr style=\"text-align: right;\">\n",
       "      <th></th>\n",
       "      <th>SIP_Timestamp</th>\n",
       "      <th>Exchange</th>\n",
       "      <th>Symbol</th>\n",
       "      <th>Trade_Volume</th>\n",
       "      <th>Trade_Price</th>\n",
       "      <th>Sale_Condition</th>\n",
       "      <th>Source_of_Trade</th>\n",
       "      <th>Trade_Correction_Indicator</th>\n",
       "      <th>Sequence_Number</th>\n",
       "      <th>Trade_Id</th>\n",
       "      <th>Trade_Reporting_Facility</th>\n",
       "      <th>Trade_Through_Exempt_Indicator</th>\n",
       "      <th>date</th>\n",
       "    </tr>\n",
       "  </thead>\n",
       "  <tbody>\n",
       "    <tr>\n",
       "      <th>2020-01-02 09:30:00.134336</th>\n",
       "      <td>2020-01-02 09:30:00.134553</td>\n",
       "      <td>K</td>\n",
       "      <td>AAPL</td>\n",
       "      <td>250</td>\n",
       "      <td>296.24</td>\n",
       "      <td>@</td>\n",
       "      <td>N</td>\n",
       "      <td>0</td>\n",
       "      <td>19803</td>\n",
       "      <td>1100</td>\n",
       "      <td></td>\n",
       "      <td>0</td>\n",
       "      <td>2020-01-02</td>\n",
       "    </tr>\n",
       "    <tr>\n",
       "      <th>2020-01-02 09:30:00.134371</th>\n",
       "      <td>2020-01-02 09:30:00.134577</td>\n",
       "      <td>K</td>\n",
       "      <td>AAPL</td>\n",
       "      <td>50</td>\n",
       "      <td>296.24</td>\n",
       "      <td>@  I</td>\n",
       "      <td>N</td>\n",
       "      <td>0</td>\n",
       "      <td>19804</td>\n",
       "      <td>1101</td>\n",
       "      <td></td>\n",
       "      <td>0</td>\n",
       "      <td>2020-01-02</td>\n",
       "    </tr>\n",
       "    <tr>\n",
       "      <th>2020-01-02 09:30:00.134532</th>\n",
       "      <td>2020-01-02 09:30:00.134742</td>\n",
       "      <td>K</td>\n",
       "      <td>AAPL</td>\n",
       "      <td>108</td>\n",
       "      <td>296.21</td>\n",
       "      <td>@</td>\n",
       "      <td>N</td>\n",
       "      <td>0</td>\n",
       "      <td>19805</td>\n",
       "      <td>1102</td>\n",
       "      <td></td>\n",
       "      <td>0</td>\n",
       "      <td>2020-01-02</td>\n",
       "    </tr>\n",
       "    <tr>\n",
       "      <th>2020-01-02 09:30:00.157191</th>\n",
       "      <td>2020-01-02 09:30:00.157563</td>\n",
       "      <td>P</td>\n",
       "      <td>AAPL</td>\n",
       "      <td>1</td>\n",
       "      <td>296.28</td>\n",
       "      <td>@F I</td>\n",
       "      <td>N</td>\n",
       "      <td>0</td>\n",
       "      <td>19878</td>\n",
       "      <td>1763</td>\n",
       "      <td></td>\n",
       "      <td>1</td>\n",
       "      <td>2020-01-02</td>\n",
       "    </tr>\n",
       "    <tr>\n",
       "      <th>2020-01-02 09:30:00.157191</th>\n",
       "      <td>2020-01-02 09:30:00.157564</td>\n",
       "      <td>P</td>\n",
       "      <td>AAPL</td>\n",
       "      <td>1</td>\n",
       "      <td>296.28</td>\n",
       "      <td>@  Q</td>\n",
       "      <td>N</td>\n",
       "      <td>0</td>\n",
       "      <td>19879</td>\n",
       "      <td>1764</td>\n",
       "      <td></td>\n",
       "      <td>0</td>\n",
       "      <td>2020-01-02</td>\n",
       "    </tr>\n",
       "    <tr>\n",
       "      <th>...</th>\n",
       "      <td>...</td>\n",
       "      <td>...</td>\n",
       "      <td>...</td>\n",
       "      <td>...</td>\n",
       "      <td>...</td>\n",
       "      <td>...</td>\n",
       "      <td>...</td>\n",
       "      <td>...</td>\n",
       "      <td>...</td>\n",
       "      <td>...</td>\n",
       "      <td>...</td>\n",
       "      <td>...</td>\n",
       "      <td>...</td>\n",
       "    </tr>\n",
       "    <tr>\n",
       "      <th>2020-01-09 19:59:55.811102</th>\n",
       "      <td>2020-01-09 19:59:55.811487</td>\n",
       "      <td>P</td>\n",
       "      <td>AAPL</td>\n",
       "      <td>10</td>\n",
       "      <td>310.40</td>\n",
       "      <td>@ TI</td>\n",
       "      <td>N</td>\n",
       "      <td>0</td>\n",
       "      <td>3630464</td>\n",
       "      <td>33011</td>\n",
       "      <td></td>\n",
       "      <td>0</td>\n",
       "      <td>2020-01-09</td>\n",
       "    </tr>\n",
       "    <tr>\n",
       "      <th>2020-01-09 19:59:55.811102</th>\n",
       "      <td>2020-01-09 19:59:55.811487</td>\n",
       "      <td>P</td>\n",
       "      <td>AAPL</td>\n",
       "      <td>99</td>\n",
       "      <td>310.40</td>\n",
       "      <td>@ TI</td>\n",
       "      <td>N</td>\n",
       "      <td>0</td>\n",
       "      <td>3630463</td>\n",
       "      <td>33010</td>\n",
       "      <td></td>\n",
       "      <td>0</td>\n",
       "      <td>2020-01-09</td>\n",
       "    </tr>\n",
       "    <tr>\n",
       "      <th>2020-01-09 19:59:55.811102</th>\n",
       "      <td>2020-01-09 19:59:55.811488</td>\n",
       "      <td>P</td>\n",
       "      <td>AAPL</td>\n",
       "      <td>591</td>\n",
       "      <td>310.40</td>\n",
       "      <td>@ T</td>\n",
       "      <td>N</td>\n",
       "      <td>0</td>\n",
       "      <td>3630465</td>\n",
       "      <td>33012</td>\n",
       "      <td></td>\n",
       "      <td>0</td>\n",
       "      <td>2020-01-09</td>\n",
       "    </tr>\n",
       "    <tr>\n",
       "      <th>2020-01-09 19:59:59.703619</th>\n",
       "      <td>2020-01-09 19:59:59.703863</td>\n",
       "      <td>K</td>\n",
       "      <td>AAPL</td>\n",
       "      <td>5</td>\n",
       "      <td>310.40</td>\n",
       "      <td>@ TI</td>\n",
       "      <td>N</td>\n",
       "      <td>0</td>\n",
       "      <td>3630468</td>\n",
       "      <td>23417</td>\n",
       "      <td></td>\n",
       "      <td>1</td>\n",
       "      <td>2020-01-09</td>\n",
       "    </tr>\n",
       "    <tr>\n",
       "      <th>2020-01-09 19:59:59.704174</th>\n",
       "      <td>2020-01-09 19:59:59.704196</td>\n",
       "      <td>Q</td>\n",
       "      <td>AAPL</td>\n",
       "      <td>95</td>\n",
       "      <td>310.40</td>\n",
       "      <td>@FTI</td>\n",
       "      <td>N</td>\n",
       "      <td>0</td>\n",
       "      <td>3630469</td>\n",
       "      <td>75725</td>\n",
       "      <td></td>\n",
       "      <td>1</td>\n",
       "      <td>2020-01-09</td>\n",
       "    </tr>\n",
       "  </tbody>\n",
       "</table>\n",
       "<p>952307 rows × 13 columns</p>\n",
       "</div>"
      ],
      "text/plain": [
       "                                         SIP_Timestamp Exchange Symbol  \\\n",
       "2020-01-02 09:30:00.134336  2020-01-02 09:30:00.134553        K   AAPL   \n",
       "2020-01-02 09:30:00.134371  2020-01-02 09:30:00.134577        K   AAPL   \n",
       "2020-01-02 09:30:00.134532  2020-01-02 09:30:00.134742        K   AAPL   \n",
       "2020-01-02 09:30:00.157191  2020-01-02 09:30:00.157563        P   AAPL   \n",
       "2020-01-02 09:30:00.157191  2020-01-02 09:30:00.157564        P   AAPL   \n",
       "...                                                ...      ...    ...   \n",
       "2020-01-09 19:59:55.811102  2020-01-09 19:59:55.811487        P   AAPL   \n",
       "2020-01-09 19:59:55.811102  2020-01-09 19:59:55.811487        P   AAPL   \n",
       "2020-01-09 19:59:55.811102  2020-01-09 19:59:55.811488        P   AAPL   \n",
       "2020-01-09 19:59:59.703619  2020-01-09 19:59:59.703863        K   AAPL   \n",
       "2020-01-09 19:59:59.704174  2020-01-09 19:59:59.704196        Q   AAPL   \n",
       "\n",
       "                            Trade_Volume  Trade_Price Sale_Condition  \\\n",
       "2020-01-02 09:30:00.134336           250       296.24           @      \n",
       "2020-01-02 09:30:00.134371            50       296.24           @  I   \n",
       "2020-01-02 09:30:00.134532           108       296.21           @      \n",
       "2020-01-02 09:30:00.157191             1       296.28           @F I   \n",
       "2020-01-02 09:30:00.157191             1       296.28           @  Q   \n",
       "...                                  ...          ...            ...   \n",
       "2020-01-09 19:59:55.811102            10       310.40           @ TI   \n",
       "2020-01-09 19:59:55.811102            99       310.40           @ TI   \n",
       "2020-01-09 19:59:55.811102           591       310.40           @ T    \n",
       "2020-01-09 19:59:59.703619             5       310.40           @ TI   \n",
       "2020-01-09 19:59:59.704174            95       310.40           @FTI   \n",
       "\n",
       "                           Source_of_Trade  Trade_Correction_Indicator  \\\n",
       "2020-01-02 09:30:00.134336               N                           0   \n",
       "2020-01-02 09:30:00.134371               N                           0   \n",
       "2020-01-02 09:30:00.134532               N                           0   \n",
       "2020-01-02 09:30:00.157191               N                           0   \n",
       "2020-01-02 09:30:00.157191               N                           0   \n",
       "...                                    ...                         ...   \n",
       "2020-01-09 19:59:55.811102               N                           0   \n",
       "2020-01-09 19:59:55.811102               N                           0   \n",
       "2020-01-09 19:59:55.811102               N                           0   \n",
       "2020-01-09 19:59:59.703619               N                           0   \n",
       "2020-01-09 19:59:59.704174               N                           0   \n",
       "\n",
       "                            Sequence_Number  Trade_Id  \\\n",
       "2020-01-02 09:30:00.134336            19803      1100   \n",
       "2020-01-02 09:30:00.134371            19804      1101   \n",
       "2020-01-02 09:30:00.134532            19805      1102   \n",
       "2020-01-02 09:30:00.157191            19878      1763   \n",
       "2020-01-02 09:30:00.157191            19879      1764   \n",
       "...                                     ...       ...   \n",
       "2020-01-09 19:59:55.811102          3630464     33011   \n",
       "2020-01-09 19:59:55.811102          3630463     33010   \n",
       "2020-01-09 19:59:55.811102          3630465     33012   \n",
       "2020-01-09 19:59:59.703619          3630468     23417   \n",
       "2020-01-09 19:59:59.704174          3630469     75725   \n",
       "\n",
       "                           Trade_Reporting_Facility  \\\n",
       "2020-01-02 09:30:00.134336                            \n",
       "2020-01-02 09:30:00.134371                            \n",
       "2020-01-02 09:30:00.134532                            \n",
       "2020-01-02 09:30:00.157191                            \n",
       "2020-01-02 09:30:00.157191                            \n",
       "...                                             ...   \n",
       "2020-01-09 19:59:55.811102                            \n",
       "2020-01-09 19:59:55.811102                            \n",
       "2020-01-09 19:59:55.811102                            \n",
       "2020-01-09 19:59:59.703619                            \n",
       "2020-01-09 19:59:59.704174                            \n",
       "\n",
       "                            Trade_Through_Exempt_Indicator         date  \n",
       "2020-01-02 09:30:00.134336                               0  2020-01-02   \n",
       "2020-01-02 09:30:00.134371                               0  2020-01-02   \n",
       "2020-01-02 09:30:00.134532                               0  2020-01-02   \n",
       "2020-01-02 09:30:00.157191                               1  2020-01-02   \n",
       "2020-01-02 09:30:00.157191                               0  2020-01-02   \n",
       "...                                                    ...          ...  \n",
       "2020-01-09 19:59:55.811102                               0  2020-01-09   \n",
       "2020-01-09 19:59:55.811102                               0  2020-01-09   \n",
       "2020-01-09 19:59:55.811102                               0  2020-01-09   \n",
       "2020-01-09 19:59:59.703619                               1  2020-01-09   \n",
       "2020-01-09 19:59:59.704174                               1  2020-01-09   \n",
       "\n",
       "[952307 rows x 13 columns]"
      ]
     },
     "execution_count": 7,
     "metadata": {},
     "output_type": "execute_result"
    }
   ],
   "source": [
    "trades=pd.read_csv(path)\n",
    "trades=clean_trades(trades)\n",
    "trades"
   ]
  },
  {
   "cell_type": "code",
   "execution_count": null,
   "metadata": {},
   "outputs": [
    {
     "data": {
      "text/plain": [
       "[<matplotlib.lines.Line2D at 0x7fec7fc069b0>]"
      ]
     },
     "execution_count": 8,
     "metadata": {},
     "output_type": "execute_result"
    },
    {
     "data": {
      "image/png": "[encoded data removed]",
      "text/plain": [
       "<Figure size 432x288 with 1 Axes>"
      ]
     },
     "metadata": {
      "needs_background": "light"
     },
     "output_type": "display_data"
    }
   ],
   "source": [
    "plt.plot(trades['Trade_Price'].values)"
   ]
  },
  {
   "cell_type": "code",
   "execution_count": null,
   "metadata": {},
   "outputs": [
    {
     "data": {
      "text/plain": [
       "[<matplotlib.lines.Line2D at 0x7fec7b168cd0>]"
      ]
     },
     "execution_count": 9,
     "metadata": {},
     "output_type": "execute_result"
    },
    {
     "data": {
      "image/png": "[encoded data removed]",
      "text/plain": [
       "<Figure size 432x288 with 1 Axes>"
      ]
     },
     "metadata": {
      "needs_background": "light"
     },
     "output_type": "display_data"
    }
   ],
   "source": [
    "plt.plot(trades['Trade_Volume'].values)"
   ]
  },
  {
   "cell_type": "markdown",
   "metadata": {},
   "source": [
    "### Example Quote Query\n",
    "\n",
    "Includes support for multiple exchanges (Required by the Order Protection Rule)"
   ]
  },
  {
   "cell_type": "code",
   "execution_count": null,
   "metadata": {},
   "outputs": [],
   "source": [
    "exchange=\"'N'\"\n",
    "symbol='AAPL'\n",
    "start= \"2020-01-01\"\n",
    "end=\"2020-01-03\""
   ]
  },
  {
   "cell_type": "code",
   "execution_count": null,
   "metadata": {},
   "outputs": [],
   "source": [
    "conn = client_connection(\n",
    "   host,server_user,server_password,db_user,db_pass\n",
    ")"
   ]
  },
  {
   "cell_type": "markdown",
   "metadata": {},
   "source": [
    "### Loop through multiple days without server timeout"
   ]
  },
  {
   "cell_type": "code",
   "execution_count": null,
   "metadata": {},
   "outputs": [
    {
     "name": "stderr",
     "output_type": "stream",
     "text": [
      "INFO:paramiko.transport:Connected (version 2.0, client OpenSSH_8.2p1)\n"
     ]
    },
    {
     "name": "stdout",
     "output_type": "stream",
     "text": [
      "Quote Query for 'N' AAPL 2020-01-01 2020-01-02\n"
     ]
    },
    {
     "name": "stderr",
     "output_type": "stream",
     "text": [
      "INFO:paramiko.transport:Authentication (password) successful!\n",
      "/home/jbohne/.conda/envs/query_user/lib/python3.10/site-packages/pandas/core/arrays/datetimelike.py:1189: PerformanceWarning: Adding/subtracting object-dtype array to TimedeltaArray not vectorized.\n",
      "  warnings.warn(\n"
     ]
    },
    {
     "name": "stdout",
     "output_type": "stream",
     "text": [
      "['N']\n"
     ]
    },
    {
     "name": "stderr",
     "output_type": "stream",
     "text": [
      "INFO:paramiko.transport.sftp:[chan 1] Opened sftp connection (server version 3)\n"
     ]
    },
    {
     "name": "stdout",
     "output_type": "stream",
     "text": [
      "Saved Quotes for AAPL on 2020-01-01 00:00:00\n",
      "Quote Query for 'N' AAPL 2020-01-02 2020-01-03\n",
      "['N']\n",
      "Saved Quotes for AAPL on 2020-01-02 00:00:00\n"
     ]
    }
   ],
   "source": [
    "result,path= conn.get_quotes_range(exchange,symbol,start,end)"
   ]
  },
  {
   "cell_type": "markdown",
   "metadata": {},
   "source": [
    "### Chunk Clean Large Dataframes"
   ]
  },
  {
   "cell_type": "code",
   "execution_count": null,
   "metadata": {},
   "outputs": [
    {
     "name": "stdout",
     "output_type": "stream",
     "text": [
      "100000 rows cleaned\n"
     ]
    }
   ],
   "source": [
    "chunk_clean('data/AAPL_quotes_2020-01-02')"
   ]
  },
  {
   "cell_type": "code",
   "execution_count": null,
   "metadata": {},
   "outputs": [],
   "source": []
  }
 ],
 "metadata": {
  "kernelspec": {
   "display_name": "taq",
   "language": "python",
   "name": "python3"
  },
  "language_info": {
   "codemirror_mode": {
    "name": "ipython",
    "version": 3
   },
   "file_extension": ".py",
   "mimetype": "text/x-python",
   "name": "python",
   "nbconvert_exporter": "python",
   "pygments_lexer": "ipython3",
   "version": "3.10.8"
  },
  "vscode": {
   "interpreter": {
    "hash": "2a42dec8a745575960046cf46d3f48b133721b6a2e0e9de81b6b6f589ff034c7"
   }
  }
 },
 "nbformat": 4,
 "nbformat_minor": 4
}
