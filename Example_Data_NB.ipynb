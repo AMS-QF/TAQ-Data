{
 "cells": [
  {
   "cell_type": "markdown",
   "metadata": {},
   "source": [
    "# Example Data Notebook for TAQ Database\n"
   ]
  },
  {
   "cell_type": "code",
   "execution_count": 1,
   "metadata": {},
   "outputs": [
    {
     "name": "stdout",
     "output_type": "stream",
     "text": [
      "Requirement already satisfied: fabric in /home/jbohn/miniconda3/lib/python3.9/site-packages (2.7.1)\n",
      "Requirement already satisfied: paramiko>=2.4 in /home/jbohn/miniconda3/lib/python3.9/site-packages (from fabric) (2.11.0)\n",
      "Requirement already satisfied: pathlib2 in /home/jbohn/miniconda3/lib/python3.9/site-packages (from fabric) (2.3.7.post1)\n",
      "Requirement already satisfied: invoke<2.0,>=1.3 in /home/jbohn/miniconda3/lib/python3.9/site-packages (from fabric) (1.7.1)\n",
      "Requirement already satisfied: pynacl>=1.0.1 in /home/jbohn/miniconda3/lib/python3.9/site-packages (from paramiko>=2.4->fabric) (1.5.0)\n",
      "Requirement already satisfied: cryptography>=2.5 in /home/jbohn/miniconda3/lib/python3.9/site-packages (from paramiko>=2.4->fabric) (37.0.4)\n",
      "Requirement already satisfied: six in /home/jbohn/miniconda3/lib/python3.9/site-packages (from paramiko>=2.4->fabric) (1.16.0)\n",
      "Requirement already satisfied: bcrypt>=3.1.3 in /home/jbohn/miniconda3/lib/python3.9/site-packages (from paramiko>=2.4->fabric) (4.0.0)\n",
      "Requirement already satisfied: cffi>=1.12 in /home/jbohn/miniconda3/lib/python3.9/site-packages (from cryptography>=2.5->paramiko>=2.4->fabric) (1.15.1)\n",
      "Requirement already satisfied: pycparser in /home/jbohn/miniconda3/lib/python3.9/site-packages (from cffi>=1.12->cryptography>=2.5->paramiko>=2.4->fabric) (2.21)\n"
     ]
    }
   ],
   "source": [
    "import pandas as pd\n",
    "# ^^^ pyforest auto-imports - don't write above this line\n",
    "! pip install fabric"
   ]
  },
  {
   "cell_type": "code",
   "execution_count": 1,
   "metadata": {},
   "outputs": [],
   "source": [
    "from scripts.query_helpers import client_connection\n",
    "from scripts.preprocess import clean_trades,clean_quotes\n",
    "import pandas as pd\n",
    "import numpy as np\n",
    "from datetime import datetime,timedelta\n",
    "import collections\n",
    "from itertools import chain\n",
    "import matplotlib.pyplot as plt"
   ]
  },
  {
   "cell_type": "markdown",
   "metadata": {},
   "source": [
    "### Personal Details\n",
    "\n",
    "Below are the details needed to authenticate into the server and crete a client connection"
   ]
  },
  {
   "cell_type": "code",
   "execution_count": 4,
   "metadata": {},
   "outputs": [],
   "source": [
    "host=\"ppolak5.ams.stonybrook.edu.\"\n",
    "server_user= 'TEMP'\n",
    "server_password='TEMP'\n",
    "db_user='TEMP'\n",
    "db_pass='TEMP'"
   ]
  },
  {
   "cell_type": "code",
   "execution_count": 6,
   "metadata": {},
   "outputs": [],
   "source": [
    "conn = client_connection(\n",
    "   host,server_user,server_password,db_user,db_pass\n",
    ")"
   ]
  },
  {
   "cell_type": "markdown",
   "metadata": {},
   "source": [
    "### Example Trade Query"
   ]
  },
  {
   "cell_type": "code",
   "execution_count": 5,
   "metadata": {},
   "outputs": [],
   "source": [
    "exchange=\"N\" #nasdaq \n",
    "symbol='AAPL'\n",
    "start= \"2020-01-01\"\n",
    "end=\"2020-01-30\"\n"
   ]
  },
  {
   "cell_type": "code",
   "execution_count": 6,
   "metadata": {},
   "outputs": [
    {
     "name": "stderr",
     "output_type": "stream",
     "text": [
      "INFO:paramiko.transport:Connected (version 2.0, client OpenSSH_8.2p1)\n"
     ]
    },
    {
     "name": "stdout",
     "output_type": "stream",
     "text": [
      "Trade Query for N AAPL 2020-01-01 2020-01-30\n"
     ]
    },
    {
     "name": "stderr",
     "output_type": "stream",
     "text": [
      "INFO:paramiko.transport:Authentication (password) successful!\n",
      "/home/jbohne/.conda/envs/query_user/lib/python3.10/site-packages/clickhouse_sqlalchemy/drivers/base.py:268: SAWarning: Did not recognize type 'DateTime64(9, 'America/New_York')' of column 'Time'\n",
      "  warn(\"Did not recognize type '%s' of column '%s'\" %\n",
      "INFO:paramiko.transport.sftp:[chan 1] Opened sftp connection (server version 3)\n"
     ]
    }
   ],
   "source": [
    "result=conn.client_get_trades(exchange,symbol,start,end)"
   ]
  },
  {
   "cell_type": "code",
   "execution_count": 7,
   "metadata": {},
   "outputs": [
    {
     "data": {
      "text/html": [
       "<div>\n",
       "<style scoped>\n",
       "    .dataframe tbody tr th:only-of-type {\n",
       "        vertical-align: middle;\n",
       "    }\n",
       "\n",
       "    .dataframe tbody tr th {\n",
       "        vertical-align: top;\n",
       "    }\n",
       "\n",
       "    .dataframe thead th {\n",
       "        text-align: right;\n",
       "    }\n",
       "</style>\n",
       "<table border=\"1\" class=\"dataframe\">\n",
       "  <thead>\n",
       "    <tr style=\"text-align: right;\">\n",
       "      <th></th>\n",
       "      <th>Time</th>\n",
       "      <th>Exchange</th>\n",
       "      <th>Symbol</th>\n",
       "      <th>Trade_Volume</th>\n",
       "      <th>Trade_Price</th>\n",
       "      <th>Sale_Condition</th>\n",
       "      <th>Source_of_Trade</th>\n",
       "      <th>date</th>\n",
       "    </tr>\n",
       "  </thead>\n",
       "  <tbody>\n",
       "    <tr>\n",
       "      <th>2020-01-02 09:30:00.624116</th>\n",
       "      <td>2020-01-02 09:30:00.624116</td>\n",
       "      <td>N</td>\n",
       "      <td>AAPL</td>\n",
       "      <td>50</td>\n",
       "      <td>296.23</td>\n",
       "      <td>@  I</td>\n",
       "      <td>N</td>\n",
       "      <td>2020-01-02</td>\n",
       "    </tr>\n",
       "    <tr>\n",
       "      <th>2020-01-02 09:30:00.836409</th>\n",
       "      <td>2020-01-02 09:30:00.836409</td>\n",
       "      <td>N</td>\n",
       "      <td>AAPL</td>\n",
       "      <td>22</td>\n",
       "      <td>296.25</td>\n",
       "      <td>@  I</td>\n",
       "      <td>N</td>\n",
       "      <td>2020-01-02</td>\n",
       "    </tr>\n",
       "    <tr>\n",
       "      <th>2020-01-02 09:30:01.073828</th>\n",
       "      <td>2020-01-02 09:30:01.073828</td>\n",
       "      <td>N</td>\n",
       "      <td>AAPL</td>\n",
       "      <td>31</td>\n",
       "      <td>296.26</td>\n",
       "      <td>@  I</td>\n",
       "      <td>N</td>\n",
       "      <td>2020-01-02</td>\n",
       "    </tr>\n",
       "    <tr>\n",
       "      <th>2020-01-02 09:30:01.261512</th>\n",
       "      <td>2020-01-02 09:30:01.261512</td>\n",
       "      <td>N</td>\n",
       "      <td>AAPL</td>\n",
       "      <td>3</td>\n",
       "      <td>296.27</td>\n",
       "      <td>@  I</td>\n",
       "      <td>N</td>\n",
       "      <td>2020-01-02</td>\n",
       "    </tr>\n",
       "    <tr>\n",
       "      <th>2020-01-02 09:30:01.294279</th>\n",
       "      <td>2020-01-02 09:30:01.294279</td>\n",
       "      <td>N</td>\n",
       "      <td>AAPL</td>\n",
       "      <td>31</td>\n",
       "      <td>296.25</td>\n",
       "      <td>@  I</td>\n",
       "      <td>N</td>\n",
       "      <td>2020-01-02</td>\n",
       "    </tr>\n",
       "    <tr>\n",
       "      <th>...</th>\n",
       "      <td>...</td>\n",
       "      <td>...</td>\n",
       "      <td>...</td>\n",
       "      <td>...</td>\n",
       "      <td>...</td>\n",
       "      <td>...</td>\n",
       "      <td>...</td>\n",
       "      <td>...</td>\n",
       "    </tr>\n",
       "    <tr>\n",
       "      <th>2020-01-29 15:59:53.741022</th>\n",
       "      <td>2020-01-29 15:59:53.741022</td>\n",
       "      <td>N</td>\n",
       "      <td>AAPL</td>\n",
       "      <td>200</td>\n",
       "      <td>324.19</td>\n",
       "      <td>@</td>\n",
       "      <td>N</td>\n",
       "      <td>2020-01-29</td>\n",
       "    </tr>\n",
       "    <tr>\n",
       "      <th>2020-01-29 15:59:54.202375</th>\n",
       "      <td>2020-01-29 15:59:54.202375</td>\n",
       "      <td>N</td>\n",
       "      <td>AAPL</td>\n",
       "      <td>7</td>\n",
       "      <td>324.20</td>\n",
       "      <td>@F I</td>\n",
       "      <td>N</td>\n",
       "      <td>2020-01-29</td>\n",
       "    </tr>\n",
       "    <tr>\n",
       "      <th>2020-01-29 15:59:54.211587</th>\n",
       "      <td>2020-01-29 15:59:54.211587</td>\n",
       "      <td>N</td>\n",
       "      <td>AAPL</td>\n",
       "      <td>18</td>\n",
       "      <td>324.15</td>\n",
       "      <td>@F I</td>\n",
       "      <td>N</td>\n",
       "      <td>2020-01-29</td>\n",
       "    </tr>\n",
       "    <tr>\n",
       "      <th>2020-01-29 15:59:55.697308</th>\n",
       "      <td>2020-01-29 15:59:55.697308</td>\n",
       "      <td>N</td>\n",
       "      <td>AAPL</td>\n",
       "      <td>3</td>\n",
       "      <td>324.26</td>\n",
       "      <td>@  I</td>\n",
       "      <td>N</td>\n",
       "      <td>2020-01-29</td>\n",
       "    </tr>\n",
       "    <tr>\n",
       "      <th>2020-01-29 15:59:55.710768</th>\n",
       "      <td>2020-01-29 15:59:55.710768</td>\n",
       "      <td>N</td>\n",
       "      <td>AAPL</td>\n",
       "      <td>8</td>\n",
       "      <td>324.26</td>\n",
       "      <td>@  I</td>\n",
       "      <td>N</td>\n",
       "      <td>2020-01-29</td>\n",
       "    </tr>\n",
       "  </tbody>\n",
       "</table>\n",
       "<p>113920 rows × 8 columns</p>\n",
       "</div>"
      ],
      "text/plain": [
       "                                                  Time Exchange Symbol  \\\n",
       "2020-01-02 09:30:00.624116  2020-01-02 09:30:00.624116        N   AAPL   \n",
       "2020-01-02 09:30:00.836409  2020-01-02 09:30:00.836409        N   AAPL   \n",
       "2020-01-02 09:30:01.073828  2020-01-02 09:30:01.073828        N   AAPL   \n",
       "2020-01-02 09:30:01.261512  2020-01-02 09:30:01.261512        N   AAPL   \n",
       "2020-01-02 09:30:01.294279  2020-01-02 09:30:01.294279        N   AAPL   \n",
       "...                                                ...      ...    ...   \n",
       "2020-01-29 15:59:53.741022  2020-01-29 15:59:53.741022        N   AAPL   \n",
       "2020-01-29 15:59:54.202375  2020-01-29 15:59:54.202375        N   AAPL   \n",
       "2020-01-29 15:59:54.211587  2020-01-29 15:59:54.211587        N   AAPL   \n",
       "2020-01-29 15:59:55.697308  2020-01-29 15:59:55.697308        N   AAPL   \n",
       "2020-01-29 15:59:55.710768  2020-01-29 15:59:55.710768        N   AAPL   \n",
       "\n",
       "                            Trade_Volume  Trade_Price Sale_Condition  \\\n",
       "2020-01-02 09:30:00.624116            50       296.23           @  I   \n",
       "2020-01-02 09:30:00.836409            22       296.25           @  I   \n",
       "2020-01-02 09:30:01.073828            31       296.26           @  I   \n",
       "2020-01-02 09:30:01.261512             3       296.27           @  I   \n",
       "2020-01-02 09:30:01.294279            31       296.25           @  I   \n",
       "...                                  ...          ...            ...   \n",
       "2020-01-29 15:59:53.741022           200       324.19           @      \n",
       "2020-01-29 15:59:54.202375             7       324.20           @F I   \n",
       "2020-01-29 15:59:54.211587            18       324.15           @F I   \n",
       "2020-01-29 15:59:55.697308             3       324.26           @  I   \n",
       "2020-01-29 15:59:55.710768             8       324.26           @  I   \n",
       "\n",
       "                           Source_of_Trade        date  \n",
       "2020-01-02 09:30:00.624116               N  2020-01-02  \n",
       "2020-01-02 09:30:00.836409               N  2020-01-02  \n",
       "2020-01-02 09:30:01.073828               N  2020-01-02  \n",
       "2020-01-02 09:30:01.261512               N  2020-01-02  \n",
       "2020-01-02 09:30:01.294279               N  2020-01-02  \n",
       "...                                    ...         ...  \n",
       "2020-01-29 15:59:53.741022               N  2020-01-29  \n",
       "2020-01-29 15:59:54.202375               N  2020-01-29  \n",
       "2020-01-29 15:59:54.211587               N  2020-01-29  \n",
       "2020-01-29 15:59:55.697308               N  2020-01-29  \n",
       "2020-01-29 15:59:55.710768               N  2020-01-29  \n",
       "\n",
       "[113920 rows x 8 columns]"
      ]
     },
     "execution_count": 7,
     "metadata": {},
     "output_type": "execute_result"
    }
   ],
   "source": [
    "trades=pd.read_csv('data/AAPL_trades.csv')\n",
    "trades=clean_trades(trades)\n",
    "trades.to_csv('data/AAPL_trades.csv')\n",
    "trades"
   ]
  },
  {
   "cell_type": "code",
   "execution_count": 8,
   "metadata": {},
   "outputs": [
    {
     "data": {
      "text/plain": [
       "[<matplotlib.lines.Line2D at 0x7f3aec87dac0>]"
      ]
     },
     "execution_count": 8,
     "metadata": {},
     "output_type": "execute_result"
    },
    {
     "data": {
      "image/png": "[encoded data removed]",
      "text/plain": [
       "<Figure size 640x480 with 1 Axes>"
      ]
     },
     "metadata": {},
     "output_type": "display_data"
    }
   ],
   "source": [
    "plt.plot(trades['Trade_Price'])"
   ]
  },
  {
   "cell_type": "code",
   "execution_count": 9,
   "metadata": {},
   "outputs": [
    {
     "data": {
      "text/plain": [
       "[<matplotlib.lines.Line2D at 0x7f3aec820fd0>]"
      ]
     },
     "execution_count": 9,
     "metadata": {},
     "output_type": "execute_result"
    },
    {
     "data": {
      "image/png": "[encoded data removed]",
      "text/plain": [
       "<Figure size 640x480 with 1 Axes>"
      ]
     },
     "metadata": {},
     "output_type": "display_data"
    }
   ],
   "source": [
    "plt.plot(trades['Trade_Volume'])"
   ]
  },
  {
   "cell_type": "markdown",
   "metadata": {},
   "source": [
    "### Example Quote Query"
   ]
  },
  {
   "cell_type": "code",
   "execution_count": 5,
   "metadata": {},
   "outputs": [],
   "source": [
    "exchange=\"N\"\n",
    "symbol='AAPL'\n",
    "start= \"2020-01-15\"\n",
    "end=\"2020-01-30\"\n"
   ]
  },
  {
   "cell_type": "code",
   "execution_count": 6,
   "metadata": {},
   "outputs": [],
   "source": [
    "conn = client_connection(\n",
    "   host,server_user,server_password,db_user,db_pass\n",
    ")"
   ]
  },
  {
   "cell_type": "code",
   "execution_count": 7,
   "metadata": {},
   "outputs": [
    {
     "name": "stdout",
     "output_type": "stream",
     "text": [
      "Quote Query for N AAPL 2020-01-15 2020-01-30\n"
     ]
    },
    {
     "name": "stderr",
     "output_type": "stream",
     "text": [
      "INFO:paramiko.transport:Connected (version 2.0, client OpenSSH_8.2p1)\n",
      "INFO:paramiko.transport:Authentication (password) successful!\n",
      "INFO:paramiko.transport.sftp:[chan 1] Opened sftp connection (server version 3)\n"
     ]
    }
   ],
   "source": [
    "result=conn.client_get_quotes(exchange,symbol,start,end)"
   ]
  },
  {
   "cell_type": "markdown",
   "metadata": {},
   "source": [
    "Load in first 20000 top of book quotes "
   ]
  },
  {
   "cell_type": "code",
   "execution_count": 2,
   "metadata": {},
   "outputs": [],
   "source": [
    "quotes=pd.read_csv(\"data/AAPL_quotes.csv\",nrows=20000) \n",
    "\n",
    "# ts realignment based on participant ts and dropping invalid observations \n",
    "quotes=clean_quotes(quotes)\n",
    "\n",
    "#quotes.to_csv('data/AAPL_quotes1.csv')"
   ]
  },
  {
   "cell_type": "code",
   "execution_count": 3,
   "metadata": {},
   "outputs": [
    {
     "data": {
      "text/html": [
       "<div>\n",
       "<style scoped>\n",
       "    .dataframe tbody tr th:only-of-type {\n",
       "        vertical-align: middle;\n",
       "    }\n",
       "\n",
       "    .dataframe tbody tr th {\n",
       "        vertical-align: top;\n",
       "    }\n",
       "\n",
       "    .dataframe thead th {\n",
       "        text-align: right;\n",
       "    }\n",
       "</style>\n",
       "<table border=\"1\" class=\"dataframe\">\n",
       "  <thead>\n",
       "    <tr style=\"text-align: right;\">\n",
       "      <th></th>\n",
       "      <th>SIP_Timestamp</th>\n",
       "      <th>Exchange</th>\n",
       "      <th>Symbol</th>\n",
       "      <th>Bid_Price</th>\n",
       "      <th>Bid_Size</th>\n",
       "      <th>Offer_Price</th>\n",
       "      <th>Offer_Size</th>\n",
       "      <th>Quote_Condition</th>\n",
       "      <th>Sequence_Number</th>\n",
       "      <th>Source_Of_Quote</th>\n",
       "      <th>Best_Bid_Exchange</th>\n",
       "      <th>Best_Bid_Price</th>\n",
       "      <th>Best_Bid_Size</th>\n",
       "      <th>Best_Offer_Exchange</th>\n",
       "      <th>Best_Offer_Price</th>\n",
       "      <th>Best_Offer_Size</th>\n",
       "      <th>LULD_NBBO_Indicator</th>\n",
       "      <th>Security_Status_Indicator</th>\n",
       "      <th>date</th>\n",
       "    </tr>\n",
       "  </thead>\n",
       "  <tbody>\n",
       "    <tr>\n",
       "      <th>2020-01-15 09:30:00.953633</th>\n",
       "      <td>2020-01-15 09:30:00.954013</td>\n",
       "      <td>N</td>\n",
       "      <td>AAPL</td>\n",
       "      <td>311.94</td>\n",
       "      <td>1.0</td>\n",
       "      <td>326.18</td>\n",
       "      <td>1.0</td>\n",
       "      <td>R</td>\n",
       "      <td>356546</td>\n",
       "      <td>N</td>\n",
       "      <td>N</td>\n",
       "      <td>311.94</td>\n",
       "      <td>1.0</td>\n",
       "      <td>V</td>\n",
       "      <td>311.96</td>\n",
       "      <td>1.0</td>\n",
       "      <td>A</td>\n",
       "      <td></td>\n",
       "      <td>2020-01-15</td>\n",
       "    </tr>\n",
       "    <tr>\n",
       "      <th>2020-01-15 09:30:01.004096</th>\n",
       "      <td>2020-01-15 09:30:01.004476</td>\n",
       "      <td>N</td>\n",
       "      <td>AAPL</td>\n",
       "      <td>310.85</td>\n",
       "      <td>1.0</td>\n",
       "      <td>326.18</td>\n",
       "      <td>1.0</td>\n",
       "      <td>R</td>\n",
       "      <td>357650</td>\n",
       "      <td>N</td>\n",
       "      <td>Q</td>\n",
       "      <td>311.92</td>\n",
       "      <td>2.0</td>\n",
       "      <td>Q</td>\n",
       "      <td>311.99</td>\n",
       "      <td>1.0</td>\n",
       "      <td>A</td>\n",
       "      <td></td>\n",
       "      <td>2020-01-15</td>\n",
       "    </tr>\n",
       "    <tr>\n",
       "      <th>2020-01-15 09:30:01.076382</th>\n",
       "      <td>2020-01-15 09:30:01.076759</td>\n",
       "      <td>N</td>\n",
       "      <td>AAPL</td>\n",
       "      <td>310.85</td>\n",
       "      <td>1.0</td>\n",
       "      <td>311.96</td>\n",
       "      <td>1.0</td>\n",
       "      <td>R</td>\n",
       "      <td>358817</td>\n",
       "      <td>N</td>\n",
       "      <td>Q</td>\n",
       "      <td>311.89</td>\n",
       "      <td>3.0</td>\n",
       "      <td>N</td>\n",
       "      <td>311.96</td>\n",
       "      <td>1.0</td>\n",
       "      <td>A</td>\n",
       "      <td></td>\n",
       "      <td>2020-01-15</td>\n",
       "    </tr>\n",
       "    <tr>\n",
       "      <th>2020-01-15 09:30:01.645062</th>\n",
       "      <td>2020-01-15 09:30:01.645440</td>\n",
       "      <td>N</td>\n",
       "      <td>AAPL</td>\n",
       "      <td>310.85</td>\n",
       "      <td>1.0</td>\n",
       "      <td>311.95</td>\n",
       "      <td>4.0</td>\n",
       "      <td>R</td>\n",
       "      <td>363970</td>\n",
       "      <td>N</td>\n",
       "      <td>Q</td>\n",
       "      <td>311.90</td>\n",
       "      <td>1.0</td>\n",
       "      <td>N</td>\n",
       "      <td>311.95</td>\n",
       "      <td>4.0</td>\n",
       "      <td>A</td>\n",
       "      <td></td>\n",
       "      <td>2020-01-15</td>\n",
       "    </tr>\n",
       "    <tr>\n",
       "      <th>2020-01-15 09:30:01.677976</th>\n",
       "      <td>2020-01-15 09:30:01.678357</td>\n",
       "      <td>N</td>\n",
       "      <td>AAPL</td>\n",
       "      <td>310.85</td>\n",
       "      <td>1.0</td>\n",
       "      <td>311.95</td>\n",
       "      <td>3.0</td>\n",
       "      <td>R</td>\n",
       "      <td>364328</td>\n",
       "      <td>N</td>\n",
       "      <td>P</td>\n",
       "      <td>311.86</td>\n",
       "      <td>2.0</td>\n",
       "      <td>N</td>\n",
       "      <td>311.95</td>\n",
       "      <td>3.0</td>\n",
       "      <td>A</td>\n",
       "      <td></td>\n",
       "      <td>2020-01-15</td>\n",
       "    </tr>\n",
       "    <tr>\n",
       "      <th>...</th>\n",
       "      <td>...</td>\n",
       "      <td>...</td>\n",
       "      <td>...</td>\n",
       "      <td>...</td>\n",
       "      <td>...</td>\n",
       "      <td>...</td>\n",
       "      <td>...</td>\n",
       "      <td>...</td>\n",
       "      <td>...</td>\n",
       "      <td>...</td>\n",
       "      <td>...</td>\n",
       "      <td>...</td>\n",
       "      <td>...</td>\n",
       "      <td>...</td>\n",
       "      <td>...</td>\n",
       "      <td>...</td>\n",
       "      <td>...</td>\n",
       "      <td>...</td>\n",
       "      <td>...</td>\n",
       "    </tr>\n",
       "    <tr>\n",
       "      <th>2020-01-15 11:01:47.855547</th>\n",
       "      <td>2020-01-15 11:01:47.855924</td>\n",
       "      <td>N</td>\n",
       "      <td>AAPL</td>\n",
       "      <td>314.32</td>\n",
       "      <td>2.0</td>\n",
       "      <td>314.37</td>\n",
       "      <td>3.0</td>\n",
       "      <td>R</td>\n",
       "      <td>9087382</td>\n",
       "      <td>N</td>\n",
       "      <td>Z</td>\n",
       "      <td>314.33</td>\n",
       "      <td>1.0</td>\n",
       "      <td>Z</td>\n",
       "      <td>314.36</td>\n",
       "      <td>2.0</td>\n",
       "      <td>A</td>\n",
       "      <td></td>\n",
       "      <td>2020-01-15</td>\n",
       "    </tr>\n",
       "    <tr>\n",
       "      <th>2020-01-15 11:01:48.113491</th>\n",
       "      <td>2020-01-15 11:01:48.113869</td>\n",
       "      <td>N</td>\n",
       "      <td>AAPL</td>\n",
       "      <td>314.33</td>\n",
       "      <td>2.0</td>\n",
       "      <td>314.38</td>\n",
       "      <td>2.0</td>\n",
       "      <td>R</td>\n",
       "      <td>9088026</td>\n",
       "      <td>N</td>\n",
       "      <td>Z</td>\n",
       "      <td>314.34</td>\n",
       "      <td>2.0</td>\n",
       "      <td>Z</td>\n",
       "      <td>314.37</td>\n",
       "      <td>1.0</td>\n",
       "      <td>A</td>\n",
       "      <td></td>\n",
       "      <td>2020-01-15</td>\n",
       "    </tr>\n",
       "    <tr>\n",
       "      <th>2020-01-15 11:01:48.181675</th>\n",
       "      <td>2020-01-15 11:01:48.182051</td>\n",
       "      <td>N</td>\n",
       "      <td>AAPL</td>\n",
       "      <td>314.34</td>\n",
       "      <td>4.0</td>\n",
       "      <td>314.40</td>\n",
       "      <td>2.0</td>\n",
       "      <td>R</td>\n",
       "      <td>9088226</td>\n",
       "      <td>N</td>\n",
       "      <td>Z</td>\n",
       "      <td>314.35</td>\n",
       "      <td>1.0</td>\n",
       "      <td>P</td>\n",
       "      <td>314.38</td>\n",
       "      <td>2.0</td>\n",
       "      <td>A</td>\n",
       "      <td></td>\n",
       "      <td>2020-01-15</td>\n",
       "    </tr>\n",
       "    <tr>\n",
       "      <th>2020-01-15 11:01:48.181817</th>\n",
       "      <td>2020-01-15 11:01:48.182193</td>\n",
       "      <td>N</td>\n",
       "      <td>AAPL</td>\n",
       "      <td>314.35</td>\n",
       "      <td>2.0</td>\n",
       "      <td>314.39</td>\n",
       "      <td>2.0</td>\n",
       "      <td>R</td>\n",
       "      <td>9088236</td>\n",
       "      <td>N</td>\n",
       "      <td>N</td>\n",
       "      <td>314.35</td>\n",
       "      <td>2.0</td>\n",
       "      <td>Z</td>\n",
       "      <td>314.39</td>\n",
       "      <td>3.0</td>\n",
       "      <td>A</td>\n",
       "      <td></td>\n",
       "      <td>2020-01-15</td>\n",
       "    </tr>\n",
       "    <tr>\n",
       "      <th>2020-01-15 11:01:48.182134</th>\n",
       "      <td>2020-01-15 11:01:48.182512</td>\n",
       "      <td>N</td>\n",
       "      <td>AAPL</td>\n",
       "      <td>314.35</td>\n",
       "      <td>2.0</td>\n",
       "      <td>314.40</td>\n",
       "      <td>2.0</td>\n",
       "      <td>R</td>\n",
       "      <td>9088244</td>\n",
       "      <td>N</td>\n",
       "      <td>P</td>\n",
       "      <td>314.35</td>\n",
       "      <td>2.0</td>\n",
       "      <td>Z</td>\n",
       "      <td>314.39</td>\n",
       "      <td>3.0</td>\n",
       "      <td>A</td>\n",
       "      <td></td>\n",
       "      <td>2020-01-15</td>\n",
       "    </tr>\n",
       "  </tbody>\n",
       "</table>\n",
       "<p>19952 rows × 19 columns</p>\n",
       "</div>"
      ],
      "text/plain": [
       "                                         SIP_Timestamp Exchange Symbol  \\\n",
       "2020-01-15 09:30:00.953633  2020-01-15 09:30:00.954013        N   AAPL   \n",
       "2020-01-15 09:30:01.004096  2020-01-15 09:30:01.004476        N   AAPL   \n",
       "2020-01-15 09:30:01.076382  2020-01-15 09:30:01.076759        N   AAPL   \n",
       "2020-01-15 09:30:01.645062  2020-01-15 09:30:01.645440        N   AAPL   \n",
       "2020-01-15 09:30:01.677976  2020-01-15 09:30:01.678357        N   AAPL   \n",
       "...                                                ...      ...    ...   \n",
       "2020-01-15 11:01:47.855547  2020-01-15 11:01:47.855924        N   AAPL   \n",
       "2020-01-15 11:01:48.113491  2020-01-15 11:01:48.113869        N   AAPL   \n",
       "2020-01-15 11:01:48.181675  2020-01-15 11:01:48.182051        N   AAPL   \n",
       "2020-01-15 11:01:48.181817  2020-01-15 11:01:48.182193        N   AAPL   \n",
       "2020-01-15 11:01:48.182134  2020-01-15 11:01:48.182512        N   AAPL   \n",
       "\n",
       "                            Bid_Price  Bid_Size  Offer_Price  Offer_Size  \\\n",
       "2020-01-15 09:30:00.953633     311.94       1.0       326.18         1.0   \n",
       "2020-01-15 09:30:01.004096     310.85       1.0       326.18         1.0   \n",
       "2020-01-15 09:30:01.076382     310.85       1.0       311.96         1.0   \n",
       "2020-01-15 09:30:01.645062     310.85       1.0       311.95         4.0   \n",
       "2020-01-15 09:30:01.677976     310.85       1.0       311.95         3.0   \n",
       "...                               ...       ...          ...         ...   \n",
       "2020-01-15 11:01:47.855547     314.32       2.0       314.37         3.0   \n",
       "2020-01-15 11:01:48.113491     314.33       2.0       314.38         2.0   \n",
       "2020-01-15 11:01:48.181675     314.34       4.0       314.40         2.0   \n",
       "2020-01-15 11:01:48.181817     314.35       2.0       314.39         2.0   \n",
       "2020-01-15 11:01:48.182134     314.35       2.0       314.40         2.0   \n",
       "\n",
       "                           Quote_Condition  Sequence_Number Source_Of_Quote  \\\n",
       "2020-01-15 09:30:00.953633               R           356546               N   \n",
       "2020-01-15 09:30:01.004096               R           357650               N   \n",
       "2020-01-15 09:30:01.076382               R           358817               N   \n",
       "2020-01-15 09:30:01.645062               R           363970               N   \n",
       "2020-01-15 09:30:01.677976               R           364328               N   \n",
       "...                                    ...              ...             ...   \n",
       "2020-01-15 11:01:47.855547               R          9087382               N   \n",
       "2020-01-15 11:01:48.113491               R          9088026               N   \n",
       "2020-01-15 11:01:48.181675               R          9088226               N   \n",
       "2020-01-15 11:01:48.181817               R          9088236               N   \n",
       "2020-01-15 11:01:48.182134               R          9088244               N   \n",
       "\n",
       "                           Best_Bid_Exchange  Best_Bid_Price  Best_Bid_Size  \\\n",
       "2020-01-15 09:30:00.953633                 N          311.94            1.0   \n",
       "2020-01-15 09:30:01.004096                 Q          311.92            2.0   \n",
       "2020-01-15 09:30:01.076382                 Q          311.89            3.0   \n",
       "2020-01-15 09:30:01.645062                 Q          311.90            1.0   \n",
       "2020-01-15 09:30:01.677976                 P          311.86            2.0   \n",
       "...                                      ...             ...            ...   \n",
       "2020-01-15 11:01:47.855547                 Z          314.33            1.0   \n",
       "2020-01-15 11:01:48.113491                 Z          314.34            2.0   \n",
       "2020-01-15 11:01:48.181675                 Z          314.35            1.0   \n",
       "2020-01-15 11:01:48.181817                 N          314.35            2.0   \n",
       "2020-01-15 11:01:48.182134                 P          314.35            2.0   \n",
       "\n",
       "                           Best_Offer_Exchange  Best_Offer_Price  \\\n",
       "2020-01-15 09:30:00.953633                   V            311.96   \n",
       "2020-01-15 09:30:01.004096                   Q            311.99   \n",
       "2020-01-15 09:30:01.076382                   N            311.96   \n",
       "2020-01-15 09:30:01.645062                   N            311.95   \n",
       "2020-01-15 09:30:01.677976                   N            311.95   \n",
       "...                                        ...               ...   \n",
       "2020-01-15 11:01:47.855547                   Z            314.36   \n",
       "2020-01-15 11:01:48.113491                   Z            314.37   \n",
       "2020-01-15 11:01:48.181675                   P            314.38   \n",
       "2020-01-15 11:01:48.181817                   Z            314.39   \n",
       "2020-01-15 11:01:48.182134                   Z            314.39   \n",
       "\n",
       "                            Best_Offer_Size LULD_NBBO_Indicator  \\\n",
       "2020-01-15 09:30:00.953633              1.0                   A   \n",
       "2020-01-15 09:30:01.004096              1.0                   A   \n",
       "2020-01-15 09:30:01.076382              1.0                   A   \n",
       "2020-01-15 09:30:01.645062              4.0                   A   \n",
       "2020-01-15 09:30:01.677976              3.0                   A   \n",
       "...                                     ...                 ...   \n",
       "2020-01-15 11:01:47.855547              2.0                   A   \n",
       "2020-01-15 11:01:48.113491              1.0                   A   \n",
       "2020-01-15 11:01:48.181675              2.0                   A   \n",
       "2020-01-15 11:01:48.181817              3.0                   A   \n",
       "2020-01-15 11:01:48.182134              3.0                   A   \n",
       "\n",
       "                           Security_Status_Indicator        date  \n",
       "2020-01-15 09:30:00.953633                            2020-01-15  \n",
       "2020-01-15 09:30:01.004096                            2020-01-15  \n",
       "2020-01-15 09:30:01.076382                            2020-01-15  \n",
       "2020-01-15 09:30:01.645062                            2020-01-15  \n",
       "2020-01-15 09:30:01.677976                            2020-01-15  \n",
       "...                                              ...         ...  \n",
       "2020-01-15 11:01:47.855547                            2020-01-15  \n",
       "2020-01-15 11:01:48.113491                            2020-01-15  \n",
       "2020-01-15 11:01:48.181675                            2020-01-15  \n",
       "2020-01-15 11:01:48.181817                            2020-01-15  \n",
       "2020-01-15 11:01:48.182134                            2020-01-15  \n",
       "\n",
       "[19952 rows x 19 columns]"
      ]
     },
     "execution_count": 3,
     "metadata": {},
     "output_type": "execute_result"
    }
   ],
   "source": [
    "quotes"
   ]
  },
  {
   "cell_type": "code",
   "execution_count": 4,
   "metadata": {},
   "outputs": [
    {
     "data": {
      "text/plain": [
       "[<matplotlib.lines.Line2D at 0x7fc6ef0aef10>]"
      ]
     },
     "execution_count": 4,
     "metadata": {},
     "output_type": "execute_result"
    },
    {
     "data": {
      "image/png": "[encoded data removed]",
      "text/plain": [
       "<Figure size 640x480 with 1 Axes>"
      ]
     },
     "metadata": {},
     "output_type": "display_data"
    }
   ],
   "source": [
    "plt.plot(quotes['Best_Bid_Price'],label='Bid')\n",
    "plt.plot(quotes['Best_Offer_Price'],label='Offer' )"
   ]
  },
  {
   "cell_type": "code",
   "execution_count": 5,
   "metadata": {},
   "outputs": [
    {
     "data": {
      "text/plain": [
       "[<matplotlib.lines.Line2D at 0x7fc6ef54cb80>]"
      ]
     },
     "execution_count": 5,
     "metadata": {},
     "output_type": "execute_result"
    },
    {
     "data": {
      "image/png": "[encoded data removed]",
      "text/plain": [
       "<Figure size 640x480 with 1 Axes>"
      ]
     },
     "metadata": {},
     "output_type": "display_data"
    }
   ],
   "source": [
    "plt.plot(quotes['Bid_Size'],label='Bid Size')\n"
   ]
  },
  {
   "cell_type": "code",
   "execution_count": null,
   "metadata": {},
   "outputs": [],
   "source": []
  }
 ],
 "metadata": {
  "kernelspec": {
   "display_name": "Python 3 (ipykernel)",
   "language": "python",
   "name": "python3"
  },
  "language_info": {
   "codemirror_mode": {
    "name": "ipython",
    "version": 3
   },
   "file_extension": ".py",
   "mimetype": "text/x-python",
   "name": "python",
   "nbconvert_exporter": "python",
   "pygments_lexer": "ipython3",
   "version": "3.9.13"
  }
 },
 "nbformat": 4,
 "nbformat_minor": 4
}
