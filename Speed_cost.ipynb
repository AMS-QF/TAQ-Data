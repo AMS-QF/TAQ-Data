{
 "cells": [
  {
   "cell_type": "code",
   "execution_count": 20,
   "metadata": {},
   "outputs": [],
   "source": [
    "from pipelines import generators\n",
    "import unittest\n",
    "import pandas as pd\n",
    "import math"
   ]
  },
  {
   "cell_type": "code",
   "execution_count": 34,
   "metadata": {},
   "outputs": [],
   "source": [
    "class SpeedCostTest(unittest.TestCase):\n",
    "    def getTestDataFrame(self):\n",
    "        testDF = pd.DataFrame(\n",
    "            {\n",
    "                'RID':[244031,0,1,2,3,4,244032,244033,5,244034,244035,6,7],\n",
    "                'Symbol':['AAPL','AAPL','AAPL','AAPL','AAPL','AAPL','AAPL','AAPL','AAPL','AAPL','AAPL','AAPL','AAPL'],\n",
    "                'Trade_Price':[200,300,350,270,500,430,600,550,700,650,620,750,540],\n",
    "                'Trade_Volume':[0,0,0,0,0,0,0,0,0,0,0,0,0],\n",
    "                'Participant_Timestamp_f':[0.4,0.1,0.4,0.3,0.25,0.2,0.5,15700000000,0.6,15700000000,15700000000,15700000000,15700000000],\n",
    "                'Is_Quote':[True,False,False,False,True,False,True,True,False,True,True,True,True]\n",
    "            }\n",
    "        )\n",
    "        return testDF\n",
    "    \n",
    "    def test_GetPreviousTimeStamp(self):\n",
    "        testDF = self.getTestDataFrame()\n",
    "        actual = generators.getPreviousTimeStamp(testDF,0.6)\n",
    "        expected = 0.4\n",
    "        self.assertEqual(actual, expected)\n",
    "        actual2 = generators.getPreviousTimeStamp(testDF,0.3)\n",
    "        expected2 = 0.2\n",
    "        self.assertEqual(actual2, expected2)\n",
    "    \n",
    "    def test_getLookBackIntervalForCalendar_t(self):\n",
    "        testDF = self.getTestDataFrame()\n",
    "        actual = generators.getLookBackIntervalForCalendar_t(testDF,0.6,0.1,0.3)['Participant_Timestamp_f'].tolist()\n",
    "        self.assertEqual(True, 0.4 in actual)\n",
    "        self.assertEqual(True, 0.6 not in actual)\n",
    "        self.assertEqual(True, 0.5 in actual)\n",
    "        self.assertEqual(True, 0.3 not in actual)\n",
    "\n",
    "    def test_getAutoCovariance(self):\n",
    "        testDF = self.getTestDataFrame()\n",
    "        actual = generators.getAutoCovariance(testDF,0.1,0.3,'calendar')\n",
    "        expected = [float(\"nan\"), float(\"nan\"), -0.16753204220586432, float(\"nan\"), float(\"nan\"), float(\"nan\"), \n",
    "                    float(\"nan\"), float(\"nan\"), -0.12076697326167687, float(\"nan\"), float(\"nan\"), float(\"nan\"), float(\"nan\")]\n",
    "        #0.4 case should be NaN or -0.16753204220586432\n",
    "        # use log or ln (right now ln)\n",
    "        for i in range(len(actual)):\n",
    "            if(math.isnan(actual[i]) and math.isnan(expected[i])):\n",
    "                continue\n",
    "            self.assertEqual(actual[i], expected[i])\n",
    "\n"
   ]
  },
  {
   "cell_type": "code",
   "execution_count": 35,
   "metadata": {},
   "outputs": [],
   "source": [
    "SpeedCostTest().test_GetPreviousTimeStamp()"
   ]
  },
  {
   "cell_type": "code",
   "execution_count": 36,
   "metadata": {},
   "outputs": [],
   "source": [
    "SpeedCostTest().test_getLookBackIntervalForCalendar_t()"
   ]
  },
  {
   "cell_type": "code",
   "execution_count": 37,
   "metadata": {},
   "outputs": [],
   "source": [
    "SpeedCostTest().test_getAutoCovariance()"
   ]
  },
  {
   "cell_type": "code",
   "execution_count": null,
   "metadata": {},
   "outputs": [],
   "source": []
  },
  {
   "cell_type": "code",
   "execution_count": null,
   "metadata": {},
   "outputs": [],
   "source": []
  }
 ],
 "metadata": {
  "kernelspec": {
   "display_name": "Python 3",
   "language": "python",
   "name": "python3"
  },
  "language_info": {
   "codemirror_mode": {
    "name": "ipython",
    "version": 3
   },
   "file_extension": ".py",
   "mimetype": "text/x-python",
   "name": "python",
   "nbconvert_exporter": "python",
   "pygments_lexer": "ipython3",
   "version": "3.8.4"
  },
  "orig_nbformat": 4
 },
 "nbformat": 4,
 "nbformat_minor": 2
}
