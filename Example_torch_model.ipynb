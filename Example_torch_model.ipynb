{
 "cells": [
  {
   "cell_type": "code",
   "execution_count": 1,
   "metadata": {},
   "outputs": [],
   "source": [
    "from __future__ import annotations\n",
    "import os\n",
    "import pandas as pd\n",
    "from config_tickers import SINGLE_TICKER\n",
    "from config import DATA_SAVE_DIR\n",
    "from config import START_DATE\n",
    "from config import END_DATE\n",
    "from config import TRADE_COLUMNS\n",
    "from config import QUOTE_COLUMNS"
   ]
  },
  {
   "cell_type": "markdown",
   "metadata": {},
   "source": [
    "### Helper Functions"
   ]
  },
  {
   "cell_type": "code",
   "execution_count": 2,
   "metadata": {},
   "outputs": [],
   "source": [
    "def check_and_make_directories(directories: list[str]):\n",
    "    paths = []\n",
    "    for dir in directories:\n",
    "        full_path = os.path.abspath(dir)\n",
    "\n",
    "        if not os.path.exists(\"./\" + dir):\n",
    "            # print (dir)\n",
    "            os.makedirs(\"./\" + dir)\n",
    "        paths.append(full_path)\n",
    "    \n",
    "    return paths"
   ]
  },
  {
   "cell_type": "markdown",
   "metadata": {},
   "source": [
    "### Example Unified Data Processor"
   ]
  },
  {
   "cell_type": "code",
   "execution_count": 3,
   "metadata": {},
   "outputs": [
    {
     "name": "stderr",
     "output_type": "stream",
     "text": [
      "/home/jbohne/sbu/taq_db/TAQ-Query-Scripts/torch_models/metadata/data_processors/processor_taq.py:126: UserWarning: Boolean Series key will be reindexed to match DataFrame index.\n",
      "  invalid_trades_idx.extend(new_trades[new_trades[\"Trade_Price\"] <= 0].index)\n"
     ]
    },
    {
     "ename": "IndexingError",
     "evalue": "Unalignable boolean Series provided as indexer (index of the boolean Series and of the indexed object do not match).",
     "output_type": "error",
     "traceback": [
      "\u001b[0;31m---------------------------------------------------------------------------\u001b[0m",
      "\u001b[0;31mIndexingError\u001b[0m                             Traceback (most recent call last)",
      "Cell \u001b[0;32mIn[3], line 24\u001b[0m\n\u001b[1;32m     21\u001b[0m trades_df \u001b[38;5;241m=\u001b[39m pd\u001b[38;5;241m.\u001b[39mread_csv(\u001b[38;5;124m\"\u001b[39m\u001b[38;5;124msample_data/trades_AAPL_train.csv.gz\u001b[39m\u001b[38;5;124m\"\u001b[39m, index_col\u001b[38;5;241m=\u001b[39m\u001b[38;5;241m0\u001b[39m,compression\u001b[38;5;241m=\u001b[39m\u001b[38;5;124m'\u001b[39m\u001b[38;5;124mgzip\u001b[39m\u001b[38;5;124m'\u001b[39m,nrows\u001b[38;5;241m=\u001b[39m\u001b[38;5;241m1000\u001b[39m)\n\u001b[1;32m     22\u001b[0m quotes_df \u001b[38;5;241m=\u001b[39m pd\u001b[38;5;241m.\u001b[39mread_csv(\u001b[38;5;124m\"\u001b[39m\u001b[38;5;124msample_data/quotes_AAPL_train.csv.gz\u001b[39m\u001b[38;5;124m\"\u001b[39m, index_col\u001b[38;5;241m=\u001b[39m\u001b[38;5;241m0\u001b[39m,compression\u001b[38;5;241m=\u001b[39m\u001b[38;5;124m'\u001b[39m\u001b[38;5;124mgzip\u001b[39m\u001b[38;5;124m'\u001b[39m,nrows\u001b[38;5;241m=\u001b[39m\u001b[38;5;241m1000\u001b[39m)\n\u001b[0;32m---> 24\u001b[0m df \u001b[38;5;241m=\u001b[39m \u001b[43mprocessor\u001b[49m\u001b[38;5;241;43m.\u001b[39;49m\u001b[43mpreprocess\u001b[49m\u001b[43m(\u001b[49m\u001b[43mtrades_df\u001b[49m\u001b[43m,\u001b[49m\u001b[43m \u001b[49m\u001b[43mquotes_df\u001b[49m\u001b[43m)\u001b[49m\n\u001b[1;32m     26\u001b[0m params \u001b[38;5;241m=\u001b[39m {\n\u001b[1;32m     27\u001b[0m     \u001b[38;5;124m\"\u001b[39m\u001b[38;5;124mmode\u001b[39m\u001b[38;5;124m\"\u001b[39m: \u001b[38;5;124m\"\u001b[39m\u001b[38;5;124mcalendar\u001b[39m\u001b[38;5;124m\"\u001b[39m,\n\u001b[1;32m     28\u001b[0m     \u001b[38;5;124m\"\u001b[39m\u001b[38;5;124mprediction_length\u001b[39m\u001b[38;5;124m\"\u001b[39m: \u001b[38;5;241m5\u001b[39m, \u001b[38;5;66;03m#measured in seconds\u001b[39;00m\n\u001b[1;32m     29\u001b[0m     \u001b[38;5;124m\"\u001b[39m\u001b[38;5;124mdeltas\u001b[39m\u001b[38;5;124m\"\u001b[39m: [(\u001b[38;5;241m0\u001b[39m, \u001b[38;5;241m1.\u001b[39m)] \u001b[38;5;66;03m#measured in seconds\u001b[39;00m\n\u001b[1;32m     30\u001b[0m }\n\u001b[1;32m     32\u001b[0m features_df \u001b[38;5;241m=\u001b[39m processor\u001b[38;5;241m.\u001b[39mgen_taq_features(df, \u001b[38;5;241m*\u001b[39m\u001b[38;5;241m*\u001b[39mparams)\n",
      "File \u001b[0;32m~/sbu/taq_db/TAQ-Query-Scripts/torch_models/metadata/processor.py:64\u001b[0m, in \u001b[0;36mDataProcessor.preprocess\u001b[0;34m(self, trades, quotes)\u001b[0m\n\u001b[1;32m     56\u001b[0m \u001b[38;5;28;01mdef\u001b[39;00m \u001b[38;5;21mpreprocess\u001b[39m(\n\u001b[1;32m     57\u001b[0m     \u001b[38;5;28mself\u001b[39m, \n\u001b[1;32m     58\u001b[0m     trades: pd\u001b[38;5;241m.\u001b[39mDataFrame, \n\u001b[1;32m     59\u001b[0m     quotes: pd\u001b[38;5;241m.\u001b[39mDataFrame\n\u001b[1;32m     60\u001b[0m ) \u001b[38;5;241m-\u001b[39m\u001b[38;5;241m>\u001b[39m pd\u001b[38;5;241m.\u001b[39mDataFrame:\n\u001b[1;32m     61\u001b[0m \u001b[38;5;250m    \u001b[39m\u001b[38;5;124;03m\"\"\"\u001b[39;00m\n\u001b[1;32m     62\u001b[0m \u001b[38;5;124;03m    Preprocess the data\u001b[39;00m\n\u001b[1;32m     63\u001b[0m \u001b[38;5;124;03m    \"\"\"\u001b[39;00m\n\u001b[0;32m---> 64\u001b[0m     \u001b[38;5;28;01mreturn\u001b[39;00m \u001b[38;5;28;43mself\u001b[39;49m\u001b[38;5;241;43m.\u001b[39;49m\u001b[43mprocessor\u001b[49m\u001b[38;5;241;43m.\u001b[39;49m\u001b[43mpreprocess\u001b[49m\u001b[43m(\u001b[49m\u001b[43mtrades\u001b[49m\u001b[43m,\u001b[49m\u001b[43m \u001b[49m\u001b[43mquotes\u001b[49m\u001b[43m)\u001b[49m\n",
      "File \u001b[0;32m~/sbu/taq_db/TAQ-Query-Scripts/torch_models/metadata/data_processors/processor_taq.py:69\u001b[0m, in \u001b[0;36mTAQIntradayProcessor.preprocess\u001b[0;34m(self, trades, quotes)\u001b[0m\n\u001b[1;32m     61\u001b[0m \u001b[38;5;28;01mdef\u001b[39;00m \u001b[38;5;21mpreprocess\u001b[39m(\n\u001b[1;32m     62\u001b[0m     \u001b[38;5;28mself\u001b[39m,\n\u001b[1;32m     63\u001b[0m     trades: pd\u001b[38;5;241m.\u001b[39mDataFrame,\n\u001b[1;32m     64\u001b[0m     quotes: pd\u001b[38;5;241m.\u001b[39mDataFrame\n\u001b[1;32m     65\u001b[0m ) \u001b[38;5;241m-\u001b[39m\u001b[38;5;241m>\u001b[39m pd\u001b[38;5;241m.\u001b[39mDataFrame:\n\u001b[1;32m     66\u001b[0m \u001b[38;5;250m    \u001b[39m\u001b[38;5;124;03m\"\"\"\u001b[39;00m\n\u001b[1;32m     67\u001b[0m \u001b[38;5;124;03m    Preprocess trades and quotes and reconstruct the event\u001b[39;00m\n\u001b[1;32m     68\u001b[0m \u001b[38;5;124;03m    \"\"\"\u001b[39;00m\n\u001b[0;32m---> 69\u001b[0m     clean_t \u001b[38;5;241m=\u001b[39m \u001b[38;5;28;43mself\u001b[39;49m\u001b[38;5;241;43m.\u001b[39;49m\u001b[43m_clean_trades\u001b[49m\u001b[43m(\u001b[49m\u001b[43mtrades\u001b[49m\u001b[43m)\u001b[49m\n\u001b[1;32m     70\u001b[0m     clean_q \u001b[38;5;241m=\u001b[39m \u001b[38;5;28mself\u001b[39m\u001b[38;5;241m.\u001b[39m_clean_quotes(quotes)\n\u001b[1;32m     71\u001b[0m     \u001b[38;5;28;01mreturn\u001b[39;00m \u001b[38;5;28mself\u001b[39m\u001b[38;5;241m.\u001b[39m_reconstruct_event(clean_t, clean_q)\n",
      "File \u001b[0;32m~/sbu/taq_db/TAQ-Query-Scripts/torch_models/metadata/data_processors/processor_taq.py:126\u001b[0m, in \u001b[0;36mTAQIntradayProcessor._clean_trades\u001b[0;34m(self, trades)\u001b[0m\n\u001b[1;32m    124\u001b[0m \u001b[38;5;66;03m# invalid trades\u001b[39;00m\n\u001b[1;32m    125\u001b[0m \u001b[38;5;28;01mif\u001b[39;00m \u001b[38;5;124m\"\u001b[39m\u001b[38;5;124mTrade_Price\u001b[39m\u001b[38;5;124m\"\u001b[39m \u001b[38;5;129;01min\u001b[39;00m new_trades:\n\u001b[0;32m--> 126\u001b[0m     invalid_trades_idx\u001b[38;5;241m.\u001b[39mextend(\u001b[43mnew_trades\u001b[49m\u001b[43m[\u001b[49m\u001b[43mnew_trades\u001b[49m\u001b[43m[\u001b[49m\u001b[38;5;124;43m\"\u001b[39;49m\u001b[38;5;124;43mTrade_Price\u001b[39;49m\u001b[38;5;124;43m\"\u001b[39;49m\u001b[43m]\u001b[49m\u001b[43m \u001b[49m\u001b[38;5;241;43m<\u001b[39;49m\u001b[38;5;241;43m=\u001b[39;49m\u001b[43m \u001b[49m\u001b[38;5;241;43m0\u001b[39;49m\u001b[43m]\u001b[49m\u001b[38;5;241m.\u001b[39mindex)\n\u001b[1;32m    127\u001b[0m \u001b[38;5;28;01mif\u001b[39;00m \u001b[38;5;124m\"\u001b[39m\u001b[38;5;124mTrade_Volume\u001b[39m\u001b[38;5;124m\"\u001b[39m \u001b[38;5;129;01min\u001b[39;00m new_trades\u001b[38;5;241m.\u001b[39mcolumns:\n\u001b[1;32m    128\u001b[0m     invalid_trades_idx\u001b[38;5;241m.\u001b[39mextend(new_trades[new_trades[\u001b[38;5;124m\"\u001b[39m\u001b[38;5;124mTrade_Volume\u001b[39m\u001b[38;5;124m\"\u001b[39m] \u001b[38;5;241m<\u001b[39m\u001b[38;5;241m=\u001b[39m \u001b[38;5;241m0\u001b[39m]\u001b[38;5;241m.\u001b[39mindex)\n",
      "File \u001b[0;32m~/anaconda3/envs/taq/lib/python3.11/site-packages/pandas/core/frame.py:4081\u001b[0m, in \u001b[0;36mDataFrame.__getitem__\u001b[0;34m(self, key)\u001b[0m\n\u001b[1;32m   4079\u001b[0m \u001b[38;5;66;03m# Do we have a (boolean) 1d indexer?\u001b[39;00m\n\u001b[1;32m   4080\u001b[0m \u001b[38;5;28;01mif\u001b[39;00m com\u001b[38;5;241m.\u001b[39mis_bool_indexer(key):\n\u001b[0;32m-> 4081\u001b[0m     \u001b[38;5;28;01mreturn\u001b[39;00m \u001b[38;5;28;43mself\u001b[39;49m\u001b[38;5;241;43m.\u001b[39;49m\u001b[43m_getitem_bool_array\u001b[49m\u001b[43m(\u001b[49m\u001b[43mkey\u001b[49m\u001b[43m)\u001b[49m\n\u001b[1;32m   4083\u001b[0m \u001b[38;5;66;03m# We are left with two options: a single key, and a collection of keys,\u001b[39;00m\n\u001b[1;32m   4084\u001b[0m \u001b[38;5;66;03m# We interpret tuples as collections only for non-MultiIndex\u001b[39;00m\n\u001b[1;32m   4085\u001b[0m is_single_key \u001b[38;5;241m=\u001b[39m \u001b[38;5;28misinstance\u001b[39m(key, \u001b[38;5;28mtuple\u001b[39m) \u001b[38;5;129;01mor\u001b[39;00m \u001b[38;5;129;01mnot\u001b[39;00m is_list_like(key)\n",
      "File \u001b[0;32m~/anaconda3/envs/taq/lib/python3.11/site-packages/pandas/core/frame.py:4137\u001b[0m, in \u001b[0;36mDataFrame._getitem_bool_array\u001b[0;34m(self, key)\u001b[0m\n\u001b[1;32m   4131\u001b[0m     \u001b[38;5;28;01mraise\u001b[39;00m \u001b[38;5;167;01mValueError\u001b[39;00m(\n\u001b[1;32m   4132\u001b[0m         \u001b[38;5;124mf\u001b[39m\u001b[38;5;124m\"\u001b[39m\u001b[38;5;124mItem wrong length \u001b[39m\u001b[38;5;132;01m{\u001b[39;00m\u001b[38;5;28mlen\u001b[39m(key)\u001b[38;5;132;01m}\u001b[39;00m\u001b[38;5;124m instead of \u001b[39m\u001b[38;5;132;01m{\u001b[39;00m\u001b[38;5;28mlen\u001b[39m(\u001b[38;5;28mself\u001b[39m\u001b[38;5;241m.\u001b[39mindex)\u001b[38;5;132;01m}\u001b[39;00m\u001b[38;5;124m.\u001b[39m\u001b[38;5;124m\"\u001b[39m\n\u001b[1;32m   4133\u001b[0m     )\n\u001b[1;32m   4135\u001b[0m \u001b[38;5;66;03m# check_bool_indexer will throw exception if Series key cannot\u001b[39;00m\n\u001b[1;32m   4136\u001b[0m \u001b[38;5;66;03m# be reindexed to match DataFrame rows\u001b[39;00m\n\u001b[0;32m-> 4137\u001b[0m key \u001b[38;5;241m=\u001b[39m \u001b[43mcheck_bool_indexer\u001b[49m\u001b[43m(\u001b[49m\u001b[38;5;28;43mself\u001b[39;49m\u001b[38;5;241;43m.\u001b[39;49m\u001b[43mindex\u001b[49m\u001b[43m,\u001b[49m\u001b[43m \u001b[49m\u001b[43mkey\u001b[49m\u001b[43m)\u001b[49m\n\u001b[1;32m   4139\u001b[0m \u001b[38;5;28;01mif\u001b[39;00m key\u001b[38;5;241m.\u001b[39mall():\n\u001b[1;32m   4140\u001b[0m     \u001b[38;5;28;01mreturn\u001b[39;00m \u001b[38;5;28mself\u001b[39m\u001b[38;5;241m.\u001b[39mcopy(deep\u001b[38;5;241m=\u001b[39m\u001b[38;5;28;01mNone\u001b[39;00m)\n",
      "File \u001b[0;32m~/anaconda3/envs/taq/lib/python3.11/site-packages/pandas/core/indexing.py:2655\u001b[0m, in \u001b[0;36mcheck_bool_indexer\u001b[0;34m(index, key)\u001b[0m\n\u001b[1;32m   2653\u001b[0m indexer \u001b[38;5;241m=\u001b[39m result\u001b[38;5;241m.\u001b[39mindex\u001b[38;5;241m.\u001b[39mget_indexer_for(index)\n\u001b[1;32m   2654\u001b[0m \u001b[38;5;28;01mif\u001b[39;00m \u001b[38;5;241m-\u001b[39m\u001b[38;5;241m1\u001b[39m \u001b[38;5;129;01min\u001b[39;00m indexer:\n\u001b[0;32m-> 2655\u001b[0m     \u001b[38;5;28;01mraise\u001b[39;00m IndexingError(\n\u001b[1;32m   2656\u001b[0m         \u001b[38;5;124m\"\u001b[39m\u001b[38;5;124mUnalignable boolean Series provided as \u001b[39m\u001b[38;5;124m\"\u001b[39m\n\u001b[1;32m   2657\u001b[0m         \u001b[38;5;124m\"\u001b[39m\u001b[38;5;124mindexer (index of the boolean Series and of \u001b[39m\u001b[38;5;124m\"\u001b[39m\n\u001b[1;32m   2658\u001b[0m         \u001b[38;5;124m\"\u001b[39m\u001b[38;5;124mthe indexed object do not match).\u001b[39m\u001b[38;5;124m\"\u001b[39m\n\u001b[1;32m   2659\u001b[0m     )\n\u001b[1;32m   2661\u001b[0m result \u001b[38;5;241m=\u001b[39m result\u001b[38;5;241m.\u001b[39mtake(indexer)\n\u001b[1;32m   2663\u001b[0m \u001b[38;5;66;03m# fall through for boolean\u001b[39;00m\n",
      "\u001b[0;31mIndexingError\u001b[0m: Unalignable boolean Series provided as indexer (index of the boolean Series and of the indexed object do not match)."
     ]
    }
   ],
   "source": [
    "from torch_models.metadata.processor import DataProcessor\n",
    "\n",
    "paths = check_and_make_directories(\n",
    "    [DATA_SAVE_DIR])\n",
    "\n",
    "kwargs = {\n",
    "    \"data_path\": paths[0]\n",
    "}\n",
    "\n",
    "processor = DataProcessor(data_source='taq_clickhouse', data_path=paths[0])\n",
    "\n",
    "# processor.download_data(\n",
    "#     ticker=SINGLE_TICKER,\n",
    "#     start_date=START_DATE,\n",
    "#     end_date=END_DATE,\n",
    "#     trade_cols=TRADE_COLUMNS,\n",
    "#     quote_cols=QUOTE_COLUMNS\n",
    "# )\n",
    "\n",
    "# load from existing files\n",
    "trades_df = pd.read_csv(\"sample_data/trades_AAPL_train.csv.gz\", index_col=0,compression='gzip',nrows=1000)\n",
    "quotes_df = pd.read_csv(\"sample_data/quotes_AAPL_train.csv.gz\", index_col=0,compression='gzip',nrows=1000)\n",
    "\n",
    "df = processor.preprocess(trades_df, quotes_df)\n",
    "\n",
    "params = {\n",
    "    \"mode\": \"calendar\",\n",
    "    \"prediction_length\": 5, #measured in seconds\n",
    "    \"deltas\": [(0, 1.)] #measured in seconds\n",
    "}\n",
    "\n",
    "features_df = processor.gen_taq_features(df, **params)"
   ]
  },
  {
   "cell_type": "code",
   "execution_count": 18,
   "metadata": {},
   "outputs": [
    {
     "data": {
      "text/html": [
       "<div>\n",
       "<style scoped>\n",
       "    .dataframe tbody tr th:only-of-type {\n",
       "        vertical-align: middle;\n",
       "    }\n",
       "\n",
       "    .dataframe tbody tr th {\n",
       "        vertical-align: top;\n",
       "    }\n",
       "\n",
       "    .dataframe thead th {\n",
       "        text-align: right;\n",
       "    }\n",
       "</style>\n",
       "<table border=\"1\" class=\"dataframe\">\n",
       "  <thead>\n",
       "    <tr style=\"text-align: right;\">\n",
       "      <th></th>\n",
       "      <th>Time</th>\n",
       "      <th>Exchange</th>\n",
       "      <th>Symbol</th>\n",
       "      <th>Bid_Price</th>\n",
       "      <th>Bid_Size</th>\n",
       "      <th>Offer_Price</th>\n",
       "      <th>Offer_Size</th>\n",
       "      <th>Quote_Condition</th>\n",
       "      <th>Sequence_Number</th>\n",
       "      <th>National_BBO_Indicator</th>\n",
       "      <th>...</th>\n",
       "      <th>Short_Sale_Restriction_Indicator</th>\n",
       "      <th>LULD_BBO_Indicator</th>\n",
       "      <th>SIP_Generated_Message_Identifier</th>\n",
       "      <th>NBBO_LULD_Indicator</th>\n",
       "      <th>Participant_Timestamp</th>\n",
       "      <th>FINRA_ADF_Timestamp</th>\n",
       "      <th>FINRA_ADF_Market_Participant_Quote_Indicator</th>\n",
       "      <th>Security_Status_Indicator</th>\n",
       "      <th>Date</th>\n",
       "      <th>YearMonth</th>\n",
       "    </tr>\n",
       "  </thead>\n",
       "  <tbody>\n",
       "    <tr>\n",
       "      <th>0</th>\n",
       "      <td>2022-01-03 03:59:00.091564</td>\n",
       "      <td>Z</td>\n",
       "      <td>AAPL</td>\n",
       "      <td>0.00</td>\n",
       "      <td>0.0</td>\n",
       "      <td>0.00</td>\n",
       "      <td>0.0</td>\n",
       "      <td>L</td>\n",
       "      <td>1252</td>\n",
       "      <td>1</td>\n",
       "      <td>...</td>\n",
       "      <td>0</td>\n",
       "      <td>NaN</td>\n",
       "      <td>NaN</td>\n",
       "      <td>NaN</td>\n",
       "      <td>35900088741000</td>\n",
       "      <td>NaN</td>\n",
       "      <td>NaN</td>\n",
       "      <td></td>\n",
       "      <td>2022-01-03</td>\n",
       "      <td>202201</td>\n",
       "    </tr>\n",
       "    <tr>\n",
       "      <th>1</th>\n",
       "      <td>2022-01-03 03:59:00.198749</td>\n",
       "      <td>K</td>\n",
       "      <td>AAPL</td>\n",
       "      <td>0.00</td>\n",
       "      <td>0.0</td>\n",
       "      <td>0.00</td>\n",
       "      <td>0.0</td>\n",
       "      <td>L</td>\n",
       "      <td>2235</td>\n",
       "      <td>1</td>\n",
       "      <td>...</td>\n",
       "      <td>0</td>\n",
       "      <td>NaN</td>\n",
       "      <td>NaN</td>\n",
       "      <td>NaN</td>\n",
       "      <td>35900197520000</td>\n",
       "      <td>NaN</td>\n",
       "      <td>NaN</td>\n",
       "      <td></td>\n",
       "      <td>2022-01-03</td>\n",
       "      <td>202201</td>\n",
       "    </tr>\n",
       "    <tr>\n",
       "      <th>2</th>\n",
       "      <td>2022-01-03 04:00:00.028174</td>\n",
       "      <td>Q</td>\n",
       "      <td>AAPL</td>\n",
       "      <td>177.92</td>\n",
       "      <td>4.0</td>\n",
       "      <td>0.00</td>\n",
       "      <td>0.0</td>\n",
       "      <td>R</td>\n",
       "      <td>4138</td>\n",
       "      <td>2</td>\n",
       "      <td>...</td>\n",
       "      <td>0</td>\n",
       "      <td>NaN</td>\n",
       "      <td>NaN</td>\n",
       "      <td>NaN</td>\n",
       "      <td>40000028160898</td>\n",
       "      <td>NaN</td>\n",
       "      <td>NaN</td>\n",
       "      <td></td>\n",
       "      <td>2022-01-03</td>\n",
       "      <td>202201</td>\n",
       "    </tr>\n",
       "    <tr>\n",
       "      <th>3</th>\n",
       "      <td>2022-01-03 04:00:00.028307</td>\n",
       "      <td>Q</td>\n",
       "      <td>AAPL</td>\n",
       "      <td>177.92</td>\n",
       "      <td>4.0</td>\n",
       "      <td>178.80</td>\n",
       "      <td>4.0</td>\n",
       "      <td>R</td>\n",
       "      <td>4140</td>\n",
       "      <td>4</td>\n",
       "      <td>...</td>\n",
       "      <td>0</td>\n",
       "      <td>NaN</td>\n",
       "      <td>NaN</td>\n",
       "      <td>NaN</td>\n",
       "      <td>40000028294451</td>\n",
       "      <td>NaN</td>\n",
       "      <td>NaN</td>\n",
       "      <td></td>\n",
       "      <td>2022-01-03</td>\n",
       "      <td>202201</td>\n",
       "    </tr>\n",
       "    <tr>\n",
       "      <th>4</th>\n",
       "      <td>2022-01-03 04:00:00.087199</td>\n",
       "      <td>P</td>\n",
       "      <td>AAPL</td>\n",
       "      <td>130.00</td>\n",
       "      <td>1.0</td>\n",
       "      <td>0.00</td>\n",
       "      <td>0.0</td>\n",
       "      <td>R</td>\n",
       "      <td>5834</td>\n",
       "      <td>0</td>\n",
       "      <td>...</td>\n",
       "      <td>0</td>\n",
       "      <td>NaN</td>\n",
       "      <td>NaN</td>\n",
       "      <td>NaN</td>\n",
       "      <td>40000086819840</td>\n",
       "      <td>NaN</td>\n",
       "      <td>NaN</td>\n",
       "      <td></td>\n",
       "      <td>2022-01-03</td>\n",
       "      <td>202201</td>\n",
       "    </tr>\n",
       "    <tr>\n",
       "      <th>...</th>\n",
       "      <td>...</td>\n",
       "      <td>...</td>\n",
       "      <td>...</td>\n",
       "      <td>...</td>\n",
       "      <td>...</td>\n",
       "      <td>...</td>\n",
       "      <td>...</td>\n",
       "      <td>...</td>\n",
       "      <td>...</td>\n",
       "      <td>...</td>\n",
       "      <td>...</td>\n",
       "      <td>...</td>\n",
       "      <td>...</td>\n",
       "      <td>...</td>\n",
       "      <td>...</td>\n",
       "      <td>...</td>\n",
       "      <td>...</td>\n",
       "      <td>...</td>\n",
       "      <td>...</td>\n",
       "      <td>...</td>\n",
       "      <td>...</td>\n",
       "    </tr>\n",
       "    <tr>\n",
       "      <th>995</th>\n",
       "      <td>2022-01-03 04:19:57.938762</td>\n",
       "      <td>P</td>\n",
       "      <td>AAPL</td>\n",
       "      <td>177.81</td>\n",
       "      <td>1.0</td>\n",
       "      <td>178.23</td>\n",
       "      <td>1.0</td>\n",
       "      <td>R</td>\n",
       "      <td>42570</td>\n",
       "      <td>0</td>\n",
       "      <td>...</td>\n",
       "      <td>0</td>\n",
       "      <td>NaN</td>\n",
       "      <td>NaN</td>\n",
       "      <td>NaN</td>\n",
       "      <td>41957938398464</td>\n",
       "      <td>NaN</td>\n",
       "      <td>NaN</td>\n",
       "      <td></td>\n",
       "      <td>2022-01-03</td>\n",
       "      <td>202201</td>\n",
       "    </tr>\n",
       "    <tr>\n",
       "      <th>996</th>\n",
       "      <td>2022-01-03 04:19:58.941067</td>\n",
       "      <td>P</td>\n",
       "      <td>AAPL</td>\n",
       "      <td>177.81</td>\n",
       "      <td>1.0</td>\n",
       "      <td>177.99</td>\n",
       "      <td>3.0</td>\n",
       "      <td>R</td>\n",
       "      <td>42601</td>\n",
       "      <td>2</td>\n",
       "      <td>...</td>\n",
       "      <td>0</td>\n",
       "      <td>NaN</td>\n",
       "      <td>NaN</td>\n",
       "      <td>NaN</td>\n",
       "      <td>41958940704768</td>\n",
       "      <td>NaN</td>\n",
       "      <td>NaN</td>\n",
       "      <td></td>\n",
       "      <td>2022-01-03</td>\n",
       "      <td>202201</td>\n",
       "    </tr>\n",
       "    <tr>\n",
       "      <th>997</th>\n",
       "      <td>2022-01-03 04:19:59.274448</td>\n",
       "      <td>P</td>\n",
       "      <td>AAPL</td>\n",
       "      <td>177.81</td>\n",
       "      <td>1.0</td>\n",
       "      <td>177.98</td>\n",
       "      <td>1.0</td>\n",
       "      <td>R</td>\n",
       "      <td>42607</td>\n",
       "      <td>2</td>\n",
       "      <td>...</td>\n",
       "      <td>0</td>\n",
       "      <td>NaN</td>\n",
       "      <td>NaN</td>\n",
       "      <td>NaN</td>\n",
       "      <td>41959274084864</td>\n",
       "      <td>NaN</td>\n",
       "      <td>NaN</td>\n",
       "      <td></td>\n",
       "      <td>2022-01-03</td>\n",
       "      <td>202201</td>\n",
       "    </tr>\n",
       "    <tr>\n",
       "      <th>998</th>\n",
       "      <td>2022-01-03 04:20:35.310274</td>\n",
       "      <td>K</td>\n",
       "      <td>AAPL</td>\n",
       "      <td>177.75</td>\n",
       "      <td>1.0</td>\n",
       "      <td>179.00</td>\n",
       "      <td>1.0</td>\n",
       "      <td>R</td>\n",
       "      <td>43385</td>\n",
       "      <td>0</td>\n",
       "      <td>...</td>\n",
       "      <td>0</td>\n",
       "      <td>NaN</td>\n",
       "      <td>NaN</td>\n",
       "      <td>NaN</td>\n",
       "      <td>42035310072000</td>\n",
       "      <td>NaN</td>\n",
       "      <td>NaN</td>\n",
       "      <td></td>\n",
       "      <td>2022-01-03</td>\n",
       "      <td>202201</td>\n",
       "    </tr>\n",
       "    <tr>\n",
       "      <th>999</th>\n",
       "      <td>2022-01-03 04:20:44.375165</td>\n",
       "      <td>Q</td>\n",
       "      <td>AAPL</td>\n",
       "      <td>177.86</td>\n",
       "      <td>2.0</td>\n",
       "      <td>178.35</td>\n",
       "      <td>1.0</td>\n",
       "      <td>R</td>\n",
       "      <td>43610</td>\n",
       "      <td>0</td>\n",
       "      <td>...</td>\n",
       "      <td>0</td>\n",
       "      <td>NaN</td>\n",
       "      <td>NaN</td>\n",
       "      <td>NaN</td>\n",
       "      <td>42044375153194</td>\n",
       "      <td>NaN</td>\n",
       "      <td>NaN</td>\n",
       "      <td></td>\n",
       "      <td>2022-01-03</td>\n",
       "      <td>202201</td>\n",
       "    </tr>\n",
       "  </tbody>\n",
       "</table>\n",
       "<p>1000 rows × 25 columns</p>\n",
       "</div>"
      ],
      "text/plain": [
       "                           Time Exchange Symbol  Bid_Price  Bid_Size  \\\n",
       "0    2022-01-03 03:59:00.091564        Z   AAPL       0.00       0.0   \n",
       "1    2022-01-03 03:59:00.198749        K   AAPL       0.00       0.0   \n",
       "2    2022-01-03 04:00:00.028174        Q   AAPL     177.92       4.0   \n",
       "3    2022-01-03 04:00:00.028307        Q   AAPL     177.92       4.0   \n",
       "4    2022-01-03 04:00:00.087199        P   AAPL     130.00       1.0   \n",
       "..                          ...      ...    ...        ...       ...   \n",
       "995  2022-01-03 04:19:57.938762        P   AAPL     177.81       1.0   \n",
       "996  2022-01-03 04:19:58.941067        P   AAPL     177.81       1.0   \n",
       "997  2022-01-03 04:19:59.274448        P   AAPL     177.81       1.0   \n",
       "998  2022-01-03 04:20:35.310274        K   AAPL     177.75       1.0   \n",
       "999  2022-01-03 04:20:44.375165        Q   AAPL     177.86       2.0   \n",
       "\n",
       "     Offer_Price  Offer_Size Quote_Condition  Sequence_Number  \\\n",
       "0           0.00         0.0               L             1252   \n",
       "1           0.00         0.0               L             2235   \n",
       "2           0.00         0.0               R             4138   \n",
       "3         178.80         4.0               R             4140   \n",
       "4           0.00         0.0               R             5834   \n",
       "..           ...         ...             ...              ...   \n",
       "995       178.23         1.0               R            42570   \n",
       "996       177.99         3.0               R            42601   \n",
       "997       177.98         1.0               R            42607   \n",
       "998       179.00         1.0               R            43385   \n",
       "999       178.35         1.0               R            43610   \n",
       "\n",
       "     National_BBO_Indicator  ...  Short_Sale_Restriction_Indicator  \\\n",
       "0                         1  ...                                 0   \n",
       "1                         1  ...                                 0   \n",
       "2                         2  ...                                 0   \n",
       "3                         4  ...                                 0   \n",
       "4                         0  ...                                 0   \n",
       "..                      ...  ...                               ...   \n",
       "995                       0  ...                                 0   \n",
       "996                       2  ...                                 0   \n",
       "997                       2  ...                                 0   \n",
       "998                       0  ...                                 0   \n",
       "999                       0  ...                                 0   \n",
       "\n",
       "     LULD_BBO_Indicator  SIP_Generated_Message_Identifier NBBO_LULD_Indicator  \\\n",
       "0                   NaN                               NaN                 NaN   \n",
       "1                   NaN                               NaN                 NaN   \n",
       "2                   NaN                               NaN                 NaN   \n",
       "3                   NaN                               NaN                 NaN   \n",
       "4                   NaN                               NaN                 NaN   \n",
       "..                  ...                               ...                 ...   \n",
       "995                 NaN                               NaN                 NaN   \n",
       "996                 NaN                               NaN                 NaN   \n",
       "997                 NaN                               NaN                 NaN   \n",
       "998                 NaN                               NaN                 NaN   \n",
       "999                 NaN                               NaN                 NaN   \n",
       "\n",
       "     Participant_Timestamp  FINRA_ADF_Timestamp  \\\n",
       "0           35900088741000                  NaN   \n",
       "1           35900197520000                  NaN   \n",
       "2           40000028160898                  NaN   \n",
       "3           40000028294451                  NaN   \n",
       "4           40000086819840                  NaN   \n",
       "..                     ...                  ...   \n",
       "995         41957938398464                  NaN   \n",
       "996         41958940704768                  NaN   \n",
       "997         41959274084864                  NaN   \n",
       "998         42035310072000                  NaN   \n",
       "999         42044375153194                  NaN   \n",
       "\n",
       "     FINRA_ADF_Market_Participant_Quote_Indicator  Security_Status_Indicator  \\\n",
       "0                                             NaN                              \n",
       "1                                             NaN                              \n",
       "2                                             NaN                              \n",
       "3                                             NaN                              \n",
       "4                                             NaN                              \n",
       "..                                            ...                        ...   \n",
       "995                                           NaN                              \n",
       "996                                           NaN                              \n",
       "997                                           NaN                              \n",
       "998                                           NaN                              \n",
       "999                                           NaN                              \n",
       "\n",
       "           Date  YearMonth  \n",
       "0    2022-01-03     202201  \n",
       "1    2022-01-03     202201  \n",
       "2    2022-01-03     202201  \n",
       "3    2022-01-03     202201  \n",
       "4    2022-01-03     202201  \n",
       "..          ...        ...  \n",
       "995  2022-01-03     202201  \n",
       "996  2022-01-03     202201  \n",
       "997  2022-01-03     202201  \n",
       "998  2022-01-03     202201  \n",
       "999  2022-01-03     202201  \n",
       "\n",
       "[1000 rows x 25 columns]"
      ]
     },
     "execution_count": 18,
     "metadata": {},
     "output_type": "execute_result"
    }
   ],
   "source": [
    "quotes_df\n"
   ]
  },
  {
   "cell_type": "code",
   "execution_count": 4,
   "metadata": {},
   "outputs": [
    {
     "data": {
      "text/html": [
       "<div>\n",
       "<style scoped>\n",
       "    .dataframe tbody tr th:only-of-type {\n",
       "        vertical-align: middle;\n",
       "    }\n",
       "\n",
       "    .dataframe tbody tr th {\n",
       "        vertical-align: top;\n",
       "    }\n",
       "\n",
       "    .dataframe thead th {\n",
       "        text-align: right;\n",
       "    }\n",
       "</style>\n",
       "<table border=\"1\" class=\"dataframe\">\n",
       "  <thead>\n",
       "    <tr style=\"text-align: right;\">\n",
       "      <th></th>\n",
       "      <th>Return</th>\n",
       "      <th>Breath</th>\n",
       "      <th>Immediacy</th>\n",
       "      <th>VolumeAll</th>\n",
       "      <th>VolumeAvg</th>\n",
       "      <th>VolumeMax</th>\n",
       "      <th>Lambda</th>\n",
       "      <th>LobImbalance</th>\n",
       "      <th>TxnImbalance</th>\n",
       "      <th>PastReturn</th>\n",
       "      <th>QuotedSpread</th>\n",
       "      <th>EffectiveSpread</th>\n",
       "    </tr>\n",
       "    <tr>\n",
       "      <th>Participant_Timestamp</th>\n",
       "      <th></th>\n",
       "      <th></th>\n",
       "      <th></th>\n",
       "      <th></th>\n",
       "      <th></th>\n",
       "      <th></th>\n",
       "      <th></th>\n",
       "      <th></th>\n",
       "      <th></th>\n",
       "      <th></th>\n",
       "      <th></th>\n",
       "      <th></th>\n",
       "    </tr>\n",
       "  </thead>\n",
       "  <tbody>\n",
       "    <tr>\n",
       "      <th>2020-01-06 09:15:03.498942</th>\n",
       "      <td>NaN</td>\n",
       "      <td>1</td>\n",
       "      <td>1.000000</td>\n",
       "      <td>1.0</td>\n",
       "      <td>1.000000</td>\n",
       "      <td>1.0</td>\n",
       "      <td>NaN</td>\n",
       "      <td>NaN</td>\n",
       "      <td>0.000000</td>\n",
       "      <td>NaN</td>\n",
       "      <td>NaN</td>\n",
       "      <td>0.0</td>\n",
       "    </tr>\n",
       "    <tr>\n",
       "      <th>2020-01-06 09:15:04.398262</th>\n",
       "      <td>0.000054</td>\n",
       "      <td>1</td>\n",
       "      <td>1.000000</td>\n",
       "      <td>1.0</td>\n",
       "      <td>1.000000</td>\n",
       "      <td>1.0</td>\n",
       "      <td>NaN</td>\n",
       "      <td>-0.846154</td>\n",
       "      <td>0.000000</td>\n",
       "      <td>-0.000068</td>\n",
       "      <td>0.000271</td>\n",
       "      <td>0.0</td>\n",
       "    </tr>\n",
       "    <tr>\n",
       "      <th>2020-01-06 09:15:04.480789</th>\n",
       "      <td>0.000054</td>\n",
       "      <td>2</td>\n",
       "      <td>0.500000</td>\n",
       "      <td>31.0</td>\n",
       "      <td>15.500000</td>\n",
       "      <td>30.0</td>\n",
       "      <td>NaN</td>\n",
       "      <td>-0.846154</td>\n",
       "      <td>0.000000</td>\n",
       "      <td>-0.000068</td>\n",
       "      <td>0.000271</td>\n",
       "      <td>0.0</td>\n",
       "    </tr>\n",
       "    <tr>\n",
       "      <th>2020-01-06 09:15:07.130415</th>\n",
       "      <td>0.000089</td>\n",
       "      <td>1</td>\n",
       "      <td>1.000000</td>\n",
       "      <td>67.0</td>\n",
       "      <td>67.000000</td>\n",
       "      <td>67.0</td>\n",
       "      <td>0.000000</td>\n",
       "      <td>-0.846154</td>\n",
       "      <td>0.000000</td>\n",
       "      <td>-0.000068</td>\n",
       "      <td>0.000271</td>\n",
       "      <td>0.0</td>\n",
       "    </tr>\n",
       "    <tr>\n",
       "      <th>2020-01-06 09:15:07.134778</th>\n",
       "      <td>-0.000010</td>\n",
       "      <td>2</td>\n",
       "      <td>0.500000</td>\n",
       "      <td>200.0</td>\n",
       "      <td>100.000000</td>\n",
       "      <td>133.0</td>\n",
       "      <td>0.000150</td>\n",
       "      <td>-0.615385</td>\n",
       "      <td>0.665000</td>\n",
       "      <td>0.000000</td>\n",
       "      <td>0.000407</td>\n",
       "      <td>2.252951959291528e-05</td>\n",
       "    </tr>\n",
       "    <tr>\n",
       "      <th>2020-01-06 09:15:07.134778</th>\n",
       "      <td>-0.000010</td>\n",
       "      <td>2</td>\n",
       "      <td>0.500000</td>\n",
       "      <td>200.0</td>\n",
       "      <td>100.000000</td>\n",
       "      <td>133.0</td>\n",
       "      <td>0.000150</td>\n",
       "      <td>-0.615385</td>\n",
       "      <td>0.665000</td>\n",
       "      <td>0.000000</td>\n",
       "      <td>0.000407</td>\n",
       "      <td>2.252951959291528e-05</td>\n",
       "    </tr>\n",
       "    <tr>\n",
       "      <th>2020-01-06 09:15:08.110946</th>\n",
       "      <td>-0.000015</td>\n",
       "      <td>3</td>\n",
       "      <td>0.333333</td>\n",
       "      <td>201.0</td>\n",
       "      <td>67.000000</td>\n",
       "      <td>133.0</td>\n",
       "      <td>0.000149</td>\n",
       "      <td>-0.569231</td>\n",
       "      <td>0.666667</td>\n",
       "      <td>-0.000011</td>\n",
       "      <td>0.000434</td>\n",
       "      <td>2.2585982003711035e-05</td>\n",
       "    </tr>\n",
       "    <tr>\n",
       "      <th>2020-01-06 09:15:08.110946</th>\n",
       "      <td>-0.000021</td>\n",
       "      <td>3</td>\n",
       "      <td>0.333333</td>\n",
       "      <td>201.0</td>\n",
       "      <td>67.000000</td>\n",
       "      <td>133.0</td>\n",
       "      <td>0.000149</td>\n",
       "      <td>-0.569231</td>\n",
       "      <td>0.666667</td>\n",
       "      <td>-0.000011</td>\n",
       "      <td>0.000434</td>\n",
       "      <td>2.2585982003711035e-05</td>\n",
       "    </tr>\n",
       "    <tr>\n",
       "      <th>2020-01-06 09:15:08.266000</th>\n",
       "      <td>-0.000021</td>\n",
       "      <td>2</td>\n",
       "      <td>0.500000</td>\n",
       "      <td>101.0</td>\n",
       "      <td>50.500000</td>\n",
       "      <td>100.0</td>\n",
       "      <td>0.000000</td>\n",
       "      <td>-0.500000</td>\n",
       "      <td>-0.980198</td>\n",
       "      <td>0.000102</td>\n",
       "      <td>0.000474</td>\n",
       "      <td>0.00023516617157211972</td>\n",
       "    </tr>\n",
       "    <tr>\n",
       "      <th>2020-01-06 09:15:08.268300</th>\n",
       "      <td>0.000010</td>\n",
       "      <td>2</td>\n",
       "      <td>0.500000</td>\n",
       "      <td>101.0</td>\n",
       "      <td>50.500000</td>\n",
       "      <td>100.0</td>\n",
       "      <td>0.000000</td>\n",
       "      <td>-0.491667</td>\n",
       "      <td>-0.980198</td>\n",
       "      <td>0.000102</td>\n",
       "      <td>0.000474</td>\n",
       "      <td>0.00023516617157211972</td>\n",
       "    </tr>\n",
       "    <tr>\n",
       "      <th>2020-01-06 09:15:11.007734</th>\n",
       "      <td>0.000017</td>\n",
       "      <td>1</td>\n",
       "      <td>1.000000</td>\n",
       "      <td>1.0</td>\n",
       "      <td>1.000000</td>\n",
       "      <td>1.0</td>\n",
       "      <td>0.000000</td>\n",
       "      <td>-0.466667</td>\n",
       "      <td>1.000000</td>\n",
       "      <td>-0.000034</td>\n",
       "      <td>0.000474</td>\n",
       "      <td>3.387820784593502e-05</td>\n",
       "    </tr>\n",
       "    <tr>\n",
       "      <th>2020-01-06 09:15:11.504118</th>\n",
       "      <td>0.000015</td>\n",
       "      <td>2</td>\n",
       "      <td>0.500000</td>\n",
       "      <td>5.0</td>\n",
       "      <td>2.500000</td>\n",
       "      <td>4.0</td>\n",
       "      <td>0.000000</td>\n",
       "      <td>-0.466667</td>\n",
       "      <td>1.000000</td>\n",
       "      <td>-0.000034</td>\n",
       "      <td>0.000474</td>\n",
       "      <td>3.387820784593501e-05</td>\n",
       "    </tr>\n",
       "    <tr>\n",
       "      <th>2020-01-06 09:15:11.504118</th>\n",
       "      <td>0.000011</td>\n",
       "      <td>2</td>\n",
       "      <td>0.500000</td>\n",
       "      <td>5.0</td>\n",
       "      <td>2.500000</td>\n",
       "      <td>4.0</td>\n",
       "      <td>0.000000</td>\n",
       "      <td>-0.466667</td>\n",
       "      <td>1.000000</td>\n",
       "      <td>-0.000034</td>\n",
       "      <td>0.000474</td>\n",
       "      <td>3.387820784593501e-05</td>\n",
       "    </tr>\n",
       "    <tr>\n",
       "      <th>2020-01-06 09:15:11.504248</th>\n",
       "      <td>0.000011</td>\n",
       "      <td>5</td>\n",
       "      <td>0.200000</td>\n",
       "      <td>319.0</td>\n",
       "      <td>63.800000</td>\n",
       "      <td>200.0</td>\n",
       "      <td>-0.000235</td>\n",
       "      <td>-0.119048</td>\n",
       "      <td>1.000000</td>\n",
       "      <td>-0.000288</td>\n",
       "      <td>0.000523</td>\n",
       "      <td>4.503094794697302e-05</td>\n",
       "    </tr>\n",
       "    <tr>\n",
       "      <th>2020-01-06 09:15:11.504248</th>\n",
       "      <td>0.000007</td>\n",
       "      <td>5</td>\n",
       "      <td>0.200000</td>\n",
       "      <td>319.0</td>\n",
       "      <td>63.800000</td>\n",
       "      <td>200.0</td>\n",
       "      <td>-0.000235</td>\n",
       "      <td>-0.119048</td>\n",
       "      <td>1.000000</td>\n",
       "      <td>-0.000288</td>\n",
       "      <td>0.000523</td>\n",
       "      <td>4.503094794697302e-05</td>\n",
       "    </tr>\n",
       "    <tr>\n",
       "      <th>2020-01-06 09:15:11.504248</th>\n",
       "      <td>0.000254</td>\n",
       "      <td>5</td>\n",
       "      <td>0.200000</td>\n",
       "      <td>319.0</td>\n",
       "      <td>63.800000</td>\n",
       "      <td>200.0</td>\n",
       "      <td>-0.000235</td>\n",
       "      <td>-0.119048</td>\n",
       "      <td>1.000000</td>\n",
       "      <td>-0.000288</td>\n",
       "      <td>0.000523</td>\n",
       "      <td>4.503094794697302e-05</td>\n",
       "    </tr>\n",
       "    <tr>\n",
       "      <th>2020-01-06 09:15:11.504248</th>\n",
       "      <td>0.000254</td>\n",
       "      <td>5</td>\n",
       "      <td>0.200000</td>\n",
       "      <td>319.0</td>\n",
       "      <td>63.800000</td>\n",
       "      <td>200.0</td>\n",
       "      <td>-0.000235</td>\n",
       "      <td>-0.119048</td>\n",
       "      <td>1.000000</td>\n",
       "      <td>-0.000288</td>\n",
       "      <td>0.000523</td>\n",
       "      <td>4.503094794697302e-05</td>\n",
       "    </tr>\n",
       "    <tr>\n",
       "      <th>2020-01-06 09:15:11.504269</th>\n",
       "      <td>-0.010835</td>\n",
       "      <td>5</td>\n",
       "      <td>0.200000</td>\n",
       "      <td>319.0</td>\n",
       "      <td>63.800000</td>\n",
       "      <td>200.0</td>\n",
       "      <td>0.010125</td>\n",
       "      <td>-0.145833</td>\n",
       "      <td>1.000000</td>\n",
       "      <td>0.010791</td>\n",
       "      <td>0.005149</td>\n",
       "      <td>4.5030947946973014e-05</td>\n",
       "    </tr>\n",
       "    <tr>\n",
       "      <th>2020-01-06 09:15:11.504279</th>\n",
       "      <td>-0.020860</td>\n",
       "      <td>5</td>\n",
       "      <td>0.200000</td>\n",
       "      <td>319.0</td>\n",
       "      <td>63.800000</td>\n",
       "      <td>200.0</td>\n",
       "      <td>0.019702</td>\n",
       "      <td>-0.129630</td>\n",
       "      <td>1.000000</td>\n",
       "      <td>0.020816</td>\n",
       "      <td>0.009306</td>\n",
       "      <td>4.5030947946973014e-05</td>\n",
       "    </tr>\n",
       "    <tr>\n",
       "      <th>2020-01-06 09:15:11.504280</th>\n",
       "      <td>0.000175</td>\n",
       "      <td>5</td>\n",
       "      <td>0.200000</td>\n",
       "      <td>319.0</td>\n",
       "      <td>63.800000</td>\n",
       "      <td>200.0</td>\n",
       "      <td>-0.000172</td>\n",
       "      <td>-0.041667</td>\n",
       "      <td>1.000000</td>\n",
       "      <td>-0.000220</td>\n",
       "      <td>0.008426</td>\n",
       "      <td>4.5030947946973014e-05</td>\n",
       "    </tr>\n",
       "    <tr>\n",
       "      <th>2020-01-06 09:15:11.504281</th>\n",
       "      <td>0.000175</td>\n",
       "      <td>5</td>\n",
       "      <td>0.200000</td>\n",
       "      <td>319.0</td>\n",
       "      <td>63.800000</td>\n",
       "      <td>200.0</td>\n",
       "      <td>-0.000172</td>\n",
       "      <td>0.012626</td>\n",
       "      <td>1.000000</td>\n",
       "      <td>-0.000220</td>\n",
       "      <td>0.007706</td>\n",
       "      <td>4.5030947946973014e-05</td>\n",
       "    </tr>\n",
       "    <tr>\n",
       "      <th>2020-01-06 09:15:11.504284</th>\n",
       "      <td>-0.020860</td>\n",
       "      <td>5</td>\n",
       "      <td>0.200000</td>\n",
       "      <td>319.0</td>\n",
       "      <td>63.800000</td>\n",
       "      <td>200.0</td>\n",
       "      <td>0.019702</td>\n",
       "      <td>0.011574</td>\n",
       "      <td>1.000000</td>\n",
       "      <td>0.020816</td>\n",
       "      <td>0.010611</td>\n",
       "      <td>4.5030947946973014e-05</td>\n",
       "    </tr>\n",
       "    <tr>\n",
       "      <th>2020-01-06 09:15:11.504285</th>\n",
       "      <td>-0.020860</td>\n",
       "      <td>5</td>\n",
       "      <td>0.200000</td>\n",
       "      <td>319.0</td>\n",
       "      <td>63.800000</td>\n",
       "      <td>200.0</td>\n",
       "      <td>0.019702</td>\n",
       "      <td>-0.014957</td>\n",
       "      <td>1.000000</td>\n",
       "      <td>0.020816</td>\n",
       "      <td>0.013068</td>\n",
       "      <td>4.5030947946973014e-05</td>\n",
       "    </tr>\n",
       "    <tr>\n",
       "      <th>2020-01-06 09:15:11.504286</th>\n",
       "      <td>-0.000011</td>\n",
       "      <td>5</td>\n",
       "      <td>0.200000</td>\n",
       "      <td>319.0</td>\n",
       "      <td>63.800000</td>\n",
       "      <td>200.0</td>\n",
       "      <td>0.000000</td>\n",
       "      <td>-0.047222</td>\n",
       "      <td>1.000000</td>\n",
       "      <td>-0.000034</td>\n",
       "      <td>0.012169</td>\n",
       "      <td>4.5030947946973014e-05</td>\n",
       "    </tr>\n",
       "    <tr>\n",
       "      <th>2020-01-06 09:15:11.504290</th>\n",
       "      <td>-0.020860</td>\n",
       "      <td>5</td>\n",
       "      <td>0.200000</td>\n",
       "      <td>319.0</td>\n",
       "      <td>63.800000</td>\n",
       "      <td>200.0</td>\n",
       "      <td>0.019702</td>\n",
       "      <td>-0.066296</td>\n",
       "      <td>1.000000</td>\n",
       "      <td>0.020816</td>\n",
       "      <td>0.014195</td>\n",
       "      <td>4.5030947946973014e-05</td>\n",
       "    </tr>\n",
       "    <tr>\n",
       "      <th>2020-01-06 09:15:11.504292</th>\n",
       "      <td>0.000175</td>\n",
       "      <td>5</td>\n",
       "      <td>0.200000</td>\n",
       "      <td>319.0</td>\n",
       "      <td>63.800000</td>\n",
       "      <td>200.0</td>\n",
       "      <td>-0.000172</td>\n",
       "      <td>-0.037153</td>\n",
       "      <td>1.000000</td>\n",
       "      <td>-0.000220</td>\n",
       "      <td>0.013340</td>\n",
       "      <td>4.5030947946973014e-05</td>\n",
       "    </tr>\n",
       "    <tr>\n",
       "      <th>2020-01-06 09:15:11.504311</th>\n",
       "      <td>-0.020860</td>\n",
       "      <td>5</td>\n",
       "      <td>0.200000</td>\n",
       "      <td>319.0</td>\n",
       "      <td>63.800000</td>\n",
       "      <td>200.0</td>\n",
       "      <td>0.019702</td>\n",
       "      <td>-0.064379</td>\n",
       "      <td>1.000000</td>\n",
       "      <td>0.020816</td>\n",
       "      <td>0.015058</td>\n",
       "      <td>4.5030947946973014e-05</td>\n",
       "    </tr>\n",
       "    <tr>\n",
       "      <th>2020-01-06 09:15:11.504396</th>\n",
       "      <td>-0.010835</td>\n",
       "      <td>5</td>\n",
       "      <td>0.200000</td>\n",
       "      <td>319.0</td>\n",
       "      <td>63.800000</td>\n",
       "      <td>200.0</td>\n",
       "      <td>0.010125</td>\n",
       "      <td>-0.079321</td>\n",
       "      <td>1.000000</td>\n",
       "      <td>0.010791</td>\n",
       "      <td>0.016307</td>\n",
       "      <td>4.5030947946973014e-05</td>\n",
       "    </tr>\n",
       "    <tr>\n",
       "      <th>2020-01-06 09:15:11.504432</th>\n",
       "      <td>-0.003219</td>\n",
       "      <td>5</td>\n",
       "      <td>0.200000</td>\n",
       "      <td>319.0</td>\n",
       "      <td>63.800000</td>\n",
       "      <td>200.0</td>\n",
       "      <td>0.002978</td>\n",
       "      <td>-0.075146</td>\n",
       "      <td>1.000000</td>\n",
       "      <td>0.003174</td>\n",
       "      <td>0.015833</td>\n",
       "      <td>4.5030947946973014e-05</td>\n",
       "    </tr>\n",
       "    <tr>\n",
       "      <th>2020-01-06 09:15:11.504433</th>\n",
       "      <td>-0.014534</td>\n",
       "      <td>5</td>\n",
       "      <td>0.200000</td>\n",
       "      <td>319.0</td>\n",
       "      <td>63.800000</td>\n",
       "      <td>200.0</td>\n",
       "      <td>0.013636</td>\n",
       "      <td>-0.071389</td>\n",
       "      <td>1.000000</td>\n",
       "      <td>0.014490</td>\n",
       "      <td>0.016537</td>\n",
       "      <td>4.5030947946973014e-05</td>\n",
       "    </tr>\n",
       "    <tr>\n",
       "      <th>2020-01-06 09:15:11.504455</th>\n",
       "      <td>-0.014534</td>\n",
       "      <td>5</td>\n",
       "      <td>0.200000</td>\n",
       "      <td>319.0</td>\n",
       "      <td>63.800000</td>\n",
       "      <td>200.0</td>\n",
       "      <td>0.013636</td>\n",
       "      <td>-0.083862</td>\n",
       "      <td>1.000000</td>\n",
       "      <td>0.014490</td>\n",
       "      <td>0.017174</td>\n",
       "      <td>4.5030947946973014e-05</td>\n",
       "    </tr>\n",
       "    <tr>\n",
       "      <th>2020-01-06 09:15:11.504607</th>\n",
       "      <td>0.000175</td>\n",
       "      <td>5</td>\n",
       "      <td>0.200000</td>\n",
       "      <td>319.0</td>\n",
       "      <td>63.800000</td>\n",
       "      <td>200.0</td>\n",
       "      <td>-0.000172</td>\n",
       "      <td>-0.080051</td>\n",
       "      <td>1.000000</td>\n",
       "      <td>-0.000220</td>\n",
       "      <td>0.016416</td>\n",
       "      <td>4.5030947946973014e-05</td>\n",
       "    </tr>\n",
       "    <tr>\n",
       "      <th>2020-01-06 09:15:11.504688</th>\n",
       "      <td>0.000565</td>\n",
       "      <td>5</td>\n",
       "      <td>0.200000</td>\n",
       "      <td>319.0</td>\n",
       "      <td>63.800000</td>\n",
       "      <td>200.0</td>\n",
       "      <td>-0.000533</td>\n",
       "      <td>-0.076570</td>\n",
       "      <td>1.000000</td>\n",
       "      <td>-0.000610</td>\n",
       "      <td>0.015759</td>\n",
       "      <td>4.5030947946973014e-05</td>\n",
       "    </tr>\n",
       "    <tr>\n",
       "      <th>2020-01-06 09:15:11.505308</th>\n",
       "      <td>-0.020860</td>\n",
       "      <td>5</td>\n",
       "      <td>0.200000</td>\n",
       "      <td>319.0</td>\n",
       "      <td>63.800000</td>\n",
       "      <td>200.0</td>\n",
       "      <td>0.019702</td>\n",
       "      <td>-0.073380</td>\n",
       "      <td>1.000000</td>\n",
       "      <td>0.020816</td>\n",
       "      <td>0.016875</td>\n",
       "      <td>4.5030947946973014e-05</td>\n",
       "    </tr>\n",
       "    <tr>\n",
       "      <th>2020-01-06 09:15:11.505325</th>\n",
       "      <td>0.002162</td>\n",
       "      <td>5</td>\n",
       "      <td>0.200000</td>\n",
       "      <td>319.0</td>\n",
       "      <td>63.800000</td>\n",
       "      <td>200.0</td>\n",
       "      <td>-0.002006</td>\n",
       "      <td>-0.070444</td>\n",
       "      <td>1.000000</td>\n",
       "      <td>-0.002207</td>\n",
       "      <td>0.019824</td>\n",
       "      <td>4.5030947946973014e-05</td>\n",
       "    </tr>\n",
       "    <tr>\n",
       "      <th>2020-01-06 09:15:11.505337</th>\n",
       "      <td>-0.020860</td>\n",
       "      <td>5</td>\n",
       "      <td>0.200000</td>\n",
       "      <td>319.0</td>\n",
       "      <td>63.800000</td>\n",
       "      <td>200.0</td>\n",
       "      <td>0.019702</td>\n",
       "      <td>-0.080556</td>\n",
       "      <td>1.000000</td>\n",
       "      <td>0.020816</td>\n",
       "      <td>0.020698</td>\n",
       "      <td>4.5030947946973014e-05</td>\n",
       "    </tr>\n",
       "    <tr>\n",
       "      <th>2020-01-06 09:15:11.505363</th>\n",
       "      <td>0.000175</td>\n",
       "      <td>5</td>\n",
       "      <td>0.200000</td>\n",
       "      <td>319.0</td>\n",
       "      <td>63.800000</td>\n",
       "      <td>200.0</td>\n",
       "      <td>-0.000172</td>\n",
       "      <td>-0.056996</td>\n",
       "      <td>1.000000</td>\n",
       "      <td>-0.000220</td>\n",
       "      <td>0.019950</td>\n",
       "      <td>4.5030947946973014e-05</td>\n",
       "    </tr>\n",
       "    <tr>\n",
       "      <th>2020-01-06 09:15:11.505656</th>\n",
       "      <td>-0.014534</td>\n",
       "      <td>5</td>\n",
       "      <td>0.200000</td>\n",
       "      <td>319.0</td>\n",
       "      <td>63.800000</td>\n",
       "      <td>200.0</td>\n",
       "      <td>0.013636</td>\n",
       "      <td>-0.054960</td>\n",
       "      <td>1.000000</td>\n",
       "      <td>0.014490</td>\n",
       "      <td>0.020306</td>\n",
       "      <td>4.5030947946973014e-05</td>\n",
       "    </tr>\n",
       "    <tr>\n",
       "      <th>2020-01-06 09:15:11.505759</th>\n",
       "      <td>-0.020860</td>\n",
       "      <td>5</td>\n",
       "      <td>0.200000</td>\n",
       "      <td>319.0</td>\n",
       "      <td>63.800000</td>\n",
       "      <td>200.0</td>\n",
       "      <td>0.019702</td>\n",
       "      <td>-0.053065</td>\n",
       "      <td>1.000000</td>\n",
       "      <td>0.020816</td>\n",
       "      <td>0.021074</td>\n",
       "      <td>4.5030947946973014e-05</td>\n",
       "    </tr>\n",
       "    <tr>\n",
       "      <th>2020-01-06 09:15:11.505778</th>\n",
       "      <td>0.000175</td>\n",
       "      <td>5</td>\n",
       "      <td>0.200000</td>\n",
       "      <td>319.0</td>\n",
       "      <td>63.800000</td>\n",
       "      <td>200.0</td>\n",
       "      <td>-0.000172</td>\n",
       "      <td>-0.026296</td>\n",
       "      <td>1.000000</td>\n",
       "      <td>-0.000220</td>\n",
       "      <td>0.020388</td>\n",
       "      <td>4.5030947946973014e-05</td>\n",
       "    </tr>\n",
       "    <tr>\n",
       "      <th>2020-01-06 09:15:11.506036</th>\n",
       "      <td>-0.010835</td>\n",
       "      <td>5</td>\n",
       "      <td>0.200000</td>\n",
       "      <td>319.0</td>\n",
       "      <td>63.800000</td>\n",
       "      <td>200.0</td>\n",
       "      <td>0.010125</td>\n",
       "      <td>-0.036201</td>\n",
       "      <td>1.000000</td>\n",
       "      <td>0.010791</td>\n",
       "      <td>0.020941</td>\n",
       "      <td>4.5030947946973014e-05</td>\n",
       "    </tr>\n",
       "    <tr>\n",
       "      <th>2020-01-06 09:15:11.506055</th>\n",
       "      <td>0.000565</td>\n",
       "      <td>5</td>\n",
       "      <td>0.200000</td>\n",
       "      <td>319.0</td>\n",
       "      <td>63.800000</td>\n",
       "      <td>200.0</td>\n",
       "      <td>-0.000533</td>\n",
       "      <td>-0.035069</td>\n",
       "      <td>1.000000</td>\n",
       "      <td>-0.000610</td>\n",
       "      <td>0.020753</td>\n",
       "      <td>4.5030947946973014e-05</td>\n",
       "    </tr>\n",
       "    <tr>\n",
       "      <th>2020-01-06 09:15:11.514673</th>\n",
       "      <td>0.000243</td>\n",
       "      <td>5</td>\n",
       "      <td>0.200000</td>\n",
       "      <td>319.0</td>\n",
       "      <td>63.800000</td>\n",
       "      <td>200.0</td>\n",
       "      <td>-0.000235</td>\n",
       "      <td>-0.011279</td>\n",
       "      <td>1.000000</td>\n",
       "      <td>-0.000288</td>\n",
       "      <td>0.020144</td>\n",
       "      <td>4.5030947946973014e-05</td>\n",
       "    </tr>\n",
       "    <tr>\n",
       "      <th>2020-01-06 09:15:11.519196</th>\n",
       "      <td>0.000243</td>\n",
       "      <td>6</td>\n",
       "      <td>0.166667</td>\n",
       "      <td>401.0</td>\n",
       "      <td>66.833333</td>\n",
       "      <td>200.0</td>\n",
       "      <td>-0.000187</td>\n",
       "      <td>0.030181</td>\n",
       "      <td>1.000000</td>\n",
       "      <td>-0.000294</td>\n",
       "      <td>0.019029</td>\n",
       "      <td>0.00010164467438221736</td>\n",
       "    </tr>\n",
       "    <tr>\n",
       "      <th>2020-01-06 09:15:11.519196</th>\n",
       "      <td>0.000243</td>\n",
       "      <td>6</td>\n",
       "      <td>0.166667</td>\n",
       "      <td>401.0</td>\n",
       "      <td>66.833333</td>\n",
       "      <td>200.0</td>\n",
       "      <td>-0.000187</td>\n",
       "      <td>0.030181</td>\n",
       "      <td>1.000000</td>\n",
       "      <td>-0.000294</td>\n",
       "      <td>0.019029</td>\n",
       "      <td>0.00010164467438221736</td>\n",
       "    </tr>\n",
       "    <tr>\n",
       "      <th>2020-01-06 09:15:11.534258</th>\n",
       "      <td>-0.010874</td>\n",
       "      <td>6</td>\n",
       "      <td>0.166667</td>\n",
       "      <td>401.0</td>\n",
       "      <td>66.833333</td>\n",
       "      <td>200.0</td>\n",
       "      <td>0.008055</td>\n",
       "      <td>0.020084</td>\n",
       "      <td>1.000000</td>\n",
       "      <td>0.010785</td>\n",
       "      <td>0.019543</td>\n",
       "      <td>0.00010164467438221736</td>\n",
       "    </tr>\n",
       "    <tr>\n",
       "      <th>2020-01-06 09:15:11.534260</th>\n",
       "      <td>-0.000050</td>\n",
       "      <td>6</td>\n",
       "      <td>0.166667</td>\n",
       "      <td>401.0</td>\n",
       "      <td>66.833333</td>\n",
       "      <td>200.0</td>\n",
       "      <td>0.000000</td>\n",
       "      <td>0.006928</td>\n",
       "      <td>1.000000</td>\n",
       "      <td>-0.000040</td>\n",
       "      <td>0.019028</td>\n",
       "      <td>0.00010164467438221736</td>\n",
       "    </tr>\n",
       "    <tr>\n",
       "      <th>2020-01-06 09:15:11.534387</th>\n",
       "      <td>-0.010874</td>\n",
       "      <td>6</td>\n",
       "      <td>0.166667</td>\n",
       "      <td>401.0</td>\n",
       "      <td>66.833333</td>\n",
       "      <td>200.0</td>\n",
       "      <td>0.008055</td>\n",
       "      <td>-0.002026</td>\n",
       "      <td>1.000000</td>\n",
       "      <td>0.010785</td>\n",
       "      <td>0.019515</td>\n",
       "      <td>0.00010164467438221736</td>\n",
       "    </tr>\n",
       "    <tr>\n",
       "      <th>2020-01-06 09:15:11.655681</th>\n",
       "      <td>0.002122</td>\n",
       "      <td>6</td>\n",
       "      <td>0.166667</td>\n",
       "      <td>401.0</td>\n",
       "      <td>66.833333</td>\n",
       "      <td>200.0</td>\n",
       "      <td>-0.001596</td>\n",
       "      <td>-0.001974</td>\n",
       "      <td>1.000000</td>\n",
       "      <td>-0.002213</td>\n",
       "      <td>0.021337</td>\n",
       "      <td>0.00010164467438221736</td>\n",
       "    </tr>\n",
       "    <tr>\n",
       "      <th>2020-01-06 09:15:11.669000</th>\n",
       "      <td>0.002122</td>\n",
       "      <td>7</td>\n",
       "      <td>0.142857</td>\n",
       "      <td>412.0</td>\n",
       "      <td>58.857143</td>\n",
       "      <td>200.0</td>\n",
       "      <td>-0.001553</td>\n",
       "      <td>-0.001925</td>\n",
       "      <td>0.946602</td>\n",
       "      <td>-0.002183</td>\n",
       "      <td>0.023068</td>\n",
       "      <td>4.54944474751927e-05</td>\n",
       "    </tr>\n",
       "    <tr>\n",
       "      <th>2020-01-06 09:15:13.712099</th>\n",
       "      <td>0.001996</td>\n",
       "      <td>1</td>\n",
       "      <td>1.000000</td>\n",
       "      <td>1.0</td>\n",
       "      <td>1.000000</td>\n",
       "      <td>1.0</td>\n",
       "      <td>0.000000</td>\n",
       "      <td>0.000000</td>\n",
       "      <td>1.000000</td>\n",
       "      <td>-0.002241</td>\n",
       "      <td>0.090585</td>\n",
       "      <td>0.0022383513381331547</td>\n",
       "    </tr>\n",
       "    <tr>\n",
       "      <th>2020-01-06 09:15:14.206592</th>\n",
       "      <td>-0.000085</td>\n",
       "      <td>1</td>\n",
       "      <td>1.000000</td>\n",
       "      <td>1.0</td>\n",
       "      <td>1.000000</td>\n",
       "      <td>1.0</td>\n",
       "      <td>0.595000</td>\n",
       "      <td>-0.416667</td>\n",
       "      <td>1.000000</td>\n",
       "      <td>-0.000220</td>\n",
       "      <td>0.045377</td>\n",
       "      <td>0.0022383513381331547</td>\n",
       "    </tr>\n",
       "    <tr>\n",
       "      <th>2020-01-06 09:15:16.825918</th>\n",
       "      <td>0.000023</td>\n",
       "      <td>0</td>\n",
       "      <td>NaN</td>\n",
       "      <td>0.0</td>\n",
       "      <td>NaN</td>\n",
       "      <td>NaN</td>\n",
       "      <td>NaN</td>\n",
       "      <td>0.000000</td>\n",
       "      <td>NaN</td>\n",
       "      <td>NaN</td>\n",
       "      <td>0.001999</td>\n",
       "      <td>nan</td>\n",
       "    </tr>\n",
       "    <tr>\n",
       "      <th>2020-01-06 09:15:16.826233</th>\n",
       "      <td>-0.000045</td>\n",
       "      <td>1</td>\n",
       "      <td>1.000000</td>\n",
       "      <td>100.0</td>\n",
       "      <td>100.000000</td>\n",
       "      <td>NaN</td>\n",
       "      <td>0.000200</td>\n",
       "      <td>-0.545455</td>\n",
       "      <td>-1.000000</td>\n",
       "      <td>0.000085</td>\n",
       "      <td>0.000779</td>\n",
       "      <td>8.471345678313257e-05</td>\n",
       "    </tr>\n",
       "    <tr>\n",
       "      <th>2020-01-06 09:15:16.826233</th>\n",
       "      <td>-0.000045</td>\n",
       "      <td>1</td>\n",
       "      <td>1.000000</td>\n",
       "      <td>100.0</td>\n",
       "      <td>100.000000</td>\n",
       "      <td>NaN</td>\n",
       "      <td>0.000200</td>\n",
       "      <td>-0.545455</td>\n",
       "      <td>-1.000000</td>\n",
       "      <td>0.000085</td>\n",
       "      <td>0.000779</td>\n",
       "      <td>8.471345678313257e-05</td>\n",
       "    </tr>\n",
       "    <tr>\n",
       "      <th>2020-01-06 09:15:17.544157</th>\n",
       "      <td>-0.000037</td>\n",
       "      <td>2</td>\n",
       "      <td>0.500000</td>\n",
       "      <td>600.0</td>\n",
       "      <td>300.000000</td>\n",
       "      <td>NaN</td>\n",
       "      <td>0.000033</td>\n",
       "      <td>-0.624242</td>\n",
       "      <td>-1.000000</td>\n",
       "      <td>0.000085</td>\n",
       "      <td>0.000535</td>\n",
       "      <td>8.471345678313259e-05</td>\n",
       "    </tr>\n",
       "    <tr>\n",
       "      <th>2020-01-06 09:15:17.544157</th>\n",
       "      <td>-0.000025</td>\n",
       "      <td>2</td>\n",
       "      <td>0.500000</td>\n",
       "      <td>600.0</td>\n",
       "      <td>300.000000</td>\n",
       "      <td>NaN</td>\n",
       "      <td>0.000033</td>\n",
       "      <td>-0.624242</td>\n",
       "      <td>-1.000000</td>\n",
       "      <td>0.000085</td>\n",
       "      <td>0.000535</td>\n",
       "      <td>8.471345678313259e-05</td>\n",
       "    </tr>\n",
       "    <tr>\n",
       "      <th>2020-01-06 09:15:17.657898</th>\n",
       "      <td>-0.000025</td>\n",
       "      <td>3</td>\n",
       "      <td>0.333333</td>\n",
       "      <td>1100.0</td>\n",
       "      <td>366.666667</td>\n",
       "      <td>NaN</td>\n",
       "      <td>-0.000018</td>\n",
       "      <td>-0.636364</td>\n",
       "      <td>-1.000000</td>\n",
       "      <td>-0.000051</td>\n",
       "      <td>0.000470</td>\n",
       "      <td>8.471345678313259e-05</td>\n",
       "    </tr>\n",
       "    <tr>\n",
       "      <th>2020-01-06 09:15:17.657898</th>\n",
       "      <td>0.000130</td>\n",
       "      <td>3</td>\n",
       "      <td>0.333333</td>\n",
       "      <td>1100.0</td>\n",
       "      <td>366.666667</td>\n",
       "      <td>NaN</td>\n",
       "      <td>-0.000018</td>\n",
       "      <td>-0.636364</td>\n",
       "      <td>-1.000000</td>\n",
       "      <td>-0.000051</td>\n",
       "      <td>0.000470</td>\n",
       "      <td>8.471345678313259e-05</td>\n",
       "    </tr>\n",
       "    <tr>\n",
       "      <th>2020-01-06 09:15:17.658304</th>\n",
       "      <td>0.000130</td>\n",
       "      <td>4</td>\n",
       "      <td>0.250000</td>\n",
       "      <td>1105.0</td>\n",
       "      <td>276.250000</td>\n",
       "      <td>NaN</td>\n",
       "      <td>-0.000018</td>\n",
       "      <td>-0.643098</td>\n",
       "      <td>-1.000000</td>\n",
       "      <td>-0.000051</td>\n",
       "      <td>0.000463</td>\n",
       "      <td>8.410013110111979e-05</td>\n",
       "    </tr>\n",
       "    <tr>\n",
       "      <th>2020-01-06 09:15:17.658304</th>\n",
       "      <td>0.000169</td>\n",
       "      <td>4</td>\n",
       "      <td>0.250000</td>\n",
       "      <td>1105.0</td>\n",
       "      <td>276.250000</td>\n",
       "      <td>NaN</td>\n",
       "      <td>-0.000018</td>\n",
       "      <td>-0.643098</td>\n",
       "      <td>-1.000000</td>\n",
       "      <td>-0.000051</td>\n",
       "      <td>0.000463</td>\n",
       "      <td>8.410013110111979e-05</td>\n",
       "    </tr>\n",
       "    <tr>\n",
       "      <th>2020-01-06 09:15:17.658436</th>\n",
       "      <td>0.000169</td>\n",
       "      <td>4</td>\n",
       "      <td>0.250000</td>\n",
       "      <td>1105.0</td>\n",
       "      <td>276.250000</td>\n",
       "      <td>NaN</td>\n",
       "      <td>-0.000018</td>\n",
       "      <td>-0.645455</td>\n",
       "      <td>-1.000000</td>\n",
       "      <td>-0.000051</td>\n",
       "      <td>0.000461</td>\n",
       "      <td>8.410013110111979e-05</td>\n",
       "    </tr>\n",
       "    <tr>\n",
       "      <th>2020-01-06 09:15:17.658444</th>\n",
       "      <td>-0.010942</td>\n",
       "      <td>4</td>\n",
       "      <td>0.250000</td>\n",
       "      <td>1105.0</td>\n",
       "      <td>276.250000</td>\n",
       "      <td>NaN</td>\n",
       "      <td>0.002982</td>\n",
       "      <td>-0.586777</td>\n",
       "      <td>-1.000000</td>\n",
       "      <td>0.011059</td>\n",
       "      <td>0.003831</td>\n",
       "      <td>8.410013110111979e-05</td>\n",
       "    </tr>\n",
       "    <tr>\n",
       "      <th>2020-01-06 09:15:17.688421</th>\n",
       "      <td>-0.010942</td>\n",
       "      <td>4</td>\n",
       "      <td>0.250000</td>\n",
       "      <td>1105.0</td>\n",
       "      <td>276.250000</td>\n",
       "      <td>NaN</td>\n",
       "      <td>0.002982</td>\n",
       "      <td>-0.565657</td>\n",
       "      <td>-1.000000</td>\n",
       "      <td>0.011059</td>\n",
       "      <td>0.006640</td>\n",
       "      <td>8.410013110111979e-05</td>\n",
       "    </tr>\n",
       "    <tr>\n",
       "      <th>2020-01-06 09:15:17.688426</th>\n",
       "      <td>0.000169</td>\n",
       "      <td>4</td>\n",
       "      <td>0.250000</td>\n",
       "      <td>1105.0</td>\n",
       "      <td>276.250000</td>\n",
       "      <td>NaN</td>\n",
       "      <td>-0.000018</td>\n",
       "      <td>-0.573427</td>\n",
       "      <td>-1.000000</td>\n",
       "      <td>-0.000051</td>\n",
       "      <td>0.006163</td>\n",
       "      <td>8.410013110111979e-05</td>\n",
       "    </tr>\n",
       "    <tr>\n",
       "      <th>2020-01-06 09:15:18.855187</th>\n",
       "      <td>-0.011139</td>\n",
       "      <td>0</td>\n",
       "      <td>NaN</td>\n",
       "      <td>0.0</td>\n",
       "      <td>NaN</td>\n",
       "      <td>NaN</td>\n",
       "      <td>NaN</td>\n",
       "      <td>-0.333333</td>\n",
       "      <td>NaN</td>\n",
       "      <td>NaN</td>\n",
       "      <td>0.037534</td>\n",
       "      <td>nan</td>\n",
       "    </tr>\n",
       "    <tr>\n",
       "      <th>2020-01-06 09:15:20.048326</th>\n",
       "      <td>-0.011139</td>\n",
       "      <td>1</td>\n",
       "      <td>1.000000</td>\n",
       "      <td>1.0</td>\n",
       "      <td>1.000000</td>\n",
       "      <td>1.0</td>\n",
       "      <td>0.000000</td>\n",
       "      <td>-0.333333</td>\n",
       "      <td>1.000000</td>\n",
       "      <td>0.010992</td>\n",
       "      <td>0.037534</td>\n",
       "      <td>-0.011052815041185535</td>\n",
       "    </tr>\n",
       "    <tr>\n",
       "      <th>2020-01-06 09:15:21.066000</th>\n",
       "      <td>-0.011215</td>\n",
       "      <td>1</td>\n",
       "      <td>1.000000</td>\n",
       "      <td>1.0</td>\n",
       "      <td>1.000000</td>\n",
       "      <td>1.0</td>\n",
       "      <td>0.000000</td>\n",
       "      <td>-0.333333</td>\n",
       "      <td>1.000000</td>\n",
       "      <td>0.010891</td>\n",
       "      <td>0.037534</td>\n",
       "      <td>-0.010951166642907434</td>\n",
       "    </tr>\n",
       "    <tr>\n",
       "      <th>2020-01-06 09:15:21.068933</th>\n",
       "      <td>-0.000258</td>\n",
       "      <td>1</td>\n",
       "      <td>1.000000</td>\n",
       "      <td>1.0</td>\n",
       "      <td>1.000000</td>\n",
       "      <td>1.0</td>\n",
       "      <td>-3.290000</td>\n",
       "      <td>-0.500000</td>\n",
       "      <td>1.000000</td>\n",
       "      <td>-0.000136</td>\n",
       "      <td>0.019072</td>\n",
       "      <td>-0.010951166642907434</td>\n",
       "    </tr>\n",
       "    <tr>\n",
       "      <th>2020-01-06 09:15:23.761553</th>\n",
       "      <td>-0.000172</td>\n",
       "      <td>3</td>\n",
       "      <td>0.333333</td>\n",
       "      <td>500.0</td>\n",
       "      <td>166.666667</td>\n",
       "      <td>270.0</td>\n",
       "      <td>0.000000</td>\n",
       "      <td>-0.666667</td>\n",
       "      <td>-1.000000</td>\n",
       "      <td>0.000248</td>\n",
       "      <td>0.000610</td>\n",
       "      <td>0.00025349649530440077</td>\n",
       "    </tr>\n",
       "    <tr>\n",
       "      <th>2020-01-06 09:15:23.761553</th>\n",
       "      <td>-0.000164</td>\n",
       "      <td>3</td>\n",
       "      <td>0.333333</td>\n",
       "      <td>500.0</td>\n",
       "      <td>166.666667</td>\n",
       "      <td>270.0</td>\n",
       "      <td>0.000000</td>\n",
       "      <td>-0.666667</td>\n",
       "      <td>-1.000000</td>\n",
       "      <td>0.000248</td>\n",
       "      <td>0.000610</td>\n",
       "      <td>0.00025349649530440077</td>\n",
       "    </tr>\n",
       "    <tr>\n",
       "      <th>2020-01-06 09:15:23.761553</th>\n",
       "      <td>-0.000154</td>\n",
       "      <td>3</td>\n",
       "      <td>0.333333</td>\n",
       "      <td>500.0</td>\n",
       "      <td>166.666667</td>\n",
       "      <td>270.0</td>\n",
       "      <td>0.000000</td>\n",
       "      <td>-0.666667</td>\n",
       "      <td>-1.000000</td>\n",
       "      <td>0.000248</td>\n",
       "      <td>0.000610</td>\n",
       "      <td>0.00025349649530440077</td>\n",
       "    </tr>\n",
       "    <tr>\n",
       "      <th>2020-01-06 09:15:26.034904</th>\n",
       "      <td>-0.000149</td>\n",
       "      <td>2</td>\n",
       "      <td>0.500000</td>\n",
       "      <td>100.0</td>\n",
       "      <td>50.000000</td>\n",
       "      <td>93.0</td>\n",
       "      <td>0.000000</td>\n",
       "      <td>-0.666667</td>\n",
       "      <td>-1.000000</td>\n",
       "      <td>0.000271</td>\n",
       "      <td>0.000610</td>\n",
       "      <td>0.0002711221082796963</td>\n",
       "    </tr>\n",
       "    <tr>\n",
       "      <th>2020-01-06 09:15:26.034904</th>\n",
       "      <td>-0.000136</td>\n",
       "      <td>2</td>\n",
       "      <td>0.500000</td>\n",
       "      <td>100.0</td>\n",
       "      <td>50.000000</td>\n",
       "      <td>93.0</td>\n",
       "      <td>0.000000</td>\n",
       "      <td>-0.666667</td>\n",
       "      <td>-1.000000</td>\n",
       "      <td>0.000271</td>\n",
       "      <td>0.000610</td>\n",
       "      <td>0.0002711221082796963</td>\n",
       "    </tr>\n",
       "    <tr>\n",
       "      <th>2020-01-06 09:15:26.090733</th>\n",
       "      <td>-0.000119</td>\n",
       "      <td>6</td>\n",
       "      <td>0.166667</td>\n",
       "      <td>600.0</td>\n",
       "      <td>100.000000</td>\n",
       "      <td>353.0</td>\n",
       "      <td>0.000000</td>\n",
       "      <td>-0.583333</td>\n",
       "      <td>-1.000000</td>\n",
       "      <td>0.000282</td>\n",
       "      <td>0.000610</td>\n",
       "      <td>0.000293323357004454</td>\n",
       "    </tr>\n",
       "    <tr>\n",
       "      <th>2020-01-06 09:15:26.090733</th>\n",
       "      <td>-0.000119</td>\n",
       "      <td>6</td>\n",
       "      <td>0.166667</td>\n",
       "      <td>600.0</td>\n",
       "      <td>100.000000</td>\n",
       "      <td>353.0</td>\n",
       "      <td>0.000000</td>\n",
       "      <td>-0.583333</td>\n",
       "      <td>-1.000000</td>\n",
       "      <td>0.000282</td>\n",
       "      <td>0.000610</td>\n",
       "      <td>0.000293323357004454</td>\n",
       "    </tr>\n",
       "    <tr>\n",
       "      <th>2020-01-06 09:15:26.090733</th>\n",
       "      <td>-0.000097</td>\n",
       "      <td>6</td>\n",
       "      <td>0.166667</td>\n",
       "      <td>600.0</td>\n",
       "      <td>100.000000</td>\n",
       "      <td>353.0</td>\n",
       "      <td>0.000000</td>\n",
       "      <td>-0.583333</td>\n",
       "      <td>-1.000000</td>\n",
       "      <td>0.000282</td>\n",
       "      <td>0.000610</td>\n",
       "      <td>0.000293323357004454</td>\n",
       "    </tr>\n",
       "    <tr>\n",
       "      <th>2020-01-06 09:15:26.090733</th>\n",
       "      <td>-0.000068</td>\n",
       "      <td>6</td>\n",
       "      <td>0.166667</td>\n",
       "      <td>600.0</td>\n",
       "      <td>100.000000</td>\n",
       "      <td>353.0</td>\n",
       "      <td>0.000000</td>\n",
       "      <td>-0.583333</td>\n",
       "      <td>-1.000000</td>\n",
       "      <td>0.000282</td>\n",
       "      <td>0.000610</td>\n",
       "      <td>0.000293323357004454</td>\n",
       "    </tr>\n",
       "    <tr>\n",
       "      <th>2020-01-06 09:15:26.090733</th>\n",
       "      <td>-0.000020</td>\n",
       "      <td>6</td>\n",
       "      <td>0.166667</td>\n",
       "      <td>600.0</td>\n",
       "      <td>100.000000</td>\n",
       "      <td>353.0</td>\n",
       "      <td>0.000000</td>\n",
       "      <td>-0.583333</td>\n",
       "      <td>-1.000000</td>\n",
       "      <td>0.000282</td>\n",
       "      <td>0.000610</td>\n",
       "      <td>0.000293323357004454</td>\n",
       "    </tr>\n",
       "    <tr>\n",
       "      <th>2020-01-06 09:15:26.090733</th>\n",
       "      <td>0.000051</td>\n",
       "      <td>6</td>\n",
       "      <td>0.166667</td>\n",
       "      <td>600.0</td>\n",
       "      <td>100.000000</td>\n",
       "      <td>353.0</td>\n",
       "      <td>0.000000</td>\n",
       "      <td>-0.583333</td>\n",
       "      <td>-1.000000</td>\n",
       "      <td>0.000282</td>\n",
       "      <td>0.000610</td>\n",
       "      <td>0.000293323357004454</td>\n",
       "    </tr>\n",
       "    <tr>\n",
       "      <th>2020-01-06 09:15:26.091199</th>\n",
       "      <td>0.000051</td>\n",
       "      <td>7</td>\n",
       "      <td>0.142857</td>\n",
       "      <td>601.0</td>\n",
       "      <td>85.857143</td>\n",
       "      <td>353.0</td>\n",
       "      <td>0.000000</td>\n",
       "      <td>-0.592593</td>\n",
       "      <td>-0.996672</td>\n",
       "      <td>0.000247</td>\n",
       "      <td>0.000610</td>\n",
       "      <td>0.0002927787740411377</td>\n",
       "    </tr>\n",
       "    <tr>\n",
       "      <th>2020-01-06 09:15:26.091357</th>\n",
       "      <td>0.000164</td>\n",
       "      <td>7</td>\n",
       "      <td>0.142857</td>\n",
       "      <td>601.0</td>\n",
       "      <td>85.857143</td>\n",
       "      <td>353.0</td>\n",
       "      <td>-0.000042</td>\n",
       "      <td>-0.533333</td>\n",
       "      <td>-0.996672</td>\n",
       "      <td>0.000162</td>\n",
       "      <td>0.000593</td>\n",
       "      <td>0.0002927787740411377</td>\n",
       "    </tr>\n",
       "    <tr>\n",
       "      <th>2020-01-06 09:15:26.091369</th>\n",
       "      <td>-0.010947</td>\n",
       "      <td>7</td>\n",
       "      <td>0.142857</td>\n",
       "      <td>601.0</td>\n",
       "      <td>85.857143</td>\n",
       "      <td>353.0</td>\n",
       "      <td>0.005474</td>\n",
       "      <td>-0.515152</td>\n",
       "      <td>-0.996672</td>\n",
       "      <td>0.011270</td>\n",
       "      <td>0.003951</td>\n",
       "      <td>0.0002927787740411377</td>\n",
       "    </tr>\n",
       "    <tr>\n",
       "      <th>2020-01-06 09:15:26.121344</th>\n",
       "      <td>-0.010947</td>\n",
       "      <td>7</td>\n",
       "      <td>0.142857</td>\n",
       "      <td>601.0</td>\n",
       "      <td>85.857143</td>\n",
       "      <td>353.0</td>\n",
       "      <td>0.005474</td>\n",
       "      <td>-0.500000</td>\n",
       "      <td>-0.996672</td>\n",
       "      <td>0.011270</td>\n",
       "      <td>0.006750</td>\n",
       "      <td>0.0002927787740411377</td>\n",
       "    </tr>\n",
       "    <tr>\n",
       "      <th>2020-01-06 09:15:26.121348</th>\n",
       "      <td>0.000079</td>\n",
       "      <td>7</td>\n",
       "      <td>0.142857</td>\n",
       "      <td>601.0</td>\n",
       "      <td>85.857143</td>\n",
       "      <td>353.0</td>\n",
       "      <td>0.000000</td>\n",
       "      <td>-0.461538</td>\n",
       "      <td>-0.996672</td>\n",
       "      <td>0.000247</td>\n",
       "      <td>0.006277</td>\n",
       "      <td>0.0002927787740411377</td>\n",
       "    </tr>\n",
       "    <tr>\n",
       "      <th>2020-01-06 09:15:26.843964</th>\n",
       "      <td>0.000079</td>\n",
       "      <td>7</td>\n",
       "      <td>0.142857</td>\n",
       "      <td>601.0</td>\n",
       "      <td>85.857143</td>\n",
       "      <td>353.0</td>\n",
       "      <td>0.000000</td>\n",
       "      <td>-0.452381</td>\n",
       "      <td>-0.996672</td>\n",
       "      <td>0.000247</td>\n",
       "      <td>0.005873</td>\n",
       "      <td>0.0002927787740411377</td>\n",
       "    </tr>\n",
       "    <tr>\n",
       "      <th>2020-01-06 09:15:27.968215</th>\n",
       "      <td>0.000398</td>\n",
       "      <td>0</td>\n",
       "      <td>NaN</td>\n",
       "      <td>0.0</td>\n",
       "      <td>NaN</td>\n",
       "      <td>NaN</td>\n",
       "      <td>NaN</td>\n",
       "      <td>0.000000</td>\n",
       "      <td>NaN</td>\n",
       "      <td>NaN</td>\n",
       "      <td>0.001322</td>\n",
       "      <td>nan</td>\n",
       "    </tr>\n",
       "    <tr>\n",
       "      <th>2020-01-06 09:15:28.126916</th>\n",
       "      <td>0.000398</td>\n",
       "      <td>2</td>\n",
       "      <td>0.500000</td>\n",
       "      <td>150.0</td>\n",
       "      <td>75.000000</td>\n",
       "      <td>NaN</td>\n",
       "      <td>0.000000</td>\n",
       "      <td>0.000000</td>\n",
       "      <td>1.000000</td>\n",
       "      <td>-0.000407</td>\n",
       "      <td>0.001322</td>\n",
       "      <td>0.0004123374931521345</td>\n",
       "    </tr>\n",
       "    <tr>\n",
       "      <th>2020-01-06 09:15:28.126916</th>\n",
       "      <td>0.000391</td>\n",
       "      <td>2</td>\n",
       "      <td>0.500000</td>\n",
       "      <td>150.0</td>\n",
       "      <td>75.000000</td>\n",
       "      <td>NaN</td>\n",
       "      <td>0.000000</td>\n",
       "      <td>0.000000</td>\n",
       "      <td>1.000000</td>\n",
       "      <td>-0.000407</td>\n",
       "      <td>0.001322</td>\n",
       "      <td>0.0004123374931521345</td>\n",
       "    </tr>\n",
       "    <tr>\n",
       "      <th>2020-01-06 09:15:28.129438</th>\n",
       "      <td>-0.000032</td>\n",
       "      <td>3</td>\n",
       "      <td>0.333333</td>\n",
       "      <td>200.0</td>\n",
       "      <td>66.666667</td>\n",
       "      <td>NaN</td>\n",
       "      <td>0.000625</td>\n",
       "      <td>0.171429</td>\n",
       "      <td>1.000000</td>\n",
       "      <td>-0.000011</td>\n",
       "      <td>0.001091</td>\n",
       "      <td>0.0003261891246636262</td>\n",
       "    </tr>\n",
       "    <tr>\n",
       "      <th>2020-01-06 09:15:28.129438</th>\n",
       "      <td>-0.000032</td>\n",
       "      <td>3</td>\n",
       "      <td>0.333333</td>\n",
       "      <td>200.0</td>\n",
       "      <td>66.666667</td>\n",
       "      <td>NaN</td>\n",
       "      <td>0.000625</td>\n",
       "      <td>0.171429</td>\n",
       "      <td>1.000000</td>\n",
       "      <td>-0.000011</td>\n",
       "      <td>0.001091</td>\n",
       "      <td>0.0003261891246636262</td>\n",
       "    </tr>\n",
       "    <tr>\n",
       "      <th>2020-01-06 09:15:32.289562</th>\n",
       "      <td>-0.000018</td>\n",
       "      <td>1</td>\n",
       "      <td>1.000000</td>\n",
       "      <td>1.0</td>\n",
       "      <td>1.000000</td>\n",
       "      <td>1.0</td>\n",
       "      <td>0.000000</td>\n",
       "      <td>0.428571</td>\n",
       "      <td>-1.000000</td>\n",
       "      <td>0.000237</td>\n",
       "      <td>0.000745</td>\n",
       "      <td>0.0002372117464824412</td>\n",
       "    </tr>\n",
       "    <tr>\n",
       "      <th>2020-01-06 09:15:32.311000</th>\n",
       "      <td>0.000037</td>\n",
       "      <td>2</td>\n",
       "      <td>0.500000</td>\n",
       "      <td>11.0</td>\n",
       "      <td>5.500000</td>\n",
       "      <td>10.0</td>\n",
       "      <td>0.000000</td>\n",
       "      <td>0.428571</td>\n",
       "      <td>0.818182</td>\n",
       "      <td>0.000082</td>\n",
       "      <td>0.000745</td>\n",
       "      <td>8.870871085983675e-05</td>\n",
       "    </tr>\n",
       "    <tr>\n",
       "      <th>2020-01-06 09:15:34.553000</th>\n",
       "      <td>-0.000007</td>\n",
       "      <td>1</td>\n",
       "      <td>1.000000</td>\n",
       "      <td>1.0</td>\n",
       "      <td>1.000000</td>\n",
       "      <td>1.0</td>\n",
       "      <td>0.000000</td>\n",
       "      <td>0.428571</td>\n",
       "      <td>1.000000</td>\n",
       "      <td>-0.000074</td>\n",
       "      <td>0.000745</td>\n",
       "      <td>7.386302613394125e-05</td>\n",
       "    </tr>\n",
       "    <tr>\n",
       "      <th>2020-01-06 09:15:34.929205</th>\n",
       "      <td>-0.000034</td>\n",
       "      <td>2</td>\n",
       "      <td>0.500000</td>\n",
       "      <td>2.0</td>\n",
       "      <td>1.000000</td>\n",
       "      <td>1.0</td>\n",
       "      <td>0.000000</td>\n",
       "      <td>0.428571</td>\n",
       "      <td>0.000000</td>\n",
       "      <td>-0.000037</td>\n",
       "      <td>0.000745</td>\n",
       "      <td>3.693287700362742e-05</td>\n",
       "    </tr>\n",
       "    <tr>\n",
       "      <th>2020-01-06 09:15:35.216151</th>\n",
       "      <td>0.000017</td>\n",
       "      <td>2</td>\n",
       "      <td>0.500000</td>\n",
       "      <td>2.0</td>\n",
       "      <td>1.000000</td>\n",
       "      <td>1.0</td>\n",
       "      <td>-0.010000</td>\n",
       "      <td>0.174603</td>\n",
       "      <td>0.000000</td>\n",
       "      <td>-0.000105</td>\n",
       "      <td>0.000700</td>\n",
       "      <td>3.693287700362742e-05</td>\n",
       "    </tr>\n",
       "    <tr>\n",
       "      <th>2020-01-06 09:15:35.843050</th>\n",
       "      <td>0.000017</td>\n",
       "      <td>2</td>\n",
       "      <td>0.500000</td>\n",
       "      <td>11.0</td>\n",
       "      <td>5.500000</td>\n",
       "      <td>10.0</td>\n",
       "      <td>-0.001818</td>\n",
       "      <td>-0.079365</td>\n",
       "      <td>-1.000000</td>\n",
       "      <td>-0.000068</td>\n",
       "      <td>0.000655</td>\n",
       "      <td>-6.160822102459619e-05</td>\n",
       "    </tr>\n",
       "    <tr>\n",
       "      <th>2020-01-06 09:15:35.843076</th>\n",
       "      <td>0.000051</td>\n",
       "      <td>2</td>\n",
       "      <td>0.500000</td>\n",
       "      <td>11.0</td>\n",
       "      <td>5.500000</td>\n",
       "      <td>10.0</td>\n",
       "      <td>-0.004091</td>\n",
       "      <td>-0.059524</td>\n",
       "      <td>-1.000000</td>\n",
       "      <td>-0.000152</td>\n",
       "      <td>0.000635</td>\n",
       "      <td>-6.160822102459619e-05</td>\n",
       "    </tr>\n",
       "    <tr>\n",
       "      <th>2020-01-06 09:15:35.843079</th>\n",
       "      <td>0.024013</td>\n",
       "      <td>2</td>\n",
       "      <td>0.500000</td>\n",
       "      <td>11.0</td>\n",
       "      <td>5.500000</td>\n",
       "      <td>10.0</td>\n",
       "      <td>-0.631818</td>\n",
       "      <td>-0.047619</td>\n",
       "      <td>-1.000000</td>\n",
       "      <td>-0.024117</td>\n",
       "      <td>0.010211</td>\n",
       "      <td>-6.160822102459619e-05</td>\n",
       "    </tr>\n",
       "    <tr>\n",
       "      <th>2020-01-06 09:15:35.843085</th>\n",
       "      <td>0.000051</td>\n",
       "      <td>2</td>\n",
       "      <td>0.500000</td>\n",
       "      <td>11.0</td>\n",
       "      <td>5.500000</td>\n",
       "      <td>10.0</td>\n",
       "      <td>-0.004091</td>\n",
       "      <td>0.015873</td>\n",
       "      <td>-1.000000</td>\n",
       "      <td>-0.000152</td>\n",
       "      <td>0.008605</td>\n",
       "      <td>-6.160822102459619e-05</td>\n",
       "    </tr>\n",
       "  </tbody>\n",
       "</table>\n",
       "</div>"
      ],
      "text/plain": [
       "                              Return  Breath  Immediacy  VolumeAll  \\\n",
       "Participant_Timestamp                                                \n",
       "2020-01-06 09:15:03.498942       NaN       1   1.000000        1.0   \n",
       "2020-01-06 09:15:04.398262  0.000054       1   1.000000        1.0   \n",
       "2020-01-06 09:15:04.480789  0.000054       2   0.500000       31.0   \n",
       "2020-01-06 09:15:07.130415  0.000089       1   1.000000       67.0   \n",
       "2020-01-06 09:15:07.134778 -0.000010       2   0.500000      200.0   \n",
       "2020-01-06 09:15:07.134778 -0.000010       2   0.500000      200.0   \n",
       "2020-01-06 09:15:08.110946 -0.000015       3   0.333333      201.0   \n",
       "2020-01-06 09:15:08.110946 -0.000021       3   0.333333      201.0   \n",
       "2020-01-06 09:15:08.266000 -0.000021       2   0.500000      101.0   \n",
       "2020-01-06 09:15:08.268300  0.000010       2   0.500000      101.0   \n",
       "2020-01-06 09:15:11.007734  0.000017       1   1.000000        1.0   \n",
       "2020-01-06 09:15:11.504118  0.000015       2   0.500000        5.0   \n",
       "2020-01-06 09:15:11.504118  0.000011       2   0.500000        5.0   \n",
       "2020-01-06 09:15:11.504248  0.000011       5   0.200000      319.0   \n",
       "2020-01-06 09:15:11.504248  0.000007       5   0.200000      319.0   \n",
       "2020-01-06 09:15:11.504248  0.000254       5   0.200000      319.0   \n",
       "2020-01-06 09:15:11.504248  0.000254       5   0.200000      319.0   \n",
       "2020-01-06 09:15:11.504269 -0.010835       5   0.200000      319.0   \n",
       "2020-01-06 09:15:11.504279 -0.020860       5   0.200000      319.0   \n",
       "2020-01-06 09:15:11.504280  0.000175       5   0.200000      319.0   \n",
       "2020-01-06 09:15:11.504281  0.000175       5   0.200000      319.0   \n",
       "2020-01-06 09:15:11.504284 -0.020860       5   0.200000      319.0   \n",
       "2020-01-06 09:15:11.504285 -0.020860       5   0.200000      319.0   \n",
       "2020-01-06 09:15:11.504286 -0.000011       5   0.200000      319.0   \n",
       "2020-01-06 09:15:11.504290 -0.020860       5   0.200000      319.0   \n",
       "2020-01-06 09:15:11.504292  0.000175       5   0.200000      319.0   \n",
       "2020-01-06 09:15:11.504311 -0.020860       5   0.200000      319.0   \n",
       "2020-01-06 09:15:11.504396 -0.010835       5   0.200000      319.0   \n",
       "2020-01-06 09:15:11.504432 -0.003219       5   0.200000      319.0   \n",
       "2020-01-06 09:15:11.504433 -0.014534       5   0.200000      319.0   \n",
       "2020-01-06 09:15:11.504455 -0.014534       5   0.200000      319.0   \n",
       "2020-01-06 09:15:11.504607  0.000175       5   0.200000      319.0   \n",
       "2020-01-06 09:15:11.504688  0.000565       5   0.200000      319.0   \n",
       "2020-01-06 09:15:11.505308 -0.020860       5   0.200000      319.0   \n",
       "2020-01-06 09:15:11.505325  0.002162       5   0.200000      319.0   \n",
       "2020-01-06 09:15:11.505337 -0.020860       5   0.200000      319.0   \n",
       "2020-01-06 09:15:11.505363  0.000175       5   0.200000      319.0   \n",
       "2020-01-06 09:15:11.505656 -0.014534       5   0.200000      319.0   \n",
       "2020-01-06 09:15:11.505759 -0.020860       5   0.200000      319.0   \n",
       "2020-01-06 09:15:11.505778  0.000175       5   0.200000      319.0   \n",
       "2020-01-06 09:15:11.506036 -0.010835       5   0.200000      319.0   \n",
       "2020-01-06 09:15:11.506055  0.000565       5   0.200000      319.0   \n",
       "2020-01-06 09:15:11.514673  0.000243       5   0.200000      319.0   \n",
       "2020-01-06 09:15:11.519196  0.000243       6   0.166667      401.0   \n",
       "2020-01-06 09:15:11.519196  0.000243       6   0.166667      401.0   \n",
       "2020-01-06 09:15:11.534258 -0.010874       6   0.166667      401.0   \n",
       "2020-01-06 09:15:11.534260 -0.000050       6   0.166667      401.0   \n",
       "2020-01-06 09:15:11.534387 -0.010874       6   0.166667      401.0   \n",
       "2020-01-06 09:15:11.655681  0.002122       6   0.166667      401.0   \n",
       "2020-01-06 09:15:11.669000  0.002122       7   0.142857      412.0   \n",
       "2020-01-06 09:15:13.712099  0.001996       1   1.000000        1.0   \n",
       "2020-01-06 09:15:14.206592 -0.000085       1   1.000000        1.0   \n",
       "2020-01-06 09:15:16.825918  0.000023       0        NaN        0.0   \n",
       "2020-01-06 09:15:16.826233 -0.000045       1   1.000000      100.0   \n",
       "2020-01-06 09:15:16.826233 -0.000045       1   1.000000      100.0   \n",
       "2020-01-06 09:15:17.544157 -0.000037       2   0.500000      600.0   \n",
       "2020-01-06 09:15:17.544157 -0.000025       2   0.500000      600.0   \n",
       "2020-01-06 09:15:17.657898 -0.000025       3   0.333333     1100.0   \n",
       "2020-01-06 09:15:17.657898  0.000130       3   0.333333     1100.0   \n",
       "2020-01-06 09:15:17.658304  0.000130       4   0.250000     1105.0   \n",
       "2020-01-06 09:15:17.658304  0.000169       4   0.250000     1105.0   \n",
       "2020-01-06 09:15:17.658436  0.000169       4   0.250000     1105.0   \n",
       "2020-01-06 09:15:17.658444 -0.010942       4   0.250000     1105.0   \n",
       "2020-01-06 09:15:17.688421 -0.010942       4   0.250000     1105.0   \n",
       "2020-01-06 09:15:17.688426  0.000169       4   0.250000     1105.0   \n",
       "2020-01-06 09:15:18.855187 -0.011139       0        NaN        0.0   \n",
       "2020-01-06 09:15:20.048326 -0.011139       1   1.000000        1.0   \n",
       "2020-01-06 09:15:21.066000 -0.011215       1   1.000000        1.0   \n",
       "2020-01-06 09:15:21.068933 -0.000258       1   1.000000        1.0   \n",
       "2020-01-06 09:15:23.761553 -0.000172       3   0.333333      500.0   \n",
       "2020-01-06 09:15:23.761553 -0.000164       3   0.333333      500.0   \n",
       "2020-01-06 09:15:23.761553 -0.000154       3   0.333333      500.0   \n",
       "2020-01-06 09:15:26.034904 -0.000149       2   0.500000      100.0   \n",
       "2020-01-06 09:15:26.034904 -0.000136       2   0.500000      100.0   \n",
       "2020-01-06 09:15:26.090733 -0.000119       6   0.166667      600.0   \n",
       "2020-01-06 09:15:26.090733 -0.000119       6   0.166667      600.0   \n",
       "2020-01-06 09:15:26.090733 -0.000097       6   0.166667      600.0   \n",
       "2020-01-06 09:15:26.090733 -0.000068       6   0.166667      600.0   \n",
       "2020-01-06 09:15:26.090733 -0.000020       6   0.166667      600.0   \n",
       "2020-01-06 09:15:26.090733  0.000051       6   0.166667      600.0   \n",
       "2020-01-06 09:15:26.091199  0.000051       7   0.142857      601.0   \n",
       "2020-01-06 09:15:26.091357  0.000164       7   0.142857      601.0   \n",
       "2020-01-06 09:15:26.091369 -0.010947       7   0.142857      601.0   \n",
       "2020-01-06 09:15:26.121344 -0.010947       7   0.142857      601.0   \n",
       "2020-01-06 09:15:26.121348  0.000079       7   0.142857      601.0   \n",
       "2020-01-06 09:15:26.843964  0.000079       7   0.142857      601.0   \n",
       "2020-01-06 09:15:27.968215  0.000398       0        NaN        0.0   \n",
       "2020-01-06 09:15:28.126916  0.000398       2   0.500000      150.0   \n",
       "2020-01-06 09:15:28.126916  0.000391       2   0.500000      150.0   \n",
       "2020-01-06 09:15:28.129438 -0.000032       3   0.333333      200.0   \n",
       "2020-01-06 09:15:28.129438 -0.000032       3   0.333333      200.0   \n",
       "2020-01-06 09:15:32.289562 -0.000018       1   1.000000        1.0   \n",
       "2020-01-06 09:15:32.311000  0.000037       2   0.500000       11.0   \n",
       "2020-01-06 09:15:34.553000 -0.000007       1   1.000000        1.0   \n",
       "2020-01-06 09:15:34.929205 -0.000034       2   0.500000        2.0   \n",
       "2020-01-06 09:15:35.216151  0.000017       2   0.500000        2.0   \n",
       "2020-01-06 09:15:35.843050  0.000017       2   0.500000       11.0   \n",
       "2020-01-06 09:15:35.843076  0.000051       2   0.500000       11.0   \n",
       "2020-01-06 09:15:35.843079  0.024013       2   0.500000       11.0   \n",
       "2020-01-06 09:15:35.843085  0.000051       2   0.500000       11.0   \n",
       "\n",
       "                             VolumeAvg  VolumeMax    Lambda  LobImbalance  \\\n",
       "Participant_Timestamp                                                       \n",
       "2020-01-06 09:15:03.498942    1.000000        1.0       NaN           NaN   \n",
       "2020-01-06 09:15:04.398262    1.000000        1.0       NaN     -0.846154   \n",
       "2020-01-06 09:15:04.480789   15.500000       30.0       NaN     -0.846154   \n",
       "2020-01-06 09:15:07.130415   67.000000       67.0  0.000000     -0.846154   \n",
       "2020-01-06 09:15:07.134778  100.000000      133.0  0.000150     -0.615385   \n",
       "2020-01-06 09:15:07.134778  100.000000      133.0  0.000150     -0.615385   \n",
       "2020-01-06 09:15:08.110946   67.000000      133.0  0.000149     -0.569231   \n",
       "2020-01-06 09:15:08.110946   67.000000      133.0  0.000149     -0.569231   \n",
       "2020-01-06 09:15:08.266000   50.500000      100.0  0.000000     -0.500000   \n",
       "2020-01-06 09:15:08.268300   50.500000      100.0  0.000000     -0.491667   \n",
       "2020-01-06 09:15:11.007734    1.000000        1.0  0.000000     -0.466667   \n",
       "2020-01-06 09:15:11.504118    2.500000        4.0  0.000000     -0.466667   \n",
       "2020-01-06 09:15:11.504118    2.500000        4.0  0.000000     -0.466667   \n",
       "2020-01-06 09:15:11.504248   63.800000      200.0 -0.000235     -0.119048   \n",
       "2020-01-06 09:15:11.504248   63.800000      200.0 -0.000235     -0.119048   \n",
       "2020-01-06 09:15:11.504248   63.800000      200.0 -0.000235     -0.119048   \n",
       "2020-01-06 09:15:11.504248   63.800000      200.0 -0.000235     -0.119048   \n",
       "2020-01-06 09:15:11.504269   63.800000      200.0  0.010125     -0.145833   \n",
       "2020-01-06 09:15:11.504279   63.800000      200.0  0.019702     -0.129630   \n",
       "2020-01-06 09:15:11.504280   63.800000      200.0 -0.000172     -0.041667   \n",
       "2020-01-06 09:15:11.504281   63.800000      200.0 -0.000172      0.012626   \n",
       "2020-01-06 09:15:11.504284   63.800000      200.0  0.019702      0.011574   \n",
       "2020-01-06 09:15:11.504285   63.800000      200.0  0.019702     -0.014957   \n",
       "2020-01-06 09:15:11.504286   63.800000      200.0  0.000000     -0.047222   \n",
       "2020-01-06 09:15:11.504290   63.800000      200.0  0.019702     -0.066296   \n",
       "2020-01-06 09:15:11.504292   63.800000      200.0 -0.000172     -0.037153   \n",
       "2020-01-06 09:15:11.504311   63.800000      200.0  0.019702     -0.064379   \n",
       "2020-01-06 09:15:11.504396   63.800000      200.0  0.010125     -0.079321   \n",
       "2020-01-06 09:15:11.504432   63.800000      200.0  0.002978     -0.075146   \n",
       "2020-01-06 09:15:11.504433   63.800000      200.0  0.013636     -0.071389   \n",
       "2020-01-06 09:15:11.504455   63.800000      200.0  0.013636     -0.083862   \n",
       "2020-01-06 09:15:11.504607   63.800000      200.0 -0.000172     -0.080051   \n",
       "2020-01-06 09:15:11.504688   63.800000      200.0 -0.000533     -0.076570   \n",
       "2020-01-06 09:15:11.505308   63.800000      200.0  0.019702     -0.073380   \n",
       "2020-01-06 09:15:11.505325   63.800000      200.0 -0.002006     -0.070444   \n",
       "2020-01-06 09:15:11.505337   63.800000      200.0  0.019702     -0.080556   \n",
       "2020-01-06 09:15:11.505363   63.800000      200.0 -0.000172     -0.056996   \n",
       "2020-01-06 09:15:11.505656   63.800000      200.0  0.013636     -0.054960   \n",
       "2020-01-06 09:15:11.505759   63.800000      200.0  0.019702     -0.053065   \n",
       "2020-01-06 09:15:11.505778   63.800000      200.0 -0.000172     -0.026296   \n",
       "2020-01-06 09:15:11.506036   63.800000      200.0  0.010125     -0.036201   \n",
       "2020-01-06 09:15:11.506055   63.800000      200.0 -0.000533     -0.035069   \n",
       "2020-01-06 09:15:11.514673   63.800000      200.0 -0.000235     -0.011279   \n",
       "2020-01-06 09:15:11.519196   66.833333      200.0 -0.000187      0.030181   \n",
       "2020-01-06 09:15:11.519196   66.833333      200.0 -0.000187      0.030181   \n",
       "2020-01-06 09:15:11.534258   66.833333      200.0  0.008055      0.020084   \n",
       "2020-01-06 09:15:11.534260   66.833333      200.0  0.000000      0.006928   \n",
       "2020-01-06 09:15:11.534387   66.833333      200.0  0.008055     -0.002026   \n",
       "2020-01-06 09:15:11.655681   66.833333      200.0 -0.001596     -0.001974   \n",
       "2020-01-06 09:15:11.669000   58.857143      200.0 -0.001553     -0.001925   \n",
       "2020-01-06 09:15:13.712099    1.000000        1.0  0.000000      0.000000   \n",
       "2020-01-06 09:15:14.206592    1.000000        1.0  0.595000     -0.416667   \n",
       "2020-01-06 09:15:16.825918         NaN        NaN       NaN      0.000000   \n",
       "2020-01-06 09:15:16.826233  100.000000        NaN  0.000200     -0.545455   \n",
       "2020-01-06 09:15:16.826233  100.000000        NaN  0.000200     -0.545455   \n",
       "2020-01-06 09:15:17.544157  300.000000        NaN  0.000033     -0.624242   \n",
       "2020-01-06 09:15:17.544157  300.000000        NaN  0.000033     -0.624242   \n",
       "2020-01-06 09:15:17.657898  366.666667        NaN -0.000018     -0.636364   \n",
       "2020-01-06 09:15:17.657898  366.666667        NaN -0.000018     -0.636364   \n",
       "2020-01-06 09:15:17.658304  276.250000        NaN -0.000018     -0.643098   \n",
       "2020-01-06 09:15:17.658304  276.250000        NaN -0.000018     -0.643098   \n",
       "2020-01-06 09:15:17.658436  276.250000        NaN -0.000018     -0.645455   \n",
       "2020-01-06 09:15:17.658444  276.250000        NaN  0.002982     -0.586777   \n",
       "2020-01-06 09:15:17.688421  276.250000        NaN  0.002982     -0.565657   \n",
       "2020-01-06 09:15:17.688426  276.250000        NaN -0.000018     -0.573427   \n",
       "2020-01-06 09:15:18.855187         NaN        NaN       NaN     -0.333333   \n",
       "2020-01-06 09:15:20.048326    1.000000        1.0  0.000000     -0.333333   \n",
       "2020-01-06 09:15:21.066000    1.000000        1.0  0.000000     -0.333333   \n",
       "2020-01-06 09:15:21.068933    1.000000        1.0 -3.290000     -0.500000   \n",
       "2020-01-06 09:15:23.761553  166.666667      270.0  0.000000     -0.666667   \n",
       "2020-01-06 09:15:23.761553  166.666667      270.0  0.000000     -0.666667   \n",
       "2020-01-06 09:15:23.761553  166.666667      270.0  0.000000     -0.666667   \n",
       "2020-01-06 09:15:26.034904   50.000000       93.0  0.000000     -0.666667   \n",
       "2020-01-06 09:15:26.034904   50.000000       93.0  0.000000     -0.666667   \n",
       "2020-01-06 09:15:26.090733  100.000000      353.0  0.000000     -0.583333   \n",
       "2020-01-06 09:15:26.090733  100.000000      353.0  0.000000     -0.583333   \n",
       "2020-01-06 09:15:26.090733  100.000000      353.0  0.000000     -0.583333   \n",
       "2020-01-06 09:15:26.090733  100.000000      353.0  0.000000     -0.583333   \n",
       "2020-01-06 09:15:26.090733  100.000000      353.0  0.000000     -0.583333   \n",
       "2020-01-06 09:15:26.090733  100.000000      353.0  0.000000     -0.583333   \n",
       "2020-01-06 09:15:26.091199   85.857143      353.0  0.000000     -0.592593   \n",
       "2020-01-06 09:15:26.091357   85.857143      353.0 -0.000042     -0.533333   \n",
       "2020-01-06 09:15:26.091369   85.857143      353.0  0.005474     -0.515152   \n",
       "2020-01-06 09:15:26.121344   85.857143      353.0  0.005474     -0.500000   \n",
       "2020-01-06 09:15:26.121348   85.857143      353.0  0.000000     -0.461538   \n",
       "2020-01-06 09:15:26.843964   85.857143      353.0  0.000000     -0.452381   \n",
       "2020-01-06 09:15:27.968215         NaN        NaN       NaN      0.000000   \n",
       "2020-01-06 09:15:28.126916   75.000000        NaN  0.000000      0.000000   \n",
       "2020-01-06 09:15:28.126916   75.000000        NaN  0.000000      0.000000   \n",
       "2020-01-06 09:15:28.129438   66.666667        NaN  0.000625      0.171429   \n",
       "2020-01-06 09:15:28.129438   66.666667        NaN  0.000625      0.171429   \n",
       "2020-01-06 09:15:32.289562    1.000000        1.0  0.000000      0.428571   \n",
       "2020-01-06 09:15:32.311000    5.500000       10.0  0.000000      0.428571   \n",
       "2020-01-06 09:15:34.553000    1.000000        1.0  0.000000      0.428571   \n",
       "2020-01-06 09:15:34.929205    1.000000        1.0  0.000000      0.428571   \n",
       "2020-01-06 09:15:35.216151    1.000000        1.0 -0.010000      0.174603   \n",
       "2020-01-06 09:15:35.843050    5.500000       10.0 -0.001818     -0.079365   \n",
       "2020-01-06 09:15:35.843076    5.500000       10.0 -0.004091     -0.059524   \n",
       "2020-01-06 09:15:35.843079    5.500000       10.0 -0.631818     -0.047619   \n",
       "2020-01-06 09:15:35.843085    5.500000       10.0 -0.004091      0.015873   \n",
       "\n",
       "                            TxnImbalance  PastReturn  QuotedSpread  \\\n",
       "Participant_Timestamp                                                \n",
       "2020-01-06 09:15:03.498942      0.000000         NaN           NaN   \n",
       "2020-01-06 09:15:04.398262      0.000000   -0.000068      0.000271   \n",
       "2020-01-06 09:15:04.480789      0.000000   -0.000068      0.000271   \n",
       "2020-01-06 09:15:07.130415      0.000000   -0.000068      0.000271   \n",
       "2020-01-06 09:15:07.134778      0.665000    0.000000      0.000407   \n",
       "2020-01-06 09:15:07.134778      0.665000    0.000000      0.000407   \n",
       "2020-01-06 09:15:08.110946      0.666667   -0.000011      0.000434   \n",
       "2020-01-06 09:15:08.110946      0.666667   -0.000011      0.000434   \n",
       "2020-01-06 09:15:08.266000     -0.980198    0.000102      0.000474   \n",
       "2020-01-06 09:15:08.268300     -0.980198    0.000102      0.000474   \n",
       "2020-01-06 09:15:11.007734      1.000000   -0.000034      0.000474   \n",
       "2020-01-06 09:15:11.504118      1.000000   -0.000034      0.000474   \n",
       "2020-01-06 09:15:11.504118      1.000000   -0.000034      0.000474   \n",
       "2020-01-06 09:15:11.504248      1.000000   -0.000288      0.000523   \n",
       "2020-01-06 09:15:11.504248      1.000000   -0.000288      0.000523   \n",
       "2020-01-06 09:15:11.504248      1.000000   -0.000288      0.000523   \n",
       "2020-01-06 09:15:11.504248      1.000000   -0.000288      0.000523   \n",
       "2020-01-06 09:15:11.504269      1.000000    0.010791      0.005149   \n",
       "2020-01-06 09:15:11.504279      1.000000    0.020816      0.009306   \n",
       "2020-01-06 09:15:11.504280      1.000000   -0.000220      0.008426   \n",
       "2020-01-06 09:15:11.504281      1.000000   -0.000220      0.007706   \n",
       "2020-01-06 09:15:11.504284      1.000000    0.020816      0.010611   \n",
       "2020-01-06 09:15:11.504285      1.000000    0.020816      0.013068   \n",
       "2020-01-06 09:15:11.504286      1.000000   -0.000034      0.012169   \n",
       "2020-01-06 09:15:11.504290      1.000000    0.020816      0.014195   \n",
       "2020-01-06 09:15:11.504292      1.000000   -0.000220      0.013340   \n",
       "2020-01-06 09:15:11.504311      1.000000    0.020816      0.015058   \n",
       "2020-01-06 09:15:11.504396      1.000000    0.010791      0.016307   \n",
       "2020-01-06 09:15:11.504432      1.000000    0.003174      0.015833   \n",
       "2020-01-06 09:15:11.504433      1.000000    0.014490      0.016537   \n",
       "2020-01-06 09:15:11.504455      1.000000    0.014490      0.017174   \n",
       "2020-01-06 09:15:11.504607      1.000000   -0.000220      0.016416   \n",
       "2020-01-06 09:15:11.504688      1.000000   -0.000610      0.015759   \n",
       "2020-01-06 09:15:11.505308      1.000000    0.020816      0.016875   \n",
       "2020-01-06 09:15:11.505325      1.000000   -0.002207      0.019824   \n",
       "2020-01-06 09:15:11.505337      1.000000    0.020816      0.020698   \n",
       "2020-01-06 09:15:11.505363      1.000000   -0.000220      0.019950   \n",
       "2020-01-06 09:15:11.505656      1.000000    0.014490      0.020306   \n",
       "2020-01-06 09:15:11.505759      1.000000    0.020816      0.021074   \n",
       "2020-01-06 09:15:11.505778      1.000000   -0.000220      0.020388   \n",
       "2020-01-06 09:15:11.506036      1.000000    0.010791      0.020941   \n",
       "2020-01-06 09:15:11.506055      1.000000   -0.000610      0.020753   \n",
       "2020-01-06 09:15:11.514673      1.000000   -0.000288      0.020144   \n",
       "2020-01-06 09:15:11.519196      1.000000   -0.000294      0.019029   \n",
       "2020-01-06 09:15:11.519196      1.000000   -0.000294      0.019029   \n",
       "2020-01-06 09:15:11.534258      1.000000    0.010785      0.019543   \n",
       "2020-01-06 09:15:11.534260      1.000000   -0.000040      0.019028   \n",
       "2020-01-06 09:15:11.534387      1.000000    0.010785      0.019515   \n",
       "2020-01-06 09:15:11.655681      1.000000   -0.002213      0.021337   \n",
       "2020-01-06 09:15:11.669000      0.946602   -0.002183      0.023068   \n",
       "2020-01-06 09:15:13.712099      1.000000   -0.002241      0.090585   \n",
       "2020-01-06 09:15:14.206592      1.000000   -0.000220      0.045377   \n",
       "2020-01-06 09:15:16.825918           NaN         NaN      0.001999   \n",
       "2020-01-06 09:15:16.826233     -1.000000    0.000085      0.000779   \n",
       "2020-01-06 09:15:16.826233     -1.000000    0.000085      0.000779   \n",
       "2020-01-06 09:15:17.544157     -1.000000    0.000085      0.000535   \n",
       "2020-01-06 09:15:17.544157     -1.000000    0.000085      0.000535   \n",
       "2020-01-06 09:15:17.657898     -1.000000   -0.000051      0.000470   \n",
       "2020-01-06 09:15:17.657898     -1.000000   -0.000051      0.000470   \n",
       "2020-01-06 09:15:17.658304     -1.000000   -0.000051      0.000463   \n",
       "2020-01-06 09:15:17.658304     -1.000000   -0.000051      0.000463   \n",
       "2020-01-06 09:15:17.658436     -1.000000   -0.000051      0.000461   \n",
       "2020-01-06 09:15:17.658444     -1.000000    0.011059      0.003831   \n",
       "2020-01-06 09:15:17.688421     -1.000000    0.011059      0.006640   \n",
       "2020-01-06 09:15:17.688426     -1.000000   -0.000051      0.006163   \n",
       "2020-01-06 09:15:18.855187           NaN         NaN      0.037534   \n",
       "2020-01-06 09:15:20.048326      1.000000    0.010992      0.037534   \n",
       "2020-01-06 09:15:21.066000      1.000000    0.010891      0.037534   \n",
       "2020-01-06 09:15:21.068933      1.000000   -0.000136      0.019072   \n",
       "2020-01-06 09:15:23.761553     -1.000000    0.000248      0.000610   \n",
       "2020-01-06 09:15:23.761553     -1.000000    0.000248      0.000610   \n",
       "2020-01-06 09:15:23.761553     -1.000000    0.000248      0.000610   \n",
       "2020-01-06 09:15:26.034904     -1.000000    0.000271      0.000610   \n",
       "2020-01-06 09:15:26.034904     -1.000000    0.000271      0.000610   \n",
       "2020-01-06 09:15:26.090733     -1.000000    0.000282      0.000610   \n",
       "2020-01-06 09:15:26.090733     -1.000000    0.000282      0.000610   \n",
       "2020-01-06 09:15:26.090733     -1.000000    0.000282      0.000610   \n",
       "2020-01-06 09:15:26.090733     -1.000000    0.000282      0.000610   \n",
       "2020-01-06 09:15:26.090733     -1.000000    0.000282      0.000610   \n",
       "2020-01-06 09:15:26.090733     -1.000000    0.000282      0.000610   \n",
       "2020-01-06 09:15:26.091199     -0.996672    0.000247      0.000610   \n",
       "2020-01-06 09:15:26.091357     -0.996672    0.000162      0.000593   \n",
       "2020-01-06 09:15:26.091369     -0.996672    0.011270      0.003951   \n",
       "2020-01-06 09:15:26.121344     -0.996672    0.011270      0.006750   \n",
       "2020-01-06 09:15:26.121348     -0.996672    0.000247      0.006277   \n",
       "2020-01-06 09:15:26.843964     -0.996672    0.000247      0.005873   \n",
       "2020-01-06 09:15:27.968215           NaN         NaN      0.001322   \n",
       "2020-01-06 09:15:28.126916      1.000000   -0.000407      0.001322   \n",
       "2020-01-06 09:15:28.126916      1.000000   -0.000407      0.001322   \n",
       "2020-01-06 09:15:28.129438      1.000000   -0.000011      0.001091   \n",
       "2020-01-06 09:15:28.129438      1.000000   -0.000011      0.001091   \n",
       "2020-01-06 09:15:32.289562     -1.000000    0.000237      0.000745   \n",
       "2020-01-06 09:15:32.311000      0.818182    0.000082      0.000745   \n",
       "2020-01-06 09:15:34.553000      1.000000   -0.000074      0.000745   \n",
       "2020-01-06 09:15:34.929205      0.000000   -0.000037      0.000745   \n",
       "2020-01-06 09:15:35.216151      0.000000   -0.000105      0.000700   \n",
       "2020-01-06 09:15:35.843050     -1.000000   -0.000068      0.000655   \n",
       "2020-01-06 09:15:35.843076     -1.000000   -0.000152      0.000635   \n",
       "2020-01-06 09:15:35.843079     -1.000000   -0.024117      0.010211   \n",
       "2020-01-06 09:15:35.843085     -1.000000   -0.000152      0.008605   \n",
       "\n",
       "                                   EffectiveSpread  \n",
       "Participant_Timestamp                               \n",
       "2020-01-06 09:15:03.498942                     0.0  \n",
       "2020-01-06 09:15:04.398262                     0.0  \n",
       "2020-01-06 09:15:04.480789                     0.0  \n",
       "2020-01-06 09:15:07.130415                     0.0  \n",
       "2020-01-06 09:15:07.134778   2.252951959291528e-05  \n",
       "2020-01-06 09:15:07.134778   2.252951959291528e-05  \n",
       "2020-01-06 09:15:08.110946  2.2585982003711035e-05  \n",
       "2020-01-06 09:15:08.110946  2.2585982003711035e-05  \n",
       "2020-01-06 09:15:08.266000  0.00023516617157211972  \n",
       "2020-01-06 09:15:08.268300  0.00023516617157211972  \n",
       "2020-01-06 09:15:11.007734   3.387820784593502e-05  \n",
       "2020-01-06 09:15:11.504118   3.387820784593501e-05  \n",
       "2020-01-06 09:15:11.504118   3.387820784593501e-05  \n",
       "2020-01-06 09:15:11.504248   4.503094794697302e-05  \n",
       "2020-01-06 09:15:11.504248   4.503094794697302e-05  \n",
       "2020-01-06 09:15:11.504248   4.503094794697302e-05  \n",
       "2020-01-06 09:15:11.504248   4.503094794697302e-05  \n",
       "2020-01-06 09:15:11.504269  4.5030947946973014e-05  \n",
       "2020-01-06 09:15:11.504279  4.5030947946973014e-05  \n",
       "2020-01-06 09:15:11.504280  4.5030947946973014e-05  \n",
       "2020-01-06 09:15:11.504281  4.5030947946973014e-05  \n",
       "2020-01-06 09:15:11.504284  4.5030947946973014e-05  \n",
       "2020-01-06 09:15:11.504285  4.5030947946973014e-05  \n",
       "2020-01-06 09:15:11.504286  4.5030947946973014e-05  \n",
       "2020-01-06 09:15:11.504290  4.5030947946973014e-05  \n",
       "2020-01-06 09:15:11.504292  4.5030947946973014e-05  \n",
       "2020-01-06 09:15:11.504311  4.5030947946973014e-05  \n",
       "2020-01-06 09:15:11.504396  4.5030947946973014e-05  \n",
       "2020-01-06 09:15:11.504432  4.5030947946973014e-05  \n",
       "2020-01-06 09:15:11.504433  4.5030947946973014e-05  \n",
       "2020-01-06 09:15:11.504455  4.5030947946973014e-05  \n",
       "2020-01-06 09:15:11.504607  4.5030947946973014e-05  \n",
       "2020-01-06 09:15:11.504688  4.5030947946973014e-05  \n",
       "2020-01-06 09:15:11.505308  4.5030947946973014e-05  \n",
       "2020-01-06 09:15:11.505325  4.5030947946973014e-05  \n",
       "2020-01-06 09:15:11.505337  4.5030947946973014e-05  \n",
       "2020-01-06 09:15:11.505363  4.5030947946973014e-05  \n",
       "2020-01-06 09:15:11.505656  4.5030947946973014e-05  \n",
       "2020-01-06 09:15:11.505759  4.5030947946973014e-05  \n",
       "2020-01-06 09:15:11.505778  4.5030947946973014e-05  \n",
       "2020-01-06 09:15:11.506036  4.5030947946973014e-05  \n",
       "2020-01-06 09:15:11.506055  4.5030947946973014e-05  \n",
       "2020-01-06 09:15:11.514673  4.5030947946973014e-05  \n",
       "2020-01-06 09:15:11.519196  0.00010164467438221736  \n",
       "2020-01-06 09:15:11.519196  0.00010164467438221736  \n",
       "2020-01-06 09:15:11.534258  0.00010164467438221736  \n",
       "2020-01-06 09:15:11.534260  0.00010164467438221736  \n",
       "2020-01-06 09:15:11.534387  0.00010164467438221736  \n",
       "2020-01-06 09:15:11.655681  0.00010164467438221736  \n",
       "2020-01-06 09:15:11.669000    4.54944474751927e-05  \n",
       "2020-01-06 09:15:13.712099   0.0022383513381331547  \n",
       "2020-01-06 09:15:14.206592   0.0022383513381331547  \n",
       "2020-01-06 09:15:16.825918                     nan  \n",
       "2020-01-06 09:15:16.826233   8.471345678313257e-05  \n",
       "2020-01-06 09:15:16.826233   8.471345678313257e-05  \n",
       "2020-01-06 09:15:17.544157   8.471345678313259e-05  \n",
       "2020-01-06 09:15:17.544157   8.471345678313259e-05  \n",
       "2020-01-06 09:15:17.657898   8.471345678313259e-05  \n",
       "2020-01-06 09:15:17.657898   8.471345678313259e-05  \n",
       "2020-01-06 09:15:17.658304   8.410013110111979e-05  \n",
       "2020-01-06 09:15:17.658304   8.410013110111979e-05  \n",
       "2020-01-06 09:15:17.658436   8.410013110111979e-05  \n",
       "2020-01-06 09:15:17.658444   8.410013110111979e-05  \n",
       "2020-01-06 09:15:17.688421   8.410013110111979e-05  \n",
       "2020-01-06 09:15:17.688426   8.410013110111979e-05  \n",
       "2020-01-06 09:15:18.855187                     nan  \n",
       "2020-01-06 09:15:20.048326   -0.011052815041185535  \n",
       "2020-01-06 09:15:21.066000   -0.010951166642907434  \n",
       "2020-01-06 09:15:21.068933   -0.010951166642907434  \n",
       "2020-01-06 09:15:23.761553  0.00025349649530440077  \n",
       "2020-01-06 09:15:23.761553  0.00025349649530440077  \n",
       "2020-01-06 09:15:23.761553  0.00025349649530440077  \n",
       "2020-01-06 09:15:26.034904   0.0002711221082796963  \n",
       "2020-01-06 09:15:26.034904   0.0002711221082796963  \n",
       "2020-01-06 09:15:26.090733    0.000293323357004454  \n",
       "2020-01-06 09:15:26.090733    0.000293323357004454  \n",
       "2020-01-06 09:15:26.090733    0.000293323357004454  \n",
       "2020-01-06 09:15:26.090733    0.000293323357004454  \n",
       "2020-01-06 09:15:26.090733    0.000293323357004454  \n",
       "2020-01-06 09:15:26.090733    0.000293323357004454  \n",
       "2020-01-06 09:15:26.091199   0.0002927787740411377  \n",
       "2020-01-06 09:15:26.091357   0.0002927787740411377  \n",
       "2020-01-06 09:15:26.091369   0.0002927787740411377  \n",
       "2020-01-06 09:15:26.121344   0.0002927787740411377  \n",
       "2020-01-06 09:15:26.121348   0.0002927787740411377  \n",
       "2020-01-06 09:15:26.843964   0.0002927787740411377  \n",
       "2020-01-06 09:15:27.968215                     nan  \n",
       "2020-01-06 09:15:28.126916   0.0004123374931521345  \n",
       "2020-01-06 09:15:28.126916   0.0004123374931521345  \n",
       "2020-01-06 09:15:28.129438   0.0003261891246636262  \n",
       "2020-01-06 09:15:28.129438   0.0003261891246636262  \n",
       "2020-01-06 09:15:32.289562   0.0002372117464824412  \n",
       "2020-01-06 09:15:32.311000   8.870871085983675e-05  \n",
       "2020-01-06 09:15:34.553000   7.386302613394125e-05  \n",
       "2020-01-06 09:15:34.929205   3.693287700362742e-05  \n",
       "2020-01-06 09:15:35.216151   3.693287700362742e-05  \n",
       "2020-01-06 09:15:35.843050  -6.160822102459619e-05  \n",
       "2020-01-06 09:15:35.843076  -6.160822102459619e-05  \n",
       "2020-01-06 09:15:35.843079  -6.160822102459619e-05  \n",
       "2020-01-06 09:15:35.843085  -6.160822102459619e-05  "
      ]
     },
     "execution_count": 4,
     "metadata": {},
     "output_type": "execute_result"
    }
   ],
   "source": [
    "pd.set_option('display.max_rows', None)\n",
    "features_df.head(100)"
   ]
  },
  {
   "cell_type": "markdown",
   "metadata": {},
   "source": [
    "### Example Torch Model ~ Lasso Model"
   ]
  },
  {
   "cell_type": "markdown",
   "metadata": {},
   "source": [
    "Synthetic Linear Data"
   ]
  },
  {
   "cell_type": "code",
   "execution_count": 3,
   "metadata": {},
   "outputs": [],
   "source": [
    "import numpy as np\n",
    "import matplotlib.pyplot as plt\n",
    "\n",
    "from torch_models.metadata.pandas import PandasDataset\n",
    "from torch_models.torch.lasso.estimator import LassoEstimator"
   ]
  },
  {
   "cell_type": "code",
   "execution_count": 4,
   "metadata": {},
   "outputs": [
    {
     "data": {
      "text/html": [
       "<div>\n",
       "<style scoped>\n",
       "    .dataframe tbody tr th:only-of-type {\n",
       "        vertical-align: middle;\n",
       "    }\n",
       "\n",
       "    .dataframe tbody tr th {\n",
       "        vertical-align: top;\n",
       "    }\n",
       "\n",
       "    .dataframe thead th {\n",
       "        text-align: right;\n",
       "    }\n",
       "</style>\n",
       "<table border=\"1\" class=\"dataframe\">\n",
       "  <thead>\n",
       "    <tr style=\"text-align: right;\">\n",
       "      <th></th>\n",
       "      <th>Feature1</th>\n",
       "      <th>Target</th>\n",
       "    </tr>\n",
       "  </thead>\n",
       "  <tbody>\n",
       "    <tr>\n",
       "      <th>0</th>\n",
       "      <td>1</td>\n",
       "      <td>2.099343</td>\n",
       "    </tr>\n",
       "    <tr>\n",
       "      <th>1</th>\n",
       "      <td>2</td>\n",
       "      <td>3.972347</td>\n",
       "    </tr>\n",
       "    <tr>\n",
       "      <th>2</th>\n",
       "      <td>3</td>\n",
       "      <td>6.129538</td>\n",
       "    </tr>\n",
       "    <tr>\n",
       "      <th>3</th>\n",
       "      <td>4</td>\n",
       "      <td>8.304606</td>\n",
       "    </tr>\n",
       "    <tr>\n",
       "      <th>4</th>\n",
       "      <td>5</td>\n",
       "      <td>9.953169</td>\n",
       "    </tr>\n",
       "  </tbody>\n",
       "</table>\n",
       "</div>"
      ],
      "text/plain": [
       "   Feature1    Target\n",
       "0         1  2.099343\n",
       "1         2  3.972347\n",
       "2         3  6.129538\n",
       "3         4  8.304606\n",
       "4         5  9.953169"
      ]
     },
     "execution_count": 4,
     "metadata": {},
     "output_type": "execute_result"
    }
   ],
   "source": [
    "np.random.seed(42)\n",
    "x = np.arange(1, 10001)\n",
    "y = 2*x + np.random.normal(0, 0.2, size=x.size)\n",
    "df = pd.DataFrame(x, columns=['Feature1'])\n",
    "df['Target'] = y\n",
    "df.head()"
   ]
  },
  {
   "cell_type": "code",
   "execution_count": 5,
   "metadata": {},
   "outputs": [],
   "source": [
    "train_size = int(0.8*len(df))\n",
    "df_train, df_test = df.iloc[:train_size], df.iloc[train_size:]\n",
    "train_set = PandasDataset(\n",
    "    dataframes = df_train,\n",
    "    target = 'Target',\n",
    "    start_date=\"2020-01-06\"\n",
    ")\n",
    "test_set = PandasDataset(\n",
    "    dataframes = df_test,\n",
    "    target = 'Target',\n",
    "    start_date=\"2020-01-07\"\n",
    ")\n",
    "\n",
    "train_kwargs = {\n",
    "    \"max_epochs\" : 200\n",
    "}\n",
    "\n",
    "lasso_estimator = LassoEstimator(\n",
    "    n_features = 1,\n",
    "    l1_strength = 0.01,\n",
    "    lr = 0.02,\n",
    "    weight_decay = 0,\n",
    "    trainer_kwargs = train_kwargs\n",
    ")"
   ]
  },
  {
   "cell_type": "code",
   "execution_count": 6,
   "metadata": {},
   "outputs": [
    {
     "name": "stderr",
     "output_type": "stream",
     "text": [
      "GPU available: True (mps), used: True\n",
      "TPU available: False, using: 0 TPU cores\n",
      "IPU available: False, using: 0 IPUs\n",
      "HPU available: False, using: 0 HPUs\n",
      "/Users/zilinchen/anaconda3/envs/env_taq/lib/python3.11/site-packages/pytorch_lightning/trainer/connectors/logger_connector/logger_connector.py:67: Starting from v1.9.0, `tensorboardX` has been removed as a dependency of the `pytorch_lightning` package, due to potential conflicts with other packages in the ML ecosystem. For this reason, `logger=True` will use `CSVLogger` as the default logger, unless the `tensorboard` or `tensorboardX` packages are found. Please `pip install lightning[extra]` or one of them to enable TensorBoard support by default\n",
      "\n",
      "  | Name  | Type                 | Params\n",
      "-----------------------------------------------\n",
      "0 | model | LassoRegressionModel | 2     \n",
      "-----------------------------------------------\n",
      "2         Trainable params\n",
      "0         Non-trainable params\n",
      "2         Total params\n",
      "0.000     Total estimated model params size (MB)\n",
      "/Users/zilinchen/anaconda3/envs/env_taq/lib/python3.11/site-packages/pytorch_lightning/loops/fit_loop.py:293: The number of training batches (8) is smaller than the logging interval Trainer(log_every_n_steps=50). Set a lower value for log_every_n_steps if you want to see logs for the training epoch.\n"
     ]
    },
    {
     "name": "stdout",
     "output_type": "stream",
     "text": [
      "Epoch 0: 100%|██████████| 8/8 [00:01<00:00,  4.66it/s, v_num=7, train_loss=1.47e+8]"
     ]
    },
    {
     "name": "stderr",
     "output_type": "stream",
     "text": [
      "/Users/zilinchen/anaconda3/envs/env_taq/lib/python3.11/site-packages/torch/autograd/__init__.py:251: UserWarning: The operator 'aten::sgn.out' is not currently supported on the MPS backend and will fall back to run on the CPU. This may have performance implications. (Triggered internally at /Users/runner/work/_temp/anaconda/conda-bld/pytorch_1702400235349/work/aten/src/ATen/mps/MPSFallback.mm:13.)\n",
      "  Variable._execution_engine.run_backward(  # Calls into the C++ engine to run the backward pass\n",
      "Epoch 0, global step 8: 'train_loss' reached 147399616.00000 (best 147399616.00000), saving model to '/Users/zilinchen/Desktop/TAQ/TAQ-Query-Scripts/lightning_logs/version_7/checkpoints/epoch=0-step=8.ckpt' as top 1\n"
     ]
    },
    {
     "name": "stdout",
     "output_type": "stream",
     "text": [
      "Epoch 1: 100%|██████████| 8/8 [00:00<00:00, 119.62it/s, v_num=7, train_loss=1.34e+8]"
     ]
    },
    {
     "name": "stderr",
     "output_type": "stream",
     "text": [
      "Epoch 1, global step 16: 'train_loss' reached 133630584.00000 (best 133630584.00000), saving model to '/Users/zilinchen/Desktop/TAQ/TAQ-Query-Scripts/lightning_logs/version_7/checkpoints/epoch=1-step=16.ckpt' as top 1\n"
     ]
    },
    {
     "name": "stdout",
     "output_type": "stream",
     "text": [
      "Epoch 2: 100%|██████████| 8/8 [00:00<00:00, 80.13it/s, v_num=7, train_loss=1.21e+8] "
     ]
    },
    {
     "name": "stderr",
     "output_type": "stream",
     "text": [
      "Epoch 2, global step 24: 'train_loss' reached 120804488.00000 (best 120804488.00000), saving model to '/Users/zilinchen/Desktop/TAQ/TAQ-Query-Scripts/lightning_logs/version_7/checkpoints/epoch=2-step=24.ckpt' as top 1\n"
     ]
    },
    {
     "name": "stdout",
     "output_type": "stream",
     "text": [
      "Epoch 3: 100%|██████████| 8/8 [00:00<00:00, 164.95it/s, v_num=7, train_loss=1.09e+8]"
     ]
    },
    {
     "name": "stderr",
     "output_type": "stream",
     "text": [
      "Epoch 3, global step 32: 'train_loss' reached 108836688.00000 (best 108836688.00000), saving model to '/Users/zilinchen/Desktop/TAQ/TAQ-Query-Scripts/lightning_logs/version_7/checkpoints/epoch=3-step=32.ckpt' as top 1\n"
     ]
    },
    {
     "name": "stdout",
     "output_type": "stream",
     "text": [
      "Epoch 4: 100%|██████████| 8/8 [00:00<00:00, 49.26it/s, v_num=7, train_loss=9.78e+7] "
     ]
    },
    {
     "name": "stderr",
     "output_type": "stream",
     "text": [
      "Epoch 4, global step 40: 'train_loss' reached 97765224.00000 (best 97765224.00000), saving model to '/Users/zilinchen/Desktop/TAQ/TAQ-Query-Scripts/lightning_logs/version_7/checkpoints/epoch=4-step=40.ckpt' as top 1\n"
     ]
    },
    {
     "name": "stdout",
     "output_type": "stream",
     "text": [
      "Epoch 5: 100%|██████████| 8/8 [00:00<00:00, 168.53it/s, v_num=7, train_loss=8.76e+7]"
     ]
    },
    {
     "name": "stderr",
     "output_type": "stream",
     "text": [
      "Epoch 5, global step 48: 'train_loss' reached 87577064.00000 (best 87577064.00000), saving model to '/Users/zilinchen/Desktop/TAQ/TAQ-Query-Scripts/lightning_logs/version_7/checkpoints/epoch=5-step=48.ckpt' as top 1\n"
     ]
    },
    {
     "name": "stdout",
     "output_type": "stream",
     "text": [
      "Epoch 6: 100%|██████████| 8/8 [00:00<00:00, 157.31it/s, v_num=7, train_loss=7.82e+7]"
     ]
    },
    {
     "name": "stderr",
     "output_type": "stream",
     "text": [
      "Epoch 6, global step 56: 'train_loss' reached 78237112.00000 (best 78237112.00000), saving model to '/Users/zilinchen/Desktop/TAQ/TAQ-Query-Scripts/lightning_logs/version_7/checkpoints/epoch=6-step=56.ckpt' as top 1\n"
     ]
    },
    {
     "name": "stdout",
     "output_type": "stream",
     "text": [
      "Epoch 7: 100%|██████████| 8/8 [00:00<00:00, 168.77it/s, v_num=7, train_loss=6.97e+7]"
     ]
    },
    {
     "name": "stderr",
     "output_type": "stream",
     "text": [
      "Epoch 7, global step 64: 'train_loss' reached 69701000.00000 (best 69701000.00000), saving model to '/Users/zilinchen/Desktop/TAQ/TAQ-Query-Scripts/lightning_logs/version_7/checkpoints/epoch=7-step=64.ckpt' as top 1\n"
     ]
    },
    {
     "name": "stdout",
     "output_type": "stream",
     "text": [
      "Epoch 8: 100%|██████████| 8/8 [00:00<00:00, 114.44it/s, v_num=7, train_loss=6.19e+7]"
     ]
    },
    {
     "name": "stderr",
     "output_type": "stream",
     "text": [
      "Epoch 8, global step 72: 'train_loss' reached 61921324.00000 (best 61921324.00000), saving model to '/Users/zilinchen/Desktop/TAQ/TAQ-Query-Scripts/lightning_logs/version_7/checkpoints/epoch=8-step=72.ckpt' as top 1\n"
     ]
    },
    {
     "name": "stdout",
     "output_type": "stream",
     "text": [
      "Epoch 9: 100%|██████████| 8/8 [00:00<00:00, 172.53it/s, v_num=7, train_loss=5.49e+7]"
     ]
    },
    {
     "name": "stderr",
     "output_type": "stream",
     "text": [
      "Epoch 9, global step 80: 'train_loss' reached 54850480.00000 (best 54850480.00000), saving model to '/Users/zilinchen/Desktop/TAQ/TAQ-Query-Scripts/lightning_logs/version_7/checkpoints/epoch=9-step=80.ckpt' as top 1\n"
     ]
    },
    {
     "name": "stdout",
     "output_type": "stream",
     "text": [
      "Epoch 10: 100%|██████████| 8/8 [00:00<00:00, 106.39it/s, v_num=7, train_loss=4.84e+7]"
     ]
    },
    {
     "name": "stderr",
     "output_type": "stream",
     "text": [
      "Epoch 10, global step 88: 'train_loss' reached 48441900.00000 (best 48441900.00000), saving model to '/Users/zilinchen/Desktop/TAQ/TAQ-Query-Scripts/lightning_logs/version_7/checkpoints/epoch=10-step=88.ckpt' as top 1\n"
     ]
    },
    {
     "name": "stdout",
     "output_type": "stream",
     "text": [
      "Epoch 11: 100%|██████████| 8/8 [00:00<00:00, 137.13it/s, v_num=7, train_loss=4.27e+7]"
     ]
    },
    {
     "name": "stderr",
     "output_type": "stream",
     "text": [
      "Epoch 11, global step 96: 'train_loss' reached 42650492.00000 (best 42650492.00000), saving model to '/Users/zilinchen/Desktop/TAQ/TAQ-Query-Scripts/lightning_logs/version_7/checkpoints/epoch=11-step=96.ckpt' as top 1\n"
     ]
    },
    {
     "name": "stdout",
     "output_type": "stream",
     "text": [
      "Epoch 12: 100%|██████████| 8/8 [00:00<00:00, 166.99it/s, v_num=7, train_loss=3.74e+7]"
     ]
    },
    {
     "name": "stderr",
     "output_type": "stream",
     "text": [
      "Epoch 12, global step 104: 'train_loss' reached 37432764.00000 (best 37432764.00000), saving model to '/Users/zilinchen/Desktop/TAQ/TAQ-Query-Scripts/lightning_logs/version_7/checkpoints/epoch=12-step=104.ckpt' as top 1\n"
     ]
    },
    {
     "name": "stdout",
     "output_type": "stream",
     "text": [
      "Epoch 13: 100%|██████████| 8/8 [00:00<00:00, 155.07it/s, v_num=7, train_loss=3.27e+7]"
     ]
    },
    {
     "name": "stderr",
     "output_type": "stream",
     "text": [
      "Epoch 13, global step 112: 'train_loss' reached 32746854.00000 (best 32746854.00000), saving model to '/Users/zilinchen/Desktop/TAQ/TAQ-Query-Scripts/lightning_logs/version_7/checkpoints/epoch=13-step=112.ckpt' as top 1\n"
     ]
    },
    {
     "name": "stdout",
     "output_type": "stream",
     "text": [
      "Epoch 14: 100%|██████████| 8/8 [00:00<00:00, 157.25it/s, v_num=7, train_loss=2.86e+7]"
     ]
    },
    {
     "name": "stderr",
     "output_type": "stream",
     "text": [
      "Epoch 14, global step 120: 'train_loss' reached 28552472.00000 (best 28552472.00000), saving model to '/Users/zilinchen/Desktop/TAQ/TAQ-Query-Scripts/lightning_logs/version_7/checkpoints/epoch=14-step=120.ckpt' as top 1\n"
     ]
    },
    {
     "name": "stdout",
     "output_type": "stream",
     "text": [
      "Epoch 15: 100%|██████████| 8/8 [00:00<00:00, 163.17it/s, v_num=7, train_loss=2.48e+7]"
     ]
    },
    {
     "name": "stderr",
     "output_type": "stream",
     "text": [
      "Epoch 15, global step 128: 'train_loss' reached 24810924.00000 (best 24810924.00000), saving model to '/Users/zilinchen/Desktop/TAQ/TAQ-Query-Scripts/lightning_logs/version_7/checkpoints/epoch=15-step=128.ckpt' as top 1\n"
     ]
    },
    {
     "name": "stdout",
     "output_type": "stream",
     "text": [
      "Epoch 16: 100%|██████████| 8/8 [00:00<00:00, 154.12it/s, v_num=7, train_loss=2.15e+7]"
     ]
    },
    {
     "name": "stderr",
     "output_type": "stream",
     "text": [
      "Epoch 16, global step 136: 'train_loss' reached 21485114.00000 (best 21485114.00000), saving model to '/Users/zilinchen/Desktop/TAQ/TAQ-Query-Scripts/lightning_logs/version_7/checkpoints/epoch=16-step=136.ckpt' as top 1\n"
     ]
    },
    {
     "name": "stdout",
     "output_type": "stream",
     "text": [
      "Epoch 17: 100%|██████████| 8/8 [00:00<00:00, 139.07it/s, v_num=7, train_loss=1.85e+7]"
     ]
    },
    {
     "name": "stderr",
     "output_type": "stream",
     "text": [
      "Epoch 17, global step 144: 'train_loss' reached 18539620.00000 (best 18539620.00000), saving model to '/Users/zilinchen/Desktop/TAQ/TAQ-Query-Scripts/lightning_logs/version_7/checkpoints/epoch=17-step=144.ckpt' as top 1\n"
     ]
    },
    {
     "name": "stdout",
     "output_type": "stream",
     "text": [
      "Epoch 18: 100%|██████████| 8/8 [00:00<00:00, 156.42it/s, v_num=7, train_loss=1.59e+7]"
     ]
    },
    {
     "name": "stderr",
     "output_type": "stream",
     "text": [
      "Epoch 18, global step 152: 'train_loss' reached 15940664.00000 (best 15940664.00000), saving model to '/Users/zilinchen/Desktop/TAQ/TAQ-Query-Scripts/lightning_logs/version_7/checkpoints/epoch=18-step=152.ckpt' as top 1\n"
     ]
    },
    {
     "name": "stdout",
     "output_type": "stream",
     "text": [
      "Epoch 19: 100%|██████████| 8/8 [00:00<00:00, 157.79it/s, v_num=7, train_loss=1.37e+7]"
     ]
    },
    {
     "name": "stderr",
     "output_type": "stream",
     "text": [
      "Epoch 19, global step 160: 'train_loss' reached 13656223.00000 (best 13656223.00000), saving model to '/Users/zilinchen/Desktop/TAQ/TAQ-Query-Scripts/lightning_logs/version_7/checkpoints/epoch=19-step=160.ckpt' as top 1\n"
     ]
    },
    {
     "name": "stdout",
     "output_type": "stream",
     "text": [
      "Epoch 20: 100%|██████████| 8/8 [00:00<00:00, 160.37it/s, v_num=7, train_loss=1.17e+7]"
     ]
    },
    {
     "name": "stderr",
     "output_type": "stream",
     "text": [
      "Epoch 20, global step 168: 'train_loss' reached 11656059.00000 (best 11656059.00000), saving model to '/Users/zilinchen/Desktop/TAQ/TAQ-Query-Scripts/lightning_logs/version_7/checkpoints/epoch=20-step=168.ckpt' as top 1\n"
     ]
    },
    {
     "name": "stdout",
     "output_type": "stream",
     "text": [
      "Epoch 21: 100%|██████████| 8/8 [00:00<00:00, 153.25it/s, v_num=7, train_loss=9.91e+6]"
     ]
    },
    {
     "name": "stderr",
     "output_type": "stream",
     "text": [
      "Epoch 21, global step 176: 'train_loss' reached 9911737.00000 (best 9911737.00000), saving model to '/Users/zilinchen/Desktop/TAQ/TAQ-Query-Scripts/lightning_logs/version_7/checkpoints/epoch=21-step=176.ckpt' as top 1\n"
     ]
    },
    {
     "name": "stdout",
     "output_type": "stream",
     "text": [
      "Epoch 22: 100%|██████████| 8/8 [00:00<00:00, 163.04it/s, v_num=7, train_loss=8.4e+6] "
     ]
    },
    {
     "name": "stderr",
     "output_type": "stream",
     "text": [
      "Epoch 22, global step 184: 'train_loss' reached 8396646.00000 (best 8396646.00000), saving model to '/Users/zilinchen/Desktop/TAQ/TAQ-Query-Scripts/lightning_logs/version_7/checkpoints/epoch=22-step=184.ckpt' as top 1\n"
     ]
    },
    {
     "name": "stdout",
     "output_type": "stream",
     "text": [
      "Epoch 23: 100%|██████████| 8/8 [00:00<00:00, 150.45it/s, v_num=7, train_loss=7.09e+6]"
     ]
    },
    {
     "name": "stderr",
     "output_type": "stream",
     "text": [
      "Epoch 23, global step 192: 'train_loss' reached 7086036.50000 (best 7086036.50000), saving model to '/Users/zilinchen/Desktop/TAQ/TAQ-Query-Scripts/lightning_logs/version_7/checkpoints/epoch=23-step=192.ckpt' as top 1\n"
     ]
    },
    {
     "name": "stdout",
     "output_type": "stream",
     "text": [
      "Epoch 24: 100%|██████████| 8/8 [00:00<00:00, 94.61it/s, v_num=7, train_loss=5.96e+6] "
     ]
    },
    {
     "name": "stderr",
     "output_type": "stream",
     "text": [
      "Epoch 24, global step 200: 'train_loss' reached 5956994.50000 (best 5956994.50000), saving model to '/Users/zilinchen/Desktop/TAQ/TAQ-Query-Scripts/lightning_logs/version_7/checkpoints/epoch=24-step=200.ckpt' as top 1\n"
     ]
    },
    {
     "name": "stdout",
     "output_type": "stream",
     "text": [
      "Epoch 25: 100%|██████████| 8/8 [00:00<00:00, 103.47it/s, v_num=7, train_loss=4.99e+6]"
     ]
    },
    {
     "name": "stderr",
     "output_type": "stream",
     "text": [
      "Epoch 25, global step 208: 'train_loss' reached 4988424.50000 (best 4988424.50000), saving model to '/Users/zilinchen/Desktop/TAQ/TAQ-Query-Scripts/lightning_logs/version_7/checkpoints/epoch=25-step=208.ckpt' as top 1\n"
     ]
    },
    {
     "name": "stdout",
     "output_type": "stream",
     "text": [
      "Epoch 26: 100%|██████████| 8/8 [00:00<00:00, 166.68it/s, v_num=7, train_loss=4.16e+6]"
     ]
    },
    {
     "name": "stderr",
     "output_type": "stream",
     "text": [
      "Epoch 26, global step 216: 'train_loss' reached 4161021.25000 (best 4161021.25000), saving model to '/Users/zilinchen/Desktop/TAQ/TAQ-Query-Scripts/lightning_logs/version_7/checkpoints/epoch=26-step=216.ckpt' as top 1\n"
     ]
    },
    {
     "name": "stdout",
     "output_type": "stream",
     "text": [
      "Epoch 27: 100%|██████████| 8/8 [00:00<00:00, 159.22it/s, v_num=7, train_loss=3.46e+6]"
     ]
    },
    {
     "name": "stderr",
     "output_type": "stream",
     "text": [
      "Epoch 27, global step 224: 'train_loss' reached 3457213.00000 (best 3457213.00000), saving model to '/Users/zilinchen/Desktop/TAQ/TAQ-Query-Scripts/lightning_logs/version_7/checkpoints/epoch=27-step=224.ckpt' as top 1\n"
     ]
    },
    {
     "name": "stdout",
     "output_type": "stream",
     "text": [
      "Epoch 28: 100%|██████████| 8/8 [00:00<00:00, 154.23it/s, v_num=7, train_loss=2.86e+6]"
     ]
    },
    {
     "name": "stderr",
     "output_type": "stream",
     "text": [
      "Epoch 28, global step 232: 'train_loss' reached 2861094.75000 (best 2861094.75000), saving model to '/Users/zilinchen/Desktop/TAQ/TAQ-Query-Scripts/lightning_logs/version_7/checkpoints/epoch=28-step=232.ckpt' as top 1\n"
     ]
    },
    {
     "name": "stdout",
     "output_type": "stream",
     "text": [
      "Epoch 29: 100%|██████████| 8/8 [00:00<00:00, 155.33it/s, v_num=7, train_loss=2.36e+6]"
     ]
    },
    {
     "name": "stderr",
     "output_type": "stream",
     "text": [
      "Epoch 29, global step 240: 'train_loss' reached 2358353.25000 (best 2358353.25000), saving model to '/Users/zilinchen/Desktop/TAQ/TAQ-Query-Scripts/lightning_logs/version_7/checkpoints/epoch=29-step=240.ckpt' as top 1\n"
     ]
    },
    {
     "name": "stdout",
     "output_type": "stream",
     "text": [
      "Epoch 30: 100%|██████████| 8/8 [00:00<00:00, 151.61it/s, v_num=7, train_loss=1.94e+6]"
     ]
    },
    {
     "name": "stderr",
     "output_type": "stream",
     "text": [
      "Epoch 30, global step 248: 'train_loss' reached 1936196.62500 (best 1936196.62500), saving model to '/Users/zilinchen/Desktop/TAQ/TAQ-Query-Scripts/lightning_logs/version_7/checkpoints/epoch=30-step=248.ckpt' as top 1\n"
     ]
    },
    {
     "name": "stdout",
     "output_type": "stream",
     "text": [
      "Epoch 31: 100%|██████████| 8/8 [00:00<00:00, 156.55it/s, v_num=7, train_loss=1.58e+6]"
     ]
    },
    {
     "name": "stderr",
     "output_type": "stream",
     "text": [
      "Epoch 31, global step 256: 'train_loss' reached 1583243.37500 (best 1583243.37500), saving model to '/Users/zilinchen/Desktop/TAQ/TAQ-Query-Scripts/lightning_logs/version_7/checkpoints/epoch=31-step=256.ckpt' as top 1\n"
     ]
    },
    {
     "name": "stdout",
     "output_type": "stream",
     "text": [
      "Epoch 32: 100%|██████████| 8/8 [00:00<00:00, 142.51it/s, v_num=7, train_loss=1.29e+6]"
     ]
    },
    {
     "name": "stderr",
     "output_type": "stream",
     "text": [
      "Epoch 32, global step 264: 'train_loss' reached 1289430.12500 (best 1289430.12500), saving model to '/Users/zilinchen/Desktop/TAQ/TAQ-Query-Scripts/lightning_logs/version_7/checkpoints/epoch=32-step=264.ckpt' as top 1\n"
     ]
    },
    {
     "name": "stdout",
     "output_type": "stream",
     "text": [
      "Epoch 33: 100%|██████████| 8/8 [00:00<00:00, 160.31it/s, v_num=7, train_loss=1.05e+6]"
     ]
    },
    {
     "name": "stderr",
     "output_type": "stream",
     "text": [
      "Epoch 33, global step 272: 'train_loss' reached 1045908.50000 (best 1045908.50000), saving model to '/Users/zilinchen/Desktop/TAQ/TAQ-Query-Scripts/lightning_logs/version_7/checkpoints/epoch=33-step=272.ckpt' as top 1\n"
     ]
    },
    {
     "name": "stdout",
     "output_type": "stream",
     "text": [
      "Epoch 34: 100%|██████████| 8/8 [00:00<00:00, 140.09it/s, v_num=7, train_loss=8.45e+5]"
     ]
    },
    {
     "name": "stderr",
     "output_type": "stream",
     "text": [
      "Epoch 34, global step 280: 'train_loss' reached 844951.50000 (best 844951.50000), saving model to '/Users/zilinchen/Desktop/TAQ/TAQ-Query-Scripts/lightning_logs/version_7/checkpoints/epoch=34-step=280.ckpt' as top 1\n"
     ]
    },
    {
     "name": "stdout",
     "output_type": "stream",
     "text": [
      "Epoch 35: 100%|██████████| 8/8 [00:00<00:00, 163.48it/s, v_num=7, train_loss=6.8e+5] "
     ]
    },
    {
     "name": "stderr",
     "output_type": "stream",
     "text": [
      "Epoch 35, global step 288: 'train_loss' reached 679840.87500 (best 679840.87500), saving model to '/Users/zilinchen/Desktop/TAQ/TAQ-Query-Scripts/lightning_logs/version_7/checkpoints/epoch=35-step=288.ckpt' as top 1\n"
     ]
    },
    {
     "name": "stdout",
     "output_type": "stream",
     "text": [
      "Epoch 36: 100%|██████████| 8/8 [00:00<00:00, 142.24it/s, v_num=7, train_loss=5.45e+5]"
     ]
    },
    {
     "name": "stderr",
     "output_type": "stream",
     "text": [
      "Epoch 36, global step 296: 'train_loss' reached 544774.81250 (best 544774.81250), saving model to '/Users/zilinchen/Desktop/TAQ/TAQ-Query-Scripts/lightning_logs/version_7/checkpoints/epoch=36-step=296.ckpt' as top 1\n"
     ]
    },
    {
     "name": "stdout",
     "output_type": "stream",
     "text": [
      "Epoch 37: 100%|██████████| 8/8 [00:00<00:00, 98.59it/s, v_num=7, train_loss=4.35e+5] "
     ]
    },
    {
     "name": "stderr",
     "output_type": "stream",
     "text": [
      "Epoch 37, global step 304: 'train_loss' reached 434767.65625 (best 434767.65625), saving model to '/Users/zilinchen/Desktop/TAQ/TAQ-Query-Scripts/lightning_logs/version_7/checkpoints/epoch=37-step=304.ckpt' as top 1\n"
     ]
    },
    {
     "name": "stdout",
     "output_type": "stream",
     "text": [
      "Epoch 38: 100%|██████████| 8/8 [00:00<00:00, 150.84it/s, v_num=7, train_loss=3.46e+5]"
     ]
    },
    {
     "name": "stderr",
     "output_type": "stream",
     "text": [
      "Epoch 38, global step 312: 'train_loss' reached 345561.21875 (best 345561.21875), saving model to '/Users/zilinchen/Desktop/TAQ/TAQ-Query-Scripts/lightning_logs/version_7/checkpoints/epoch=38-step=312.ckpt' as top 1\n"
     ]
    },
    {
     "name": "stdout",
     "output_type": "stream",
     "text": [
      "Epoch 39: 100%|██████████| 8/8 [00:00<00:00, 148.45it/s, v_num=7, train_loss=2.74e+5]"
     ]
    },
    {
     "name": "stderr",
     "output_type": "stream",
     "text": [
      "Epoch 39, global step 320: 'train_loss' reached 273536.31250 (best 273536.31250), saving model to '/Users/zilinchen/Desktop/TAQ/TAQ-Query-Scripts/lightning_logs/version_7/checkpoints/epoch=39-step=320.ckpt' as top 1\n"
     ]
    },
    {
     "name": "stdout",
     "output_type": "stream",
     "text": [
      "Epoch 40: 100%|██████████| 8/8 [00:00<00:00, 155.87it/s, v_num=7, train_loss=2.16e+5]"
     ]
    },
    {
     "name": "stderr",
     "output_type": "stream",
     "text": [
      "Epoch 40, global step 328: 'train_loss' reached 215639.17188 (best 215639.17188), saving model to '/Users/zilinchen/Desktop/TAQ/TAQ-Query-Scripts/lightning_logs/version_7/checkpoints/epoch=40-step=328.ckpt' as top 1\n"
     ]
    },
    {
     "name": "stdout",
     "output_type": "stream",
     "text": [
      "Epoch 41: 100%|██████████| 8/8 [00:00<00:00, 164.36it/s, v_num=7, train_loss=1.69e+5]"
     ]
    },
    {
     "name": "stderr",
     "output_type": "stream",
     "text": [
      "Epoch 41, global step 336: 'train_loss' reached 169300.23438 (best 169300.23438), saving model to '/Users/zilinchen/Desktop/TAQ/TAQ-Query-Scripts/lightning_logs/version_7/checkpoints/epoch=41-step=336.ckpt' as top 1\n"
     ]
    },
    {
     "name": "stdout",
     "output_type": "stream",
     "text": [
      "Epoch 42: 100%|██████████| 8/8 [00:00<00:00, 160.73it/s, v_num=7, train_loss=1.32e+5]"
     ]
    },
    {
     "name": "stderr",
     "output_type": "stream",
     "text": [
      "Epoch 42, global step 344: 'train_loss' reached 132373.34375 (best 132373.34375), saving model to '/Users/zilinchen/Desktop/TAQ/TAQ-Query-Scripts/lightning_logs/version_7/checkpoints/epoch=42-step=344.ckpt' as top 1\n"
     ]
    },
    {
     "name": "stdout",
     "output_type": "stream",
     "text": [
      "Epoch 43: 100%|██████████| 8/8 [00:00<00:00, 162.78it/s, v_num=7, train_loss=1.03e+5]"
     ]
    },
    {
     "name": "stderr",
     "output_type": "stream",
     "text": [
      "Epoch 43, global step 352: 'train_loss' reached 103075.39844 (best 103075.39844), saving model to '/Users/zilinchen/Desktop/TAQ/TAQ-Query-Scripts/lightning_logs/version_7/checkpoints/epoch=43-step=352.ckpt' as top 1\n"
     ]
    },
    {
     "name": "stdout",
     "output_type": "stream",
     "text": [
      "Epoch 44: 100%|██████████| 8/8 [00:00<00:00, 152.95it/s, v_num=7, train_loss=7.99e+4]"
     ]
    },
    {
     "name": "stderr",
     "output_type": "stream",
     "text": [
      "Epoch 44, global step 360: 'train_loss' reached 79930.53906 (best 79930.53906), saving model to '/Users/zilinchen/Desktop/TAQ/TAQ-Query-Scripts/lightning_logs/version_7/checkpoints/epoch=44-step=360.ckpt' as top 1\n"
     ]
    },
    {
     "name": "stdout",
     "output_type": "stream",
     "text": [
      "Epoch 45: 100%|██████████| 8/8 [00:00<00:00, 133.98it/s, v_num=7, train_loss=6.17e+4]"
     ]
    },
    {
     "name": "stderr",
     "output_type": "stream",
     "text": [
      "Epoch 45, global step 368: 'train_loss' reached 61727.09375 (best 61727.09375), saving model to '/Users/zilinchen/Desktop/TAQ/TAQ-Query-Scripts/lightning_logs/version_7/checkpoints/epoch=45-step=368.ckpt' as top 1\n"
     ]
    },
    {
     "name": "stdout",
     "output_type": "stream",
     "text": [
      "Epoch 46: 100%|██████████| 8/8 [00:00<00:00, 153.76it/s, v_num=7, train_loss=4.75e+4]"
     ]
    },
    {
     "name": "stderr",
     "output_type": "stream",
     "text": [
      "Epoch 46, global step 376: 'train_loss' reached 47471.52734 (best 47471.52734), saving model to '/Users/zilinchen/Desktop/TAQ/TAQ-Query-Scripts/lightning_logs/version_7/checkpoints/epoch=46-step=376.ckpt' as top 1\n"
     ]
    },
    {
     "name": "stdout",
     "output_type": "stream",
     "text": [
      "Epoch 47: 100%|██████████| 8/8 [00:00<00:00, 104.78it/s, v_num=7, train_loss=3.64e+4]"
     ]
    },
    {
     "name": "stderr",
     "output_type": "stream",
     "text": [
      "Epoch 47, global step 384: 'train_loss' reached 36356.66797 (best 36356.66797), saving model to '/Users/zilinchen/Desktop/TAQ/TAQ-Query-Scripts/lightning_logs/version_7/checkpoints/epoch=47-step=384.ckpt' as top 1\n"
     ]
    },
    {
     "name": "stdout",
     "output_type": "stream",
     "text": [
      "Epoch 48: 100%|██████████| 8/8 [00:00<00:00, 171.66it/s, v_num=7, train_loss=2.77e+4]"
     ]
    },
    {
     "name": "stderr",
     "output_type": "stream",
     "text": [
      "Epoch 48, global step 392: 'train_loss' reached 27728.31641 (best 27728.31641), saving model to '/Users/zilinchen/Desktop/TAQ/TAQ-Query-Scripts/lightning_logs/version_7/checkpoints/epoch=48-step=392.ckpt' as top 1\n"
     ]
    },
    {
     "name": "stdout",
     "output_type": "stream",
     "text": [
      "Epoch 49: 100%|██████████| 8/8 [00:00<00:00, 103.64it/s, v_num=7, train_loss=2.11e+4]"
     ]
    },
    {
     "name": "stderr",
     "output_type": "stream",
     "text": [
      "Epoch 49, global step 400: 'train_loss' reached 21059.42383 (best 21059.42383), saving model to '/Users/zilinchen/Desktop/TAQ/TAQ-Query-Scripts/lightning_logs/version_7/checkpoints/epoch=49-step=400.ckpt' as top 1\n"
     ]
    },
    {
     "name": "stdout",
     "output_type": "stream",
     "text": [
      "Epoch 50: 100%|██████████| 8/8 [00:00<00:00, 37.21it/s, v_num=7, train_loss=1.59e+4] "
     ]
    },
    {
     "name": "stderr",
     "output_type": "stream",
     "text": [
      "Epoch 50, global step 408: 'train_loss' reached 15927.38086 (best 15927.38086), saving model to '/Users/zilinchen/Desktop/TAQ/TAQ-Query-Scripts/lightning_logs/version_7/checkpoints/epoch=50-step=408.ckpt' as top 1\n"
     ]
    },
    {
     "name": "stdout",
     "output_type": "stream",
     "text": [
      "Epoch 51: 100%|██████████| 8/8 [00:00<00:00, 121.60it/s, v_num=7, train_loss=1.2e+4] "
     ]
    },
    {
     "name": "stderr",
     "output_type": "stream",
     "text": [
      "Epoch 51, global step 416: 'train_loss' reached 11995.36523 (best 11995.36523), saving model to '/Users/zilinchen/Desktop/TAQ/TAQ-Query-Scripts/lightning_logs/version_7/checkpoints/epoch=51-step=416.ckpt' as top 1\n"
     ]
    },
    {
     "name": "stdout",
     "output_type": "stream",
     "text": [
      "Epoch 52: 100%|██████████| 8/8 [00:00<00:00, 148.70it/s, v_num=7, train_loss=9e+3]  "
     ]
    },
    {
     "name": "stderr",
     "output_type": "stream",
     "text": [
      "Epoch 52, global step 424: 'train_loss' reached 8995.93945 (best 8995.93945), saving model to '/Users/zilinchen/Desktop/TAQ/TAQ-Query-Scripts/lightning_logs/version_7/checkpoints/epoch=52-step=424.ckpt' as top 1\n"
     ]
    },
    {
     "name": "stdout",
     "output_type": "stream",
     "text": [
      "Epoch 53: 100%|██████████| 8/8 [00:00<00:00, 101.89it/s, v_num=7, train_loss=6.72e+3]"
     ]
    },
    {
     "name": "stderr",
     "output_type": "stream",
     "text": [
      "Epoch 53, global step 432: 'train_loss' reached 6718.06250 (best 6718.06250), saving model to '/Users/zilinchen/Desktop/TAQ/TAQ-Query-Scripts/lightning_logs/version_7/checkpoints/epoch=53-step=432.ckpt' as top 1\n"
     ]
    },
    {
     "name": "stdout",
     "output_type": "stream",
     "text": [
      "Epoch 54: 100%|██████████| 8/8 [00:00<00:00, 137.55it/s, v_num=7, train_loss=5e+3]   "
     ]
    },
    {
     "name": "stderr",
     "output_type": "stream",
     "text": [
      "Epoch 54, global step 440: 'train_loss' reached 4995.60400 (best 4995.60400), saving model to '/Users/zilinchen/Desktop/TAQ/TAQ-Query-Scripts/lightning_logs/version_7/checkpoints/epoch=54-step=440.ckpt' as top 1\n"
     ]
    },
    {
     "name": "stdout",
     "output_type": "stream",
     "text": [
      "Epoch 55: 100%|██████████| 8/8 [00:00<00:00, 139.61it/s, v_num=7, train_loss=3.7e+3]"
     ]
    },
    {
     "name": "stderr",
     "output_type": "stream",
     "text": [
      "Epoch 55, global step 448: 'train_loss' reached 3698.89526 (best 3698.89526), saving model to '/Users/zilinchen/Desktop/TAQ/TAQ-Query-Scripts/lightning_logs/version_7/checkpoints/epoch=55-step=448.ckpt' as top 1\n"
     ]
    },
    {
     "name": "stdout",
     "output_type": "stream",
     "text": [
      "Epoch 56: 100%|██████████| 8/8 [00:00<00:00, 126.73it/s, v_num=7, train_loss=2.73e+3]"
     ]
    },
    {
     "name": "stderr",
     "output_type": "stream",
     "text": [
      "Epoch 56, global step 456: 'train_loss' reached 2727.08154 (best 2727.08154), saving model to '/Users/zilinchen/Desktop/TAQ/TAQ-Query-Scripts/lightning_logs/version_7/checkpoints/epoch=56-step=456.ckpt' as top 1\n"
     ]
    },
    {
     "name": "stdout",
     "output_type": "stream",
     "text": [
      "Epoch 57: 100%|██████████| 8/8 [00:00<00:00, 144.91it/s, v_num=7, train_loss=2e+3]   "
     ]
    },
    {
     "name": "stderr",
     "output_type": "stream",
     "text": [
      "Epoch 57, global step 464: 'train_loss' reached 2001.99158 (best 2001.99158), saving model to '/Users/zilinchen/Desktop/TAQ/TAQ-Query-Scripts/lightning_logs/version_7/checkpoints/epoch=57-step=464.ckpt' as top 1\n"
     ]
    },
    {
     "name": "stdout",
     "output_type": "stream",
     "text": [
      "Epoch 58: 100%|██████████| 8/8 [00:00<00:00, 165.62it/s, v_num=7, train_loss=1.46e+3]"
     ]
    },
    {
     "name": "stderr",
     "output_type": "stream",
     "text": [
      "Epoch 58, global step 472: 'train_loss' reached 1463.42480 (best 1463.42480), saving model to '/Users/zilinchen/Desktop/TAQ/TAQ-Query-Scripts/lightning_logs/version_7/checkpoints/epoch=58-step=472.ckpt' as top 1\n"
     ]
    },
    {
     "name": "stdout",
     "output_type": "stream",
     "text": [
      "Epoch 59: 100%|██████████| 8/8 [00:00<00:00, 158.57it/s, v_num=7, train_loss=1.07e+3]"
     ]
    },
    {
     "name": "stderr",
     "output_type": "stream",
     "text": [
      "Epoch 59, global step 480: 'train_loss' reached 1065.15540 (best 1065.15540), saving model to '/Users/zilinchen/Desktop/TAQ/TAQ-Query-Scripts/lightning_logs/version_7/checkpoints/epoch=59-step=480.ckpt' as top 1\n"
     ]
    },
    {
     "name": "stdout",
     "output_type": "stream",
     "text": [
      "Epoch 60: 100%|██████████| 8/8 [00:00<00:00, 108.35it/s, v_num=7, train_loss=772.0]  "
     ]
    },
    {
     "name": "stderr",
     "output_type": "stream",
     "text": [
      "Epoch 60, global step 488: 'train_loss' reached 772.00165 (best 772.00165), saving model to '/Users/zilinchen/Desktop/TAQ/TAQ-Query-Scripts/lightning_logs/version_7/checkpoints/epoch=60-step=488.ckpt' as top 1\n"
     ]
    },
    {
     "name": "stdout",
     "output_type": "stream",
     "text": [
      "Epoch 61: 100%|██████████| 8/8 [00:00<00:00, 117.12it/s, v_num=7, train_loss=557.0]"
     ]
    },
    {
     "name": "stderr",
     "output_type": "stream",
     "text": [
      "Epoch 61, global step 496: 'train_loss' reached 557.17065 (best 557.17065), saving model to '/Users/zilinchen/Desktop/TAQ/TAQ-Query-Scripts/lightning_logs/version_7/checkpoints/epoch=61-step=496.ckpt' as top 1\n"
     ]
    },
    {
     "name": "stdout",
     "output_type": "stream",
     "text": [
      "Epoch 62: 100%|██████████| 8/8 [00:00<00:00, 156.83it/s, v_num=7, train_loss=400.0]"
     ]
    },
    {
     "name": "stderr",
     "output_type": "stream",
     "text": [
      "Epoch 62, global step 504: 'train_loss' reached 400.43127 (best 400.43127), saving model to '/Users/zilinchen/Desktop/TAQ/TAQ-Query-Scripts/lightning_logs/version_7/checkpoints/epoch=62-step=504.ckpt' as top 1\n"
     ]
    },
    {
     "name": "stdout",
     "output_type": "stream",
     "text": [
      "Epoch 63: 100%|██████████| 8/8 [00:00<00:00, 100.70it/s, v_num=7, train_loss=287.0]"
     ]
    },
    {
     "name": "stderr",
     "output_type": "stream",
     "text": [
      "Epoch 63, global step 512: 'train_loss' reached 286.61407 (best 286.61407), saving model to '/Users/zilinchen/Desktop/TAQ/TAQ-Query-Scripts/lightning_logs/version_7/checkpoints/epoch=63-step=512.ckpt' as top 1\n"
     ]
    },
    {
     "name": "stdout",
     "output_type": "stream",
     "text": [
      "Epoch 64: 100%|██████████| 8/8 [00:00<00:00, 118.49it/s, v_num=7, train_loss=204.0]"
     ]
    },
    {
     "name": "stderr",
     "output_type": "stream",
     "text": [
      "Epoch 64, global step 520: 'train_loss' reached 204.37054 (best 204.37054), saving model to '/Users/zilinchen/Desktop/TAQ/TAQ-Query-Scripts/lightning_logs/version_7/checkpoints/epoch=64-step=520.ckpt' as top 1\n"
     ]
    },
    {
     "name": "stdout",
     "output_type": "stream",
     "text": [
      "Epoch 65: 100%|██████████| 8/8 [00:00<00:00, 155.57it/s, v_num=7, train_loss=145.0]"
     ]
    },
    {
     "name": "stderr",
     "output_type": "stream",
     "text": [
      "Epoch 65, global step 528: 'train_loss' reached 145.18451 (best 145.18451), saving model to '/Users/zilinchen/Desktop/TAQ/TAQ-Query-Scripts/lightning_logs/version_7/checkpoints/epoch=65-step=528.ckpt' as top 1\n"
     ]
    },
    {
     "name": "stdout",
     "output_type": "stream",
     "text": [
      "Epoch 66: 100%|██████████| 8/8 [00:00<00:00, 137.95it/s, v_num=7, train_loss=103.0]"
     ]
    },
    {
     "name": "stderr",
     "output_type": "stream",
     "text": [
      "Epoch 66, global step 536: 'train_loss' reached 102.79638 (best 102.79638), saving model to '/Users/zilinchen/Desktop/TAQ/TAQ-Query-Scripts/lightning_logs/version_7/checkpoints/epoch=66-step=536.ckpt' as top 1\n"
     ]
    },
    {
     "name": "stdout",
     "output_type": "stream",
     "text": [
      "Epoch 67: 100%|██████████| 8/8 [00:00<00:00, 85.49it/s, v_num=7, train_loss=72.60] "
     ]
    },
    {
     "name": "stderr",
     "output_type": "stream",
     "text": [
      "Epoch 67, global step 544: 'train_loss' reached 72.58625 (best 72.58625), saving model to '/Users/zilinchen/Desktop/TAQ/TAQ-Query-Scripts/lightning_logs/version_7/checkpoints/epoch=67-step=544.ckpt' as top 1\n"
     ]
    },
    {
     "name": "stdout",
     "output_type": "stream",
     "text": [
      "Epoch 68: 100%|██████████| 8/8 [00:00<00:00, 164.38it/s, v_num=7, train_loss=51.20]"
     ]
    },
    {
     "name": "stderr",
     "output_type": "stream",
     "text": [
      "Epoch 68, global step 552: 'train_loss' reached 51.16478 (best 51.16478), saving model to '/Users/zilinchen/Desktop/TAQ/TAQ-Query-Scripts/lightning_logs/version_7/checkpoints/epoch=68-step=552.ckpt' as top 1\n"
     ]
    },
    {
     "name": "stdout",
     "output_type": "stream",
     "text": [
      "Epoch 69: 100%|██████████| 8/8 [00:00<00:00, 152.85it/s, v_num=7, train_loss=36.00]"
     ]
    },
    {
     "name": "stderr",
     "output_type": "stream",
     "text": [
      "Epoch 69, global step 560: 'train_loss' reached 36.04062 (best 36.04062), saving model to '/Users/zilinchen/Desktop/TAQ/TAQ-Query-Scripts/lightning_logs/version_7/checkpoints/epoch=69-step=560.ckpt' as top 1\n"
     ]
    },
    {
     "name": "stdout",
     "output_type": "stream",
     "text": [
      "Epoch 70: 100%|██████████| 8/8 [00:00<00:00, 160.72it/s, v_num=7, train_loss=25.40]"
     ]
    },
    {
     "name": "stderr",
     "output_type": "stream",
     "text": [
      "Epoch 70, global step 568: 'train_loss' reached 25.42168 (best 25.42168), saving model to '/Users/zilinchen/Desktop/TAQ/TAQ-Query-Scripts/lightning_logs/version_7/checkpoints/epoch=70-step=568.ckpt' as top 1\n"
     ]
    },
    {
     "name": "stdout",
     "output_type": "stream",
     "text": [
      "Epoch 71: 100%|██████████| 8/8 [00:00<00:00, 162.73it/s, v_num=7, train_loss=18.00]"
     ]
    },
    {
     "name": "stderr",
     "output_type": "stream",
     "text": [
      "Epoch 71, global step 576: 'train_loss' reached 17.98904 (best 17.98904), saving model to '/Users/zilinchen/Desktop/TAQ/TAQ-Query-Scripts/lightning_logs/version_7/checkpoints/epoch=71-step=576.ckpt' as top 1\n"
     ]
    },
    {
     "name": "stdout",
     "output_type": "stream",
     "text": [
      "Epoch 72: 100%|██████████| 8/8 [00:00<00:00, 159.35it/s, v_num=7, train_loss=12.80]"
     ]
    },
    {
     "name": "stderr",
     "output_type": "stream",
     "text": [
      "Epoch 72, global step 584: 'train_loss' reached 12.82940 (best 12.82940), saving model to '/Users/zilinchen/Desktop/TAQ/TAQ-Query-Scripts/lightning_logs/version_7/checkpoints/epoch=72-step=584.ckpt' as top 1\n"
     ]
    },
    {
     "name": "stdout",
     "output_type": "stream",
     "text": [
      "Epoch 73: 100%|██████████| 8/8 [00:00<00:00, 91.73it/s, v_num=7, train_loss=9.260] "
     ]
    },
    {
     "name": "stderr",
     "output_type": "stream",
     "text": [
      "Epoch 73, global step 592: 'train_loss' reached 9.26360 (best 9.26360), saving model to '/Users/zilinchen/Desktop/TAQ/TAQ-Query-Scripts/lightning_logs/version_7/checkpoints/epoch=73-step=592.ckpt' as top 1\n"
     ]
    },
    {
     "name": "stdout",
     "output_type": "stream",
     "text": [
      "Epoch 74: 100%|██████████| 8/8 [00:00<00:00, 119.45it/s, v_num=7, train_loss=6.810]"
     ]
    },
    {
     "name": "stderr",
     "output_type": "stream",
     "text": [
      "Epoch 74, global step 600: 'train_loss' reached 6.80835 (best 6.80835), saving model to '/Users/zilinchen/Desktop/TAQ/TAQ-Query-Scripts/lightning_logs/version_7/checkpoints/epoch=74-step=600.ckpt' as top 1\n"
     ]
    },
    {
     "name": "stdout",
     "output_type": "stream",
     "text": [
      "Epoch 75: 100%|██████████| 8/8 [00:00<00:00, 156.49it/s, v_num=7, train_loss=5.130]"
     ]
    },
    {
     "name": "stderr",
     "output_type": "stream",
     "text": [
      "Epoch 75, global step 608: 'train_loss' reached 5.12966 (best 5.12966), saving model to '/Users/zilinchen/Desktop/TAQ/TAQ-Query-Scripts/lightning_logs/version_7/checkpoints/epoch=75-step=608.ckpt' as top 1\n"
     ]
    },
    {
     "name": "stdout",
     "output_type": "stream",
     "text": [
      "Epoch 76: 100%|██████████| 8/8 [00:00<00:00, 147.60it/s, v_num=7, train_loss=3.990]"
     ]
    },
    {
     "name": "stderr",
     "output_type": "stream",
     "text": [
      "Epoch 76, global step 616: 'train_loss' reached 3.98869 (best 3.98869), saving model to '/Users/zilinchen/Desktop/TAQ/TAQ-Query-Scripts/lightning_logs/version_7/checkpoints/epoch=76-step=616.ckpt' as top 1\n"
     ]
    },
    {
     "name": "stdout",
     "output_type": "stream",
     "text": [
      "Epoch 77: 100%|██████████| 8/8 [00:00<00:00, 149.41it/s, v_num=7, train_loss=3.220]"
     ]
    },
    {
     "name": "stderr",
     "output_type": "stream",
     "text": [
      "Epoch 77, global step 624: 'train_loss' reached 3.21710 (best 3.21710), saving model to '/Users/zilinchen/Desktop/TAQ/TAQ-Query-Scripts/lightning_logs/version_7/checkpoints/epoch=77-step=624.ckpt' as top 1\n"
     ]
    },
    {
     "name": "stdout",
     "output_type": "stream",
     "text": [
      "Epoch 78: 100%|██████████| 8/8 [00:00<00:00, 148.80it/s, v_num=7, train_loss=2.700]"
     ]
    },
    {
     "name": "stderr",
     "output_type": "stream",
     "text": [
      "Epoch 78, global step 632: 'train_loss' reached 2.69655 (best 2.69655), saving model to '/Users/zilinchen/Desktop/TAQ/TAQ-Query-Scripts/lightning_logs/version_7/checkpoints/epoch=78-step=632.ckpt' as top 1\n"
     ]
    },
    {
     "name": "stdout",
     "output_type": "stream",
     "text": [
      "Epoch 79: 100%|██████████| 8/8 [00:00<00:00, 155.11it/s, v_num=7, train_loss=2.350]"
     ]
    },
    {
     "name": "stderr",
     "output_type": "stream",
     "text": [
      "Epoch 79, global step 640: 'train_loss' reached 2.34894 (best 2.34894), saving model to '/Users/zilinchen/Desktop/TAQ/TAQ-Query-Scripts/lightning_logs/version_7/checkpoints/epoch=79-step=640.ckpt' as top 1\n"
     ]
    },
    {
     "name": "stdout",
     "output_type": "stream",
     "text": [
      "Epoch 80: 100%|██████████| 8/8 [00:00<00:00, 165.26it/s, v_num=7, train_loss=2.120]"
     ]
    },
    {
     "name": "stderr",
     "output_type": "stream",
     "text": [
      "Epoch 80, global step 648: 'train_loss' reached 2.11907 (best 2.11907), saving model to '/Users/zilinchen/Desktop/TAQ/TAQ-Query-Scripts/lightning_logs/version_7/checkpoints/epoch=80-step=648.ckpt' as top 1\n"
     ]
    },
    {
     "name": "stdout",
     "output_type": "stream",
     "text": [
      "Epoch 81: 100%|██████████| 8/8 [00:00<00:00, 162.97it/s, v_num=7, train_loss=1.970]"
     ]
    },
    {
     "name": "stderr",
     "output_type": "stream",
     "text": [
      "Epoch 81, global step 656: 'train_loss' reached 1.96733 (best 1.96733), saving model to '/Users/zilinchen/Desktop/TAQ/TAQ-Query-Scripts/lightning_logs/version_7/checkpoints/epoch=81-step=656.ckpt' as top 1\n"
     ]
    },
    {
     "name": "stdout",
     "output_type": "stream",
     "text": [
      "Epoch 82: 100%|██████████| 8/8 [00:00<00:00, 155.95it/s, v_num=7, train_loss=1.870]"
     ]
    },
    {
     "name": "stderr",
     "output_type": "stream",
     "text": [
      "Epoch 82, global step 664: 'train_loss' reached 1.86853 (best 1.86853), saving model to '/Users/zilinchen/Desktop/TAQ/TAQ-Query-Scripts/lightning_logs/version_7/checkpoints/epoch=82-step=664.ckpt' as top 1\n"
     ]
    },
    {
     "name": "stdout",
     "output_type": "stream",
     "text": [
      "Epoch 83: 100%|██████████| 8/8 [00:00<00:00, 151.36it/s, v_num=7, train_loss=1.810]"
     ]
    },
    {
     "name": "stderr",
     "output_type": "stream",
     "text": [
      "Epoch 83, global step 672: 'train_loss' reached 1.80529 (best 1.80529), saving model to '/Users/zilinchen/Desktop/TAQ/TAQ-Query-Scripts/lightning_logs/version_7/checkpoints/epoch=83-step=672.ckpt' as top 1\n"
     ]
    },
    {
     "name": "stdout",
     "output_type": "stream",
     "text": [
      "Epoch 84: 100%|██████████| 8/8 [00:00<00:00, 153.97it/s, v_num=7, train_loss=1.760]"
     ]
    },
    {
     "name": "stderr",
     "output_type": "stream",
     "text": [
      "Epoch 84, global step 680: 'train_loss' reached 1.76421 (best 1.76421), saving model to '/Users/zilinchen/Desktop/TAQ/TAQ-Query-Scripts/lightning_logs/version_7/checkpoints/epoch=84-step=680.ckpt' as top 1\n"
     ]
    },
    {
     "name": "stdout",
     "output_type": "stream",
     "text": [
      "Epoch 85: 100%|██████████| 8/8 [00:00<00:00, 136.93it/s, v_num=7, train_loss=1.740]"
     ]
    },
    {
     "name": "stderr",
     "output_type": "stream",
     "text": [
      "Epoch 85, global step 688: 'train_loss' reached 1.73831 (best 1.73831), saving model to '/Users/zilinchen/Desktop/TAQ/TAQ-Query-Scripts/lightning_logs/version_7/checkpoints/epoch=85-step=688.ckpt' as top 1\n"
     ]
    },
    {
     "name": "stdout",
     "output_type": "stream",
     "text": [
      "Epoch 86: 100%|██████████| 8/8 [00:00<00:00, 86.22it/s, v_num=7, train_loss=1.720] "
     ]
    },
    {
     "name": "stderr",
     "output_type": "stream",
     "text": [
      "Epoch 86, global step 696: 'train_loss' reached 1.72318 (best 1.72318), saving model to '/Users/zilinchen/Desktop/TAQ/TAQ-Query-Scripts/lightning_logs/version_7/checkpoints/epoch=86-step=696.ckpt' as top 1\n"
     ]
    },
    {
     "name": "stdout",
     "output_type": "stream",
     "text": [
      "Epoch 87: 100%|██████████| 8/8 [00:00<00:00, 148.69it/s, v_num=7, train_loss=1.710]"
     ]
    },
    {
     "name": "stderr",
     "output_type": "stream",
     "text": [
      "Epoch 87, global step 704: 'train_loss' reached 1.71319 (best 1.71319), saving model to '/Users/zilinchen/Desktop/TAQ/TAQ-Query-Scripts/lightning_logs/version_7/checkpoints/epoch=87-step=704.ckpt' as top 1\n"
     ]
    },
    {
     "name": "stdout",
     "output_type": "stream",
     "text": [
      "Epoch 88: 100%|██████████| 8/8 [00:00<00:00, 84.79it/s, v_num=7, train_loss=1.710] "
     ]
    },
    {
     "name": "stderr",
     "output_type": "stream",
     "text": [
      "Epoch 88, global step 712: 'train_loss' reached 1.70773 (best 1.70773), saving model to '/Users/zilinchen/Desktop/TAQ/TAQ-Query-Scripts/lightning_logs/version_7/checkpoints/epoch=88-step=712.ckpt' as top 1\n"
     ]
    },
    {
     "name": "stdout",
     "output_type": "stream",
     "text": [
      "Epoch 89: 100%|██████████| 8/8 [00:00<00:00, 125.81it/s, v_num=7, train_loss=1.700]"
     ]
    },
    {
     "name": "stderr",
     "output_type": "stream",
     "text": [
      "Epoch 89, global step 720: 'train_loss' reached 1.70462 (best 1.70462), saving model to '/Users/zilinchen/Desktop/TAQ/TAQ-Query-Scripts/lightning_logs/version_7/checkpoints/epoch=89-step=720.ckpt' as top 1\n"
     ]
    },
    {
     "name": "stdout",
     "output_type": "stream",
     "text": [
      "Epoch 90: 100%|██████████| 8/8 [00:00<00:00, 123.13it/s, v_num=7, train_loss=1.700]"
     ]
    },
    {
     "name": "stderr",
     "output_type": "stream",
     "text": [
      "Epoch 90, global step 728: 'train_loss' reached 1.70299 (best 1.70299), saving model to '/Users/zilinchen/Desktop/TAQ/TAQ-Query-Scripts/lightning_logs/version_7/checkpoints/epoch=90-step=728.ckpt' as top 1\n"
     ]
    },
    {
     "name": "stdout",
     "output_type": "stream",
     "text": [
      "Epoch 91: 100%|██████████| 8/8 [00:00<00:00, 108.49it/s, v_num=7, train_loss=1.700]"
     ]
    },
    {
     "name": "stderr",
     "output_type": "stream",
     "text": [
      "Epoch 91, global step 736: 'train_loss' reached 1.70205 (best 1.70205), saving model to '/Users/zilinchen/Desktop/TAQ/TAQ-Query-Scripts/lightning_logs/version_7/checkpoints/epoch=91-step=736.ckpt' as top 1\n"
     ]
    },
    {
     "name": "stdout",
     "output_type": "stream",
     "text": [
      "Epoch 92: 100%|██████████| 8/8 [00:00<00:00, 144.26it/s, v_num=7, train_loss=1.700]"
     ]
    },
    {
     "name": "stderr",
     "output_type": "stream",
     "text": [
      "Epoch 92, global step 744: 'train_loss' reached 1.70178 (best 1.70178), saving model to '/Users/zilinchen/Desktop/TAQ/TAQ-Query-Scripts/lightning_logs/version_7/checkpoints/epoch=92-step=744.ckpt' as top 1\n"
     ]
    },
    {
     "name": "stdout",
     "output_type": "stream",
     "text": [
      "Epoch 93: 100%|██████████| 8/8 [00:00<00:00, 142.95it/s, v_num=7, train_loss=1.700]"
     ]
    },
    {
     "name": "stderr",
     "output_type": "stream",
     "text": [
      "Epoch 93, global step 752: 'train_loss' was not in top 1\n"
     ]
    },
    {
     "name": "stdout",
     "output_type": "stream",
     "text": [
      "Epoch 94: 100%|██████████| 8/8 [00:00<00:00, 38.03it/s, v_num=7, train_loss=1.700] "
     ]
    },
    {
     "name": "stderr",
     "output_type": "stream",
     "text": [
      "Epoch 94, global step 760: 'train_loss' was not in top 1\n"
     ]
    },
    {
     "name": "stdout",
     "output_type": "stream",
     "text": [
      "Epoch 95: 100%|██████████| 8/8 [00:00<00:00, 148.37it/s, v_num=7, train_loss=1.700]"
     ]
    },
    {
     "name": "stderr",
     "output_type": "stream",
     "text": [
      "Epoch 95, global step 768: 'train_loss' was not in top 1\n"
     ]
    },
    {
     "name": "stdout",
     "output_type": "stream",
     "text": [
      "Epoch 96: 100%|██████████| 8/8 [00:00<00:00, 122.55it/s, v_num=7, train_loss=1.700]"
     ]
    },
    {
     "name": "stderr",
     "output_type": "stream",
     "text": [
      "Epoch 96, global step 776: 'train_loss' was not in top 1\n"
     ]
    },
    {
     "name": "stdout",
     "output_type": "stream",
     "text": [
      "Epoch 97: 100%|██████████| 8/8 [00:00<00:00, 150.66it/s, v_num=7, train_loss=1.700]"
     ]
    },
    {
     "name": "stderr",
     "output_type": "stream",
     "text": [
      "Epoch 97, global step 784: 'train_loss' was not in top 1\n"
     ]
    },
    {
     "name": "stdout",
     "output_type": "stream",
     "text": [
      "Epoch 98: 100%|██████████| 8/8 [00:00<00:00, 129.58it/s, v_num=7, train_loss=1.700]"
     ]
    },
    {
     "name": "stderr",
     "output_type": "stream",
     "text": [
      "Epoch 98, global step 792: 'train_loss' was not in top 1\n"
     ]
    },
    {
     "name": "stdout",
     "output_type": "stream",
     "text": [
      "Epoch 99: 100%|██████████| 8/8 [00:00<00:00, 67.68it/s, v_num=7, train_loss=1.700] "
     ]
    },
    {
     "name": "stderr",
     "output_type": "stream",
     "text": [
      "Epoch 99, global step 800: 'train_loss' was not in top 1\n"
     ]
    },
    {
     "name": "stdout",
     "output_type": "stream",
     "text": [
      "Epoch 100: 100%|██████████| 8/8 [00:00<00:00, 92.59it/s, v_num=7, train_loss=1.700]"
     ]
    },
    {
     "name": "stderr",
     "output_type": "stream",
     "text": [
      "Epoch 100, global step 808: 'train_loss' was not in top 1\n"
     ]
    },
    {
     "name": "stdout",
     "output_type": "stream",
     "text": [
      "Epoch 101: 100%|██████████| 8/8 [00:00<00:00, 130.20it/s, v_num=7, train_loss=1.700]"
     ]
    },
    {
     "name": "stderr",
     "output_type": "stream",
     "text": [
      "Epoch 101, global step 816: 'train_loss' was not in top 1\n"
     ]
    },
    {
     "name": "stdout",
     "output_type": "stream",
     "text": [
      "Epoch 102: 100%|██████████| 8/8 [00:00<00:00, 138.88it/s, v_num=7, train_loss=1.700]"
     ]
    },
    {
     "name": "stderr",
     "output_type": "stream",
     "text": [
      "Epoch 102, global step 824: 'train_loss' was not in top 1\n"
     ]
    },
    {
     "name": "stdout",
     "output_type": "stream",
     "text": [
      "Epoch 103: 100%|██████████| 8/8 [00:00<00:00, 155.06it/s, v_num=7, train_loss=1.700]"
     ]
    },
    {
     "name": "stderr",
     "output_type": "stream",
     "text": [
      "Epoch 103, global step 832: 'train_loss' was not in top 1\n"
     ]
    },
    {
     "name": "stdout",
     "output_type": "stream",
     "text": [
      "Epoch 104: 100%|██████████| 8/8 [00:00<00:00, 149.07it/s, v_num=7, train_loss=1.700]"
     ]
    },
    {
     "name": "stderr",
     "output_type": "stream",
     "text": [
      "Epoch 104, global step 840: 'train_loss' was not in top 1\n"
     ]
    },
    {
     "name": "stdout",
     "output_type": "stream",
     "text": [
      "Epoch 105: 100%|██████████| 8/8 [00:00<00:00, 148.21it/s, v_num=7, train_loss=1.700]"
     ]
    },
    {
     "name": "stderr",
     "output_type": "stream",
     "text": [
      "Epoch 105, global step 848: 'train_loss' was not in top 1\n"
     ]
    },
    {
     "name": "stdout",
     "output_type": "stream",
     "text": [
      "Epoch 106: 100%|██████████| 8/8 [00:00<00:00, 127.97it/s, v_num=7, train_loss=1.700]"
     ]
    },
    {
     "name": "stderr",
     "output_type": "stream",
     "text": [
      "Epoch 106, global step 856: 'train_loss' was not in top 1\n"
     ]
    },
    {
     "name": "stdout",
     "output_type": "stream",
     "text": [
      "Epoch 107: 100%|██████████| 8/8 [00:00<00:00, 151.53it/s, v_num=7, train_loss=1.700]"
     ]
    },
    {
     "name": "stderr",
     "output_type": "stream",
     "text": [
      "Epoch 107, global step 864: 'train_loss' was not in top 1\n"
     ]
    },
    {
     "name": "stdout",
     "output_type": "stream",
     "text": [
      "Epoch 108: 100%|██████████| 8/8 [00:00<00:00, 74.84it/s, v_num=7, train_loss=1.700] "
     ]
    },
    {
     "name": "stderr",
     "output_type": "stream",
     "text": [
      "Epoch 108, global step 872: 'train_loss' was not in top 1\n"
     ]
    },
    {
     "name": "stdout",
     "output_type": "stream",
     "text": [
      "Epoch 109: 100%|██████████| 8/8 [00:00<00:00, 115.44it/s, v_num=7, train_loss=1.700]"
     ]
    },
    {
     "name": "stderr",
     "output_type": "stream",
     "text": [
      "Epoch 109, global step 880: 'train_loss' was not in top 1\n"
     ]
    },
    {
     "name": "stdout",
     "output_type": "stream",
     "text": [
      "Epoch 110: 100%|██████████| 8/8 [00:00<00:00, 136.35it/s, v_num=7, train_loss=1.700]"
     ]
    },
    {
     "name": "stderr",
     "output_type": "stream",
     "text": [
      "Epoch 110, global step 888: 'train_loss' was not in top 1\n"
     ]
    },
    {
     "name": "stdout",
     "output_type": "stream",
     "text": [
      "Epoch 111: 100%|██████████| 8/8 [00:00<00:00, 92.27it/s, v_num=7, train_loss=1.700] "
     ]
    },
    {
     "name": "stderr",
     "output_type": "stream",
     "text": [
      "Epoch 111, global step 896: 'train_loss' was not in top 1\n"
     ]
    },
    {
     "name": "stdout",
     "output_type": "stream",
     "text": [
      "Epoch 112: 100%|██████████| 8/8 [00:00<00:00, 145.92it/s, v_num=7, train_loss=1.700]"
     ]
    },
    {
     "name": "stderr",
     "output_type": "stream",
     "text": [
      "Epoch 112, global step 904: 'train_loss' was not in top 1\n"
     ]
    },
    {
     "name": "stdout",
     "output_type": "stream",
     "text": [
      "Epoch 113: 100%|██████████| 8/8 [00:00<00:00, 152.41it/s, v_num=7, train_loss=1.700]"
     ]
    },
    {
     "name": "stderr",
     "output_type": "stream",
     "text": [
      "Epoch 113, global step 912: 'train_loss' was not in top 1\n"
     ]
    },
    {
     "name": "stdout",
     "output_type": "stream",
     "text": [
      "Epoch 114: 100%|██████████| 8/8 [00:00<00:00, 157.13it/s, v_num=7, train_loss=1.700]"
     ]
    },
    {
     "name": "stderr",
     "output_type": "stream",
     "text": [
      "Epoch 114, global step 920: 'train_loss' was not in top 1\n"
     ]
    },
    {
     "name": "stdout",
     "output_type": "stream",
     "text": [
      "Epoch 115: 100%|██████████| 8/8 [00:00<00:00, 160.62it/s, v_num=7, train_loss=1.700]"
     ]
    },
    {
     "name": "stderr",
     "output_type": "stream",
     "text": [
      "Epoch 115, global step 928: 'train_loss' was not in top 1\n"
     ]
    },
    {
     "name": "stdout",
     "output_type": "stream",
     "text": [
      "Epoch 116: 100%|██████████| 8/8 [00:00<00:00, 160.47it/s, v_num=7, train_loss=1.700]"
     ]
    },
    {
     "name": "stderr",
     "output_type": "stream",
     "text": [
      "Epoch 116, global step 936: 'train_loss' was not in top 1\n"
     ]
    },
    {
     "name": "stdout",
     "output_type": "stream",
     "text": [
      "Epoch 117: 100%|██████████| 8/8 [00:00<00:00, 108.39it/s, v_num=7, train_loss=1.700]"
     ]
    },
    {
     "name": "stderr",
     "output_type": "stream",
     "text": [
      "Epoch 117, global step 944: 'train_loss' was not in top 1\n"
     ]
    },
    {
     "name": "stdout",
     "output_type": "stream",
     "text": [
      "Epoch 118: 100%|██████████| 8/8 [00:00<00:00, 157.76it/s, v_num=7, train_loss=1.700]"
     ]
    },
    {
     "name": "stderr",
     "output_type": "stream",
     "text": [
      "Epoch 118, global step 952: 'train_loss' was not in top 1\n"
     ]
    },
    {
     "name": "stdout",
     "output_type": "stream",
     "text": [
      "Epoch 119: 100%|██████████| 8/8 [00:00<00:00, 155.50it/s, v_num=7, train_loss=1.700]"
     ]
    },
    {
     "name": "stderr",
     "output_type": "stream",
     "text": [
      "Epoch 119, global step 960: 'train_loss' was not in top 1\n"
     ]
    },
    {
     "name": "stdout",
     "output_type": "stream",
     "text": [
      "Epoch 120: 100%|██████████| 8/8 [00:00<00:00, 159.69it/s, v_num=7, train_loss=1.700]"
     ]
    },
    {
     "name": "stderr",
     "output_type": "stream",
     "text": [
      "Epoch 120, global step 968: 'train_loss' was not in top 1\n"
     ]
    },
    {
     "name": "stdout",
     "output_type": "stream",
     "text": [
      "Epoch 121: 100%|██████████| 8/8 [00:00<00:00, 167.28it/s, v_num=7, train_loss=1.700]"
     ]
    },
    {
     "name": "stderr",
     "output_type": "stream",
     "text": [
      "Epoch 121, global step 976: 'train_loss' was not in top 1\n"
     ]
    },
    {
     "name": "stdout",
     "output_type": "stream",
     "text": [
      "Epoch 122: 100%|██████████| 8/8 [00:00<00:00, 131.07it/s, v_num=7, train_loss=1.700]"
     ]
    },
    {
     "name": "stderr",
     "output_type": "stream",
     "text": [
      "Epoch 122, global step 984: 'train_loss' was not in top 1\n"
     ]
    },
    {
     "name": "stdout",
     "output_type": "stream",
     "text": [
      "Epoch 123: 100%|██████████| 8/8 [00:00<00:00, 128.72it/s, v_num=7, train_loss=1.700]"
     ]
    },
    {
     "name": "stderr",
     "output_type": "stream",
     "text": [
      "Epoch 123, global step 992: 'train_loss' was not in top 1\n"
     ]
    },
    {
     "name": "stdout",
     "output_type": "stream",
     "text": [
      "Epoch 124: 100%|██████████| 8/8 [00:00<00:00, 68.79it/s, v_num=7, train_loss=1.700] "
     ]
    },
    {
     "name": "stderr",
     "output_type": "stream",
     "text": [
      "Epoch 124, global step 1000: 'train_loss' was not in top 1\n"
     ]
    },
    {
     "name": "stdout",
     "output_type": "stream",
     "text": [
      "Epoch 125: 100%|██████████| 8/8 [00:00<00:00, 132.38it/s, v_num=7, train_loss=1.700]"
     ]
    },
    {
     "name": "stderr",
     "output_type": "stream",
     "text": [
      "Epoch 125, global step 1008: 'train_loss' was not in top 1\n"
     ]
    },
    {
     "name": "stdout",
     "output_type": "stream",
     "text": [
      "Epoch 126: 100%|██████████| 8/8 [00:00<00:00, 141.68it/s, v_num=7, train_loss=1.700]"
     ]
    },
    {
     "name": "stderr",
     "output_type": "stream",
     "text": [
      "Epoch 126, global step 1016: 'train_loss' was not in top 1\n"
     ]
    },
    {
     "name": "stdout",
     "output_type": "stream",
     "text": [
      "Epoch 127: 100%|██████████| 8/8 [00:00<00:00, 145.78it/s, v_num=7, train_loss=1.700]"
     ]
    },
    {
     "name": "stderr",
     "output_type": "stream",
     "text": [
      "Epoch 127, global step 1024: 'train_loss' was not in top 1\n"
     ]
    },
    {
     "name": "stdout",
     "output_type": "stream",
     "text": [
      "Epoch 128: 100%|██████████| 8/8 [00:00<00:00, 161.47it/s, v_num=7, train_loss=1.700]"
     ]
    },
    {
     "name": "stderr",
     "output_type": "stream",
     "text": [
      "Epoch 128, global step 1032: 'train_loss' was not in top 1\n"
     ]
    },
    {
     "name": "stdout",
     "output_type": "stream",
     "text": [
      "Epoch 129: 100%|██████████| 8/8 [00:00<00:00, 106.79it/s, v_num=7, train_loss=1.700]"
     ]
    },
    {
     "name": "stderr",
     "output_type": "stream",
     "text": [
      "Epoch 129, global step 1040: 'train_loss' was not in top 1\n"
     ]
    },
    {
     "name": "stdout",
     "output_type": "stream",
     "text": [
      "Epoch 130: 100%|██████████| 8/8 [00:00<00:00, 155.66it/s, v_num=7, train_loss=1.700]"
     ]
    },
    {
     "name": "stderr",
     "output_type": "stream",
     "text": [
      "Epoch 130, global step 1048: 'train_loss' was not in top 1\n"
     ]
    },
    {
     "name": "stdout",
     "output_type": "stream",
     "text": [
      "Epoch 131: 100%|██████████| 8/8 [00:00<00:00, 132.06it/s, v_num=7, train_loss=1.700]"
     ]
    },
    {
     "name": "stderr",
     "output_type": "stream",
     "text": [
      "Epoch 131, global step 1056: 'train_loss' was not in top 1\n"
     ]
    },
    {
     "name": "stdout",
     "output_type": "stream",
     "text": [
      "Epoch 132: 100%|██████████| 8/8 [00:00<00:00, 148.61it/s, v_num=7, train_loss=1.700]"
     ]
    },
    {
     "name": "stderr",
     "output_type": "stream",
     "text": [
      "Epoch 132, global step 1064: 'train_loss' was not in top 1\n"
     ]
    },
    {
     "name": "stdout",
     "output_type": "stream",
     "text": [
      "Epoch 133: 100%|██████████| 8/8 [00:00<00:00, 138.53it/s, v_num=7, train_loss=1.700]"
     ]
    },
    {
     "name": "stderr",
     "output_type": "stream",
     "text": [
      "Epoch 133, global step 1072: 'train_loss' was not in top 1\n"
     ]
    },
    {
     "name": "stdout",
     "output_type": "stream",
     "text": [
      "Epoch 134: 100%|██████████| 8/8 [00:00<00:00, 152.59it/s, v_num=7, train_loss=1.700]"
     ]
    },
    {
     "name": "stderr",
     "output_type": "stream",
     "text": [
      "Epoch 134, global step 1080: 'train_loss' was not in top 1\n"
     ]
    },
    {
     "name": "stdout",
     "output_type": "stream",
     "text": [
      "Epoch 135: 100%|██████████| 8/8 [00:00<00:00, 38.23it/s, v_num=7, train_loss=1.700] "
     ]
    },
    {
     "name": "stderr",
     "output_type": "stream",
     "text": [
      "Epoch 135, global step 1088: 'train_loss' was not in top 1\n"
     ]
    },
    {
     "name": "stdout",
     "output_type": "stream",
     "text": [
      "Epoch 136: 100%|██████████| 8/8 [00:00<00:00, 73.19it/s, v_num=7, train_loss=1.700]"
     ]
    },
    {
     "name": "stderr",
     "output_type": "stream",
     "text": [
      "Epoch 136, global step 1096: 'train_loss' was not in top 1\n"
     ]
    },
    {
     "name": "stdout",
     "output_type": "stream",
     "text": [
      "Epoch 137: 100%|██████████| 8/8 [00:00<00:00, 156.57it/s, v_num=7, train_loss=1.700]"
     ]
    },
    {
     "name": "stderr",
     "output_type": "stream",
     "text": [
      "Epoch 137, global step 1104: 'train_loss' was not in top 1\n"
     ]
    },
    {
     "name": "stdout",
     "output_type": "stream",
     "text": [
      "Epoch 138: 100%|██████████| 8/8 [00:00<00:00, 157.40it/s, v_num=7, train_loss=1.700]"
     ]
    },
    {
     "name": "stderr",
     "output_type": "stream",
     "text": [
      "Epoch 138, global step 1112: 'train_loss' was not in top 1\n"
     ]
    },
    {
     "name": "stdout",
     "output_type": "stream",
     "text": [
      "Epoch 139: 100%|██████████| 8/8 [00:00<00:00, 104.46it/s, v_num=7, train_loss=1.700]"
     ]
    },
    {
     "name": "stderr",
     "output_type": "stream",
     "text": [
      "Epoch 139, global step 1120: 'train_loss' was not in top 1\n"
     ]
    },
    {
     "name": "stdout",
     "output_type": "stream",
     "text": [
      "Epoch 140: 100%|██████████| 8/8 [00:00<00:00, 150.74it/s, v_num=7, train_loss=1.700]"
     ]
    },
    {
     "name": "stderr",
     "output_type": "stream",
     "text": [
      "Epoch 140, global step 1128: 'train_loss' was not in top 1\n"
     ]
    },
    {
     "name": "stdout",
     "output_type": "stream",
     "text": [
      "Epoch 141: 100%|██████████| 8/8 [00:00<00:00, 155.58it/s, v_num=7, train_loss=1.700]"
     ]
    },
    {
     "name": "stderr",
     "output_type": "stream",
     "text": [
      "Epoch 141, global step 1136: 'train_loss' was not in top 1\n"
     ]
    },
    {
     "name": "stdout",
     "output_type": "stream",
     "text": [
      "Epoch 142: 100%|██████████| 8/8 [00:00<00:00, 160.35it/s, v_num=7, train_loss=1.700]"
     ]
    },
    {
     "name": "stderr",
     "output_type": "stream",
     "text": [
      "Epoch 142, global step 1144: 'train_loss' was not in top 1\n"
     ]
    },
    {
     "name": "stdout",
     "output_type": "stream",
     "text": [
      "Epoch 143: 100%|██████████| 8/8 [00:00<00:00, 151.18it/s, v_num=7, train_loss=1.700]"
     ]
    },
    {
     "name": "stderr",
     "output_type": "stream",
     "text": [
      "Epoch 143, global step 1152: 'train_loss' was not in top 1\n"
     ]
    },
    {
     "name": "stdout",
     "output_type": "stream",
     "text": [
      "Epoch 144: 100%|██████████| 8/8 [00:00<00:00, 156.64it/s, v_num=7, train_loss=1.700]"
     ]
    },
    {
     "name": "stderr",
     "output_type": "stream",
     "text": [
      "Epoch 144, global step 1160: 'train_loss' was not in top 1\n"
     ]
    },
    {
     "name": "stdout",
     "output_type": "stream",
     "text": [
      "Epoch 145: 100%|██████████| 8/8 [00:00<00:00, 160.98it/s, v_num=7, train_loss=1.700]"
     ]
    },
    {
     "name": "stderr",
     "output_type": "stream",
     "text": [
      "Epoch 145, global step 1168: 'train_loss' was not in top 1\n"
     ]
    },
    {
     "name": "stdout",
     "output_type": "stream",
     "text": [
      "Epoch 146: 100%|██████████| 8/8 [00:00<00:00, 155.94it/s, v_num=7, train_loss=1.700]"
     ]
    },
    {
     "name": "stderr",
     "output_type": "stream",
     "text": [
      "Epoch 146, global step 1176: 'train_loss' was not in top 1\n"
     ]
    },
    {
     "name": "stdout",
     "output_type": "stream",
     "text": [
      "Epoch 147: 100%|██████████| 8/8 [00:00<00:00, 130.44it/s, v_num=7, train_loss=1.700]"
     ]
    },
    {
     "name": "stderr",
     "output_type": "stream",
     "text": [
      "Epoch 147, global step 1184: 'train_loss' was not in top 1\n"
     ]
    },
    {
     "name": "stdout",
     "output_type": "stream",
     "text": [
      "Epoch 148: 100%|██████████| 8/8 [00:00<00:00, 122.02it/s, v_num=7, train_loss=1.700]"
     ]
    },
    {
     "name": "stderr",
     "output_type": "stream",
     "text": [
      "Epoch 148, global step 1192: 'train_loss' was not in top 1\n"
     ]
    },
    {
     "name": "stdout",
     "output_type": "stream",
     "text": [
      "Epoch 149: 100%|██████████| 8/8 [00:00<00:00, 73.38it/s, v_num=7, train_loss=1.700] "
     ]
    },
    {
     "name": "stderr",
     "output_type": "stream",
     "text": [
      "Epoch 149, global step 1200: 'train_loss' was not in top 1\n"
     ]
    },
    {
     "name": "stdout",
     "output_type": "stream",
     "text": [
      "Epoch 150: 100%|██████████| 8/8 [00:00<00:00, 153.58it/s, v_num=7, train_loss=1.700]"
     ]
    },
    {
     "name": "stderr",
     "output_type": "stream",
     "text": [
      "Epoch 150, global step 1208: 'train_loss' was not in top 1\n"
     ]
    },
    {
     "name": "stdout",
     "output_type": "stream",
     "text": [
      "Epoch 151: 100%|██████████| 8/8 [00:00<00:00, 151.22it/s, v_num=7, train_loss=1.700]"
     ]
    },
    {
     "name": "stderr",
     "output_type": "stream",
     "text": [
      "Epoch 151, global step 1216: 'train_loss' was not in top 1\n"
     ]
    },
    {
     "name": "stdout",
     "output_type": "stream",
     "text": [
      "Epoch 152: 100%|██████████| 8/8 [00:00<00:00, 149.67it/s, v_num=7, train_loss=1.700]"
     ]
    },
    {
     "name": "stderr",
     "output_type": "stream",
     "text": [
      "Epoch 152, global step 1224: 'train_loss' was not in top 1\n"
     ]
    },
    {
     "name": "stdout",
     "output_type": "stream",
     "text": [
      "Epoch 153: 100%|██████████| 8/8 [00:00<00:00, 129.42it/s, v_num=7, train_loss=1.700]"
     ]
    },
    {
     "name": "stderr",
     "output_type": "stream",
     "text": [
      "Epoch 153, global step 1232: 'train_loss' was not in top 1\n"
     ]
    },
    {
     "name": "stdout",
     "output_type": "stream",
     "text": [
      "Epoch 154: 100%|██████████| 8/8 [00:00<00:00, 143.32it/s, v_num=7, train_loss=1.700]"
     ]
    },
    {
     "name": "stderr",
     "output_type": "stream",
     "text": [
      "Epoch 154, global step 1240: 'train_loss' was not in top 1\n"
     ]
    },
    {
     "name": "stdout",
     "output_type": "stream",
     "text": [
      "Epoch 155: 100%|██████████| 8/8 [00:00<00:00, 147.55it/s, v_num=7, train_loss=1.700]"
     ]
    },
    {
     "name": "stderr",
     "output_type": "stream",
     "text": [
      "Epoch 155, global step 1248: 'train_loss' was not in top 1\n"
     ]
    },
    {
     "name": "stdout",
     "output_type": "stream",
     "text": [
      "Epoch 156: 100%|██████████| 8/8 [00:00<00:00, 146.66it/s, v_num=7, train_loss=1.700]"
     ]
    },
    {
     "name": "stderr",
     "output_type": "stream",
     "text": [
      "Epoch 156, global step 1256: 'train_loss' was not in top 1\n"
     ]
    },
    {
     "name": "stdout",
     "output_type": "stream",
     "text": [
      "Epoch 157: 100%|██████████| 8/8 [00:00<00:00, 153.23it/s, v_num=7, train_loss=1.700]"
     ]
    },
    {
     "name": "stderr",
     "output_type": "stream",
     "text": [
      "Epoch 157, global step 1264: 'train_loss' was not in top 1\n"
     ]
    },
    {
     "name": "stdout",
     "output_type": "stream",
     "text": [
      "Epoch 158: 100%|██████████| 8/8 [00:00<00:00, 142.28it/s, v_num=7, train_loss=1.700]"
     ]
    },
    {
     "name": "stderr",
     "output_type": "stream",
     "text": [
      "Epoch 158, global step 1272: 'train_loss' was not in top 1\n"
     ]
    },
    {
     "name": "stdout",
     "output_type": "stream",
     "text": [
      "Epoch 159: 100%|██████████| 8/8 [00:00<00:00, 144.67it/s, v_num=7, train_loss=1.700]"
     ]
    },
    {
     "name": "stderr",
     "output_type": "stream",
     "text": [
      "Epoch 159, global step 1280: 'train_loss' was not in top 1\n"
     ]
    },
    {
     "name": "stdout",
     "output_type": "stream",
     "text": [
      "Epoch 160: 100%|██████████| 8/8 [00:00<00:00, 133.90it/s, v_num=7, train_loss=1.700]"
     ]
    },
    {
     "name": "stderr",
     "output_type": "stream",
     "text": [
      "Epoch 160, global step 1288: 'train_loss' was not in top 1\n"
     ]
    },
    {
     "name": "stdout",
     "output_type": "stream",
     "text": [
      "Epoch 161: 100%|██████████| 8/8 [00:00<00:00, 89.41it/s, v_num=7, train_loss=1.700] "
     ]
    },
    {
     "name": "stderr",
     "output_type": "stream",
     "text": [
      "Epoch 161, global step 1296: 'train_loss' was not in top 1\n"
     ]
    },
    {
     "name": "stdout",
     "output_type": "stream",
     "text": [
      "Epoch 162: 100%|██████████| 8/8 [00:00<00:00, 135.59it/s, v_num=7, train_loss=1.700]"
     ]
    },
    {
     "name": "stderr",
     "output_type": "stream",
     "text": [
      "Epoch 162, global step 1304: 'train_loss' was not in top 1\n"
     ]
    },
    {
     "name": "stdout",
     "output_type": "stream",
     "text": [
      "Epoch 163: 100%|██████████| 8/8 [00:00<00:00, 145.18it/s, v_num=7, train_loss=1.700]"
     ]
    },
    {
     "name": "stderr",
     "output_type": "stream",
     "text": [
      "Epoch 163, global step 1312: 'train_loss' was not in top 1\n"
     ]
    },
    {
     "name": "stdout",
     "output_type": "stream",
     "text": [
      "Epoch 164: 100%|██████████| 8/8 [00:00<00:00, 146.28it/s, v_num=7, train_loss=1.700]"
     ]
    },
    {
     "name": "stderr",
     "output_type": "stream",
     "text": [
      "Epoch 164, global step 1320: 'train_loss' was not in top 1\n"
     ]
    },
    {
     "name": "stdout",
     "output_type": "stream",
     "text": [
      "Epoch 165: 100%|██████████| 8/8 [00:00<00:00, 164.43it/s, v_num=7, train_loss=1.700]"
     ]
    },
    {
     "name": "stderr",
     "output_type": "stream",
     "text": [
      "Epoch 165, global step 1328: 'train_loss' was not in top 1\n"
     ]
    },
    {
     "name": "stdout",
     "output_type": "stream",
     "text": [
      "Epoch 166: 100%|██████████| 8/8 [00:00<00:00, 164.12it/s, v_num=7, train_loss=1.700]"
     ]
    },
    {
     "name": "stderr",
     "output_type": "stream",
     "text": [
      "Epoch 166, global step 1336: 'train_loss' was not in top 1\n"
     ]
    },
    {
     "name": "stdout",
     "output_type": "stream",
     "text": [
      "Epoch 167: 100%|██████████| 8/8 [00:00<00:00, 161.63it/s, v_num=7, train_loss=1.700]"
     ]
    },
    {
     "name": "stderr",
     "output_type": "stream",
     "text": [
      "Epoch 167, global step 1344: 'train_loss' was not in top 1\n"
     ]
    },
    {
     "name": "stdout",
     "output_type": "stream",
     "text": [
      "Epoch 168: 100%|██████████| 8/8 [00:00<00:00, 153.71it/s, v_num=7, train_loss=1.700]"
     ]
    },
    {
     "name": "stderr",
     "output_type": "stream",
     "text": [
      "Epoch 168, global step 1352: 'train_loss' was not in top 1\n"
     ]
    },
    {
     "name": "stdout",
     "output_type": "stream",
     "text": [
      "Epoch 169: 100%|██████████| 8/8 [00:00<00:00, 141.87it/s, v_num=7, train_loss=1.700]"
     ]
    },
    {
     "name": "stderr",
     "output_type": "stream",
     "text": [
      "Epoch 169, global step 1360: 'train_loss' was not in top 1\n"
     ]
    },
    {
     "name": "stdout",
     "output_type": "stream",
     "text": [
      "Epoch 170: 100%|██████████| 8/8 [00:00<00:00, 98.79it/s, v_num=7, train_loss=1.700] "
     ]
    },
    {
     "name": "stderr",
     "output_type": "stream",
     "text": [
      "Epoch 170, global step 1368: 'train_loss' was not in top 1\n"
     ]
    },
    {
     "name": "stdout",
     "output_type": "stream",
     "text": [
      "Epoch 171: 100%|██████████| 8/8 [00:00<00:00, 149.58it/s, v_num=7, train_loss=1.700]"
     ]
    },
    {
     "name": "stderr",
     "output_type": "stream",
     "text": [
      "Epoch 171, global step 1376: 'train_loss' was not in top 1\n"
     ]
    },
    {
     "name": "stdout",
     "output_type": "stream",
     "text": [
      "Epoch 172: 100%|██████████| 8/8 [00:00<00:00, 143.26it/s, v_num=7, train_loss=1.700]"
     ]
    },
    {
     "name": "stderr",
     "output_type": "stream",
     "text": [
      "Epoch 172, global step 1384: 'train_loss' was not in top 1\n"
     ]
    },
    {
     "name": "stdout",
     "output_type": "stream",
     "text": [
      "Epoch 173: 100%|██████████| 8/8 [00:00<00:00, 91.44it/s, v_num=7, train_loss=1.700] "
     ]
    },
    {
     "name": "stderr",
     "output_type": "stream",
     "text": [
      "Epoch 173, global step 1392: 'train_loss' was not in top 1\n"
     ]
    },
    {
     "name": "stdout",
     "output_type": "stream",
     "text": [
      "Epoch 174: 100%|██████████| 8/8 [00:00<00:00, 160.02it/s, v_num=7, train_loss=1.700]"
     ]
    },
    {
     "name": "stderr",
     "output_type": "stream",
     "text": [
      "Epoch 174, global step 1400: 'train_loss' was not in top 1\n"
     ]
    },
    {
     "name": "stdout",
     "output_type": "stream",
     "text": [
      "Epoch 175: 100%|██████████| 8/8 [00:00<00:00, 148.89it/s, v_num=7, train_loss=1.700]"
     ]
    },
    {
     "name": "stderr",
     "output_type": "stream",
     "text": [
      "Epoch 175, global step 1408: 'train_loss' was not in top 1\n"
     ]
    },
    {
     "name": "stdout",
     "output_type": "stream",
     "text": [
      "Epoch 176: 100%|██████████| 8/8 [00:00<00:00, 36.53it/s, v_num=7, train_loss=1.700] "
     ]
    },
    {
     "name": "stderr",
     "output_type": "stream",
     "text": [
      "Epoch 176, global step 1416: 'train_loss' was not in top 1\n"
     ]
    },
    {
     "name": "stdout",
     "output_type": "stream",
     "text": [
      "Epoch 177: 100%|██████████| 8/8 [00:00<00:00, 152.90it/s, v_num=7, train_loss=1.700]"
     ]
    },
    {
     "name": "stderr",
     "output_type": "stream",
     "text": [
      "Epoch 177, global step 1424: 'train_loss' was not in top 1\n"
     ]
    },
    {
     "name": "stdout",
     "output_type": "stream",
     "text": [
      "Epoch 178: 100%|██████████| 8/8 [00:00<00:00, 139.04it/s, v_num=7, train_loss=1.700]"
     ]
    },
    {
     "name": "stderr",
     "output_type": "stream",
     "text": [
      "Epoch 178, global step 1432: 'train_loss' was not in top 1\n"
     ]
    },
    {
     "name": "stdout",
     "output_type": "stream",
     "text": [
      "Epoch 179: 100%|██████████| 8/8 [00:00<00:00, 147.30it/s, v_num=7, train_loss=1.700]"
     ]
    },
    {
     "name": "stderr",
     "output_type": "stream",
     "text": [
      "Epoch 179, global step 1440: 'train_loss' was not in top 1\n"
     ]
    },
    {
     "name": "stdout",
     "output_type": "stream",
     "text": [
      "Epoch 180: 100%|██████████| 8/8 [00:00<00:00, 143.84it/s, v_num=7, train_loss=1.700]"
     ]
    },
    {
     "name": "stderr",
     "output_type": "stream",
     "text": [
      "Epoch 180, global step 1448: 'train_loss' was not in top 1\n"
     ]
    },
    {
     "name": "stdout",
     "output_type": "stream",
     "text": [
      "Epoch 181: 100%|██████████| 8/8 [00:00<00:00, 146.76it/s, v_num=7, train_loss=1.700]"
     ]
    },
    {
     "name": "stderr",
     "output_type": "stream",
     "text": [
      "Epoch 181, global step 1456: 'train_loss' reached 1.70175 (best 1.70175), saving model to '/Users/zilinchen/Desktop/TAQ/TAQ-Query-Scripts/lightning_logs/version_7/checkpoints/epoch=181-step=1456.ckpt' as top 1\n"
     ]
    },
    {
     "name": "stdout",
     "output_type": "stream",
     "text": [
      "Epoch 182: 100%|██████████| 8/8 [00:00<00:00, 145.66it/s, v_num=7, train_loss=1.700]"
     ]
    },
    {
     "name": "stderr",
     "output_type": "stream",
     "text": [
      "Epoch 182, global step 1464: 'train_loss' was not in top 1\n"
     ]
    },
    {
     "name": "stdout",
     "output_type": "stream",
     "text": [
      "Epoch 183: 100%|██████████| 8/8 [00:00<00:00, 51.03it/s, v_num=7, train_loss=1.700] "
     ]
    },
    {
     "name": "stderr",
     "output_type": "stream",
     "text": [
      "Epoch 183, global step 1472: 'train_loss' was not in top 1\n"
     ]
    },
    {
     "name": "stdout",
     "output_type": "stream",
     "text": [
      "Epoch 184: 100%|██████████| 8/8 [00:00<00:00, 52.87it/s, v_num=7, train_loss=1.700]"
     ]
    },
    {
     "name": "stderr",
     "output_type": "stream",
     "text": [
      "Epoch 184, global step 1480: 'train_loss' was not in top 1\n"
     ]
    },
    {
     "name": "stdout",
     "output_type": "stream",
     "text": [
      "Epoch 185: 100%|██████████| 8/8 [00:00<00:00, 62.80it/s, v_num=7, train_loss=1.700]"
     ]
    },
    {
     "name": "stderr",
     "output_type": "stream",
     "text": [
      "Epoch 185, global step 1488: 'train_loss' reached 1.70174 (best 1.70174), saving model to '/Users/zilinchen/Desktop/TAQ/TAQ-Query-Scripts/lightning_logs/version_7/checkpoints/epoch=185-step=1488.ckpt' as top 1\n"
     ]
    },
    {
     "name": "stdout",
     "output_type": "stream",
     "text": [
      "Epoch 186: 100%|██████████| 8/8 [00:00<00:00, 131.29it/s, v_num=7, train_loss=1.700]"
     ]
    },
    {
     "name": "stderr",
     "output_type": "stream",
     "text": [
      "Epoch 186, global step 1496: 'train_loss' reached 1.70169 (best 1.70169), saving model to '/Users/zilinchen/Desktop/TAQ/TAQ-Query-Scripts/lightning_logs/version_7/checkpoints/epoch=186-step=1496.ckpt' as top 1\n"
     ]
    },
    {
     "name": "stdout",
     "output_type": "stream",
     "text": [
      "Epoch 187: 100%|██████████| 8/8 [00:00<00:00, 131.36it/s, v_num=7, train_loss=1.700]"
     ]
    },
    {
     "name": "stderr",
     "output_type": "stream",
     "text": [
      "Epoch 187, global step 1504: 'train_loss' reached 1.70140 (best 1.70140), saving model to '/Users/zilinchen/Desktop/TAQ/TAQ-Query-Scripts/lightning_logs/version_7/checkpoints/epoch=187-step=1504.ckpt' as top 1\n"
     ]
    },
    {
     "name": "stdout",
     "output_type": "stream",
     "text": [
      "Epoch 188: 100%|██████████| 8/8 [00:00<00:00, 132.67it/s, v_num=7, train_loss=1.700]"
     ]
    },
    {
     "name": "stderr",
     "output_type": "stream",
     "text": [
      "Epoch 188, global step 1512: 'train_loss' reached 1.70135 (best 1.70135), saving model to '/Users/zilinchen/Desktop/TAQ/TAQ-Query-Scripts/lightning_logs/version_7/checkpoints/epoch=188-step=1512.ckpt' as top 1\n"
     ]
    },
    {
     "name": "stdout",
     "output_type": "stream",
     "text": [
      "Epoch 189: 100%|██████████| 8/8 [00:00<00:00, 133.75it/s, v_num=7, train_loss=1.700]"
     ]
    },
    {
     "name": "stderr",
     "output_type": "stream",
     "text": [
      "Epoch 189, global step 1520: 'train_loss' was not in top 1\n"
     ]
    },
    {
     "name": "stdout",
     "output_type": "stream",
     "text": [
      "Epoch 190: 100%|██████████| 8/8 [00:00<00:00, 74.75it/s, v_num=7, train_loss=1.700] "
     ]
    },
    {
     "name": "stderr",
     "output_type": "stream",
     "text": [
      "Epoch 190, global step 1528: 'train_loss' was not in top 1\n"
     ]
    },
    {
     "name": "stdout",
     "output_type": "stream",
     "text": [
      "Epoch 191: 100%|██████████| 8/8 [00:00<00:00, 135.90it/s, v_num=7, train_loss=1.700]"
     ]
    },
    {
     "name": "stderr",
     "output_type": "stream",
     "text": [
      "Epoch 191, global step 1536: 'train_loss' was not in top 1\n"
     ]
    },
    {
     "name": "stdout",
     "output_type": "stream",
     "text": [
      "Epoch 192: 100%|██████████| 8/8 [00:00<00:00, 97.53it/s, v_num=7, train_loss=1.700] "
     ]
    },
    {
     "name": "stderr",
     "output_type": "stream",
     "text": [
      "Epoch 192, global step 1544: 'train_loss' was not in top 1\n"
     ]
    },
    {
     "name": "stdout",
     "output_type": "stream",
     "text": [
      "Epoch 193: 100%|██████████| 8/8 [00:00<00:00, 140.75it/s, v_num=7, train_loss=1.700]"
     ]
    },
    {
     "name": "stderr",
     "output_type": "stream",
     "text": [
      "Epoch 193, global step 1552: 'train_loss' was not in top 1\n"
     ]
    },
    {
     "name": "stdout",
     "output_type": "stream",
     "text": [
      "Epoch 194: 100%|██████████| 8/8 [00:00<00:00, 128.23it/s, v_num=7, train_loss=1.700]"
     ]
    },
    {
     "name": "stderr",
     "output_type": "stream",
     "text": [
      "Epoch 194, global step 1560: 'train_loss' was not in top 1\n"
     ]
    },
    {
     "name": "stdout",
     "output_type": "stream",
     "text": [
      "Epoch 195: 100%|██████████| 8/8 [00:00<00:00, 75.68it/s, v_num=7, train_loss=1.700] "
     ]
    },
    {
     "name": "stderr",
     "output_type": "stream",
     "text": [
      "Epoch 195, global step 1568: 'train_loss' was not in top 1\n"
     ]
    },
    {
     "name": "stdout",
     "output_type": "stream",
     "text": [
      "Epoch 196: 100%|██████████| 8/8 [00:00<00:00, 134.76it/s, v_num=7, train_loss=1.700]"
     ]
    },
    {
     "name": "stderr",
     "output_type": "stream",
     "text": [
      "Epoch 196, global step 1576: 'train_loss' was not in top 1\n"
     ]
    },
    {
     "name": "stdout",
     "output_type": "stream",
     "text": [
      "Epoch 197: 100%|██████████| 8/8 [00:00<00:00, 139.74it/s, v_num=7, train_loss=1.700]"
     ]
    },
    {
     "name": "stderr",
     "output_type": "stream",
     "text": [
      "Epoch 197, global step 1584: 'train_loss' reached 1.70130 (best 1.70130), saving model to '/Users/zilinchen/Desktop/TAQ/TAQ-Query-Scripts/lightning_logs/version_7/checkpoints/epoch=197-step=1584.ckpt' as top 1\n"
     ]
    },
    {
     "name": "stdout",
     "output_type": "stream",
     "text": [
      "Epoch 198: 100%|██████████| 8/8 [00:00<00:00, 139.48it/s, v_num=7, train_loss=1.700]"
     ]
    },
    {
     "name": "stderr",
     "output_type": "stream",
     "text": [
      "Epoch 198, global step 1592: 'train_loss' reached 1.70117 (best 1.70117), saving model to '/Users/zilinchen/Desktop/TAQ/TAQ-Query-Scripts/lightning_logs/version_7/checkpoints/epoch=198-step=1592.ckpt' as top 1\n"
     ]
    },
    {
     "name": "stdout",
     "output_type": "stream",
     "text": [
      "Epoch 199: 100%|██████████| 8/8 [00:00<00:00, 135.37it/s, v_num=7, train_loss=1.700]"
     ]
    },
    {
     "name": "stderr",
     "output_type": "stream",
     "text": [
      "Epoch 199, global step 1600: 'train_loss' reached 1.70111 (best 1.70111), saving model to '/Users/zilinchen/Desktop/TAQ/TAQ-Query-Scripts/lightning_logs/version_7/checkpoints/epoch=199-step=1600.ckpt' as top 1\n",
      "`Trainer.fit` stopped: `max_epochs=200` reached.\n"
     ]
    },
    {
     "name": "stdout",
     "output_type": "stream",
     "text": [
      "Epoch 199: 100%|██████████| 8/8 [00:00<00:00, 120.26it/s, v_num=7, train_loss=1.700]\n"
     ]
    }
   ],
   "source": [
    "lasso_predictor = lasso_estimator.train(\n",
    "    train_data=train_set,\n",
    ")"
   ]
  },
  {
   "cell_type": "code",
   "execution_count": 7,
   "metadata": {},
   "outputs": [
    {
     "name": "stdout",
     "output_type": "stream",
     "text": [
      "Predicting DataLoader 0: 100%|██████████| 2/2 [00:00<00:00, 73.18it/s]\n",
      "Out of sample R2: 0.9999975801716255\n"
     ]
    }
   ],
   "source": [
    "lasso_predictor.backtest(test_set)"
   ]
  }
 ],
 "metadata": {
  "kernelspec": {
   "display_name": "env_taq",
   "language": "python",
   "name": "python3"
  },
  "language_info": {
   "codemirror_mode": {
    "name": "ipython",
    "version": 3
   },
   "file_extension": ".py",
   "mimetype": "text/x-python",
   "name": "python",
   "nbconvert_exporter": "python",
   "pygments_lexer": "ipython3",
   "version": "3.11.7"
  }
 },
 "nbformat": 4,
 "nbformat_minor": 2
}
