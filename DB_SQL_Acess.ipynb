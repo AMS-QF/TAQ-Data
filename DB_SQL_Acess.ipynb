{
 "cells": [
  {
   "attachments": {},
   "cell_type": "markdown",
   "metadata": {},
   "source": [
    "# Database Access with ClickHouse Connect\n",
    "\n",
    "Please install the following packages:\n",
    "- clickhouse_connect\n",
    "- python-dotenv"
   ]
  },
  {
   "attachments": {},
   "cell_type": "markdown",
   "metadata": {},
   "source": [
    "## Custom SQL prompts to Clickhouse Database"
   ]
  },
  {
   "cell_type": "code",
   "execution_count": 8,
   "metadata": {},
   "outputs": [
    {
     "name": "stderr",
     "output_type": "stream",
     "text": [
      "Code: 201. DB::Exception: Quota for user `mhaggerty` for 86400s has been exceeded: result_rows = 1000058/1000000. Interval will end at 2023-05-05 00:00:00. Name of quota template: `dbuser`. (QUOTA_EXPIRED) (version 22.1.3.7 (official build))\n",
      "\n"
     ]
    },
    {
     "ename": "DatabaseError",
     "evalue": ":HTTPDriver for http://ppolak5.ams.stonybrook.edu.:3306 returned response code 500)\n Code: 201. DB::Exception: Quota for user `mhaggerty` for 86400s has been exceeded: result_rows = 1000058/1000000. Interval will end at 2023-05-05 00:00:00. Name of quota template: `dbuser`. (QUOTA_EXPIRED) (version 22.1.3.7 (official build)",
     "output_type": "error",
     "traceback": [
      "\u001b[0;31m---------------------------------------------------------------------------\u001b[0m",
      "\u001b[0;31mDatabaseError\u001b[0m                             Traceback (most recent call last)",
      "Cell \u001b[0;32mIn[8], line 8\u001b[0m\n\u001b[1;32m      5\u001b[0m query \u001b[39m=\u001b[39m \u001b[39m\"\u001b[39m\u001b[39mSELECT * FROM TRADESDB.trades2017view WHERE (Symbol = \u001b[39m\u001b[39m'\u001b[39m\u001b[39mAAPL\u001b[39m\u001b[39m'\u001b[39m\u001b[39m) AND (Date = \u001b[39m\u001b[39m'\u001b[39m\u001b[39m2017-01-05\u001b[39m\u001b[39m'\u001b[39m\u001b[39m)\u001b[39m\u001b[39m\"\u001b[39m\n\u001b[1;32m      7\u001b[0m \u001b[39m# Execute the query and store the resulting dataframe\u001b[39;00m\n\u001b[0;32m----> 8\u001b[0m data \u001b[39m=\u001b[39m get_trades(query)\n",
      "File \u001b[0;32m~/Python/TAQ-Query-Scripts/utils/clickhouse_query.py:21\u001b[0m, in \u001b[0;36mget_trades\u001b[0;34m(query)\u001b[0m\n\u001b[1;32m     19\u001b[0m \u001b[39mdef\u001b[39;00m \u001b[39mget_trades\u001b[39m(query):\n\u001b[1;32m     20\u001b[0m     \u001b[39m\"\"\"Execute a SQL query and return the results as a list of dictionaries.\"\"\"\u001b[39;00m\n\u001b[0;32m---> 21\u001b[0m     results \u001b[39m=\u001b[39m client\u001b[39m.\u001b[39;49mcommand(query)\n\u001b[1;32m     23\u001b[0m     \u001b[39m# Replace 'raw_data' with the variable containing your data as a list\u001b[39;00m\n\u001b[1;32m     24\u001b[0m     raw_data \u001b[39m=\u001b[39m results\n",
      "File \u001b[0;32m~/anaconda3/envs/taq/lib/python3.10/site-packages/clickhouse_connect/driver/httpclient.py:307\u001b[0m, in \u001b[0;36mHttpClient.command\u001b[0;34m(self, cmd, parameters, data, settings, use_database)\u001b[0m\n\u001b[1;32m    305\u001b[0m params\u001b[39m.\u001b[39mupdate(\u001b[39mself\u001b[39m\u001b[39m.\u001b[39m_validate_settings(settings \u001b[39mor\u001b[39;00m {}))\n\u001b[1;32m    306\u001b[0m method \u001b[39m=\u001b[39m \u001b[39m'\u001b[39m\u001b[39mPOST\u001b[39m\u001b[39m'\u001b[39m \u001b[39mif\u001b[39;00m payload \u001b[39melse\u001b[39;00m \u001b[39m'\u001b[39m\u001b[39mGET\u001b[39m\u001b[39m'\u001b[39m\n\u001b[0;32m--> 307\u001b[0m response \u001b[39m=\u001b[39m \u001b[39mself\u001b[39;49m\u001b[39m.\u001b[39;49m_raw_request(payload, params, headers, method)\n\u001b[1;32m    308\u001b[0m result \u001b[39m=\u001b[39m response\u001b[39m.\u001b[39mdata\u001b[39m.\u001b[39mdecode()[:\u001b[39m-\u001b[39m\u001b[39m1\u001b[39m]\u001b[39m.\u001b[39msplit(\u001b[39m'\u001b[39m\u001b[39m\\t\u001b[39;00m\u001b[39m'\u001b[39m)\n\u001b[1;32m    309\u001b[0m \u001b[39mif\u001b[39;00m \u001b[39mlen\u001b[39m(result) \u001b[39m==\u001b[39m \u001b[39m1\u001b[39m:\n",
      "File \u001b[0;32m~/anaconda3/envs/taq/lib/python3.10/site-packages/clickhouse_connect/driver/httpclient.py:387\u001b[0m, in \u001b[0;36mHttpClient._raw_request\u001b[0;34m(self, data, params, headers, method, retries, stream, server_wait, fields, error_handler)\u001b[0m\n\u001b[1;32m    385\u001b[0m \u001b[39mif\u001b[39;00m error_handler:\n\u001b[1;32m    386\u001b[0m     error_handler(response)\n\u001b[0;32m--> 387\u001b[0m \u001b[39mself\u001b[39;49m\u001b[39m.\u001b[39;49m_error_handler(response)\n",
      "File \u001b[0;32m~/anaconda3/envs/taq/lib/python3.10/site-packages/clickhouse_connect/driver/httpclient.py:323\u001b[0m, in \u001b[0;36mHttpClient._error_handler\u001b[0;34m(self, response, retried)\u001b[0m\n\u001b[1;32m    321\u001b[0m     logger\u001b[39m.\u001b[39merror(err_msg)\n\u001b[1;32m    322\u001b[0m     err_str \u001b[39m=\u001b[39m \u001b[39mf\u001b[39m\u001b[39m'\u001b[39m\u001b[39m:\u001b[39m\u001b[39m{\u001b[39;00merr_str\u001b[39m}\u001b[39;00m\u001b[39m\\n\u001b[39;00m\u001b[39m \u001b[39m\u001b[39m{\u001b[39;00merr_msg[\u001b[39m0\u001b[39m:\u001b[39m240\u001b[39m]\u001b[39m}\u001b[39;00m\u001b[39m'\u001b[39m\n\u001b[0;32m--> 323\u001b[0m \u001b[39mraise\u001b[39;00m OperationalError(err_str) \u001b[39mif\u001b[39;00m retried \u001b[39melse\u001b[39;00m DatabaseError(err_str) \u001b[39mfrom\u001b[39;00m \u001b[39mNone\u001b[39m\n",
      "\u001b[0;31mDatabaseError\u001b[0m: :HTTPDriver for http://ppolak5.ams.stonybrook.edu.:3306 returned response code 500)\n Code: 201. DB::Exception: Quota for user `mhaggerty` for 86400s has been exceeded: result_rows = 1000058/1000000. Interval will end at 2023-05-05 00:00:00. Name of quota template: `dbuser`. (QUOTA_EXPIRED) (version 22.1.3.7 (official build)"
     ]
    }
   ],
   "source": [
    "# import helper functions\n",
    "from utils.clickhouse_query import *\n",
    "\n",
    "# Define the query\n",
    "query = \"SELECT * FROM TRADESDB.trades2017view WHERE (Symbol = 'AAPL') AND (Date = '2017-01-05')\"\n",
    "\n",
    "# Execute the query and store the resulting dataframe\n",
    "data = get_trades(query)"
   ]
  },
  {
   "attachments": {},
   "cell_type": "markdown",
   "metadata": {},
   "source": [
    "# More Modular Prompts"
   ]
  },
  {
   "cell_type": "code",
   "execution_count": 4,
   "metadata": {},
   "outputs": [
    {
     "name": "stdout",
     "output_type": "stream",
     "text": [
      "<class 'pandas.core.frame.DataFrame'>\n",
      "RangeIndex: 136227 entries, 0 to 136226\n",
      "Data columns (total 17 columns):\n",
      " #   Column                                  Non-Null Count   Dtype \n",
      "---  ------                                  --------------   ----- \n",
      " 0   Time                                    136227 non-null  object\n",
      " 1   Exchange                                136227 non-null  object\n",
      " 2   Symbol                                  136227 non-null  object\n",
      " 3   Sale_Condition                          136227 non-null  object\n",
      " 4   Trade_Volume                            136227 non-null  object\n",
      " 5   Trade_Price                             136227 non-null  object\n",
      " 6   Trade_Stop_Stock_Indicator              136227 non-null  object\n",
      " 7   Trade_Correction_Indicator              136227 non-null  object\n",
      " 8   Sequence_Number                         136227 non-null  object\n",
      " 9   Trade_Id                                136227 non-null  object\n",
      " 10  Source_of_Trade                         136227 non-null  object\n",
      " 11  Trade_Reporting_Facility                136227 non-null  object\n",
      " 12  Participant_Timestamp                   136227 non-null  object\n",
      " 13  Trade_Reporting_Facility_TRF_Timestamp  136227 non-null  object\n",
      " 14  Trade_Through_Exempt_Indicator          136227 non-null  object\n",
      " 15  Date                                    136227 non-null  object\n",
      " 16  YearMonth                               136227 non-null  object\n",
      "dtypes: object(17)\n",
      "memory usage: 17.7+ MB\n"
     ]
    }
   ],
   "source": [
    "data.info( )"
   ]
  },
  {
   "cell_type": "code",
   "execution_count": 6,
   "metadata": {},
   "outputs": [
    {
     "name": "stderr",
     "output_type": "stream",
     "text": [
      "Code: 201. DB::Exception: Quota for user `mhaggerty` for 86400s has been exceeded: result_rows = 1000042/1000000. Interval will end at 2023-05-05 00:00:00. Name of quota template: `dbuser`. (QUOTA_EXPIRED) (version 22.1.3.7 (official build))\n",
      "\n"
     ]
    },
    {
     "ename": "DatabaseError",
     "evalue": ":HTTPDriver for http://ppolak5.ams.stonybrook.edu.:3306 returned response code 500)\n Code: 201. DB::Exception: Quota for user `mhaggerty` for 86400s has been exceeded: result_rows = 1000042/1000000. Interval will end at 2023-05-05 00:00:00. Name of quota template: `dbuser`. (QUOTA_EXPIRED) (version 22.1.3.7 (official build)",
     "output_type": "error",
     "traceback": [
      "\u001b[0;31m---------------------------------------------------------------------------\u001b[0m",
      "\u001b[0;31mDatabaseError\u001b[0m                             Traceback (most recent call last)",
      "Cell \u001b[0;32mIn[6], line 4\u001b[0m\n\u001b[1;32m      1\u001b[0m \u001b[39m# Select trades from January of 2017 to April of 2017\u001b[39;00m\n\u001b[1;32m      2\u001b[0m query \u001b[39m=\u001b[39m \u001b[39m\"\u001b[39m\u001b[39mSELECT * FROM TRADESDB.trades2017view WHERE (Symbol = \u001b[39m\u001b[39m'\u001b[39m\u001b[39mAAPL\u001b[39m\u001b[39m'\u001b[39m\u001b[39m) AND (Date = \u001b[39m\u001b[39m'\u001b[39m\u001b[39m2017-01-05\u001b[39m\u001b[39m'\u001b[39m\u001b[39m)\u001b[39m\u001b[39m\"\u001b[39m\n\u001b[0;32m----> 4\u001b[0m results \u001b[39m=\u001b[39m client\u001b[39m.\u001b[39;49mcommand(query)\n\u001b[1;32m      6\u001b[0m \u001b[39mimport\u001b[39;00m \u001b[39mpandas\u001b[39;00m \u001b[39mas\u001b[39;00m \u001b[39mpd\u001b[39;00m\n\u001b[1;32m      8\u001b[0m \u001b[39m# Replace 'raw_data' with the variable containing your data as a list\u001b[39;00m\n",
      "File \u001b[0;32m~/anaconda3/envs/taq/lib/python3.10/site-packages/clickhouse_connect/driver/httpclient.py:307\u001b[0m, in \u001b[0;36mHttpClient.command\u001b[0;34m(self, cmd, parameters, data, settings, use_database)\u001b[0m\n\u001b[1;32m    305\u001b[0m params\u001b[39m.\u001b[39mupdate(\u001b[39mself\u001b[39m\u001b[39m.\u001b[39m_validate_settings(settings \u001b[39mor\u001b[39;00m {}))\n\u001b[1;32m    306\u001b[0m method \u001b[39m=\u001b[39m \u001b[39m'\u001b[39m\u001b[39mPOST\u001b[39m\u001b[39m'\u001b[39m \u001b[39mif\u001b[39;00m payload \u001b[39melse\u001b[39;00m \u001b[39m'\u001b[39m\u001b[39mGET\u001b[39m\u001b[39m'\u001b[39m\n\u001b[0;32m--> 307\u001b[0m response \u001b[39m=\u001b[39m \u001b[39mself\u001b[39;49m\u001b[39m.\u001b[39;49m_raw_request(payload, params, headers, method)\n\u001b[1;32m    308\u001b[0m result \u001b[39m=\u001b[39m response\u001b[39m.\u001b[39mdata\u001b[39m.\u001b[39mdecode()[:\u001b[39m-\u001b[39m\u001b[39m1\u001b[39m]\u001b[39m.\u001b[39msplit(\u001b[39m'\u001b[39m\u001b[39m\\t\u001b[39;00m\u001b[39m'\u001b[39m)\n\u001b[1;32m    309\u001b[0m \u001b[39mif\u001b[39;00m \u001b[39mlen\u001b[39m(result) \u001b[39m==\u001b[39m \u001b[39m1\u001b[39m:\n",
      "File \u001b[0;32m~/anaconda3/envs/taq/lib/python3.10/site-packages/clickhouse_connect/driver/httpclient.py:387\u001b[0m, in \u001b[0;36mHttpClient._raw_request\u001b[0;34m(self, data, params, headers, method, retries, stream, server_wait, fields, error_handler)\u001b[0m\n\u001b[1;32m    385\u001b[0m \u001b[39mif\u001b[39;00m error_handler:\n\u001b[1;32m    386\u001b[0m     error_handler(response)\n\u001b[0;32m--> 387\u001b[0m \u001b[39mself\u001b[39;49m\u001b[39m.\u001b[39;49m_error_handler(response)\n",
      "File \u001b[0;32m~/anaconda3/envs/taq/lib/python3.10/site-packages/clickhouse_connect/driver/httpclient.py:323\u001b[0m, in \u001b[0;36mHttpClient._error_handler\u001b[0;34m(self, response, retried)\u001b[0m\n\u001b[1;32m    321\u001b[0m     logger\u001b[39m.\u001b[39merror(err_msg)\n\u001b[1;32m    322\u001b[0m     err_str \u001b[39m=\u001b[39m \u001b[39mf\u001b[39m\u001b[39m'\u001b[39m\u001b[39m:\u001b[39m\u001b[39m{\u001b[39;00merr_str\u001b[39m}\u001b[39;00m\u001b[39m\\n\u001b[39;00m\u001b[39m \u001b[39m\u001b[39m{\u001b[39;00merr_msg[\u001b[39m0\u001b[39m:\u001b[39m240\u001b[39m]\u001b[39m}\u001b[39;00m\u001b[39m'\u001b[39m\n\u001b[0;32m--> 323\u001b[0m \u001b[39mraise\u001b[39;00m OperationalError(err_str) \u001b[39mif\u001b[39;00m retried \u001b[39melse\u001b[39;00m DatabaseError(err_str) \u001b[39mfrom\u001b[39;00m \u001b[39mNone\u001b[39m\n",
      "\u001b[0;31mDatabaseError\u001b[0m: :HTTPDriver for http://ppolak5.ams.stonybrook.edu.:3306 returned response code 500)\n Code: 201. DB::Exception: Quota for user `mhaggerty` for 86400s has been exceeded: result_rows = 1000042/1000000. Interval will end at 2023-05-05 00:00:00. Name of quota template: `dbuser`. (QUOTA_EXPIRED) (version 22.1.3.7 (official build)"
     ]
    }
   ],
   "source": [
    "# Select trades from January of 2017 to April of 2017\n",
    "query = \"SELECT * FROM TRADESDB.trades2017view WHERE (Symbol = 'AAPL') AND (Date = '2017-01-05')\"\n",
    "\n",
    "results = client.command(query)\n",
    "\n",
    "import pandas as pd\n",
    "\n",
    "# Replace 'raw_data' with the variable containing your data as a list\n",
    "raw_data = results\n",
    "\n",
    "# Create the DataFrame\n",
    "columns = [\"Time\", \"Exchange\", \"Symbol\", \"Sale_Condition\", \"Trade_Volume\", \"Trade_Price\", \"Trade_Stop_Stock_Indicator\", \"Trade_Correction_Indicator\", \"Sequence_Number\", \"Trade_Id\", \"Source_of_Trade\", \"Trade_Reporting_Facility\", \"Participant_Timestamp\", \"Trade_Reporting_Facility_TRF_Timestamp\", \"Trade_Through_Exempt_Indicator\", \"Date\", \"YearMonth\"]\n",
    "df = pd.DataFrame(raw_data, columns=columns)\n",
    "\n",
    "# Convert columns to proper data types\n",
    "df['Time'] = pd.to_datetime(df['Time']).dt.tz_convert('America/New_York')\n",
    "df['Exchange'] = df['Exchange'].astype('category')\n",
    "df['Symbol'] = df['Symbol'].astype('category')\n",
    "df['Sale_Condition'] = df['Sale_Condition'].astype('category')\n",
    "df['Trade_Volume'] = df['Trade_Volume'].astype('UInt64')\n",
    "df['Trade_Price'] = df['Trade_Price'].astype('float64')\n",
    "df['Trade_Stop_Stock_Indicator'] = df['Trade_Stop_Stock_Indicator'].astype('category')\n",
    "df['Trade_Correction_Indicator'] = df['Trade_Correction_Indicator'].astype('UInt8')\n",
    "df['Sequence_Number'] = df['Sequence_Number'].astype('UInt64')\n",
    "df['Trade_Id'] = df['Trade_Id'].astype('UInt64')\n",
    "df['Source_of_Trade'] = df['Source_of_Trade'].astype('category')\n",
    "df['Trade_Reporting_Facility'] = df['Trade_Reporting_Facility'].astype('category')\n",
    "df['Participant_Timestamp'] = df['Participant_Timestamp'].astype('UInt64')\n",
    "df['Trade_Reporting_Facility_TRF_Timestamp'] = df['Trade_Reporting_Facility_TRF_Timestamp'].astype('UInt64')\n",
    "df['Trade_Through_Exempt_Indicator'] = df['Trade_Through_Exempt_Indicator'].astype('UInt64')\n",
    "df['Date'] = pd.to_datetime(df['Date']).dt.date\n",
    "df['YearMonth'] = df['YearMonth'].astype('string')\n",
    "\n",
    "# Set the index\n",
    "df.set_index(['Symbol', 'Time'], inplace=True)\n",
    "df = df.sort_values(by=['Symbol', 'Time'])\n",
    "df"
   ]
  }
 ],
 "metadata": {
  "kernelspec": {
   "display_name": "taq",
   "language": "python",
   "name": "python3"
  },
  "language_info": {
   "codemirror_mode": {
    "name": "ipython",
    "version": 3
   },
   "file_extension": ".py",
   "mimetype": "text/x-python",
   "name": "python",
   "nbconvert_exporter": "python",
   "pygments_lexer": "ipython3",
   "version": "3.10.9"
  },
  "orig_nbformat": 4
 },
 "nbformat": 4,
 "nbformat_minor": 2
}
