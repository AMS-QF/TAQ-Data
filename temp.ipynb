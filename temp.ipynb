{
 "cells": [
  {
   "cell_type": "code",
   "execution_count": 1,
   "metadata": {},
   "outputs": [],
   "source": [
    "import subprocess\n",
    "import yaml\n",
    "\n",
    "def backup_conda_env(env_name, output_file):\n",
    "    # Get the list of all packages in the environment\n",
    "    raw_data = subprocess.check_output([\"conda\", \"list\", \"-n\", env_name], universal_newlines=True)\n",
    "\n",
    "    # Parse the output and get the package names\n",
    "    packages = [line.split()[0] for line in raw_data.splitlines() if not line.startswith(\"#\")]\n",
    "\n",
    "    # Create a dictionary with the environment name and dependencies\n",
    "    env_data = {\n",
    "        \"name\": env_name,\n",
    "        \"dependencies\": packages\n",
    "    }\n",
    "\n",
    "    # Save the environment data to a YAML file\n",
    "    with open(output_file, \"w\") as file:\n",
    "        yaml.dump(env_data, file, default_flow_style=False)\n",
    "\n",
    "backup_conda_env(\"taq\", \"taq.yml\")"
   ]
  }
 ],
 "metadata": {
  "kernelspec": {
   "display_name": "taq",
   "language": "python",
   "name": "python3"
  },
  "language_info": {
   "codemirror_mode": {
    "name": "ipython",
    "version": 3
   },
   "file_extension": ".py",
   "mimetype": "text/x-python",
   "name": "python",
   "nbconvert_exporter": "python",
   "pygments_lexer": "ipython3",
   "version": "3.10.9"
  },
  "orig_nbformat": 4
 },
 "nbformat": 4,
 "nbformat_minor": 2
}
