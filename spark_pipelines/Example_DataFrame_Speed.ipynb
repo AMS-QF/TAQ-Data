{
 "cells": [
  {
   "cell_type": "markdown",
   "metadata": {},
   "source": [
    "## Example Notebook on how to make Pandas FASTER! \n",
    "\n",
    "Requires Manual Installation of Python Packages (See Below)"
   ]
  },
  {
   "cell_type": "code",
   "execution_count": 2,
   "metadata": {},
   "outputs": [],
   "source": [
    "import pandas as pd\n",
    "import numpy as np\n",
    "import matplotlib.pyplot as plt\n",
    "from pathlib import Path\n",
    "from numba import jit"
   ]
  },
  {
   "cell_type": "code",
   "execution_count": 4,
   "metadata": {},
   "outputs": [
    {
     "name": "stdout",
     "output_type": "stream",
     "text": [
      "1.26.2\n"
     ]
    }
   ],
   "source": [
    "print(np.__version__)"
   ]
  },
  {
   "cell_type": "markdown",
   "metadata": {},
   "source": [
    "### 1.Reading using Pandas is SLOW!\n",
    "\n",
    "It's ironic that the first mistake related to using Pandas for tasks with large datasets is to read them into your environment with Pandas! Use datatable instead. Other options: Dask, Vaex, cuDF(with NVIDIA GPU)\n",
    "\n",
    "https://datatable.readthedocs.io/en/latest/start/install.html#install-latest-dev-version\n",
    "\n",
    "Install with pip:\n",
    "\n",
    "```\n",
    "pip install git+https://github.com/h2oai/datatable\n",
    "```\n"
   ]
  },
  {
   "cell_type": "code",
   "execution_count": 5,
   "metadata": {},
   "outputs": [
    {
     "name": "stdout",
     "output_type": "stream",
     "text": [
      "Collecting git+https://github.com/h2oai/datatable\n",
      "  Cloning https://github.com/h2oai/datatable to /tmp/pip-req-build-m__ixmbv\n",
      "  Running command git clone --filter=blob:none --quiet https://github.com/h2oai/datatable /tmp/pip-req-build-m__ixmbv\n",
      "  Resolved https://github.com/h2oai/datatable to commit b1a87103c55433dc2069df28a460f3ad15450025\n",
      "  Getting requirements to build wheel ... \u001b[?25ldone\n",
      "\u001b[?25h  Preparing metadata (pyproject.toml) ... \u001b[?25ldone\n",
      "\u001b[?25hBuilding wheels for collected packages: datatable\n",
      "  Building wheel for datatable (pyproject.toml) ... \u001b[?25ldone\n",
      "\u001b[?25h  Created wheel for datatable: filename=datatable-1.2.0a0+build.1702084526.jbohne-cp311-cp311-linux_x86_64.whl size=101495759 sha256=e516c1c0e6a4d14466f1c7419e25af5f0c1af6ebce33f3a58975eb69c881412b\n",
      "  Stored in directory: /tmp/pip-ephem-wheel-cache-ipswpjbz/wheels/aa/fb/e9/03c7d1eea9cab7949ad57abf48baa07aa6b21e391876119739\n",
      "Successfully built datatable\n",
      "Installing collected packages: datatable\n",
      "Successfully installed datatable-1.2.0a0+build.1702084526.jbohne\n"
     ]
    }
   ],
   "source": [
    "! pip install git+https://github.com/h2oai/datatable"
   ]
  },
  {
   "cell_type": "code",
   "execution_count": 6,
   "metadata": {},
   "outputs": [
    {
     "data": {
      "text/html": [
       "<style type='text/css'>\n",
       ".datatable table.frame { margin-bottom: 0; }\n",
       ".datatable table.frame thead { border-bottom: none; }\n",
       ".datatable table.frame tr.coltypes td {  color: #FFFFFF;  line-height: 6px;  padding: 0 0.5em;}\n",
       ".datatable .bool    { background: #DDDD99; }\n",
       ".datatable .object  { background: #565656; }\n",
       ".datatable .int     { background: #5D9E5D; }\n",
       ".datatable .float   { background: #4040CC; }\n",
       ".datatable .str     { background: #CC4040; }\n",
       ".datatable .time    { background: #40CC40; }\n",
       ".datatable .row_index {  background: var(--jp-border-color3);  border-right: 1px solid var(--jp-border-color0);  color: var(--jp-ui-font-color3);  font-size: 9px;}\n",
       ".datatable .frame tbody td { text-align: left; }\n",
       ".datatable .frame tr.coltypes .row_index {  background: var(--jp-border-color0);}\n",
       ".datatable th:nth-child(2) { padding-left: 12px; }\n",
       ".datatable .hellipsis {  color: var(--jp-cell-editor-border-color);}\n",
       ".datatable .vellipsis {  background: var(--jp-layout-color0);  color: var(--jp-cell-editor-border-color);}\n",
       ".datatable .na {  color: var(--jp-cell-editor-border-color);  font-size: 80%;}\n",
       ".datatable .sp {  opacity: 0.25;}\n",
       ".datatable .footer { font-size: 9px; }\n",
       ".datatable .frame_dimensions {  background: var(--jp-border-color3);  border-top: 1px solid var(--jp-border-color0);  color: var(--jp-ui-font-color3);  display: inline-block;  opacity: 0.6;  padding: 1px 10px 1px 5px;}\n",
       ".datatable .frame thead tr.colnames {  background-image: url('data:image/png;base64,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');  background-repeat: repeat-x;  background-size: 14px;  height: 28px;}\n",
       "</style>\n"
      ],
      "text/plain": [
       "<IPython.core.display.HTML object>"
      ]
     },
     "metadata": {},
     "output_type": "display_data"
    }
   ],
   "source": [
    "import datatable as dt"
   ]
  },
  {
   "cell_type": "code",
   "execution_count": 7,
   "metadata": {},
   "outputs": [],
   "source": [
    "TRADES=\"../sample_data/trades.csv.gz\"\n",
    "QUOTES=\"../sample_data/quotes.csv.gz\""
   ]
  },
  {
   "cell_type": "code",
   "execution_count": 8,
   "metadata": {},
   "outputs": [],
   "source": [
    "trades = pd.read_csv(Path(TRADES),compression='gzip')\n",
    "quotes = pd.read_csv(Path(QUOTES),compression='gzip')"
   ]
  },
  {
   "cell_type": "code",
   "execution_count": 9,
   "metadata": {},
   "outputs": [
    {
     "name": "stdout",
     "output_type": "stream",
     "text": [
      "CPU times: user 6 µs, sys: 1 µs, total: 7 µs\n",
      "Wall time: 13.8 µs\n"
     ]
    }
   ],
   "source": [
    "%time\n",
    "pd_df = pd.read_csv(Path(TRADES),compression='gzip')"
   ]
  },
  {
   "cell_type": "code",
   "execution_count": 10,
   "metadata": {},
   "outputs": [
    {
     "name": "stdout",
     "output_type": "stream",
     "text": [
      "CPU times: user 3 µs, sys: 0 ns, total: 3 µs\n",
      "Wall time: 6.44 µs\n"
     ]
    }
   ],
   "source": [
    "%time\n",
    "df_dt = dt.fread(Path(TRADES)).to_pandas()"
   ]
  },
  {
   "cell_type": "markdown",
   "metadata": {},
   "source": [
    "Generally when you deal with datasets that are gigabytes in size, it's gonna make a huge difference..."
   ]
  },
  {
   "cell_type": "code",
   "execution_count": 11,
   "metadata": {},
   "outputs": [
    {
     "name": "stdout",
     "output_type": "stream",
     "text": [
      "CPU times: user 3 µs, sys: 0 ns, total: 3 µs\n",
      "Wall time: 6.91 µs\n"
     ]
    }
   ],
   "source": [
    "%time\n",
    "df_quotes = dt.fread(Path(QUOTES)).to_pandas()\n",
    "df_trades = dt.fread(Path(TRADES)).to_pandas()"
   ]
  },
  {
   "cell_type": "markdown",
   "metadata": {},
   "source": [
    "### 2. Check the memory usage of your Pandas Dataframe"
   ]
  },
  {
   "cell_type": "markdown",
   "metadata": {},
   "source": [
    "For one day of trades and quotes for one ticker, we have ..."
   ]
  },
  {
   "cell_type": "code",
   "execution_count": 12,
   "metadata": {},
   "outputs": [
    {
     "name": "stdout",
     "output_type": "stream",
     "text": [
      "Trades size: (1000, 18)\n",
      "Quotes size: (1000, 26)\n"
     ]
    }
   ],
   "source": [
    "print (f'Trades size: {df_trades.shape}')\n",
    "print (f'Quotes size: {df_quotes.shape}')"
   ]
  },
  {
   "cell_type": "code",
   "execution_count": 13,
   "metadata": {},
   "outputs": [
    {
     "name": "stdout",
     "output_type": "stream",
     "text": [
      "Total memory usage: 0.29589080810546875 MB\n"
     ]
    }
   ],
   "source": [
    "memory_usage = df_trades.memory_usage(deep=True) + df_quotes.memory_usage(deep=True)\n",
    "memory_usage_in_mbs = np.sum(memory_usage / 1024 ** 2)\n",
    "print (f'Total memory usage: {memory_usage_in_mbs} MB')"
   ]
  },
  {
   "cell_type": "markdown",
   "metadata": {},
   "source": [
    "#### It's not too bad for one day...\n",
    "\n",
    "How about a year of data for one Ticker? Then we are looking at:\n",
    "\n",
    "111MB x 300 / 1024 ≈ 32.5195 GB\n",
    "\n",
    "Large enough to care about memory usage in this case ...\n",
    "\n",
    "Some data type info below ..."
   ]
  },
  {
   "cell_type": "markdown",
   "metadata": {},
   "source": [
    "<img src=\"https://pbpython.com/images/pandas_dtypes.png\" alt=\"Python Data type\" style=\"width: 400px;\"/>"
   ]
  },
  {
   "cell_type": "markdown",
   "metadata": {},
   "source": [
    "##### Ideally, you want to cast floats and integers to their smallest subtypes."
   ]
  },
  {
   "cell_type": "code",
   "execution_count": 14,
   "metadata": {},
   "outputs": [],
   "source": [
    "def reduce_memory_usage(df, verbose=True):\n",
    "    numerics = [\"int8\", \"int16\", \"int32\", \"int64\", \"float16\", \"float32\", \"float64\"]\n",
    "    start_mem = df.memory_usage().sum() / 1024 ** 2\n",
    "    for col in df.columns:\n",
    "        col_type = df[col].dtypes\n",
    "        if col_type in numerics:\n",
    "            c_min = df[col].min()\n",
    "            c_max = df[col].max()\n",
    "            if str(col_type)[:3] == \"int\":\n",
    "                if c_min > np.iinfo(np.int8).min and c_max < np.iinfo(np.int8).max:\n",
    "                    df[col] = df[col].astype(np.int8)\n",
    "                elif c_min > np.iinfo(np.int16).min and c_max < np.iinfo(np.int16).max:\n",
    "                    df[col] = df[col].astype(np.int16)\n",
    "                elif c_min > np.iinfo(np.int32).min and c_max < np.iinfo(np.int32).max:\n",
    "                    df[col] = df[col].astype(np.int32)\n",
    "                elif c_min > np.iinfo(np.int64).min and c_max < np.iinfo(np.int64).max:\n",
    "                    df[col] = df[col].astype(np.int64)\n",
    "            else:\n",
    "                if (\n",
    "                    c_min > np.finfo(np.float16).min\n",
    "                    and c_max < np.finfo(np.float16).max\n",
    "                ):\n",
    "                    df[col] = df[col].astype(np.float16)\n",
    "                elif (\n",
    "                    c_min > np.finfo(np.float32).min\n",
    "                    and c_max < np.finfo(np.float32).max\n",
    "                ):\n",
    "                    df[col] = df[col].astype(np.float32)\n",
    "                else:\n",
    "                    df[col] = df[col].astype(np.float64)\n",
    "    end_mem = df.memory_usage().sum() / 1024 ** 2\n",
    "    if verbose:\n",
    "        print(\n",
    "            \"Mem. usage decreased to {:.2f} Mb ({:.1f}% reduction)\".format(\n",
    "                end_mem, 100 * (start_mem - end_mem) / start_mem\n",
    "            )\n",
    "        )\n",
    "    return df"
   ]
  },
  {
   "cell_type": "markdown",
   "metadata": {},
   "source": [
    "Source code:\n",
    "https://gist.github.com/BexTuychiev/99883092ca8864e4495aeb8aa5390f19#file-9004-py"
   ]
  },
  {
   "cell_type": "code",
   "execution_count": 15,
   "metadata": {},
   "outputs": [
    {
     "name": "stdout",
     "output_type": "stream",
     "text": [
      "Mem. usage decreased to 0.15 Mb (15.7% reduction)\n"
     ]
    },
    {
     "data": {
      "text/html": [
       "<div>\n",
       "<style scoped>\n",
       "    .dataframe tbody tr th:only-of-type {\n",
       "        vertical-align: middle;\n",
       "    }\n",
       "\n",
       "    .dataframe tbody tr th {\n",
       "        vertical-align: top;\n",
       "    }\n",
       "\n",
       "    .dataframe thead th {\n",
       "        text-align: right;\n",
       "    }\n",
       "</style>\n",
       "<table border=\"1\" class=\"dataframe\">\n",
       "  <thead>\n",
       "    <tr style=\"text-align: right;\">\n",
       "      <th></th>\n",
       "      <th>C0</th>\n",
       "      <th>Time</th>\n",
       "      <th>Exchange</th>\n",
       "      <th>Symbol</th>\n",
       "      <th>Bid_Price</th>\n",
       "      <th>Bid_Size</th>\n",
       "      <th>Offer_Price</th>\n",
       "      <th>Offer_Size</th>\n",
       "      <th>Quote_Condition</th>\n",
       "      <th>Sequence_Number</th>\n",
       "      <th>...</th>\n",
       "      <th>Short_Sale_Restriction_Indicator</th>\n",
       "      <th>LULD_BBO_Indicator</th>\n",
       "      <th>SIP_Generated_Message_Identifier</th>\n",
       "      <th>NBBO_LULD_Indicator</th>\n",
       "      <th>Participant_Timestamp</th>\n",
       "      <th>FINRA_ADF_Timestamp</th>\n",
       "      <th>FINRA_ADF_Market_Participant_Quote_Indicator</th>\n",
       "      <th>Security_Status_Indicator</th>\n",
       "      <th>Date</th>\n",
       "      <th>YearMonth</th>\n",
       "    </tr>\n",
       "  </thead>\n",
       "  <tbody>\n",
       "    <tr>\n",
       "      <th>0</th>\n",
       "      <td>0</td>\n",
       "      <td>2020-01-06 04:00:00.065815</td>\n",
       "      <td>P</td>\n",
       "      <td>AAPL</td>\n",
       "      <td>278.00</td>\n",
       "      <td>7.0</td>\n",
       "      <td>0.00</td>\n",
       "      <td>0.0</td>\n",
       "      <td>R</td>\n",
       "      <td>2251</td>\n",
       "      <td>...</td>\n",
       "      <td>False</td>\n",
       "      <td>None</td>\n",
       "      <td>None</td>\n",
       "      <td>None</td>\n",
       "      <td>40000065434368</td>\n",
       "      <td>None</td>\n",
       "      <td>None</td>\n",
       "      <td>None</td>\n",
       "      <td>2020-01-06</td>\n",
       "      <td>202001</td>\n",
       "    </tr>\n",
       "    <tr>\n",
       "      <th>1</th>\n",
       "      <td>1</td>\n",
       "      <td>2020-01-06 04:00:00.065819</td>\n",
       "      <td>P</td>\n",
       "      <td>AAPL</td>\n",
       "      <td>278.00</td>\n",
       "      <td>14.0</td>\n",
       "      <td>0.00</td>\n",
       "      <td>0.0</td>\n",
       "      <td>R</td>\n",
       "      <td>2252</td>\n",
       "      <td>...</td>\n",
       "      <td>False</td>\n",
       "      <td>None</td>\n",
       "      <td>None</td>\n",
       "      <td>None</td>\n",
       "      <td>40000065436672</td>\n",
       "      <td>None</td>\n",
       "      <td>None</td>\n",
       "      <td>None</td>\n",
       "      <td>2020-01-06</td>\n",
       "      <td>202001</td>\n",
       "    </tr>\n",
       "    <tr>\n",
       "      <th>2</th>\n",
       "      <td>2</td>\n",
       "      <td>2020-01-06 04:00:00.065822</td>\n",
       "      <td>P</td>\n",
       "      <td>AAPL</td>\n",
       "      <td>278.00</td>\n",
       "      <td>14.0</td>\n",
       "      <td>298.25</td>\n",
       "      <td>1.0</td>\n",
       "      <td>R</td>\n",
       "      <td>2253</td>\n",
       "      <td>...</td>\n",
       "      <td>False</td>\n",
       "      <td>None</td>\n",
       "      <td>None</td>\n",
       "      <td>None</td>\n",
       "      <td>40000065441792</td>\n",
       "      <td>None</td>\n",
       "      <td>None</td>\n",
       "      <td>None</td>\n",
       "      <td>2020-01-06</td>\n",
       "      <td>202001</td>\n",
       "    </tr>\n",
       "    <tr>\n",
       "      <th>3</th>\n",
       "      <td>3</td>\n",
       "      <td>2020-01-06 04:00:00.065919</td>\n",
       "      <td>P</td>\n",
       "      <td>AAPL</td>\n",
       "      <td>291.25</td>\n",
       "      <td>1.0</td>\n",
       "      <td>298.25</td>\n",
       "      <td>1.0</td>\n",
       "      <td>R</td>\n",
       "      <td>2254</td>\n",
       "      <td>...</td>\n",
       "      <td>False</td>\n",
       "      <td>None</td>\n",
       "      <td>None</td>\n",
       "      <td>None</td>\n",
       "      <td>40000065541888</td>\n",
       "      <td>None</td>\n",
       "      <td>None</td>\n",
       "      <td>None</td>\n",
       "      <td>2020-01-06</td>\n",
       "      <td>202001</td>\n",
       "    </tr>\n",
       "    <tr>\n",
       "      <th>4</th>\n",
       "      <td>4</td>\n",
       "      <td>2020-01-06 04:00:00.065966</td>\n",
       "      <td>P</td>\n",
       "      <td>AAPL</td>\n",
       "      <td>295.25</td>\n",
       "      <td>1.0</td>\n",
       "      <td>298.25</td>\n",
       "      <td>1.0</td>\n",
       "      <td>R</td>\n",
       "      <td>2255</td>\n",
       "      <td>...</td>\n",
       "      <td>False</td>\n",
       "      <td>None</td>\n",
       "      <td>None</td>\n",
       "      <td>None</td>\n",
       "      <td>40000065584896</td>\n",
       "      <td>None</td>\n",
       "      <td>None</td>\n",
       "      <td>None</td>\n",
       "      <td>2020-01-06</td>\n",
       "      <td>202001</td>\n",
       "    </tr>\n",
       "    <tr>\n",
       "      <th>...</th>\n",
       "      <td>...</td>\n",
       "      <td>...</td>\n",
       "      <td>...</td>\n",
       "      <td>...</td>\n",
       "      <td>...</td>\n",
       "      <td>...</td>\n",
       "      <td>...</td>\n",
       "      <td>...</td>\n",
       "      <td>...</td>\n",
       "      <td>...</td>\n",
       "      <td>...</td>\n",
       "      <td>...</td>\n",
       "      <td>...</td>\n",
       "      <td>...</td>\n",
       "      <td>...</td>\n",
       "      <td>...</td>\n",
       "      <td>...</td>\n",
       "      <td>...</td>\n",
       "      <td>...</td>\n",
       "      <td>...</td>\n",
       "      <td>...</td>\n",
       "    </tr>\n",
       "    <tr>\n",
       "      <th>995</th>\n",
       "      <td>995</td>\n",
       "      <td>2020-01-06 05:04:50.678214</td>\n",
       "      <td>P</td>\n",
       "      <td>AAPL</td>\n",
       "      <td>294.25</td>\n",
       "      <td>22.0</td>\n",
       "      <td>295.00</td>\n",
       "      <td>8.0</td>\n",
       "      <td>R</td>\n",
       "      <td>66828</td>\n",
       "      <td>...</td>\n",
       "      <td>False</td>\n",
       "      <td>None</td>\n",
       "      <td>None</td>\n",
       "      <td>None</td>\n",
       "      <td>50450677824000</td>\n",
       "      <td>None</td>\n",
       "      <td>None</td>\n",
       "      <td>None</td>\n",
       "      <td>2020-01-06</td>\n",
       "      <td>202001</td>\n",
       "    </tr>\n",
       "    <tr>\n",
       "      <th>996</th>\n",
       "      <td>996</td>\n",
       "      <td>2020-01-06 05:04:50.678365</td>\n",
       "      <td>Q</td>\n",
       "      <td>AAPL</td>\n",
       "      <td>295.00</td>\n",
       "      <td>1.0</td>\n",
       "      <td>295.25</td>\n",
       "      <td>2.0</td>\n",
       "      <td>R</td>\n",
       "      <td>66829</td>\n",
       "      <td>...</td>\n",
       "      <td>False</td>\n",
       "      <td>None</td>\n",
       "      <td>None</td>\n",
       "      <td>None</td>\n",
       "      <td>50450678348740</td>\n",
       "      <td>None</td>\n",
       "      <td>None</td>\n",
       "      <td>None</td>\n",
       "      <td>2020-01-06</td>\n",
       "      <td>202001</td>\n",
       "    </tr>\n",
       "    <tr>\n",
       "      <th>997</th>\n",
       "      <td>997</td>\n",
       "      <td>2020-01-06 05:04:52.251912</td>\n",
       "      <td>Q</td>\n",
       "      <td>AAPL</td>\n",
       "      <td>295.00</td>\n",
       "      <td>1.0</td>\n",
       "      <td>295.25</td>\n",
       "      <td>2.0</td>\n",
       "      <td>R</td>\n",
       "      <td>66866</td>\n",
       "      <td>...</td>\n",
       "      <td>False</td>\n",
       "      <td>None</td>\n",
       "      <td>None</td>\n",
       "      <td>None</td>\n",
       "      <td>50452251894963</td>\n",
       "      <td>None</td>\n",
       "      <td>None</td>\n",
       "      <td>None</td>\n",
       "      <td>2020-01-06</td>\n",
       "      <td>202001</td>\n",
       "    </tr>\n",
       "    <tr>\n",
       "      <th>998</th>\n",
       "      <td>998</td>\n",
       "      <td>2020-01-06 05:04:52.931792</td>\n",
       "      <td>Q</td>\n",
       "      <td>AAPL</td>\n",
       "      <td>294.75</td>\n",
       "      <td>1.0</td>\n",
       "      <td>295.25</td>\n",
       "      <td>2.0</td>\n",
       "      <td>R</td>\n",
       "      <td>66870</td>\n",
       "      <td>...</td>\n",
       "      <td>False</td>\n",
       "      <td>None</td>\n",
       "      <td>None</td>\n",
       "      <td>None</td>\n",
       "      <td>50452931776108</td>\n",
       "      <td>None</td>\n",
       "      <td>None</td>\n",
       "      <td>None</td>\n",
       "      <td>2020-01-06</td>\n",
       "      <td>202001</td>\n",
       "    </tr>\n",
       "    <tr>\n",
       "      <th>999</th>\n",
       "      <td>999</td>\n",
       "      <td>2020-01-06 05:04:58.477529</td>\n",
       "      <td>Q</td>\n",
       "      <td>AAPL</td>\n",
       "      <td>294.75</td>\n",
       "      <td>1.0</td>\n",
       "      <td>295.25</td>\n",
       "      <td>2.0</td>\n",
       "      <td>R</td>\n",
       "      <td>66900</td>\n",
       "      <td>...</td>\n",
       "      <td>False</td>\n",
       "      <td>None</td>\n",
       "      <td>None</td>\n",
       "      <td>None</td>\n",
       "      <td>50458477513018</td>\n",
       "      <td>None</td>\n",
       "      <td>None</td>\n",
       "      <td>None</td>\n",
       "      <td>2020-01-06</td>\n",
       "      <td>202001</td>\n",
       "    </tr>\n",
       "  </tbody>\n",
       "</table>\n",
       "<p>1000 rows × 26 columns</p>\n",
       "</div>"
      ],
      "text/plain": [
       "      C0                       Time Exchange Symbol  Bid_Price  Bid_Size  \\\n",
       "0      0 2020-01-06 04:00:00.065815        P   AAPL     278.00       7.0   \n",
       "1      1 2020-01-06 04:00:00.065819        P   AAPL     278.00      14.0   \n",
       "2      2 2020-01-06 04:00:00.065822        P   AAPL     278.00      14.0   \n",
       "3      3 2020-01-06 04:00:00.065919        P   AAPL     291.25       1.0   \n",
       "4      4 2020-01-06 04:00:00.065966        P   AAPL     295.25       1.0   \n",
       "..   ...                        ...      ...    ...        ...       ...   \n",
       "995  995 2020-01-06 05:04:50.678214        P   AAPL     294.25      22.0   \n",
       "996  996 2020-01-06 05:04:50.678365        Q   AAPL     295.00       1.0   \n",
       "997  997 2020-01-06 05:04:52.251912        Q   AAPL     295.00       1.0   \n",
       "998  998 2020-01-06 05:04:52.931792        Q   AAPL     294.75       1.0   \n",
       "999  999 2020-01-06 05:04:58.477529        Q   AAPL     294.75       1.0   \n",
       "\n",
       "     Offer_Price  Offer_Size Quote_Condition  Sequence_Number  ...  \\\n",
       "0           0.00         0.0               R             2251  ...   \n",
       "1           0.00         0.0               R             2252  ...   \n",
       "2         298.25         1.0               R             2253  ...   \n",
       "3         298.25         1.0               R             2254  ...   \n",
       "4         298.25         1.0               R             2255  ...   \n",
       "..           ...         ...             ...              ...  ...   \n",
       "995       295.00         8.0               R            66828  ...   \n",
       "996       295.25         2.0               R            66829  ...   \n",
       "997       295.25         2.0               R            66866  ...   \n",
       "998       295.25         2.0               R            66870  ...   \n",
       "999       295.25         2.0               R            66900  ...   \n",
       "\n",
       "     Short_Sale_Restriction_Indicator LULD_BBO_Indicator  \\\n",
       "0                               False               None   \n",
       "1                               False               None   \n",
       "2                               False               None   \n",
       "3                               False               None   \n",
       "4                               False               None   \n",
       "..                                ...                ...   \n",
       "995                             False               None   \n",
       "996                             False               None   \n",
       "997                             False               None   \n",
       "998                             False               None   \n",
       "999                             False               None   \n",
       "\n",
       "    SIP_Generated_Message_Identifier NBBO_LULD_Indicator  \\\n",
       "0                               None                None   \n",
       "1                               None                None   \n",
       "2                               None                None   \n",
       "3                               None                None   \n",
       "4                               None                None   \n",
       "..                               ...                 ...   \n",
       "995                             None                None   \n",
       "996                             None                None   \n",
       "997                             None                None   \n",
       "998                             None                None   \n",
       "999                             None                None   \n",
       "\n",
       "    Participant_Timestamp FINRA_ADF_Timestamp  \\\n",
       "0          40000065434368                None   \n",
       "1          40000065436672                None   \n",
       "2          40000065441792                None   \n",
       "3          40000065541888                None   \n",
       "4          40000065584896                None   \n",
       "..                    ...                 ...   \n",
       "995        50450677824000                None   \n",
       "996        50450678348740                None   \n",
       "997        50452251894963                None   \n",
       "998        50452931776108                None   \n",
       "999        50458477513018                None   \n",
       "\n",
       "     FINRA_ADF_Market_Participant_Quote_Indicator Security_Status_Indicator  \\\n",
       "0                                            None                      None   \n",
       "1                                            None                      None   \n",
       "2                                            None                      None   \n",
       "3                                            None                      None   \n",
       "4                                            None                      None   \n",
       "..                                            ...                       ...   \n",
       "995                                          None                      None   \n",
       "996                                          None                      None   \n",
       "997                                          None                      None   \n",
       "998                                          None                      None   \n",
       "999                                          None                      None   \n",
       "\n",
       "          Date YearMonth  \n",
       "0   2020-01-06    202001  \n",
       "1   2020-01-06    202001  \n",
       "2   2020-01-06    202001  \n",
       "3   2020-01-06    202001  \n",
       "4   2020-01-06    202001  \n",
       "..         ...       ...  \n",
       "995 2020-01-06    202001  \n",
       "996 2020-01-06    202001  \n",
       "997 2020-01-06    202001  \n",
       "998 2020-01-06    202001  \n",
       "999 2020-01-06    202001  \n",
       "\n",
       "[1000 rows x 26 columns]"
      ]
     },
     "execution_count": 15,
     "metadata": {},
     "output_type": "execute_result"
    }
   ],
   "source": [
    "reduce_memory_usage(df_quotes)"
   ]
  },
  {
   "cell_type": "code",
   "execution_count": 16,
   "metadata": {},
   "outputs": [
    {
     "name": "stdout",
     "output_type": "stream",
     "text": [
      "Mem. usage decreased to 0.15 Mb (0.0% reduction)\n",
      "Mem. usage decreased to 0.09 Mb (12.7% reduction)\n"
     ]
    }
   ],
   "source": [
    "df_quotes = reduce_memory_usage(df_quotes)\n",
    "df_trades = reduce_memory_usage(df_trades)"
   ]
  },
  {
   "cell_type": "code",
   "execution_count": 17,
   "metadata": {},
   "outputs": [
    {
     "name": "stdout",
     "output_type": "stream",
     "text": [
      "<class 'pandas.core.frame.DataFrame'>\n",
      "RangeIndex: 1000 entries, 0 to 999\n",
      "Data columns (total 26 columns):\n",
      " #   Column                                        Non-Null Count  Dtype         \n",
      "---  ------                                        --------------  -----         \n",
      " 0   C0                                            1000 non-null   int16         \n",
      " 1   Time                                          1000 non-null   datetime64[ns]\n",
      " 2   Exchange                                      1000 non-null   object        \n",
      " 3   Symbol                                        1000 non-null   object        \n",
      " 4   Bid_Price                                     1000 non-null   float16       \n",
      " 5   Bid_Size                                      1000 non-null   float16       \n",
      " 6   Offer_Price                                   1000 non-null   float16       \n",
      " 7   Offer_Size                                    1000 non-null   float16       \n",
      " 8   Quote_Condition                               1000 non-null   object        \n",
      " 9   Sequence_Number                               1000 non-null   int32         \n",
      " 10  National_BBO_Indicator                        1000 non-null   int8          \n",
      " 11  FINRA_BBO_Indicator                           0 non-null      object        \n",
      " 12  FINRA_ADF_MPID_Indicator                      0 non-null      object        \n",
      " 13  Quote_Cancel_Correction                       0 non-null      object        \n",
      " 14  Source_Of_Quote                               1000 non-null   object        \n",
      " 15  Retail_Interest_Indicator                     0 non-null      object        \n",
      " 16  Short_Sale_Restriction_Indicator              1000 non-null   bool          \n",
      " 17  LULD_BBO_Indicator                            0 non-null      object        \n",
      " 18  SIP_Generated_Message_Identifier              0 non-null      object        \n",
      " 19  NBBO_LULD_Indicator                           0 non-null      object        \n",
      " 20  Participant_Timestamp                         1000 non-null   int64         \n",
      " 21  FINRA_ADF_Timestamp                           0 non-null      object        \n",
      " 22  FINRA_ADF_Market_Participant_Quote_Indicator  0 non-null      object        \n",
      " 23  Security_Status_Indicator                     0 non-null      object        \n",
      " 24  Date                                          1000 non-null   datetime64[s] \n",
      " 25  YearMonth                                     1000 non-null   int32         \n",
      "dtypes: bool(1), datetime64[ns](1), datetime64[s](1), float16(4), int16(1), int32(2), int64(1), int8(1), object(14)\n",
      "memory usage: 152.5+ KB\n"
     ]
    }
   ],
   "source": [
    "df_quotes.info()"
   ]
  },
  {
   "cell_type": "markdown",
   "metadata": {},
   "source": [
    "Also maybe drop some unnecessary columns because 'Object' is the most memory-consuming data type... "
   ]
  },
  {
   "cell_type": "code",
   "execution_count": 18,
   "metadata": {},
   "outputs": [],
   "source": [
    "df_quotes.drop(['C0', 'National_BBO_Indicator', 'FINRA_BBO_Indicator',\n",
    "       'FINRA_ADF_MPID_Indicator', 'Quote_Cancel_Correction',\n",
    "       'Source_Of_Quote', 'Retail_Interest_Indicator',\n",
    "       'Short_Sale_Restriction_Indicator', 'LULD_BBO_Indicator',\n",
    "       'SIP_Generated_Message_Identifier', 'NBBO_LULD_Indicator','FINRA_ADF_Timestamp',\n",
    "       'FINRA_ADF_Market_Participant_Quote_Indicator',\n",
    "       'Security_Status_Indicator'], axis=1, inplace=True)"
   ]
  },
  {
   "cell_type": "code",
   "execution_count": 19,
   "metadata": {},
   "outputs": [
    {
     "name": "stdout",
     "output_type": "stream",
     "text": [
      "<class 'pandas.core.frame.DataFrame'>\n",
      "RangeIndex: 1000 entries, 0 to 999\n",
      "Data columns (total 12 columns):\n",
      " #   Column                 Non-Null Count  Dtype         \n",
      "---  ------                 --------------  -----         \n",
      " 0   Time                   1000 non-null   datetime64[ns]\n",
      " 1   Exchange               1000 non-null   object        \n",
      " 2   Symbol                 1000 non-null   object        \n",
      " 3   Bid_Price              1000 non-null   float16       \n",
      " 4   Bid_Size               1000 non-null   float16       \n",
      " 5   Offer_Price            1000 non-null   float16       \n",
      " 6   Offer_Size             1000 non-null   float16       \n",
      " 7   Quote_Condition        1000 non-null   object        \n",
      " 8   Sequence_Number        1000 non-null   int32         \n",
      " 9   Participant_Timestamp  1000 non-null   int64         \n",
      " 10  Date                   1000 non-null   datetime64[s] \n",
      " 11  YearMonth              1000 non-null   int32         \n",
      "dtypes: datetime64[ns](1), datetime64[s](1), float16(4), int32(2), int64(1), object(3)\n",
      "memory usage: 62.6+ KB\n"
     ]
    }
   ],
   "source": [
    "df_quotes.info()"
   ]
  },
  {
   "cell_type": "code",
   "execution_count": 20,
   "metadata": {},
   "outputs": [],
   "source": [
    "df_trades.drop(['C0','Sale_Condition', 'Source_of_Trade',\n",
    "       'Trade_Stop_Stock_Indicator', 'Trade_Correction_Indicator', 'Trade_Reporting_Facility_TRF_Timestamp',\n",
    "       'Trade_Through_Exempt_Indicator', 'YearMonth'], axis=1, inplace = True)"
   ]
  },
  {
   "cell_type": "code",
   "execution_count": 21,
   "metadata": {},
   "outputs": [
    {
     "name": "stdout",
     "output_type": "stream",
     "text": [
      "<class 'pandas.core.frame.DataFrame'>\n",
      "RangeIndex: 1000 entries, 0 to 999\n",
      "Data columns (total 10 columns):\n",
      " #   Column                    Non-Null Count  Dtype         \n",
      "---  ------                    --------------  -----         \n",
      " 0   Time                      1000 non-null   datetime64[ns]\n",
      " 1   Date                      1000 non-null   datetime64[s] \n",
      " 2   Exchange                  1000 non-null   object        \n",
      " 3   Symbol                    1000 non-null   object        \n",
      " 4   Trade_Volume              1000 non-null   int16         \n",
      " 5   Trade_Price               1000 non-null   float16       \n",
      " 6   Sequence_Number           1000 non-null   int16         \n",
      " 7   Trade_Id                  1000 non-null   int16         \n",
      " 8   Trade_Reporting_Facility  0 non-null      object        \n",
      " 9   Participant_Timestamp     1000 non-null   int64         \n",
      "dtypes: datetime64[ns](1), datetime64[s](1), float16(1), int16(3), int64(1), object(3)\n",
      "memory usage: 54.8+ KB\n"
     ]
    }
   ],
   "source": [
    "df_trades.info()"
   ]
  },
  {
   "cell_type": "markdown",
   "metadata": {},
   "source": [
    "### 3. Some data cleaning"
   ]
  },
  {
   "cell_type": "code",
   "execution_count": 22,
   "metadata": {},
   "outputs": [],
   "source": [
    "from datetime import timedelta\n",
    "import time"
   ]
  },
  {
   "cell_type": "markdown",
   "metadata": {},
   "source": [
    "For example, we want to get the correct value of the column Participate Timestamp, i.e. converting Participate Timestamp from integer representation to datetime.\n",
    "\n"
   ]
  },
  {
   "cell_type": "markdown",
   "metadata": {},
   "source": [
    "#### Remember to use vectorization than loop!! And that vectorization works faster with numpy array!!\n",
    "\n",
    "Note that lambda function is also a 'loop'...\n",
    "\n",
    "For data type,\n",
    " \n",
    "    df_trades['Date'] --> pandas.Series\n",
    "\n",
    "    df_trades['Date'].values --> numpy.ndarray"
   ]
  },
  {
   "cell_type": "code",
   "execution_count": 23,
   "metadata": {},
   "outputs": [],
   "source": [
    "def v_convertParticipantTimestamp(pts, date):\n",
    "    \"\"\"\n",
    "    Convert participant timestamps to the correct datetime representation.\n",
    "\n",
    "    Parameters:\n",
    "    - pts: numpy.ndarray\n",
    "    - date: numpy.ndarray\n",
    "\n",
    "    Returns:\n",
    "    - datetime64[ns] Series: A pandas Series of datetime64[ns]\n",
    "\n",
    "    \"\"\"\n",
    "    date = pd.to_datetime(date)\n",
    "    pts = pd.to_datetime(np.char.zfill(pts.astype(str), 15),format=\"%H%M%S%f\")\n",
    "\n",
    "    return date + pd.to_timedelta(\n",
    "        pts.hour * 60 * 60 * 1e9 +   # Convert hours to nanoseconds\n",
    "        pts.minute * 60 * 1e9 +     # Convert minutes to nanoseconds\n",
    "        pts.second * 1e9 +          # Convert seconds to nanoseconds\n",
    "        pts.microsecond * 1e3       # Convert microseconds to nanoseconds\n",
    "    )"
   ]
  },
  {
   "cell_type": "code",
   "execution_count": 24,
   "metadata": {},
   "outputs": [
    {
     "name": "stdout",
     "output_type": "stream",
     "text": [
      "Total time: 0.03335165977478027s\n"
     ]
    }
   ],
   "source": [
    "start = time.time()\n",
    "df_trades['Participant_Timestamp_date'] = v_convertParticipantTimestamp(df_trades['Participant_Timestamp'].values, df_trades['Date'].values)\n",
    "df_quotes['Participant_Timestamp_date'] = v_convertParticipantTimestamp(df_quotes['Participant_Timestamp'].values, df_quotes['Date'].values)\n",
    "print (f'Total time: {time.time()-start}s')"
   ]
  },
  {
   "cell_type": "markdown",
   "metadata": {},
   "source": [
    "We can also remove the after hours trading"
   ]
  },
  {
   "cell_type": "code",
   "execution_count": 25,
   "metadata": {},
   "outputs": [],
   "source": [
    "def drop_after_hours(df, pts):\n",
    "    \"\"\"\n",
    "    Drop rows from the DataFrame based on timestamps outside the range 09:00:00 to 16:00:00.\n",
    "\n",
    "    Parameters:\n",
    "    - df: (pd.DataFrame)\n",
    "    - pts: (pd.Series): \n",
    "    \"\"\"\n",
    "    mask = (pts.dt.time < pd.Timestamp(\"09:00:00\").time()) | \\\n",
    "           (pts.dt.time > pd.Timestamp(\"16:00:00\").time())\n",
    "    drop_idx = df[mask].index\n",
    "    df.drop(drop_idx, inplace=True)\n",
    "    return"
   ]
  },
  {
   "cell_type": "code",
   "execution_count": 26,
   "metadata": {},
   "outputs": [
    {
     "name": "stdout",
     "output_type": "stream",
     "text": [
      "Total time: 0.017377138137817383\n"
     ]
    }
   ],
   "source": [
    "start = time.time()\n",
    "drop_after_hours(df_trades, df_trades['Participant_Timestamp_date'])\n",
    "drop_after_hours(df_quotes, df_quotes['Participant_Timestamp_date'])\n",
    "print (f'Total time: {time.time() - start}')"
   ]
  },
  {
   "cell_type": "code",
   "execution_count": 27,
   "metadata": {},
   "outputs": [
    {
     "data": {
      "text/plain": [
       "Series([], Name: Participant_Timestamp_date, dtype: datetime64[ns])"
      ]
     },
     "execution_count": 27,
     "metadata": {},
     "output_type": "execute_result"
    }
   ],
   "source": [
    "df_trades['Participant_Timestamp_date']"
   ]
  },
  {
   "cell_type": "markdown",
   "metadata": {},
   "source": [
    "### 3. Reconstructing Events"
   ]
  },
  {
   "cell_type": "code",
   "execution_count": 28,
   "metadata": {},
   "outputs": [],
   "source": [
    "df_trades['Is_Quote'] = False\n",
    "df_quotes['Is_Quote'] = True\n",
    "trade_features = ['Participant_Timestamp_date', 'Symbol', 'Is_Quote', 'Trade_Volume', 'Trade_Price', 'Trade_Id', 'Trade_Reporting_Facility']\n",
    "quote_features = ['Participant_Timestamp_date', 'Symbol', 'Is_Quote', 'Bid_Price', 'Bid_Size', 'Offer_Price', 'Offer_Size']"
   ]
  },
  {
   "cell_type": "code",
   "execution_count": 29,
   "metadata": {},
   "outputs": [
    {
     "data": {
      "text/html": [
       "<div>\n",
       "<style scoped>\n",
       "    .dataframe tbody tr th:only-of-type {\n",
       "        vertical-align: middle;\n",
       "    }\n",
       "\n",
       "    .dataframe tbody tr th {\n",
       "        vertical-align: top;\n",
       "    }\n",
       "\n",
       "    .dataframe thead th {\n",
       "        text-align: right;\n",
       "    }\n",
       "</style>\n",
       "<table border=\"1\" class=\"dataframe\">\n",
       "  <thead>\n",
       "    <tr style=\"text-align: right;\">\n",
       "      <th></th>\n",
       "      <th>Participant_Timestamp_date</th>\n",
       "      <th>Symbol</th>\n",
       "      <th>Is_Quote</th>\n",
       "      <th>Trade_Volume</th>\n",
       "      <th>Trade_Price</th>\n",
       "      <th>Trade_Id</th>\n",
       "      <th>Trade_Reporting_Facility</th>\n",
       "      <th>Bid_Price</th>\n",
       "      <th>Bid_Size</th>\n",
       "      <th>Offer_Price</th>\n",
       "      <th>Offer_Size</th>\n",
       "    </tr>\n",
       "  </thead>\n",
       "  <tbody>\n",
       "  </tbody>\n",
       "</table>\n",
       "</div>"
      ],
      "text/plain": [
       "Empty DataFrame\n",
       "Columns: [Participant_Timestamp_date, Symbol, Is_Quote, Trade_Volume, Trade_Price, Trade_Id, Trade_Reporting_Facility, Bid_Price, Bid_Size, Offer_Price, Offer_Size]\n",
       "Index: []"
      ]
     },
     "execution_count": 29,
     "metadata": {},
     "output_type": "execute_result"
    }
   ],
   "source": [
    "df1 = df_trades[trade_features]\n",
    "df2 = df_quotes[quote_features]\n",
    "\n",
    "df_all = pd.concat([df1, df2], ignore_index=True)\n",
    "df_all = df_all.sort_values(by=['Participant_Timestamp_date']).reset_index(drop=True)\n",
    "df_all.head(15)"
   ]
  },
  {
   "cell_type": "markdown",
   "metadata": {},
   "source": [
    "### 3. Some Feature Generation"
   ]
  },
  {
   "cell_type": "markdown",
   "metadata": {},
   "source": [
    "Generate int representation of recalculated Participate Timestamp, again, using vectorization"
   ]
  },
  {
   "cell_type": "code",
   "execution_count": 30,
   "metadata": {},
   "outputs": [
    {
     "name": "stdout",
     "output_type": "stream",
     "text": [
      "CPU times: user 5 µs, sys: 1e+03 ns, total: 6 µs\n",
      "Wall time: 12.2 µs\n"
     ]
    }
   ],
   "source": [
    "%time\n",
    "df_all['Participant_Timestamp_f']= (df_all[\"Participant_Timestamp_date\"].astype(int) / 1e9)"
   ]
  },
  {
   "cell_type": "code",
   "execution_count": 31,
   "metadata": {},
   "outputs": [
    {
     "data": {
      "text/html": [
       "<div>\n",
       "<style scoped>\n",
       "    .dataframe tbody tr th:only-of-type {\n",
       "        vertical-align: middle;\n",
       "    }\n",
       "\n",
       "    .dataframe tbody tr th {\n",
       "        vertical-align: top;\n",
       "    }\n",
       "\n",
       "    .dataframe thead th {\n",
       "        text-align: right;\n",
       "    }\n",
       "</style>\n",
       "<table border=\"1\" class=\"dataframe\">\n",
       "  <thead>\n",
       "    <tr style=\"text-align: right;\">\n",
       "      <th></th>\n",
       "      <th>Participant_Timestamp_date</th>\n",
       "      <th>Symbol</th>\n",
       "      <th>Is_Quote</th>\n",
       "      <th>Trade_Volume</th>\n",
       "      <th>Trade_Price</th>\n",
       "      <th>Trade_Id</th>\n",
       "      <th>Trade_Reporting_Facility</th>\n",
       "      <th>Bid_Price</th>\n",
       "      <th>Bid_Size</th>\n",
       "      <th>Offer_Price</th>\n",
       "      <th>Offer_Size</th>\n",
       "      <th>Participant_Timestamp_f</th>\n",
       "    </tr>\n",
       "  </thead>\n",
       "  <tbody>\n",
       "  </tbody>\n",
       "</table>\n",
       "</div>"
      ],
      "text/plain": [
       "Empty DataFrame\n",
       "Columns: [Participant_Timestamp_date, Symbol, Is_Quote, Trade_Volume, Trade_Price, Trade_Id, Trade_Reporting_Facility, Bid_Price, Bid_Size, Offer_Price, Offer_Size, Participant_Timestamp_f]\n",
       "Index: []"
      ]
     },
     "execution_count": 31,
     "metadata": {},
     "output_type": "execute_result"
    }
   ],
   "source": [
    "df_all.head(15)"
   ]
  },
  {
   "cell_type": "markdown",
   "metadata": {},
   "source": [
    "#### Question: iloc or loc?\n",
    "\n",
    "When choosing a row or multiple rows, iloc is faster.\n",
    "    \n",
    "    e.g. df.iloc[:100]\n",
    "\n",
    "When choosing columns with their labels, loc is better.\n",
    "\n",
    "    e.g. df.iloc[:,['col1', 'col2']]\n",
    "\n"
   ]
  },
  {
   "cell_type": "code",
   "execution_count": 32,
   "metadata": {},
   "outputs": [],
   "source": [
    "class CalendarMode:\n",
    "    def __init__(self, df, delta1, delta2, start_idx, end_idx) -> None:\n",
    "        self.df = df\n",
    "        self.delta1 = delta1\n",
    "        self.delta2 = delta2\n",
    "        self.start_idx = start_idx\n",
    "        self.end_idx = end_idx\n",
    "    \n",
    "    @classmethod\n",
    "    def from_deltas(cls, df, delta1, delta2):\n",
    "        timestamps = df_all['Participant_Timestamp_f'].sort_values().values\n",
    "        #'left' always give you the index of the first suitable location found is given.\n",
    "        #‘right’ return the last such index'\n",
    "        start_idx = np.searchsorted(timestamps, timestamps - delta2, side='left')\n",
    "        end_idx = np.searchsorted(timestamps, timestamps - delta1, side='right')\n",
    "        return cls(\n",
    "            df = df,\n",
    "            delta1 = delta1,\n",
    "            delta2 = delta2,\n",
    "            start_idx = start_idx,\n",
    "            end_idx = end_idx\n",
    "        )\n",
    "    \n",
    "    #Breath\n",
    "    def getBreath(self) -> pd.DataFrame:\n",
    "        if 'Breath' in self.df.columns:\n",
    "            return self.df['Breath']\n",
    "        else:\n",
    "            self.df['Breath'] = [self.df.iloc[start:end]['Is_Quote'].sum() \\\n",
    "                                       for start, end in zip(self.start_idx, self.end_idx)]\n",
    "            return self.df['Breath']\n",
    "    \n",
    "    #Immediacy\n",
    "    def getImmediacy(self) -> pd.Series:\n",
    "        if 'Immediacy' in self.df.columns:\n",
    "            return self.df['Immediacy']\n",
    "        else:\n",
    "            breath = self.getBreath()\n",
    "            self.df['Immediacy'] = np.where(breath == 0, np.nan, \\\n",
    "                                            (self.delta2-self.delta1) / breath)\n",
    "            return self.df['Immediacy']\n",
    "\n",
    "    #VolumeAll\n",
    "    def getVolumeAll(self) -> pd.Series:\n",
    "        if 'VolumeAll' in self.df.columns:\n",
    "            return self.df['VolumeAll']\n",
    "        else:\n",
    "            self.df['VolumeAll'] = [self.df.iloc[start:end]['Trade_Volume'].sum() \\\n",
    "                                          for start, end in zip(self.start_idx, self.end_idx)]\n",
    "            return self.df['VolumeAll']\n",
    "\n",
    "\n"
   ]
  },
  {
   "cell_type": "code",
   "execution_count": 33,
   "metadata": {},
   "outputs": [],
   "source": [
    "delta1, delta2 = 0, 5 #compute features from last 5 seconds\n",
    "caln_f = CalendarMode.from_deltas(df_all, delta1, delta2)"
   ]
  },
  {
   "cell_type": "code",
   "execution_count": 34,
   "metadata": {},
   "outputs": [
    {
     "name": "stdout",
     "output_type": "stream",
     "text": [
      "Total time: 0.002733945846557617s\n"
     ]
    }
   ],
   "source": [
    "start = time.time()\n",
    "caln_f.getBreath()\n",
    "print (f'Total time: {time.time()-start}s')"
   ]
  },
  {
   "cell_type": "code",
   "execution_count": 35,
   "metadata": {},
   "outputs": [
    {
     "name": "stdout",
     "output_type": "stream",
     "text": [
      "Total time: 0.002003192901611328s\n"
     ]
    }
   ],
   "source": [
    "start = time.time()\n",
    "caln_f.getImmediacy()\n",
    "print (f'Total time: {time.time()-start}s')"
   ]
  },
  {
   "cell_type": "code",
   "execution_count": 36,
   "metadata": {},
   "outputs": [
    {
     "name": "stdout",
     "output_type": "stream",
     "text": [
      "Total time: 0.001116037368774414s\n"
     ]
    }
   ],
   "source": [
    "start = time.time()\n",
    "caln_f.getVolumeAll()\n",
    "print (f'Total time: {time.time()-start}s')"
   ]
  },
  {
   "cell_type": "markdown",
   "metadata": {},
   "source": [
    "#### Tips:\n",
    "\n",
    "When you have to loop through the whole dataframe, looping a numpy ndarray is much faster. \n",
    "\n",
    "For example, use:\n",
    "\n",
    "    for v in df.values"
   ]
  },
  {
   "cell_type": "markdown",
   "metadata": {},
   "source": []
  },
  {
   "cell_type": "markdown",
   "metadata": {},
   "source": []
  }
 ],
 "metadata": {
  "kernelspec": {
   "display_name": "env_taq",
   "language": "python",
   "name": "python3"
  },
  "language_info": {
   "codemirror_mode": {
    "name": "ipython",
    "version": 3
   },
   "file_extension": ".py",
   "mimetype": "text/x-python",
   "name": "python",
   "nbconvert_exporter": "python",
   "pygments_lexer": "ipython3",
   "version": "3.11.6"
  }
 },
 "nbformat": 4,
 "nbformat_minor": 2
}
