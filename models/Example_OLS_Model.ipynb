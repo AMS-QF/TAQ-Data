{
 "cells": [
  {
   "cell_type": "markdown",
   "metadata": {},
   "source": [
    "# HuggingFace Tutorial"
   ]
  },
  {
   "cell_type": "code",
   "execution_count": 2,
   "metadata": {},
   "outputs": [
    {
     "name": "stderr",
     "output_type": "stream",
     "text": [
      "C:\\Users\\Michael\\AppData\\Local\\Temp\\ipykernel_35636\\705529812.py:1: DeprecationWarning: \n",
      "Pyarrow will become a required dependency of pandas in the next major release of pandas (pandas 3.0),\n",
      "(to allow more performant data types, such as the Arrow string type, and better interoperability with other libraries)\n",
      "but was not found to be installed on your system.\n",
      "If this would cause problems for you,\n",
      "please provide us feedback at https://github.com/pandas-dev/pandas/issues/54466\n",
      "        \n",
      "  import pandas as pd\n"
     ]
    }
   ],
   "source": [
    "import joblib\n",
    "import sys\n",
    "import os\n",
    "import csv\n",
    "import pandas as pd\n",
    "import numpy as np\n",
    "import torch\n",
    "import torch.nn as nn\n",
    "import torch.optim as optim\n",
    "import statsmodels.api as sm\n",
    "from sklearn.model_selection import train_test_split\n",
    "from huggingface_hub import HfFolder,notebook_login,HfApi,snapshot_download\n",
    "import matplotlib.pyplot as plt\n",
    "from torchsummary import summary\n",
    "import pytorch_lightning as pl\n",
    "from torch.utils.data import Dataset, DataLoader\n",
    "\n"
   ]
  },
  {
   "cell_type": "markdown",
   "metadata": {},
   "source": [
    "### Login into Huggingface and paste your API token below\n",
    "\n",
    "If you have 401 authentication error, please invalidate and refresh your token. This can be done by going to your user api account settings and click manage token. If you still have problems reload the notebook_login without saving to environment variables and try again. (cell 3)"
   ]
  },
  {
   "cell_type": "code",
   "execution_count": 3,
   "metadata": {},
   "outputs": [
    {
     "data": {
      "application/vnd.jupyter.widget-view+json": {
       "model_id": "2f8bdf8612934e4f84a00206b31a9d72",
       "version_major": 2,
       "version_minor": 0
      },
      "text/plain": [
       "VBox(children=(HTML(value='<center> <img\\nsrc=https://huggingface.co/front/assets/huggingface_logo-noborder.sv…"
      ]
     },
     "metadata": {},
     "output_type": "display_data"
    }
   ],
   "source": [
    "notebook_login()"
   ]
  },
  {
   "cell_type": "code",
   "execution_count": 3,
   "metadata": {},
   "outputs": [],
   "source": [
    "# Get the current working directory\n",
    "current_dir = os.getcwd()\n",
    "\n",
    "# Assuming the current directory is 'models', get the path of the 'TAQ-Query-Scripts' directory\n",
    "parent_dir = os.path.dirname(current_dir)\n",
    "\n",
    "# Add the parent directory to sys.path\n",
    "sys.path.append(parent_dir)\n",
    "\n",
    "token = os.getenv(\"hf_token\")\n",
    "user_token= os.getenv(\"hf_user_token\")\n",
    "\n",
    "# Use the token to authenticate\n",
    "HfFolder.save_token(token)"
   ]
  },
  {
   "cell_type": "markdown",
   "metadata": {},
   "source": [
    "### Load the data"
   ]
  },
  {
   "cell_type": "code",
   "execution_count": null,
   "metadata": {},
   "outputs": [],
   "source": [
    "# Load the dataset\n",
    "df_test = pd.read_csv('../sample_data/sample_features.csv')\n",
    "df_test['Trade_Price'] = df_test['Trade_Price'].fillna(df_test['Trade_Price'].median())\n",
    "\n"
   ]
  },
  {
   "cell_type": "markdown",
   "metadata": {},
   "source": [
    "### Model Setup\n",
    "\n",
    "- Model Target (Y) = Trade Price\n",
    "- Model Features (X) = Lagged Trade Volume, Lagged Bid Price, and Lagged Offer Price. "
   ]
  },
  {
   "cell_type": "code",
   "execution_count": null,
   "metadata": {},
   "outputs": [],
   "source": [
    "# Selecting features for the model\n",
    "features = ['Trade_Volume', 'Bid_Price', 'Offer_Price']  # Example features\n",
    "target = 'Trade_Price'\n",
    "\n",
    "\n",
    "# Drop rows with missing target or features\n",
    "df_test = df_test.dropna(subset=[target] + features)\n",
    "\n",
    "# Define X (features) and y (target)\n",
    "X = df_test[features]\n",
    "y = df_test[target]"
   ]
  },
  {
   "cell_type": "markdown",
   "metadata": {},
   "source": [
    "### Training Model with StatsModels"
   ]
  },
  {
   "cell_type": "code",
   "execution_count": 1,
   "metadata": {},
   "outputs": [
    {
     "name": "stdout",
     "output_type": "stream",
     "text": [
      "Unexpected exception formatting exception. Falling back to standard exception\n"
     ]
    },
    {
     "name": "stderr",
     "output_type": "stream",
     "text": [
      "Traceback (most recent call last):\n",
      "  File \"/home/jbohne/anaconda3/envs/taq/lib/python3.11/site-packages/IPython/core/interactiveshell.py\", line 3553, in run_code\n",
      "  File \"/tmp/ipykernel_15539/3071508085.py\", line 2, in <module>\n",
      "    df_test = pd.read_csv('../sample_data/sample_features.csv')\n",
      "              ^^\n",
      "NameError: name 'pd' is not defined\n",
      "\n",
      "During handling of the above exception, another exception occurred:\n",
      "\n",
      "Traceback (most recent call last):\n",
      "  File \"/home/jbohne/anaconda3/envs/taq/lib/python3.11/site-packages/pygments/styles/__init__.py\", line 45, in get_style_by_name\n",
      "ModuleNotFoundError: No module named 'pygments.styles.default'\n",
      "\n",
      "During handling of the above exception, another exception occurred:\n",
      "\n",
      "Traceback (most recent call last):\n",
      "  File \"/home/jbohne/anaconda3/envs/taq/lib/python3.11/site-packages/IPython/core/interactiveshell.py\", line 2144, in showtraceback\n",
      "  File \"/home/jbohne/anaconda3/envs/taq/lib/python3.11/site-packages/IPython/core/ultratb.py\", line 1435, in structured_traceback\n",
      "  File \"/home/jbohne/anaconda3/envs/taq/lib/python3.11/site-packages/IPython/core/ultratb.py\", line 1326, in structured_traceback\n",
      "  File \"/home/jbohne/anaconda3/envs/taq/lib/python3.11/site-packages/IPython/core/ultratb.py\", line 1173, in structured_traceback\n",
      "  File \"/home/jbohne/anaconda3/envs/taq/lib/python3.11/site-packages/IPython/core/ultratb.py\", line 1063, in format_exception_as_a_whole\n",
      "  File \"/home/jbohne/anaconda3/envs/taq/lib/python3.11/site-packages/IPython/core/ultratb.py\", line 1114, in get_records\n",
      "  File \"/home/jbohne/anaconda3/envs/taq/lib/python3.11/site-packages/pygments/styles/__init__.py\", line 47, in get_style_by_name\n",
      "pygments.util.ClassNotFound: Could not find style module 'pygments.styles.default', though it should be builtin.\n"
     ]
    }
   ],
   "source": [
    "\n",
    "# Adding a constant to the model (important for OLS regression)\n",
    "X = sm.add_constant(X)\n",
    "\n",
    "# Splitting the dataset into training and testing sets\n",
    "X_train, X_test, y_train, y_test = train_test_split(X, y, test_size=0.2, random_state=42)\n",
    "\n",
    "# Create the OLS model\n",
    "model = sm.OLS(y_train, X_train).fit()\n",
    "\n",
    "# Print model summary\n",
    "print(model.summary())\n",
    "\n",
    "# Save the model to a file\n",
    "model_filename = 'ols_model/ols_model.pkl'\n",
    "joblib.dump(model, model_filename)\n",
    "\n",
    "print(f\"Model saved as {model_filename}\")\n",
    "\n"
   ]
  },
  {
   "cell_type": "code",
   "execution_count": null,
   "metadata": {},
   "outputs": [],
   "source": [
    "# Visualization plot\n",
    "plt.scatter(X_train['Trade_Volume'], y_train, label='Training Data')\n",
    "plt.scatter(X_test['Trade_Volume'], y_test, color='red', label='Testing Data')\n",
    "plt.xlabel('Trade Volume')\n",
    "plt.ylabel('Trade Price')\n",
    "plt.title('Trade Volume vs Trade Price')\n",
    "plt.legend()\n",
    "plt.savefig(\"ols_model/plot.png\")\n",
    "plt.show()"
   ]
  },
  {
   "cell_type": "markdown",
   "metadata": {},
   "source": [
    "#### Training Modle with PyTorch"
   ]
  },
  {
   "cell_type": "code",
   "execution_count": 5,
   "metadata": {},
   "outputs": [
    {
     "name": "stdout",
     "output_type": "stream",
     "text": [
      "Epoch [10/100], Loss: inf\n",
      "Epoch [20/100], Loss: nan\n",
      "Epoch [30/100], Loss: nan\n",
      "Epoch [40/100], Loss: nan\n",
      "Epoch [50/100], Loss: nan\n",
      "Epoch [60/100], Loss: nan\n",
      "Epoch [70/100], Loss: nan\n",
      "Epoch [80/100], Loss: nan\n",
      "Epoch [90/100], Loss: nan\n",
      "Epoch [100/100], Loss: nan\n"
     ]
    },
    {
     "data": {
      "image/png": "[encoded data removed]",
      "text/plain": [
       "<Figure size 640x480 with 1 Axes>"
      ]
     },
     "metadata": {},
     "output_type": "display_data"
    }
   ],
   "source": [
    "\n",
    "# Splitting the dataset into training and testing sets\n",
    "X_train, X_test, y_train, y_test = train_test_split(X, y, test_size=0.2, random_state=42)\n",
    "\n",
    "# Convert DataFrame to Tensors\n",
    "X_train_tensor = torch.tensor(X_train.values.astype(np.float32))\n",
    "y_train_tensor = torch.tensor(y_train.values.astype(np.float32).reshape(-1, 1))\n",
    "X_test_tensor = torch.tensor(X_test.values.astype(np.float32))\n",
    "y_test_tensor = torch.tensor(y_test.values.astype(np.float32).reshape(-1, 1))\n"
   ]
  },
  {
   "cell_type": "code",
   "execution_count": null,
   "metadata": {},
   "outputs": [],
   "source": [
    "# PyTorch Model Definition\n",
    "class LinearRegressionModel(nn.Module):\n",
    "    def __init__(self, input_size):\n",
    "        super(LinearRegressionModel, self).__init__()\n",
    "        self.linear = nn.Linear(input_size, 1)\n",
    "\n",
    "    def forward(self, x):\n",
    "        return self.linear(x)\n",
    "\n",
    "# Initialize the model\n",
    "input_size = X_train_tensor.shape[1]\n",
    "model = LinearRegressionModel(input_size)\n",
    "criterion = nn.MSELoss()\n",
    "optimizer = optim.SGD(model.parameters(), lr=0.01)\n",
    "\n",
    "# Train the model\n",
    "num_epochs = 100\n",
    "for epoch in range(num_epochs):\n",
    "    # Forward pass\n",
    "    outputs = model(X_train_tensor)\n",
    "    loss = criterion(outputs, y_train_tensor)\n",
    "\n",
    "    # Backward and optimize\n",
    "    optimizer.zero_grad()\n",
    "    loss.backward()\n",
    "    optimizer.step()\n",
    "    \n",
    "    if (epoch+1) % 10 == 0:\n",
    "        print(f'Epoch [{epoch+1}/{num_epochs}], Loss: {loss.item():.4f}')"
   ]
  },
  {
   "cell_type": "code",
   "execution_count": null,
   "metadata": {},
   "outputs": [],
   "source": [
    "\n",
    "# Visualization plot\n",
    "plt.scatter(X_train['Trade_Volume'], y_train, label='Training Data')\n",
    "plt.scatter(X_test['Trade_Volume'], y_test, color='red', label='Testing Data')\n",
    "plt.xlabel('Trade Volume')\n",
    "plt.ylabel('Trade Price')\n",
    "plt.title('Trade Volume vs Trade Price')\n",
    "plt.legend()\n",
    "plt.show()\n",
    "\n",
    "# Save the model\n",
    "torch.save(model.state_dict(), 'ols_model/pytorch_linear_regression_model.pth')"
   ]
  },
  {
   "cell_type": "markdown",
   "metadata": {},
   "source": [
    "### Push Model to HuggingFace\n",
    "\n",
    "For write access you will need to use a user-access token. You can create one by going to your profile settings and clicking on \"New token\". Make sure to copy the token after creating it, as you won't be able to access it afterwards."
   ]
  },
  {
   "cell_type": "code",
   "execution_count": 6,
   "metadata": {},
   "outputs": [
    {
     "data": {
      "application/vnd.jupyter.widget-view+json": {
       "model_id": "7452dea782984eafa03b6e4222feb64e",
       "version_major": 2,
       "version_minor": 0
      },
      "text/plain": [
       "ols_model.pkl:   0%|          | 0.00/197k [00:00<?, ?B/s]"
      ]
     },
     "metadata": {},
     "output_type": "display_data"
    },
    {
     "data": {
      "text/plain": [
       "'https://huggingface.co/taqdatabase/OLS/blob/main/ols_model/ols_model.pkl'"
      ]
     },
     "execution_count": 6,
     "metadata": {},
     "output_type": "execute_result"
    }
   ],
   "source": [
    "# push the model to the hub\n",
    "api = HfApi()\n",
    "api.upload_file(\n",
    "    path_or_fileobj=\"ols_model/ols_model.pkl\",\n",
    "    path_in_repo=\"ols_model/ols_model.pkl\",\n",
    "    repo_id=\"taqdatabase/OLS\",\n",
    "    repo_type=\"model\",\n",
    ")\n"
   ]
  },
  {
   "cell_type": "code",
   "execution_count": 9,
   "metadata": {},
   "outputs": [
    {
     "data": {
      "text/plain": [
       "'https://huggingface.co/taqdatabase/OLS/blob/main/ols_model/pytorch_linear_regression_model.pth'"
      ]
     },
     "execution_count": 9,
     "metadata": {},
     "output_type": "execute_result"
    }
   ],
   "source": [
    "# Model file path\n",
    "model_file_path = \"ols_model\\pytorch_linear_regression_model.pth\"\n",
    "\n",
    "# Push the model to the hub\n",
    "api = HfApi()\n",
    "api.upload_file(\n",
    "    path_or_fileobj=model_file_path,\n",
    "    path_in_repo=\"ols_model/pytorch_linear_regression_model.pth\",\n",
    "    repo_id=\"taqdatabase/OLS\",\n",
    "    repo_type=\"model\",\n",
    ")"
   ]
  },
  {
   "cell_type": "code",
   "execution_count": 10,
   "metadata": {},
   "outputs": [
    {
     "data": {
      "text/plain": [
       "'https://huggingface.co/taqdatabase/OLS/blob/main/ols_model/plots/plot.png'"
      ]
     },
     "execution_count": 10,
     "metadata": {},
     "output_type": "execute_result"
    }
   ],
   "source": [
    "# push the plot to the hub\n",
    "api = HfApi()\n",
    "api.upload_file(\n",
    "    path_or_fileobj=\"ols_model/plot.png\",\n",
    "    path_in_repo=\"ols_model/plots/plot.png\",   # Change this to the desired path in the repo\n",
    "    repo_id=\"taqdatabase/OLS\",      # Change \"username/repo_name\" to your Hugging Face Hub repo\n",
    "    repo_type=\"model\"                # Use \"model\" or \"dataset\" depending on the repository type\n",
    ")"
   ]
  },
  {
   "cell_type": "markdown",
   "metadata": {},
   "source": [
    "### Examine Model Summary CSV"
   ]
  },
  {
   "cell_type": "code",
   "execution_count": 17,
   "metadata": {},
   "outputs": [
    {
     "name": "stdout",
     "output_type": "stream",
     "text": [
      "----------------------------------------------------------------\n",
      "        Layer (type)               Output Shape         Param #\n",
      "================================================================\n",
      "            Linear-1                 [-1, 1, 1]               4\n",
      "================================================================\n",
      "Total params: 4\n",
      "Trainable params: 4\n",
      "Non-trainable params: 0\n",
      "----------------------------------------------------------------\n",
      "Input size (MB): 0.00\n",
      "Forward/backward pass size (MB): 0.00\n",
      "Params size (MB): 0.00\n",
      "Estimated Total Size (MB): 0.00\n",
      "----------------------------------------------------------------\n",
      "Model summary exported to model_summary.csv\n"
     ]
    }
   ],
   "source": [
    "# Generate model summary with torchsummary\n",
    "summary(model, input_size=(1, input_size))\n",
    "\n",
    "# Function to get model summary for CSV export\n",
    "def get_model_summary(model, input_size):\n",
    "    summary = []\n",
    "    for layer in model.children():\n",
    "        layer_str = str(layer)\n",
    "        layer_type = layer_str[:layer_str.find('(')].strip()\n",
    "        param = sum([p.numel() for p in layer.parameters()])\n",
    "        summary.append([layer_type, param])\n",
    "    return summary\n",
    "\n",
    "# Export model summary to CSV\n",
    "model_summary = get_model_summary(model, input_size)\n",
    "with open('ols_model/model_summary.csv', mode='w', newline='') as file:\n",
    "    writer = csv.writer(file)\n",
    "    writer.writerow([\"Layer Type\", \"Parameters\"])  # Writing header\n",
    "    for row in model_summary:\n",
    "        writer.writerow(row)\n",
    "\n",
    "print(\"Model summary exported to model_summary.csv\")"
   ]
  },
  {
   "cell_type": "markdown",
   "metadata": {},
   "source": [
    "### Push CSV to HuggingFace"
   ]
  },
  {
   "cell_type": "code",
   "execution_count": 18,
   "metadata": {},
   "outputs": [
    {
     "data": {
      "text/plain": [
       "'https://huggingface.co/taqdatabase/OLS/blob/main/ols_model/ols_model_summary.csv'"
      ]
     },
     "execution_count": 18,
     "metadata": {},
     "output_type": "execute_result"
    }
   ],
   "source": [
    "# push the model to the hub\n",
    "api = HfApi()\n",
    "api.upload_file(\n",
    "    path_or_fileobj=\"ols_model/ols_model_summary.csv\",\n",
    "    path_in_repo=\"ols_model/ols_model_summary.csv\",\n",
    "    repo_id=\"taqdatabase/OLS\",\n",
    "    repo_type=\"model\",\n",
    ")"
   ]
  },
  {
   "cell_type": "markdown",
   "metadata": {},
   "source": [
    "\n",
    "### Load Model from HuggingFace Hub"
   ]
  },
  {
   "cell_type": "code",
   "execution_count": 28,
   "metadata": {},
   "outputs": [
    {
     "name": "stderr",
     "output_type": "stream",
     "text": [
      "Fetching 3 files:   0%|          | 0/3 [00:00<?, ?it/s]\n",
      ".gitattributes: 100%|██████████| 1.52k/1.52k [00:00<00:00, 891kB/s]\n",
      "README.md: 100%|██████████| 97.0/97.0 [00:00<00:00, 3.10kB/s]\n",
      "ols_model.pkl: 100%|██████████| 197k/197k [00:00<00:00, 2.82MB/s]\n",
      "Fetching 3 files: 100%|██████████| 3/3 [00:02<00:00,  1.50it/s]\n"
     ]
    },
    {
     "data": {
      "text/plain": [
       "'/home/jbohne/.cache/huggingface/hub/models--taqdatabase--OLS/snapshots/3ccc806307a32f9787b088a3c8001407798ebf06'"
      ]
     },
     "execution_count": 28,
     "metadata": {},
     "output_type": "execute_result"
    }
   ],
   "source": [
    "snapshot_download(repo_id=\"taqdatabase/OLS\")"
   ]
  },
  {
   "cell_type": "markdown",
   "metadata": {},
   "source": [
    "### Training Model with PyTorch Lightning"
   ]
  },
  {
   "cell_type": "code",
   "execution_count": null,
   "metadata": {},
   "outputs": [],
   "source": [
    "data=pd.read_csv('..\\sample_data\\sample_features.csv')\n",
    "# Preprocessing\n",
    "data.fillna(0, inplace=True)  # Handling missing values\n",
    "data['Is_Quote'] = data['Is_Quote'].astype(int)\n",
    "data['Valid_Quotes'] = data['Valid_Quotes'].astype(int)\n",
    "data['Participant_Timestamp'] = pd.to_datetime(data['Participant_Timestamp'])\n",
    "data['hour'] = data['Participant_Timestamp'].dt.hour\n",
    "data['minute'] = data['Participant_Timestamp'].dt.minute\n",
    "data['second'] = data['Participant_Timestamp'].dt.second\n",
    "data.drop(['Symbol', 'Trade_Reporting_Facility', 'Participant_Timestamp'], axis=1, inplace=True)\n",
    "\n",
    "# Separate features and target\n",
    "X = data.drop('Trade_Price', axis=1)\n",
    "y = data['Trade_Price']"
   ]
  },
  {
   "cell_type": "code",
   "execution_count": null,
   "metadata": {},
   "outputs": [],
   "source": [
    "# Train-test split\n",
    "X_train, X_test, y_train, y_test = train_test_split(X, y, test_size=0.2, random_state=42)\n",
    "\n",
    "# Convert to PyTorch tensors\n",
    "X_train_tensor = torch.tensor(X_train.values, dtype=torch.float32)\n",
    "y_train_tensor = torch.tensor(y_train.values, dtype=torch.float32)\n",
    "X_test_tensor = torch.tensor(X_test.values, dtype=torch.float32)\n",
    "y_test_tensor = torch.tensor(y_test.values, dtype=torch.float32)\n"
   ]
  },
  {
   "cell_type": "code",
   "execution_count": 51,
   "metadata": {},
   "outputs": [
    {
     "name": "stderr",
     "output_type": "stream",
     "text": [
      "GPU available: False, used: False\n",
      "TPU available: False, using: 0 TPU cores\n",
      "IPU available: False, using: 0 IPUs\n",
      "HPU available: False, using: 0 HPUs\n",
      "c:\\Python311\\Lib\\site-packages\\pytorch_lightning\\trainer\\configuration_validator.py:72: You passed in a `val_dataloader` but have no `validation_step`. Skipping val loop.\n",
      "\n",
      "  | Name  | Type       | Params\n",
      "-------------------------------------\n",
      "0 | model | Sequential | 1.0 K \n",
      "-------------------------------------\n",
      "1.0 K     Trainable params\n",
      "0         Non-trainable params\n",
      "1.0 K     Total params\n",
      "0.004     Total estimated model params size (MB)\n"
     ]
    },
    {
     "name": "stderr",
     "output_type": "stream",
     "text": [
      "c:\\Python311\\Lib\\site-packages\\pytorch_lightning\\trainer\\connectors\\data_connector.py:441: The 'train_dataloader' does not have many workers which may be a bottleneck. Consider increasing the value of the `num_workers` argument` to `num_workers=31` in the `DataLoader` to improve performance.\n"
     ]
    },
    {
     "data": {
      "application/vnd.jupyter.widget-view+json": {
       "model_id": "c7dfb9ba404745dab5b3f691f3d76f73",
       "version_major": 2,
       "version_minor": 0
      },
      "text/plain": [
       "Training: |          | 0/? [00:00<?, ?it/s]"
      ]
     },
     "metadata": {},
     "output_type": "display_data"
    },
    {
     "name": "stderr",
     "output_type": "stream",
     "text": [
      "C:\\Users\\Michael\\AppData\\Local\\Temp\\ipykernel_37044\\1301968496.py:56: UserWarning: Using a target size (torch.Size([15])) that is different to the input size (torch.Size([15, 1])). This will likely lead to incorrect results due to broadcasting. Please ensure they have the same size.\n",
      "  loss = nn.functional.mse_loss(y_hat, y)\n",
      "C:\\Users\\Michael\\AppData\\Local\\Temp\\ipykernel_37044\\1301968496.py:56: UserWarning: Using a target size (torch.Size([8])) that is different to the input size (torch.Size([8, 1])). This will likely lead to incorrect results due to broadcasting. Please ensure they have the same size.\n",
      "  loss = nn.functional.mse_loss(y_hat, y)\n",
      "`Trainer.fit` stopped: `max_epochs=25` reached.\n"
     ]
    }
   ],
   "source": [
    "\n",
    "# Dataset and DataLoader\n",
    "class TimeSeriesDataset(Dataset):\n",
    "    def __init__(self, features, targets):\n",
    "        self.features = features\n",
    "        self.targets = targets\n",
    "\n",
    "    def __len__(self):\n",
    "        return len(self.features)\n",
    "\n",
    "    def __getitem__(self, idx):\n",
    "        return self.features[idx], self.targets[idx]\n",
    "\n",
    "train_dataset = TimeSeriesDataset(X_train_tensor, y_train_tensor)\n",
    "test_dataset = TimeSeriesDataset(X_test_tensor, y_test_tensor)\n",
    "\n",
    "# LightningModule\n",
    "class MyTimeSeriesModel(pl.LightningModule):\n",
    "    def __init__(self):\n",
    "        super().__init__()\n",
    "        self.model = nn.Sequential(\n",
    "            nn.Linear(X_train.shape[1], 64),\n",
    "            nn.ReLU(),\n",
    "            nn.Linear(64, 1)\n",
    "        )\n",
    "\n",
    "    def forward(self, x):\n",
    "        return self.model(x)\n",
    "\n",
    "    def training_step(self, batch, batch_idx):\n",
    "        x, y = batch\n",
    "        y_hat = self(x)\n",
    "        loss = nn.functional.mse_loss(y_hat, y)\n",
    "        return loss\n",
    "\n",
    "    def configure_optimizers(self):\n",
    "        optimizer = optim.Adam(self.parameters(), lr=1e-3)\n",
    "        return optimizer\n",
    "\n",
    "    def train_dataloader(self):\n",
    "        return DataLoader(train_dataset, batch_size=15, shuffle=True)\n",
    "\n",
    "    def val_dataloader(self):\n",
    "        return DataLoader(test_dataset, batch_size=15)\n",
    "\n",
    "# Instantiate and train the model\n",
    "model = MyTimeSeriesModel()\n",
    "trainer = pl.Trainer(max_epochs=25)\n",
    "trainer.fit(model)\n",
    "\n",
    "# Save the model\n",
    "trainer.save_checkpoint(\"ols_model/ols_model.ckpt\")"
   ]
  },
  {
   "cell_type": "markdown",
   "metadata": {},
   "source": [
    "### Evaluate Model"
   ]
  },
  {
   "cell_type": "code",
   "execution_count": 50,
   "metadata": {},
   "outputs": [
    {
     "data": {
      "image/png": "[encoded data removed]",
      "text/plain": [
       "<Figure size 1000x600 with 1 Axes>"
      ]
     },
     "metadata": {},
     "output_type": "display_data"
    }
   ],
   "source": [
    "\n",
    "# Generate predictions\n",
    "model.eval()  # Set the model to evaluation mode\n",
    "with torch.no_grad():\n",
    "    predictions = model(X_test_tensor).view(-1)  # Flatten the predictions\n",
    "\n",
    "# Convert predictions to a numpy array\n",
    "predictions = predictions.numpy()\n",
    "\n",
    "# Plot actual vs predicted values using dots\n",
    "plt.figure(figsize=(10, 6))\n",
    "plt.scatter(range(len(y_test)), y_test.values, label='Actual Trade Price', color='blue', alpha=0.5)\n",
    "plt.scatter(range(len(predictions)), predictions, label='Predicted Trade Price', color='red', alpha=0.5)\n",
    "plt.title('Actual vs Predicted Trade Price')\n",
    "plt.xlabel('Samples')\n",
    "plt.ylabel('Trade Price')\n",
    "plt.legend()\n",
    "plt.show()"
   ]
  },
  {
   "cell_type": "markdown",
   "metadata": {},
   "source": [
    "### Push Model to HuggingFace"
   ]
  },
  {
   "cell_type": "code",
   "execution_count": null,
   "metadata": {},
   "outputs": [],
   "source": [
    "from huggingface_hub import HfApi\n",
    "\n",
    "api = HfApi()\n",
    "\n",
    "# Make sure the path to the saved model is correct\n",
    "api.upload_file(\n",
    "    path_or_fileobj=\"ols_model/ols_model.ckpt\",\n",
    "    path_in_repo=\"ols_model/ols_model.ckpt\",\n",
    "    repo_id=\"taqdatabase/OLS\",\n",
    "    repo_type=\"model\",\n",
    ")\n"
   ]
  }
 ],
 "metadata": {
  "kernelspec": {
   "display_name": "taq",
   "language": "python",
   "name": "python3"
  },
  "language_info": {
   "codemirror_mode": {
    "name": "ipython",
    "version": 3
   },
   "file_extension": ".py",
   "mimetype": "text/x-python",
   "name": "python",
   "nbconvert_exporter": "python",
   "pygments_lexer": "ipython3",
   "version": "3.11.7"
  }
 },
 "nbformat": 4,
 "nbformat_minor": 2
}
