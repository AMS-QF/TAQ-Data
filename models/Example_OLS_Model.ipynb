{
 "cells": [
  {
   "cell_type": "markdown",
   "metadata": {},
   "source": [
    "# HuggingFace Tutorial"
   ]
  },
  {
   "cell_type": "code",
   "execution_count": 34,
   "metadata": {},
   "outputs": [],
   "source": [
    "import pandas as pd\n",
    "import statsmodels.api as sm\n",
    "from sklearn.model_selection import train_test_split\n",
    "import joblib\n",
    "import sys\n",
    "import os\n",
    "from huggingface_hub import HfFolder,notebook_login,HfApi,snapshot_download\n",
    "from dotenv import load_dotenv\n",
    "from matplotlib import pyplot as plt"
   ]
  },
  {
   "cell_type": "markdown",
   "metadata": {},
   "source": [
    "### Login into Huggingface and paste your API token below\n",
    "\n",
    "If you have 401 authentication error, please invalidate and refresh your token. This can be done by going to your user api account settings and click manage token. If you still have problems reload the notebook_login without saving to environment variables and try again. (cell 3)"
   ]
  },
  {
   "cell_type": "code",
   "execution_count": 2,
   "metadata": {},
   "outputs": [
    {
     "data": {
      "application/vnd.jupyter.widget-view+json": {
       "model_id": "810a512c7bb74441aeba9dc002c4d5c9",
       "version_major": 2,
       "version_minor": 0
      },
      "text/plain": [
       "VBox(children=(HTML(value='<center> <img\\nsrc=https://huggingface.co/front/assets/huggingface_logo-noborder.sv…"
      ]
     },
     "metadata": {},
     "output_type": "display_data"
    }
   ],
   "source": [
    "notebook_login()"
   ]
  },
  {
   "cell_type": "code",
   "execution_count": 3,
   "metadata": {},
   "outputs": [],
   "source": [
    "# Get the current working directory\n",
    "current_dir = os.getcwd()\n",
    "\n",
    "# Assuming the current directory is 'models', get the path of the 'TAQ-Query-Scripts' directory\n",
    "parent_dir = os.path.dirname(current_dir)\n",
    "\n",
    "# Add the parent directory to sys.path\n",
    "sys.path.append(parent_dir)\n",
    "\n",
    "token = os.getenv(\"hf_token\")\n",
    "user_token= os.getenv(\"hf_user_token\")\n",
    "\n",
    "# Use the token to authenticate\n",
    "HfFolder.save_token(token)"
   ]
  },
  {
   "cell_type": "markdown",
   "metadata": {},
   "source": [
    "### OLS Walkthrough"
   ]
  },
  {
   "cell_type": "code",
   "execution_count": 35,
   "metadata": {},
   "outputs": [
    {
     "name": "stdout",
     "output_type": "stream",
     "text": [
      "                            OLS Regression Results                            \n",
      "==============================================================================\n",
      "Dep. Variable:            Trade_Price   R-squared:                      -5.217\n",
      "Model:                            OLS   Adj. R-squared:                 -5.232\n",
      "Method:                 Least Squares   F-statistic:                    -333.6\n",
      "Date:                Thu, 11 Jan 2024   Prob (F-statistic):               1.00\n",
      "Time:                        18:34:05   Log-Likelihood:                 21923.\n",
      "No. Observations:                 798   AIC:                        -4.384e+04\n",
      "Df Residuals:                     795   BIC:                        -4.383e+04\n",
      "Df Model:                           2                                         \n",
      "Covariance Type:            nonrobust                                         \n",
      "================================================================================\n",
      "                   coef    std err          t      P>|t|      [0.025      0.975]\n",
      "--------------------------------------------------------------------------------\n",
      "const          294.6500   5.75e-12   5.13e+13      0.000     294.650     294.650\n",
      "Trade_Volume  9.342e-17   1.81e-31   5.16e+14      0.000    9.34e-17    9.34e-17\n",
      "Bid_Price      1.05e-15   9.64e-16      1.089      0.276   -8.42e-16    2.94e-15\n",
      "Offer_Price  -1.776e-14   1.95e-14     -0.913      0.361    -5.6e-14    2.04e-14\n",
      "==============================================================================\n",
      "Omnibus:                     1788.758   Durbin-Watson:                   0.003\n",
      "Prob(Omnibus):                  0.000   Jarque-Bera (JB):          6325737.650\n",
      "Skew:                          19.046   Prob(JB):                         0.00\n",
      "Kurtosis:                     437.508   Cond. No.                     5.92e+18\n",
      "==============================================================================\n",
      "\n",
      "Notes:\n",
      "[1] Standard Errors assume that the covariance matrix of the errors is correctly specified.\n",
      "[2] The smallest eigenvalue is 3.94e-30. This might indicate that there are\n",
      "strong multicollinearity problems or that the design matrix is singular.\n",
      "Model saved as ols_model/ols_model.pkl\n"
     ]
    },
    {
     "data": {
      "image/png": "[encoded data removed]",
      "text/plain": [
       "<Figure size 640x480 with 1 Axes>"
      ]
     },
     "metadata": {},
     "output_type": "display_data"
    }
   ],
   "source": [
    "# Load the dataset\n",
    "df_test = pd.read_csv('../sample_data/sample_features.csv')\n",
    "df_test['Trade_Price'] = df_test['Trade_Price'].fillna(df_test['Trade_Price'].median())\n",
    "\n",
    "# Selecting features for the model (adjust as necessary)\n",
    "features = ['Trade_Volume', 'Bid_Price', 'Offer_Price']  # Example features\n",
    "target = 'Trade_Price'\n",
    "\n",
    "# Drop rows with missing target or features\n",
    "df_test = df_test.dropna(subset=[target] + features)\n",
    "\n",
    "# Check if the DataFrame is empty\n",
    "if df_test.empty:\n",
    "    print(\"No data available after removing missing values.\")\n",
    "else:\n",
    "    # Define X (features) and y (target)\n",
    "    X = df_test[features]\n",
    "    y = df_test[target]\n",
    "\n",
    "    # Adding a constant to the model (important for OLS regression)\n",
    "    X = sm.add_constant(X)\n",
    "\n",
    "    # Splitting the dataset into training and testing sets\n",
    "    X_train, X_test, y_train, y_test = train_test_split(X, y, test_size=0.2, random_state=42)\n",
    "\n",
    "    # Create the OLS model\n",
    "    model = sm.OLS(y_train, X_train).fit()\n",
    "\n",
    "    # Print model summary\n",
    "    print(model.summary())\n",
    "\n",
    "    # Save the model to a file\n",
    "    model_filename = 'ols_model/ols_model.pkl'\n",
    "    joblib.dump(model, model_filename)\n",
    "\n",
    "    print(f\"Model saved as {model_filename}\")\n",
    "\n",
    "    # Visualization plot\n",
    "plt.scatter(X_train['Trade_Volume'], y_train, label='Training Data')\n",
    "plt.scatter(X_test['Trade_Volume'], y_test, color='red', label='Testing Data')\n",
    "plt.xlabel('Trade Volume')\n",
    "plt.ylabel('Trade Price')\n",
    "plt.title('Trade Volume vs Trade Price')\n",
    "plt.legend()\n",
    "plt.savefig(\"ols_model/plot.png\")\n",
    "plt.show()"
   ]
  },
  {
   "cell_type": "markdown",
   "metadata": {},
   "source": [
    "### Push Model to HuggingFace\n",
    "\n",
    "For write access you will need to use a user-access token. You can create one by going to your profile settings and clicking on \"New token\". Make sure to copy the token after creating it, as you won't be able to access it afterwards."
   ]
  },
  {
   "cell_type": "code",
   "execution_count": 4,
   "metadata": {},
   "outputs": [
    {
     "data": {
      "text/plain": [
       "CommitInfo(commit_url='https://huggingface.co/taqdatabase/OLS/commit/1980d4428038801b8929fc162cfa10b513b2d21f', commit_message='Upload ols_model/ols_model.pkl with huggingface_hub', commit_description='', oid='1980d4428038801b8929fc162cfa10b513b2d21f', pr_url=None, pr_revision=None, pr_num=None)"
      ]
     },
     "execution_count": 4,
     "metadata": {},
     "output_type": "execute_result"
    }
   ],
   "source": [
    "# push the model to the hub\n",
    "api = HfApi()\n",
    "api.upload_file(\n",
    "    path_or_fileobj=\"ols_model/ols_model.pkl\",\n",
    "    path_in_repo=\"ols_model/ols_model.pkl\",\n",
    "    repo_id=\"taqdatabase/OLS\",\n",
    "    repo_type=\"model\",\n",
    ")\n"
   ]
  },
  {
   "cell_type": "code",
   "execution_count": 36,
   "metadata": {},
   "outputs": [
    {
     "data": {
      "text/plain": [
       "CommitInfo(commit_url='https://huggingface.co/taqdatabase/OLS/commit/74fc026dc80099a4114fa785160749fd999323c5', commit_message='Upload ols_model/plots/plot.png with huggingface_hub', commit_description='', oid='74fc026dc80099a4114fa785160749fd999323c5', pr_url=None, pr_revision=None, pr_num=None)"
      ]
     },
     "execution_count": 36,
     "metadata": {},
     "output_type": "execute_result"
    }
   ],
   "source": [
    "# push the plot to the hub\n",
    "api = HfApi()\n",
    "api.upload_file(\n",
    "    path_or_fileobj=\"ols_model/plot.png\",\n",
    "    path_in_repo=\"ols_model/plots/plot.png\",   # Change this to the desired path in the repo\n",
    "    repo_id=\"taqdatabase/OLS\",      # Change \"username/repo_name\" to your Hugging Face Hub repo\n",
    "    repo_type=\"model\"                # Use \"model\" or \"dataset\" depending on the repository type\n",
    ")"
   ]
  },
  {
   "cell_type": "markdown",
   "metadata": {},
   "source": [
    "### Push CSV to HuggingFace"
   ]
  },
  {
   "cell_type": "code",
   "execution_count": 31,
   "metadata": {},
   "outputs": [],
   "source": [
    "pd.DataFrame(model.summary().tables[0]).to_csv('ols_model/ols_model_summary.csv')"
   ]
  },
  {
   "cell_type": "markdown",
   "metadata": {},
   "source": [
    "### Save CSV to HuggingFace"
   ]
  },
  {
   "cell_type": "code",
   "execution_count": 32,
   "metadata": {},
   "outputs": [
    {
     "data": {
      "text/plain": [
       "CommitInfo(commit_url='https://huggingface.co/taqdatabase/OLS/commit/33918da840f84cb602bbb5b42f74192502ba5119', commit_message='Upload ols_model/ols_model_summary.csv with huggingface_hub', commit_description='', oid='33918da840f84cb602bbb5b42f74192502ba5119', pr_url=None, pr_revision=None, pr_num=None)"
      ]
     },
     "execution_count": 32,
     "metadata": {},
     "output_type": "execute_result"
    }
   ],
   "source": [
    "# push the model to the hub\n",
    "api = HfApi()\n",
    "api.upload_file(\n",
    "    path_or_fileobj=\"ols_model/ols_model_summary.csv\",\n",
    "    path_in_repo=\"ols_model/ols_model_summary.csv\",\n",
    "    repo_id=\"taqdatabase/OLS\",\n",
    "    repo_type=\"model\",\n",
    ")"
   ]
  },
  {
   "cell_type": "markdown",
   "metadata": {},
   "source": [
    "\n",
    "### Load Model from HuggingFace Hub"
   ]
  },
  {
   "cell_type": "code",
   "execution_count": 28,
   "metadata": {},
   "outputs": [
    {
     "name": "stderr",
     "output_type": "stream",
     "text": [
      "Fetching 3 files:   0%|          | 0/3 [00:00<?, ?it/s]\n",
      ".gitattributes: 100%|██████████| 1.52k/1.52k [00:00<00:00, 891kB/s]\n",
      "README.md: 100%|██████████| 97.0/97.0 [00:00<00:00, 3.10kB/s]\n",
      "ols_model.pkl: 100%|██████████| 197k/197k [00:00<00:00, 2.82MB/s]\n",
      "Fetching 3 files: 100%|██████████| 3/3 [00:02<00:00,  1.50it/s]\n"
     ]
    },
    {
     "data": {
      "text/plain": [
       "'/home/jbohne/.cache/huggingface/hub/models--taqdatabase--OLS/snapshots/3ccc806307a32f9787b088a3c8001407798ebf06'"
      ]
     },
     "execution_count": 28,
     "metadata": {},
     "output_type": "execute_result"
    }
   ],
   "source": [
    "snapshot_download(repo_id=\"taqdatabase/OLS\")"
   ]
  },
  {
   "cell_type": "markdown",
   "metadata": {},
   "source": [
    "# To do\n",
    "1. add parameter estimate\n",
    "2. chart with intervals/estimate and p-values"
   ]
  },
  {
   "cell_type": "markdown",
   "metadata": {},
   "source": []
  }
 ],
 "metadata": {
  "kernelspec": {
   "display_name": "taq",
   "language": "python",
   "name": "python3"
  },
  "language_info": {
   "codemirror_mode": {
    "name": "ipython",
    "version": 3
   },
   "file_extension": ".py",
   "mimetype": "text/x-python",
   "name": "python",
   "nbconvert_exporter": "python",
   "pygments_lexer": "ipython3",
   "version": "3.11.7"
  }
 },
 "nbformat": 4,
 "nbformat_minor": 2
}
