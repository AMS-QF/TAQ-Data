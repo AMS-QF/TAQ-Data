{
 "cells": [
  {
   "cell_type": "code",
   "execution_count": 1,
   "metadata": {},
   "outputs": [
    {
     "name": "stdout",
     "output_type": "stream",
     "text": [
      "Requirement already satisfied: transformers in /Users/michael/anaconda3/envs/taq/lib/python3.10/site-packages (4.24.0)\n",
      "Requirement already satisfied: packaging>=20.0 in /Users/michael/anaconda3/envs/taq/lib/python3.10/site-packages (from transformers) (22.0)\n",
      "Requirement already satisfied: requests in /Users/michael/anaconda3/envs/taq/lib/python3.10/site-packages (from transformers) (2.28.1)\n",
      "Requirement already satisfied: tqdm>=4.27 in /Users/michael/anaconda3/envs/taq/lib/python3.10/site-packages (from transformers) (4.64.1)\n",
      "Requirement already satisfied: filelock in /Users/michael/anaconda3/envs/taq/lib/python3.10/site-packages (from transformers) (3.9.0)\n",
      "Requirement already satisfied: huggingface-hub<1.0,>=0.10.0 in /Users/michael/anaconda3/envs/taq/lib/python3.10/site-packages (from transformers) (0.10.1)\n",
      "Requirement already satisfied: tokenizers!=0.11.3,<0.14,>=0.11.1 in /Users/michael/anaconda3/envs/taq/lib/python3.10/site-packages (from transformers) (0.11.4)\n",
      "Requirement already satisfied: regex!=2019.12.17 in /Users/michael/anaconda3/envs/taq/lib/python3.10/site-packages (from transformers) (2022.7.9)\n",
      "Requirement already satisfied: numpy>=1.17 in /Users/michael/anaconda3/envs/taq/lib/python3.10/site-packages (from transformers) (1.23.5)\n",
      "Requirement already satisfied: pyyaml>=5.1 in /Users/michael/anaconda3/envs/taq/lib/python3.10/site-packages (from transformers) (6.0)\n",
      "Requirement already satisfied: typing-extensions>=3.7.4.3 in /Users/michael/anaconda3/envs/taq/lib/python3.10/site-packages (from huggingface-hub<1.0,>=0.10.0->transformers) (4.4.0)\n",
      "Requirement already satisfied: certifi>=2017.4.17 in /Users/michael/anaconda3/envs/taq/lib/python3.10/site-packages (from requests->transformers) (2022.12.7)\n",
      "Requirement already satisfied: urllib3<1.27,>=1.21.1 in /Users/michael/anaconda3/envs/taq/lib/python3.10/site-packages (from requests->transformers) (1.26.16)\n",
      "Requirement already satisfied: charset-normalizer<3,>=2 in /Users/michael/anaconda3/envs/taq/lib/python3.10/site-packages (from requests->transformers) (2.0.4)\n",
      "Requirement already satisfied: idna<4,>=2.5 in /Users/michael/anaconda3/envs/taq/lib/python3.10/site-packages (from requests->transformers) (3.4)\n",
      "Requirement already satisfied: torch in /Users/michael/anaconda3/envs/taq/lib/python3.10/site-packages (1.12.1)\n",
      "Requirement already satisfied: typing_extensions in /Users/michael/anaconda3/envs/taq/lib/python3.10/site-packages (from torch) (4.4.0)\n"
     ]
    }
   ],
   "source": [
    "# Install dependencies\n",
    "!pip install transformers\n",
    "!pip install torch"
   ]
  },
  {
   "cell_type": "code",
   "execution_count": 5,
   "metadata": {},
   "outputs": [],
   "source": [
    "import sys\n",
    "import os\n",
    "\n",
    "# Set the path to the directory where 'generators' is located\n",
    "# Adjust this path if the 'generators' directory is located elsewhere\n",
    "generators_dir = '/Users/michael/Python/Stony Brook/TAQ-Query-Scripts/spark_pipelines'\n",
    "\n",
    "# Add this directory to the system path\n",
    "sys.path.append(generators_dir)\n",
    "\n",
    "# Now, you can import from generators\n",
    "from generators import convertParticipantTimestamp, generate_mox_identifier, generate_trade_side\n",
    "\n",
    "# Example usage of the imported functions\n",
    "# Assuming you have the required data available in your notebook\n",
    "# pts = ...  # Your participant timestamps data\n",
    "# date = ...  # The date to be used\n",
    "# converted_timestamps = convertParticipantTimestamp(pts, date)\n",
    "\n",
    "# Continue with other functions as needed...\n"
   ]
  },
  {
   "cell_type": "code",
   "execution_count": 3,
   "metadata": {},
   "outputs": [
    {
     "data": {
      "text/plain": [
       "'/Users/michael/Python/Stony Brook/TAQ-Query-Scripts/models'"
      ]
     },
     "execution_count": 3,
     "metadata": {},
     "output_type": "execute_result"
    }
   ],
   "source": [
    "pwd"
   ]
  },
  {
   "cell_type": "markdown",
   "metadata": {},
   "source": []
  }
 ],
 "metadata": {
  "kernelspec": {
   "display_name": "taq",
   "language": "python",
   "name": "python3"
  },
  "language_info": {
   "codemirror_mode": {
    "name": "ipython",
    "version": 3
   },
   "file_extension": ".py",
   "mimetype": "text/x-python",
   "name": "python",
   "nbconvert_exporter": "python",
   "pygments_lexer": "ipython3",
   "version": "3.10.9"
  }
 },
 "nbformat": 4,
 "nbformat_minor": 2
}
