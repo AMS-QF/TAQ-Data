{
 "cells": [
  {
   "cell_type": "code",
   "execution_count": 11,
   "metadata": {},
   "outputs": [],
   "source": [
    "# python data_preprocessing/run_jobs.py  --symbol AAPL --start_date 2021-01-01 --end_date 2021-01-02\n",
    "import data_preprocessing.load_data as ld\n",
    "import pandas as pd\n",
    "\n",
    "\n",
    "def get_data(symbol = \"AAPL\", start_date = \"2021-01-01\", end_date = \"2021-01-02\"):\n",
    "    conn = ld.connect_to_db()\n",
    "    pathTrades = ld.get_trades(conn, symbol, start_date, end_date)\n",
    "    pathQuotes = ld.get_quotes(conn, symbol, start_date, end_date)\n",
    "    tradesDf = pd.DataFrame()\n",
    "    quotesDf = pd.DataFrame()\n",
    "    for path in pathTrades:\n",
    "        tradesDf = tradesDf.append(pd.read_csv(path))\n",
    "    for path in pathQuotes:\n",
    "        quotesDf = quotesDf.append(pd.read_csv(path))\n",
    "    dataDf = pd.concat([tradesDf, quotesDf], axis=0)\n",
    "    return dataDf\n"
   ]
  },
  {
   "cell_type": "code",
   "execution_count": 13,
   "metadata": {},
   "outputs": [
    {
     "name": "stdout",
     "output_type": "stream",
     "text": [
      " \n",
      " \n"
     ]
    },
    {
     "data": {
      "text/html": [
       "<div>\n",
       "<style scoped>\n",
       "    .dataframe tbody tr th:only-of-type {\n",
       "        vertical-align: middle;\n",
       "    }\n",
       "\n",
       "    .dataframe tbody tr th {\n",
       "        vertical-align: top;\n",
       "    }\n",
       "\n",
       "    .dataframe thead th {\n",
       "        text-align: right;\n",
       "    }\n",
       "</style>\n",
       "<table border=\"1\" class=\"dataframe\">\n",
       "  <thead>\n",
       "    <tr style=\"text-align: right;\">\n",
       "      <th></th>\n",
       "    </tr>\n",
       "  </thead>\n",
       "  <tbody>\n",
       "  </tbody>\n",
       "</table>\n",
       "</div>"
      ],
      "text/plain": [
       "Empty DataFrame\n",
       "Columns: []\n",
       "Index: []"
      ]
     },
     "execution_count": 13,
     "metadata": {},
     "output_type": "execute_result"
    }
   ],
   "source": [
    "test = get_data(\"AAPL\", \"2021-01-01\", \"2021-01-02\")\n",
    "test.head(10)"
   ]
  }
 ],
 "metadata": {
  "kernelspec": {
   "display_name": "taq",
   "language": "python",
   "name": "python3"
  },
  "language_info": {
   "codemirror_mode": {
    "name": "ipython",
    "version": 3
   },
   "file_extension": ".py",
   "mimetype": "text/x-python",
   "name": "python",
   "nbconvert_exporter": "python",
   "pygments_lexer": "ipython3",
   "version": "3.9.16"
  },
  "orig_nbformat": 4,
  "vscode": {
   "interpreter": {
    "hash": "58901a5458bbbc7c7597eeb2d7661d6e50b4f0a31637ac26dd4719ceae86ce52"
   }
  }
 },
 "nbformat": 4,
 "nbformat_minor": 2
}
