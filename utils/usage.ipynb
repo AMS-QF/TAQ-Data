{
 "cells": [
  {
   "cell_type": "code",
   "execution_count": 1,
   "metadata": {},
   "outputs": [
    {
     "name": "stdout",
     "output_type": "stream",
     "text": [
      "Output for symbol AAPL:\n",
      "Errors for symbol AAPL:\n",
      "Output for symbol GOOG:\n",
      "Errors for symbol GOOG:\n"
     ]
    }
   ],
   "source": [
    "from get_data import get_trades, get_quotes\n",
    "\n",
    "# Define the symbols, start date, end date, and row limit\n",
    "symbols = [\"AAPL\", \"GOOG\"]\n",
    "start_date = \"2023-01-01\"\n",
    "end_date = \"2023-08-01\"\n",
    "row_limit = 1000\n",
    "\n",
    "# Get trades\n",
    "get_trades(symbols, start_date, end_date, row_limit)\n"
   ]
  },
  {
   "cell_type": "code",
   "execution_count": null,
   "metadata": {},
   "outputs": [],
   "source": [
    "# Get quotes\n",
    "get_quotes(symbols, start_date, end_date, row_limit)"
   ]
  }
 ],
 "metadata": {
  "kernelspec": {
   "display_name": "taq",
   "language": "python",
   "name": "python3"
  },
  "language_info": {
   "codemirror_mode": {
    "name": "ipython",
    "version": 3
   },
   "file_extension": ".py",
   "mimetype": "text/x-python",
   "name": "python",
   "nbconvert_exporter": "python",
   "pygments_lexer": "ipython3",
   "version": "3.10.9"
  },
  "orig_nbformat": 4
 },
 "nbformat": 4,
 "nbformat_minor": 2
}
