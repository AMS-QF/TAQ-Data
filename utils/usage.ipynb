{
 "cells": [
  {
   "cell_type": "code",
   "execution_count": 1,
   "metadata": {},
   "outputs": [
    {
     "name": "stdout",
     "output_type": "stream",
     "text": [
      "Output for symbol AAPL:\n",
      "Errors for symbol AAPL:\n",
      "Output for symbol GOOG:\n",
      "Errors for symbol GOOG:\n"
     ]
    }
   ],
   "source": [
    "from get_data import get_trades, get_quotes, get_ref\n",
    "\n",
    "# Define the symbols, start date, end date, and row limit\n",
    "symbols = [\"AAPL\", \"GOOG\"]\n",
    "start_date = \"2023-01-01\"\n",
    "end_date = \"2023-01-30\"\n",
    "row_limit = 1000\n",
    "\n",
    "# Get trades\n",
    "get_trades(symbols, start_date, end_date, row_limit)"
   ]
  },
  {
   "cell_type": "code",
   "execution_count": 2,
   "metadata": {},
   "outputs": [
    {
     "name": "stdout",
     "output_type": "stream",
     "text": [
      "Output for symbol AAPL:\n",
      "Errors for symbol AAPL:\n",
      "Output for symbol GOOG:\n",
      "Errors for symbol GOOG:\n"
     ]
    }
   ],
   "source": [
    "from get_data import get_trades, get_quotes, get_ref\n",
    "\n",
    "# Define the symbols, start date, end date, and row limit\n",
    "symbols = [\"AAPL\", \"GOOG\"]\n",
    "start_date = \"2023-01-01\"\n",
    "end_date = \"2023-01-30\"\n",
    "row_limit = 1000\n",
    "\n",
    "# Get quotes\n",
    "get_quotes(symbols, start_date, end_date, row_limit)"
   ]
  },
  {
   "cell_type": "code",
   "execution_count": 2,
   "metadata": {},
   "outputs": [
    {
     "name": "stdout",
     "output_type": "stream",
     "text": [
      "Output for symbol AAPL:\n",
      "Errors for symbol AAPL:\n",
      "... Traceback (most recent call last):\n",
      "...   File \"/home/mhaggerty/TAQNYSE-Clickhouse/server_helpers/refdata_server_helpers.py\", line 230, in <module>\n",
      "...     temp_connection = RefDataConnection(user, password, start.year, remote=True)\n",
      "...   File \"/home/mhaggerty/TAQNYSE-Clickhouse/server_helpers/refdata_server_helpers.py\", line 55, in __init__\n",
      "...     self.connection = self.engine.connect()\n",
      "...   File \"/home/mhaggerty/anaconda3/envs/query_user/lib/python3.10/site-packages/sqlalchemy/engine/base.py\", line 3234, in connect\n",
      "...     return self._connection_cls(self, close_with_result=close_with_result)\n",
      "...   File \"/home/mhaggerty/anaconda3/envs/query_user/lib/python3.10/site-packages/sqlalchemy/engine/base.py\", line 96, in __init__\n",
      "...     else engine.raw_connection()\n",
      "...   File \"/home/mhaggerty/anaconda3/envs/query_user/lib/python3.10/site-packages/sqlalchemy/engine/base.py\", line 3313, in raw_connection\n",
      "...     return self._wrap_pool_connect(self.pool.connect, _connection)\n",
      "...   File \"/home/mhaggerty/anaconda3/envs/query_user/lib/python3.10/site-packages/sqlalchemy/engine/base.py\", line 3280, in _wrap_pool_connect\n",
      "...     return fn()\n",
      "...   File \"/home/mhaggerty/anaconda3/envs/query_user/lib/python3.10/site-packages/sqlalchemy/pool/base.py\", line 310, in connect\n",
      "...     return _ConnectionFairy._checkout(self)\n",
      "...   File \"/home/mhaggerty/anaconda3/envs/query_user/lib/python3.10/site-packages/sqlalchemy/pool/base.py\", line 868, in _checkout\n",
      "...     fairy = _ConnectionRecord.checkout(pool)\n",
      "...   File \"/home/mhaggerty/anaconda3/envs/query_user/lib/python3.10/site-packages/sqlalchemy/pool/base.py\", line 476, in checkout\n",
      "...     rec = pool._do_get()\n",
      "...   File \"/home/mhaggerty/anaconda3/envs/query_user/lib/python3.10/site-packages/sqlalchemy/pool/impl.py\", line 145, in _do_get\n",
      "...     with util.safe_reraise():\n",
      "...   File \"/home/mhaggerty/anaconda3/envs/query_user/lib/python3.10/site-packages/sqlalchemy/util/langhelpers.py\", line 70, in __exit__\n",
      "...     compat.raise_(\n",
      "...   File \"/home/mhaggerty/anaconda3/envs/query_user/lib/python3.10/site-packages/sqlalchemy/util/compat.py\", line 207, in raise_\n",
      "...     raise exception\n",
      "...   File \"/home/mhaggerty/anaconda3/envs/query_user/lib/python3.10/site-packages/sqlalchemy/pool/impl.py\", line 143, in _do_get\n",
      "...     return self._create_connection()\n",
      "...   File \"/home/mhaggerty/anaconda3/envs/query_user/lib/python3.10/site-packages/sqlalchemy/pool/base.py\", line 256, in _create_connection\n",
      "...     return _ConnectionRecord(self)\n",
      "...   File \"/home/mhaggerty/anaconda3/envs/query_user/lib/python3.10/site-packages/sqlalchemy/pool/base.py\", line 371, in __init__\n",
      "...     self.__connect()\n",
      "...   File \"/home/mhaggerty/anaconda3/envs/query_user/lib/python3.10/site-packages/sqlalchemy/pool/base.py\", line 679, in __connect\n",
      "...     )._exec_w_sync_on_first_run(self.dbapi_connection, self)\n",
      "...   File \"/home/mhaggerty/anaconda3/envs/query_user/lib/python3.10/site-packages/sqlalchemy/event/attr.py\", line 329, in _exec_w_sync_on_first_run\n",
      "...     self(*args, **kw)\n",
      "...   File \"/home/mhaggerty/anaconda3/envs/query_user/lib/python3.10/site-packages/sqlalchemy/event/attr.py\", line 343, in __call__\n",
      "...     fn(*args, **kw)\n",
      "...   File \"/home/mhaggerty/anaconda3/envs/query_user/lib/python3.10/site-packages/sqlalchemy/util/langhelpers.py\", line 1691, in go\n",
      "...     return once_fn(*arg, **kw)\n",
      "...   File \"/home/mhaggerty/anaconda3/envs/query_user/lib/python3.10/site-packages/sqlalchemy/engine/create.py\", line 686, in first_connect\n",
      "...     dialect.initialize(c)\n",
      "...   File \"/home/mhaggerty/anaconda3/envs/query_user/lib/python3.10/site-packages/clickhouse_sqlalchemy/drivers/base.py\", line 130, in initialize\n",
      "...     super(ClickHouseDialect, self).initialize(connection)\n",
      "...   File \"/home/mhaggerty/anaconda3/envs/query_user/lib/python3.10/site-packages/sqlalchemy/engine/default.py\", line 407, in initialize\n",
      "...     self.server_version_info = self._get_server_version_info(\n",
      "...   File \"/home/mhaggerty/anaconda3/envs/query_user/lib/python3.10/site-packages/clickhouse_sqlalchemy/drivers/base.py\", line 423, in _get_server_version_info\n",
      "...     version = self._execute(\n",
      "...   File \"/home/mhaggerty/anaconda3/envs/query_user/lib/python3.10/site-packages/clickhouse_sqlalchemy/drivers/http/base.py\", line 52, in _execute\n",
      "...     return f(sql, **kwargs)\n",
      "...   File \"/home/mhaggerty/anaconda3/envs/query_user/lib/python3.10/site-packages/sqlalchemy/engine/base.py\", line 1188, in scalar\n",
      "...     return self.execute(object_, *multiparams, **params).scalar()\n",
      "...   File \"/home/mhaggerty/anaconda3/envs/query_user/lib/python3.10/site-packages/sqlalchemy/engine/base.py\", line 1306, in execute\n",
      "...     return meth(self, multiparams, params, _EMPTY_EXECUTION_OPTS)\n",
      "...   File \"/home/mhaggerty/anaconda3/envs/query_user/lib/python3.10/site-packages/sqlalchemy/sql/elements.py\", line 325, in _execute_on_connection\n",
      "...     return connection._execute_clauseelement(\n",
      "...   File \"/home/mhaggerty/anaconda3/envs/query_user/lib/python3.10/site-packages/sqlalchemy/engine/base.py\", line 1498, in _execute_clauseelement\n",
      "...     ret = self._execute_context(\n",
      "...   File \"/home/mhaggerty/anaconda3/envs/query_user/lib/python3.10/site-packages/sqlalchemy/engine/base.py\", line 1862, in _execute_context\n",
      "...     self._handle_dbapi_exception(\n",
      "...   File \"/home/mhaggerty/anaconda3/envs/query_user/lib/python3.10/site-packages/sqlalchemy/engine/base.py\", line 2047, in _handle_dbapi_exception\n",
      "...     util.raise_(exc_info[1], with_traceback=exc_info[2])\n",
      "...   File \"/home/mhaggerty/anaconda3/envs/query_user/lib/python3.10/site-packages/sqlalchemy/util/compat.py\", line 207, in raise_\n",
      "...     raise exception\n",
      "...   File \"/home/mhaggerty/anaconda3/envs/query_user/lib/python3.10/site-packages/sqlalchemy/engine/base.py\", line 1819, in _execute_context\n",
      "...     self.dialect.do_execute(\n",
      "...   File \"/home/mhaggerty/anaconda3/envs/query_user/lib/python3.10/site-packages/clickhouse_sqlalchemy/drivers/base.py\", line 411, in do_execute\n",
      "...     cursor.execute(statement, parameters, context=context)\n",
      "...   File \"/home/mhaggerty/anaconda3/envs/query_user/lib/python3.10/site-packages/clickhouse_sqlalchemy/drivers/http/connector.py\", line 117, in execute\n",
      "...     self._process_response(response_gen)\n",
      "...   File \"/home/mhaggerty/anaconda3/envs/query_user/lib/python3.10/site-packages/clickhouse_sqlalchemy/drivers/http/connector.py\", line 216, in _process_response\n",
      "...     self._columns = next(response, None)\n",
      "...   File \"/home/mhaggerty/anaconda3/envs/query_user/lib/python3.10/site-packages/clickhouse_sqlalchemy/drivers/http/transport.py\", line 133, in execute\n",
      "...     r = self._send(query, params=params, stream=True)\n",
      "...   File \"/home/mhaggerty/anaconda3/envs/query_user/lib/python3.10/site-packages/clickhouse_sqlalchemy/drivers/http/transport.py\", line 179, in _send\n",
      "...     raise DatabaseException(orig)\n",
      "... clickhouse_sqlalchemy.exceptions.DatabaseException: Orig exception: Code: 516. DB::Exception: mhaggerty: Authentication failed: password is incorrect or there is no user with such name. (AUTHENTICATION_FAILED) (version 22.1.3.7 (official build))\n",
      "... \n",
      "An error occurred: scp: TAQNYSE-Clickhouse/refdata_results.csv: No such file or directory\n"
     ]
    }
   ],
   "source": [
    "from get_data import get_trades, get_quotes, get_ref\n",
    "\n",
    "# Define the symbols, start date, end date, and row limit\n",
    "symbols = [\"AAPL\", \"GOOG\"]\n",
    "start_date = \"2023-01-01\"\n",
    "end_date = \"2023-08-01\"\n",
    "row_limit = 1000\n",
    "\n",
    "get_ref(symbols, start_date, end_date, row_limit)"
   ]
  }
 ],
 "metadata": {
  "kernelspec": {
   "display_name": "taq",
   "language": "python",
   "name": "python3"
  },
  "language_info": {
   "codemirror_mode": {
    "name": "ipython",
    "version": 3
   },
   "file_extension": ".py",
   "mimetype": "text/x-python",
   "name": "python",
   "nbconvert_exporter": "python",
   "pygments_lexer": "ipython3",
   "version": "3.10.9"
  },
  "orig_nbformat": 4
 },
 "nbformat": 4,
 "nbformat_minor": 2
}
